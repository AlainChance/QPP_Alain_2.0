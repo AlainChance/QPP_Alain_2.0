{
 "cells": [
  {
   "cell_type": "markdown",
   "id": "7cdd2c30-0f4d-4b63-a86e-f4cf4295e314",
   "metadata": {
    "jp-MarkdownHeadingCollapsed": true
   },
   "source": [
    "# Quantum Permutation Pad with Qiskit Runtime by Alain Chancé\n",
    "\n",
    "## MIT License\n",
    "\n",
    "Copyright (c) 2022 Alain Chancé\n",
    "\n",
    "Permission is hereby granted, free of charge, to any person obtaining a copy\n",
    "of this software and associated documentation files (the \"Software\"), to deal\n",
    "in the Software without restriction, including without limitation the rights\n",
    "to use, copy, modify, merge, publish, distribute, sublicense, and/or sell\n",
    "copies of the Software, and to permit persons to whom the Software is\n",
    "furnished to do so, subject to the following conditions:\n",
    "\n",
    "The above copyright notice and this permission notice shall be included in all\n",
    "copies or substantial portions of the Software.\n",
    "\n",
    "THE SOFTWARE IS PROVIDED \"AS IS\", WITHOUT WARRANTY OF ANY KIND, EXPRESS OR\n",
    "IMPLIED, INCLUDING BUT NOT LIMITED TO THE WARRANTIES OF MERCHANTABILITY,\n",
    "FITNESS FOR A PARTICULAR PURPOSE AND NONINFRINGEMENT. IN NO EVENT SHALL THE\n",
    "AUTHORS OR COPYRIGHT HOLDERS BE LIABLE FOR ANY CLAIM, DAMAGES OR OTHER\n",
    "LIABILITY, WHETHER IN AN ACTION OF CONTRACT, TORT OR OTHERWISE, ARISING FROM,\n",
    "OUT OF OR IN CONNECTION WITH THE SOFTWARE OR THE USE OR OTHER DEALINGS IN THE\n",
    "SOFTWARE.\n",
    "\n",
    "## Abstract\n",
    "Abstract— We demonstrate an efficient implementation of the Kuang and Barbeau’s Quantum Permutation pad (QPP) symmetric cryptographic algorithm with Qiskit Runtime, a new architecture offered by IBM Quantum that streamlines quantum computations. We have implemented a Python class QPP and template Jupyter notebooks with Qiskit code for encrypting and decrypting with n-qubit QPP any text file in UTF-16 format or any image file in .png format. We offer the option of running either a quantum circuit with $n$ qubits, or an alternate one with $2^n$ qubits which only uses swap gates and has a circuit depth of $O(n)$. It is inherently extremely fast and could be run efficiently on currently available noisy quantum computers. Our implementation leverages the new Qiskit Sampler primitive in localized mode which dramatically improves performance. We offer a highly efficient classical implementation which performs permutation gate matrix multiplication with information state vectors. We illustrate the use with two agents Alice and Bob who exchange a text file and an image file using 2-qubit QPP and 4-qubit QPP. \n",
    "\n",
    "Keywords—quantum communication, quantum encryption,\n",
    "quantum decryption, quantum security, secure communication, QPP, Qiskit, IBMQ\n",
    "\n",
    "## Credit: Kuang, R., Perepechaenko\n",
    "\n",
    "Appendix, source code for the implementation of the 2-qubits QPP of the following article:\n",
    "\n",
    "Kuang, R., Perepechaenko, M. Quantum encryption with quantum permutation pad in IBMQ systems. EPJ Quantum Technol. 9, 26 (2022). https://doi.org/10.1140/epjqt/s40507-022-00145-y \n",
    "\n",
    "## Rights and permissions\n",
    "$\\textbf{Open Access}$ This article is licensed under a Creative Commons Attribution 4.0 International License, which permits use, sharing, adaptation, distribution and reproduction in any medium or format, as long as you give appropriate credit to the original author(s) and the source, provide a link to the Creative Commons licence, and indicate if changes were made. The images or other third party material in this article are included in the article’s Creative Commons licence, unless indicated otherwise in a credit line to the material. If material is not included in the article’s Creative Commons licence and your intended use is not permitted by statutory regulation or exceeds the permitted use, you will need to obtain permission directly from the copyright holder. To view a copy of this licence, visit http://creativecommons.org/licenses/by/4.0/.\n",
    "\n",
    "# Adaptations made by Alain Chancé\n",
    "\n",
    "# Summary of updates V4\n",
    "This Jupyter notebook has been updated to work with Python 3.12 and the following Qiskit versions:\n",
    "- Qiskit v1.3, Qiskit runtime version: 0.34, Qiskit Aer 0.16\n",
    "- Qiskit v2.0, Qiskit runtime version: 0.37, Qiskit Aer 0.17\n",
    "\n",
    "Please refer to the following documentation:\n",
    "- Qiskit v2.0 migration guide, https://docs.quantum.ibm.com/migration-guides/qiskit-2.0\n",
    "- Qiskit Aer documentation, https://qiskit.github.io/qiskit-aer/\n",
    "- Qiskit Aer 0.16.1, Getting started, https://qiskit.github.io/qiskit-aer/getting_started.html\n",
    "- Qiskit Aer 0.16.1, Simulators, https://qiskit.github.io/qiskit-aer/tutorials/1_aersimulator.html\n",
    "\n",
    "## Updates in code\n",
    "In class QPP\n",
    "\n",
    "Removed \"U0\" in basis_gates to solve the following issue:\n",
    "\n",
    "Providing non-standard gates (u0) through the ``basis_gates`` argument is not allowed. Use the ``target`` parameter instead.\n",
    "You can build a target instance using ``Target.from_configuration()`` and provide custom gate definitions with the ``custom_name_mapping`` argument.\n",
    "```\n",
    "basis_gates=[\"u3\",\"u2\",\"u1\",\"cx\",\"id\",\"u\",\"p\",\"x\",\"y\",\"z\",\"h\",\"s\",\n",
    "                 \"sdg\",\"t\",\"tdg\",\"rx\",\"ry\",\"rz\",\"sx\",\"sxdg\",\"cz\",\"cy\",\"swap\",\n",
    "                \"ch\",\"ccx\",\"cswap\",\"crx\",\"cry\",\"crz\",\"cu1\",\"cp\",\"cu3\",\"csx\",\n",
    "                \"cu\",\"rxx\",\"rzz\"]\n",
    "```\n",
    "New\n",
    "```\n",
    "        # https://docs.quantum.ibm.com/migration-guides/local-simulators#aersimulator\n",
    "        self.backend = AerSimulator(method='statevector')\n",
    "        if trace > 0:\n",
    "            print(\"\\nbackend = AerSimulator(method='statevector')\", file=trace_f)\n",
    "            print(\"\\nbackend = AerSimulator(method='statevector')\")\n",
    "\n",
    "        self.sampler = StatevectorSampler()\n",
    "        \n",
    "        # https://docs.quantum.ibm.com/migration-guides/local-simulators#aersimulator\n",
    "        self.pm = generate_preset_pass_manager(backend=self.backend, optimization_level=opt_level)\n",
    "```\n",
    "### Updates in permutation_pad() function\n",
    "New\n",
    "```\n",
    "        if do_sampler:\n",
    "            # Create a session constructor using Qiskit Runtime Session()\n",
    "            # https://docs.quantum.ibm.com/migration-guides/local-simulators#aersimulator\n",
    "                with Session(backend=self.backend) as session:\n",
    "                    sampler = self.sampler\n",
    "```\n",
    "New\n",
    "```\n",
    "                        if version == \"V0\":\n",
    "                        # Apply permutation\n",
    "                            qc.append(Operator(my_matrix), range(N))\n",
    "                            qc.barrier()\n",
    "                            qc = self.pm.run(qc)\n",
    "```\n",
    "New\n",
    "```\n",
    "                            qci = self.pm.run(qci)\n",
    "                            job = self.backend.run([qci], shots=1024)\n",
    "```\n",
    "\n",
    "# Summary of updates V3\n",
    "Summary of updates V3\n",
    "This jupyter notebook has been updated to work with Qiskit 1.3.1 \n",
    "\n",
    "## Updates in Install statements\n",
    "Previously\n",
    "```\n",
    "from qiskit.primitives import Sampler\n",
    "```\n",
    "New\n",
    "```\n",
    "from qiskit.primitives import StatevectorSampler\n",
    "```\n",
    "\n",
    "## Updates in code\n",
    "In class QPP\n",
    "\n",
    "Commented out the options:\n",
    "```\n",
    " #options = Options(resilience_level=resilience_level)\n",
    "```\n",
    "\n",
    "Previously\n",
    "```\n",
    "sampler = Sampler()\n",
    "```\n",
    "New\n",
    "```\n",
    "sampler = StatevectorSampler()\n",
    "```\n",
    " \n",
    " Updated the with Sesssion according to the example given in the Session documentation:\n",
    " https://docs.quantum.ibm.com/api/qiskit-ibm-runtime/qiskit_ibm_runtime.Session\n",
    "```\n",
    " with Session(backend=backend) as session:\n",
    "```"
   ]
  },
  {
   "cell_type": "markdown",
   "id": "ac37aea2-cd9e-45cf-8713-aae7525a5af6",
   "metadata": {},
   "source": [
    "# Summary of updates V2\n",
    "This jupyter notebook has been updated to work with Qiskit 1.0.2. \n",
    "\n",
    "Please refer to the following documentation:\n",
    "- Qiskit 1.0 feature changes, https://docs.quantum.ibm.com/api/migration-guides/qiskit-1.0-features#qiskit-10-feature-changes\n",
    "- Qiskit 1.0 migration tool, https://docs.quantum.ibm.com/api/migration-guides/qiskit-1.0-features#qiskit-10-migration-tool\n",
    "- Qiskit Aer 0.14.0.1, Getting started, https://qiskit.github.io/qiskit-aer/getting_started.html\n",
    "- Migrate setup from qiskit-ibmq-provider, https://docs.quantum.ibm.com/api/migration-guides/qiskit-runtime#migrate-setup-from-qiskit-ibmq-provider\n",
    "- Simulators, The AerSimulator, https://qiskit.github.io/qiskit-aer/tutorials/1_aersimulator.html\n",
    "\n",
    "## Updates in install statements\n",
    "### Install qiskit.aer\n",
    "New\n",
    "```\n",
    "https://qiskit.github.io/qiskit-aer/getting_started.html\n",
    "pip install qiskit_aer\n",
    "```\n",
    "## Updates in import statements\n",
    "### Import qiskit.aer\n",
    "Additional circuit methods. On import, Aer adds several simulation-specific methods to QuantumCircuit for convenience. These methods are not available until Aer is imported (import qiskit_aer). https://qiskit.github.io/qiskit-aer/apidocs/circuit.html\n",
    "New\n",
    "```\n",
    "import qiskit_aer\n",
    "```\n",
    "### Import AerSimulator\n",
    "New\n",
    "```\n",
    "from qiskit_aer import AerSimulator\n",
    "```\n",
    "### Migrate setup from qiskit-ibmq-provider\n",
    "Previously\n",
    "```\n",
    "from qiskit import IBMQ\n",
    "```\n",
    "New\n",
    "```\n",
    "from qiskit_ibm_runtime import QiskitRuntimeService\n",
    "```\n",
    "## Updates in code\n",
    "New\n",
    "```\n",
    "self.aer_sim = AerSimulator(method='statevector')\n",
    "```\n",
    "### Updates in permutation_pad() function\n",
    "Previously\n",
    "```\n",
    "for i in range(2**num_of_qubits):\n",
    "    ...\n",
    "    # Append qci to the list perm_qc\n",
    "    perm_qc.append(qci)\n",
    "\n",
    "# Submit a job with all quantum circuits in perm_qc\n",
    "job = sampler.run(circuits=perm_qc)\n",
    "result = job.result()\n",
    "```\n",
    "New\n",
    "```\n",
    "qci = transpile(qci, self.aer_sim)\n",
    "job = self.aer_sim.run(qci, shots=1024)\n",
    "result = job.result()\n",
    "counts = result.get_counts(qci)\n",
    "                            \n",
    "if version == \"V0\":\n",
    "    # Get dictionary key with the max value\n",
    "    maxkey = max(counts, key=counts.get)\n",
    "    most_frequent = maxkey\n",
    "    pdict[i] = most_frequent\n",
    "                            \n",
    "    if trace > 1:\n",
    "        print(\"permutation_pad - k: {}, most_frequent: {}\".format(k, most_frequent))\n",
    "                            \n",
    "else:  # Version V1\n",
    "    # Get dictionary key with the max value\n",
    "    maxkey = max(counts, key=counts.get)\n",
    "    ix = n - maxkey.index('1') - 1\n",
    "    most_frequent = eval(\"format(ix, '0\" + str(num_of_qubits) + \"b')\")\n",
    "    pdict[i] = most_frequent\n",
    "    \n",
    "    if trace > 1:\n",
    "        print(\"permutation_pad - k: {}, maxkey: {}, string: {}, ix: {}, most_frequent: {}\".\n",
    "        format(k, maxkey, string, ix, most_frequent))\n",
    "```"
   ]
  },
  {
   "cell_type": "markdown",
   "id": "69b33a55-6060-43fc-a654-41d6e6185f2d",
   "metadata": {},
   "source": [
    "# Summary of updates V1\n",
    "Please refer to the following documentation:\n",
    "\n",
    "[3] Introducing new Qiskit Runtime capabilities — and how our clients are integrating them into their use, https://research.ibm.com/blog/qiskit-runtime-capabilities-integration\n",
    "\n",
    "[4] Qiskit Runtime IBM Client, https://github.com/Qiskit/qiskit-ibm-runtime\n",
    "\n",
    "[5] Qiskit IBM runtime, Configure error mitigation, Advanced resilience options, https://github.com/Qiskit/qiskit-ibm-runtime/blob/ab7486d6837652d54cb60b83cfaa9165f5d0484c/docs/how_to/error-mitigation.rst#advanced-resilience-options\n",
    "\n",
    "### New class QPP\n",
    "```\n",
    "class QPP:\n",
    "    def __init__(self, QPP_param_file = \"QPP_param.json\"):\n",
    "```\n",
    "\n",
    "### New import statements\n",
    "\n",
    "#### Import array_to_latex to display matrices using laTeX\n",
    "```\n",
    "from qiskit.visualization import array_to_latex\n",
    "```\n",
    "\n",
    "#### Import time, datetime\n",
    "```\n",
    "import time, datetime\n",
    "```\n",
    "\n",
    "#### Import psutil\n",
    "```\n",
    "import psutil\n",
    "```\n",
    "\n",
    "#### Import the JSON package\n",
    "```\n",
    "import json\n",
    "```\n",
    "\n",
    "#### Import Bitstream, BitArray https://bitstring.readthedocs.io/en/stable/\n",
    "```\n",
    "from bitstring import BitStream, BitArray\n",
    "```\n",
    "\n",
    "#### Import QiskitRuntimeService, Session, Options and Sampler\n",
    "```\n",
    "from qiskit_ibm_runtime import QiskitRuntimeService, Session, Options\n",
    "\n",
    "# Uncomment the following import to import the Qiskit Runtime Sampler\n",
    "#from qiskit_ibm_runtime import Sampler\n",
    "\n",
    "# This version uses the localized version of the `Sampler` which resides in Qiskit Terra [7][8]\n",
    "# and uses the statevector simulator to compute probabilities\n",
    "# probabilities = [\n",
    "#       Statevector(bound_circuit_to_instruction(circ)).probabilities(qargs=qargs)\n",
    "#      for circ, qargs in zip(bound_circuits, qargs_list)]\n",
    "from qiskit.primitives import Sampler\n",
    "```\n",
    "\n",
    "### New method rand_key() to create a random binary string\n",
    "```\n",
    "# Function to create a random binary string\n",
    "# https://www.geeksforgeeks.org/python-program-to-generate-random-binary-string/\n",
    "    def rand_key(self, p):\n",
    "   \n",
    "        # Variable to store the string\n",
    "        key1 = \"\"\n",
    " \n",
    "        # Loop to find the string of desired length\n",
    "        for i in range(p):\n",
    "         \n",
    "            # randint function to generate 0, 1 randomly and converting the result into str\n",
    "            temp = str(randint(0, 1))\n",
    " \n",
    "            # Concatenation the random 0, 1 to the final result\n",
    "            key1 += temp\n",
    "    \n",
    "        return(key1)\n",
    "```\n",
    "\n",
    "### New method randomize() with added new parameters key_chunks, qc, qr, num_of_perm, transpose\n",
    "```\n",
    "    ##############################################################################################################\n",
    "    # Define randomize() function to perform Fisher Yates shuffling                                              #\n",
    "    # The Fisher–Yates shuffle is an algorithm for generating a random permutation of a finite sequence [5].     #\n",
    "    ##############################################################################################################\n",
    "    def randomize(self, arr, n, key_chunks, qc, qr, num_of_perm, transpose=False):\n",
    "```\n",
    "\n",
    "### New method permutation_pad() sets up a permutation quantum circuit and transpose\n",
    "```\n",
    "    ##############################################################################################################\n",
    "    # Define permutation_pad() function                                                                          #\n",
    "    # The Fisher–Yates shuffle is an algorithm for generating a random permutation of a finite sequence [5].     #\n",
    "    ##############################################################################################################\n",
    "    def permutation_pad(self, secret_key_blocks, transpose=False):\n",
    "```\n",
    "\n",
    "### New method encrypt() to encrypt a message leverages Qiskit Runtime primitives\n",
    "```\n",
    "    ##############################################################################################################\n",
    "    # Define the function encrypt() to encrypt a message                                                         #\n",
    "    ##############################################################################################################\n",
    "    def encrypt(self, message=None):\n",
    "```\n",
    "\n",
    "### New method decrypt() to decrypt a ciphertext leverages Qiskit Runtime primitives\n",
    "```\n",
    "    ##############################################################################################################\n",
    "    # Define the function decrypt() to decrypt a message                                                         #\n",
    "    ##############################################################################################################\n",
    "     def decrypt(self, ciphertext=None):\n",
    "```\n",
    "\n",
    "### New method file_to_bitstring() to convert plaintext file into a bitstring message\n",
    "```\n",
    "    ###############################################################################################################\n",
    "    # Define function file_to_bitstring() to convert plaintext file into a bitstring message                      #\n",
    "    ###############################################################################################################\n",
    "    def file_to_bitstring(self):\n",
    "```\n",
    "\n",
    "### New method ciphertext_to_binary() to convert ciphertext into binary and save it into a binary file\n",
    "```\n",
    "    ###############################################################################################################\n",
    "    # Define function ciphertext_to_binary() to convert ciphertext into binary and save it into a binary file     #\n",
    "    ###############################################################################################################\n",
    "    def ciphertext_to_binary(self, ciphertext=None):\n",
    "```\n",
    "\n",
    "### New method bitstring_to_file() to convert a decrypted message and save it into a decrypted file\n",
    "```\n",
    "    ###############################################################################################################\n",
    "    # Define function bitstring_to_file() to convert a decrypted message and save it into a decrypted file        #\n",
    "    ###############################################################################################################\n",
    "    def bitstring_to_file(self, decrypted_message=None):\n",
    "```"
   ]
  },
  {
   "cell_type": "markdown",
   "id": "18a2a6f0-849a-4a74-ad2b-90fac25d4ba0",
   "metadata": {},
   "source": [
    "## Install Qiskit IBM Runtime"
   ]
  },
  {
   "cell_type": "code",
   "execution_count": 1,
   "id": "aa96b52b-f7b0-4c48-90f0-db84b07026ea",
   "metadata": {},
   "outputs": [
    {
     "name": "stdout",
     "output_type": "stream",
     "text": [
      "Requirement already satisfied: qiskit-ibm-runtime in /home/alain/miniconda3/lib/python3.12/site-packages (0.37.0)\n",
      "Requirement already satisfied: requests>=2.19 in /home/alain/miniconda3/lib/python3.12/site-packages (from qiskit-ibm-runtime) (2.32.3)\n",
      "Requirement already satisfied: requests-ntlm>=1.1.0 in /home/alain/miniconda3/lib/python3.12/site-packages (from qiskit-ibm-runtime) (1.3.0)\n",
      "Requirement already satisfied: numpy>=1.13 in /home/alain/miniconda3/lib/python3.12/site-packages (from qiskit-ibm-runtime) (2.0.1)\n",
      "Requirement already satisfied: urllib3>=1.21.1 in /home/alain/miniconda3/lib/python3.12/site-packages (from qiskit-ibm-runtime) (2.3.0)\n",
      "Requirement already satisfied: python-dateutil>=2.8.0 in /home/alain/miniconda3/lib/python3.12/site-packages (from qiskit-ibm-runtime) (2.9.0.post0)\n",
      "Requirement already satisfied: websocket-client>=1.5.1 in /home/alain/miniconda3/lib/python3.12/site-packages (from qiskit-ibm-runtime) (1.8.0)\n",
      "Requirement already satisfied: ibm-platform-services>=0.22.6 in /home/alain/miniconda3/lib/python3.12/site-packages (from qiskit-ibm-runtime) (0.63.0)\n",
      "Requirement already satisfied: pydantic<2.10,>=2.5.0 in /home/alain/miniconda3/lib/python3.12/site-packages (from qiskit-ibm-runtime) (2.9.2)\n",
      "Requirement already satisfied: qiskit>=1.4.1 in /home/alain/miniconda3/lib/python3.12/site-packages (from qiskit-ibm-runtime) (2.0.0)\n",
      "Requirement already satisfied: packaging in /home/alain/miniconda3/lib/python3.12/site-packages (from qiskit-ibm-runtime) (24.2)\n",
      "Requirement already satisfied: ibm_cloud_sdk_core<4.0.0,>=3.22.1 in /home/alain/miniconda3/lib/python3.12/site-packages (from ibm-platform-services>=0.22.6->qiskit-ibm-runtime) (3.23.0)\n",
      "Requirement already satisfied: annotated-types>=0.6.0 in /home/alain/miniconda3/lib/python3.12/site-packages (from pydantic<2.10,>=2.5.0->qiskit-ibm-runtime) (0.6.0)\n",
      "Requirement already satisfied: pydantic-core==2.23.4 in /home/alain/miniconda3/lib/python3.12/site-packages (from pydantic<2.10,>=2.5.0->qiskit-ibm-runtime) (2.23.4)\n",
      "Requirement already satisfied: typing-extensions>=4.6.1 in /home/alain/miniconda3/lib/python3.12/site-packages (from pydantic<2.10,>=2.5.0->qiskit-ibm-runtime) (4.12.2)\n",
      "Requirement already satisfied: six>=1.5 in /home/alain/miniconda3/lib/python3.12/site-packages (from python-dateutil>=2.8.0->qiskit-ibm-runtime) (1.17.0)\n",
      "Requirement already satisfied: rustworkx>=0.15.0 in /home/alain/miniconda3/lib/python3.12/site-packages (from qiskit>=1.4.1->qiskit-ibm-runtime) (0.16.0)\n",
      "Requirement already satisfied: scipy>=1.5 in /home/alain/miniconda3/lib/python3.12/site-packages (from qiskit>=1.4.1->qiskit-ibm-runtime) (1.15.2)\n",
      "Requirement already satisfied: sympy>=1.3 in /home/alain/miniconda3/lib/python3.12/site-packages (from qiskit>=1.4.1->qiskit-ibm-runtime) (1.13.3)\n",
      "Requirement already satisfied: dill>=0.3 in /home/alain/miniconda3/lib/python3.12/site-packages (from qiskit>=1.4.1->qiskit-ibm-runtime) (0.3.9)\n",
      "Requirement already satisfied: stevedore>=3.0.0 in /home/alain/miniconda3/lib/python3.12/site-packages (from qiskit>=1.4.1->qiskit-ibm-runtime) (5.4.1)\n",
      "Requirement already satisfied: symengine<0.14,>=0.11 in /home/alain/miniconda3/lib/python3.12/site-packages (from qiskit>=1.4.1->qiskit-ibm-runtime) (0.13.0)\n",
      "Requirement already satisfied: charset-normalizer<4,>=2 in /home/alain/miniconda3/lib/python3.12/site-packages (from requests>=2.19->qiskit-ibm-runtime) (3.3.2)\n",
      "Requirement already satisfied: idna<4,>=2.5 in /home/alain/miniconda3/lib/python3.12/site-packages (from requests>=2.19->qiskit-ibm-runtime) (3.7)\n",
      "Requirement already satisfied: certifi>=2017.4.17 in /home/alain/miniconda3/lib/python3.12/site-packages (from requests>=2.19->qiskit-ibm-runtime) (2024.7.4)\n",
      "Requirement already satisfied: cryptography>=1.3 in /home/alain/miniconda3/lib/python3.12/site-packages (from requests-ntlm>=1.1.0->qiskit-ibm-runtime) (43.0.3)\n",
      "Requirement already satisfied: pyspnego>=0.4.0 in /home/alain/miniconda3/lib/python3.12/site-packages (from requests-ntlm>=1.1.0->qiskit-ibm-runtime) (0.11.2)\n",
      "Requirement already satisfied: cffi>=1.12 in /home/alain/miniconda3/lib/python3.12/site-packages (from cryptography>=1.3->requests-ntlm>=1.1.0->qiskit-ibm-runtime) (1.17.1)\n",
      "Requirement already satisfied: PyJWT<3.0.0,>=2.8.0 in /home/alain/miniconda3/lib/python3.12/site-packages (from ibm_cloud_sdk_core<4.0.0,>=3.22.1->ibm-platform-services>=0.22.6->qiskit-ibm-runtime) (2.10.1)\n",
      "Requirement already satisfied: pbr>=2.0.0 in /home/alain/miniconda3/lib/python3.12/site-packages (from stevedore>=3.0.0->qiskit>=1.4.1->qiskit-ibm-runtime) (6.1.1)\n",
      "Requirement already satisfied: mpmath<1.4,>=1.1.0 in /home/alain/miniconda3/lib/python3.12/site-packages (from sympy>=1.3->qiskit>=1.4.1->qiskit-ibm-runtime) (1.3.0)\n",
      "Requirement already satisfied: pycparser in /home/alain/miniconda3/lib/python3.12/site-packages (from cffi>=1.12->cryptography>=1.3->requests-ntlm>=1.1.0->qiskit-ibm-runtime) (2.21)\n",
      "Requirement already satisfied: setuptools in /home/alain/miniconda3/lib/python3.12/site-packages (from pbr>=2.0.0->stevedore>=3.0.0->qiskit>=1.4.1->qiskit-ibm-runtime) (75.8.0)\n"
     ]
    }
   ],
   "source": [
    "# https://github.com/Qiskit/qiskit-ibm-runtime\n",
    "!pip install qiskit-ibm-runtime"
   ]
  },
  {
   "cell_type": "markdown",
   "id": "48dda8c9-12bf-440d-ba71-8b266b2fb009",
   "metadata": {},
   "source": [
    "### Install Qiskit Aer with the following command:\n",
    "https://qiskit.github.io/qiskit-aer/getting_started.html\n",
    "\n",
    "Additional circuit methods. On import, Aer adds several simulation-specific methods to QuantumCircuit for convenience. These methods are not available until Aer is imported (import qiskit_aer)."
   ]
  },
  {
   "cell_type": "code",
   "execution_count": 2,
   "id": "d74d1ba7-249e-478c-a79b-4a5e1e2108c9",
   "metadata": {},
   "outputs": [
    {
     "name": "stdout",
     "output_type": "stream",
     "text": [
      "Requirement already satisfied: qiskit-aer in /home/alain/miniconda3/lib/python3.12/site-packages (0.17.0)\n",
      "Requirement already satisfied: qiskit>=1.1.0 in /home/alain/miniconda3/lib/python3.12/site-packages (from qiskit-aer) (2.0.0)\n",
      "Requirement already satisfied: numpy>=1.16.3 in /home/alain/miniconda3/lib/python3.12/site-packages (from qiskit-aer) (2.0.1)\n",
      "Requirement already satisfied: scipy>=1.0 in /home/alain/miniconda3/lib/python3.12/site-packages (from qiskit-aer) (1.15.2)\n",
      "Requirement already satisfied: psutil>=5 in /home/alain/miniconda3/lib/python3.12/site-packages (from qiskit-aer) (5.9.0)\n",
      "Requirement already satisfied: rustworkx>=0.15.0 in /home/alain/miniconda3/lib/python3.12/site-packages (from qiskit>=1.1.0->qiskit-aer) (0.16.0)\n",
      "Requirement already satisfied: sympy>=1.3 in /home/alain/miniconda3/lib/python3.12/site-packages (from qiskit>=1.1.0->qiskit-aer) (1.13.3)\n",
      "Requirement already satisfied: dill>=0.3 in /home/alain/miniconda3/lib/python3.12/site-packages (from qiskit>=1.1.0->qiskit-aer) (0.3.9)\n",
      "Requirement already satisfied: python-dateutil>=2.8.0 in /home/alain/miniconda3/lib/python3.12/site-packages (from qiskit>=1.1.0->qiskit-aer) (2.9.0.post0)\n",
      "Requirement already satisfied: stevedore>=3.0.0 in /home/alain/miniconda3/lib/python3.12/site-packages (from qiskit>=1.1.0->qiskit-aer) (5.4.1)\n",
      "Requirement already satisfied: typing-extensions in /home/alain/miniconda3/lib/python3.12/site-packages (from qiskit>=1.1.0->qiskit-aer) (4.12.2)\n",
      "Requirement already satisfied: symengine<0.14,>=0.11 in /home/alain/miniconda3/lib/python3.12/site-packages (from qiskit>=1.1.0->qiskit-aer) (0.13.0)\n",
      "Requirement already satisfied: six>=1.5 in /home/alain/miniconda3/lib/python3.12/site-packages (from python-dateutil>=2.8.0->qiskit>=1.1.0->qiskit-aer) (1.17.0)\n",
      "Requirement already satisfied: pbr>=2.0.0 in /home/alain/miniconda3/lib/python3.12/site-packages (from stevedore>=3.0.0->qiskit>=1.1.0->qiskit-aer) (6.1.1)\n",
      "Requirement already satisfied: mpmath<1.4,>=1.1.0 in /home/alain/miniconda3/lib/python3.12/site-packages (from sympy>=1.3->qiskit>=1.1.0->qiskit-aer) (1.3.0)\n",
      "Requirement already satisfied: setuptools in /home/alain/miniconda3/lib/python3.12/site-packages (from pbr>=2.0.0->stevedore>=3.0.0->qiskit>=1.1.0->qiskit-aer) (75.8.0)\n",
      "Note: you may need to restart the kernel to use updated packages.\n"
     ]
    }
   ],
   "source": [
    "pip install qiskit-aer"
   ]
  },
  {
   "cell_type": "markdown",
   "id": "a7574adb-2e00-4c89-9ebd-dd8a5003e29b",
   "metadata": {},
   "source": [
    "### Install bitstring \n",
    "Bitstring is a pure Python module that makes the creation, manipulation and analysis of binary data as simple and natural as possible. https://bitstring.readthedocs.io/en/stable/"
   ]
  },
  {
   "cell_type": "code",
   "execution_count": 3,
   "id": "25247087-6a86-4145-9a71-e33b2bfff8b5",
   "metadata": {},
   "outputs": [
    {
     "name": "stdout",
     "output_type": "stream",
     "text": [
      "Requirement already satisfied: bitstring in /home/alain/miniconda3/lib/python3.12/site-packages (4.3.1)\n",
      "Requirement already satisfied: bitarray<4.0,>=3.0.0 in /home/alain/miniconda3/lib/python3.12/site-packages (from bitstring) (3.3.1)\n",
      "Note: you may need to restart the kernel to use updated packages.\n"
     ]
    }
   ],
   "source": [
    "pip install bitstring"
   ]
  },
  {
   "cell_type": "markdown",
   "id": "71a6e2b8-eaee-4ec0-80b7-6b79d85ada79",
   "metadata": {},
   "source": [
    "## Import statements"
   ]
  },
  {
   "cell_type": "markdown",
   "id": "d728eb79-7c4b-4647-aad6-e14e00d818dc",
   "metadata": {},
   "source": [
    "If \"from QPP_Alain import QPP\" fails and file QPP_Alain.py is in the same directory as your python or Jupyter notebook, try adding the following lines:\n",
    "```\n",
    "import sys\n",
    "import os\n",
    "cwd = os.getcwd()\n",
    "_= (sys.path.append(cwd))\n",
    "```"
   ]
  },
  {
   "cell_type": "code",
   "execution_count": 4,
   "id": "0c3f3c35",
   "metadata": {},
   "outputs": [
    {
     "name": "stdout",
     "output_type": "stream",
     "text": [
      "\u001b[1mQuantum permutation Pad with Qiskit Runtime by Alain Chancé\u001b[0m\n",
      "\n",
      "\u001b[1mMIT License\u001b[0m\n",
      "Copyright (c) 2022 Alain Chancé\n",
      "Permission is hereby granted, free of charge, to any person obtaining a copy\n",
      "of this software and associated documentation files (the \"Software\"), to deal\n",
      "in the Software without restriction, including without limitation the rights\n",
      "to use, copy, modify, merge, publish, distribute, sublicense, and/or sell\n",
      "copies of the Software, and to permit persons to whom the Software is\n",
      "furnished to do so, subject to the following conditions:\n",
      "\n",
      "The above copyright notice and this permission notice shall be included in all\n",
      "copies or substantial portions of the Software.\n",
      "THE SOFTWARE IS PROVIDED \"AS IS\", WITHOUT WARRANTY OF ANY KIND, EXPRESS OR\n",
      "IMPLIED, INCLUDING BUT NOT LIMITED TO THE WARRANTIES OF MERCHANTABILITY,\n",
      "FITNESS FOR A PARTICULAR PURPOSE AND NONINFRINGEMENT. IN NO EVENT SHALL THE\n",
      "AUTHORS OR COPYRIGHT HOLDERS BE LIABLE FOR ANY CLAIM, DAMAGES OR OTHER\n",
      "LIABILITY, WHETHER IN AN ACTION OF CONTRACT, TORT OR OTHERWISE, ARISING FROM,\n",
      "OUT OF OR IN CONNECTION WITH THE SOFTWARE OR THE USE OR OTHER DEALINGS IN THE\n",
      "SOFTWARE.\n",
      "\n",
      "\u001b[1mAbstract\u001b[0m\n",
      "We demonstrate an efficient implementation of the Kuang and Barbeau’s Quantum Permutation pad (QPP) symmetric cryptographic \n",
      "algorithm with Qiskit Runtime, a new architecture offered by IBM Quantum that streamlines quantum computations. We have \n",
      "implemented a Python class QPP and template Jupyter notebooks with Qiskit code for encrypting and decrypting with n-qubit QPP \n",
      "any text file in UTF-16 format or any image file in .png format. We offer the option of running either a quantum circuit \n",
      "with n qubits, or an alternate one with 2**n qubits which only uses swap gates and has a circuit depth of O(n). \n",
      "It is inherently extremely fast and could be run efficiently on currently available noisy quantum computers. Our implementation \n",
      "leverages the new Qiskit Sampler primitive in localized mode which dramatically improves performance. We offer a highly \n",
      "efficient classical implementation which performs permutation gate matrix multiplication with information state vectors. We \n",
      "illustrate the use with two agents Alice and Bob who exchange a text file and an image file using 2-qubit QPP and 4-qubit QPP.\n",
      "\n",
      "Keywords—quantum communication, quantum encryption, quantum decryption, quantum security, secure communication, QPP, Qiskit, \n",
      "IBMQ\n",
      "\n",
      "\u001b[1mCredit\u001b[0m\n",
      "Kuang, R., Perepechaenko, Appendix, source code for the implementation of the 2-qubits QPP of the following article:\n",
      "Kuang, R., Perepechaenko, M. Quantum encryption with quantum permutation pad in IBMQ systems. EPJ Quantum Technol. 9, 26 (2022). https://doi.org/10.1140/epjqt/s40507-022-00145-y\n",
      "\n",
      "\u001b[1mRights and Permissions\u001b[0m\n",
      "\u001b[1mOpen Access\u001b[0m This article is licensed under a Creative Commons Attribution 4.0 International License.\n",
      "To view a copy of this licence, visit http://creativecommons.org/licenses/by/4.0/.\n",
      "\n",
      "\u001b[1mReferences\u001b[0m\n",
      "[1] R. Kuang and N. Bettenburg, 'Shannon perfect secrecy in a discrete Hilbert space', in Proc. IEEE Int. Conf. Quantum Comput. Eng. (QCE),Oct. 2020, pp. 249-255, doi: 10.1109/QCE49297.2020.00039\n",
      "[2] Kuang, R., Perepechaenko, M. Quantum encryption with quantum permutation pad in IBMQ systems. EPJ Quantum Technol. 9, 26 (2022). https://doi.org/10.1140/epjqt/s40507-022-00145-y\n",
      "[3] Introducing new Qiskit Runtime capabilities — and how our clients are integrating them into their use, https://research.ibm.com/blog/qiskit-runtime-capabilities-integration\n",
      "[4] Qiskit Runtime IBM Client, https://github.com/Qiskit/qiskit-ibm-runtime\n",
      "[5] Qiskit IBM runtime, Configure error mitigation, Advanced resilience options, https://github.com/Qiskit/qiskit-ibm-runtime/blob/ab7486d6837652d54cb60b83cfaa9165f5d0484c/docs/how_to/error-mitigation.rst#advanced-resilience-options\n",
      "[6] Fisher–Yates shuffle, Wikipedia, https://en.wikipedia.org/wiki/Fisher%E2%80%93Yates_shuffle\n",
      "[7] Qiskit Terra API Reference, Primitives, Sampler, https://qiskit.org/documentation/stubs/qiskit.primitives.Sampler.html\n",
      "[8] Qiskit Terra API Reference, Primitives, Source code for qiskit.primitives.sampler, https://qiskit.org/documentation/_modules/qiskit/primitives/sampler.html#Sampler\n",
      "[9] Qiskit, qiskit.quantum_info.Statevector.from_instruction, https://qiskit.org/documentation/stubs/qiskit.primitives.Sampler.html\n",
      "[10] Qiskit, Source code for qiskit.quantum_info.states.statevector, Statevector.from_instruction, https://qiskit.org/documentation/_modules/qiskit/quantum_info/states/statevector.html#Statevector.from_instruction\n",
      "\n",
      "\u001b[1mTrademarks\u001b[0m\n",
      "IBM®, IBM Q Experience®, and Qiskit® are registered trademarks of IBM Corporation.\n",
      "\n",
      "\u001b[1mUsing QPP_Alain.py\u001b[0m\n",
      "To use QPP_Alain, put QPP_Alain.py in the same directory as your code and insert the following import:\n",
      "from QPP_Alain import QPP\n",
      "\n",
      "Qiskit version:  2.0.0\n",
      "Qiskit Aer version:  0.17.0\n"
     ]
    }
   ],
   "source": [
    "from QPP_Alain import QPP"
   ]
  },
  {
   "cell_type": "markdown",
   "id": "3886dc6d",
   "metadata": {},
   "source": [
    "## Create an instance of the QPP class"
   ]
  },
  {
   "cell_type": "code",
   "execution_count": 5,
   "id": "20f5979f",
   "metadata": {},
   "outputs": [
    {
     "name": "stdout",
     "output_type": "stream",
     "text": [
      "\n",
      "Parameters read from file: QPP_param_6-qubits_V0_Christmas_tree.json\n",
      "{'num_of_bits': 2268, 'num_of_qubits': 6, 'num_of_perm_in_pad': 3, 'pad_selection_key_size': 6, 'opt_level': 2, 'resilience_level': 1, 'plaintext_file': 'Christmas_tree.png', 'token_file': 'Token_Alain.txt', 'trace': 1, 'job_trigger': 2000, 'print_trigger': 2000, 'draw_circuit': 'False', 'do_sampler': 'True', 'version': 'V0', 'len_message': 12758, 'len_ciphertext': 102066}\n",
      "Printing trace into file:  Trace_Christmas_tree.txt\n",
      "\n",
      "backend = AerSimulator(method='statevector')\n"
     ]
    }
   ],
   "source": [
    "Bob_QPP = QPP(\"QPP_param_6-qubits_V0_Christmas_tree\")"
   ]
  },
  {
   "cell_type": "markdown",
   "id": "45195e20-8a91-4776-8523-6e4583a43ac9",
   "metadata": {},
   "source": [
    "## QPP decryption"
   ]
  },
  {
   "cell_type": "markdown",
   "id": "19e86299",
   "metadata": {},
   "source": [
    "### Read ciphertext binary file and extract the content to be transformed into a binary string"
   ]
  },
  {
   "cell_type": "code",
   "execution_count": 6,
   "id": "10b1d2bd",
   "metadata": {},
   "outputs": [],
   "source": [
    "ciphertext = Bob_QPP.binary_to_ciphertext()"
   ]
  },
  {
   "cell_type": "markdown",
   "id": "37d02b9e",
   "metadata": {},
   "source": [
    "### Decrypt the ciphertext"
   ]
  },
  {
   "cell_type": "code",
   "execution_count": 7,
   "id": "2777ae74",
   "metadata": {},
   "outputs": [
    {
     "name": "stdout",
     "output_type": "stream",
     "text": [
      "\n",
      "decrypt - Length of cipher text in bits retrieved from param dictionary: 102066\n",
      "\n",
      "decrypt - First 192 bits in ciphertext string\n",
      "110110001010100100100000001011000111111100001011110110111001100000001010010000001110000101001101010101011110101001011100000100010010100110100100110110111100010010100011110010100000100011111011\n",
      "\n",
      "permutation pad - Permutation number: 0, matrix: \n"
     ]
    },
    {
     "data": {
      "text/latex": [
       "$$\n",
       "\n",
       "\\begin{bmatrix}\n",
       "0 & 0 & 0 & 0 & \\cdots & 0 & 0 & 0  \\\\\n",
       " 0 & 0 & 0 & 0 & \\cdots & 0 & 0 & 0  \\\\\n",
       " 0 & 0 & 0 & 0 & \\cdots & 0 & 0 & 0  \\\\\n",
       " 0 & 0 & 0 & 0 & \\cdots & 0 & 0 & 0  \\\\\n",
       " \\vdots & \\vdots & \\vdots & \\vdots & \\ddots & \\vdots & \\vdots & \\vdots \\\\\n",
       " 0 & 0 & 0 & 0 & \\cdots & 0 & 0 & 0  \\\\\n",
       " 0 & 0 & 0 & 0 & \\cdots & 0 & 0 & 0  \\\\\n",
       " 0 & 0 & 0 & 0 & \\cdots & 0 & 0 & 0  \\\\\n",
       " \\end{bmatrix}\n",
       "$$"
      ],
      "text/plain": [
       "<IPython.core.display.Latex object>"
      ]
     },
     "metadata": {},
     "output_type": "display_data"
    },
    {
     "name": "stdout",
     "output_type": "stream",
     "text": [
      "\n",
      "permutation pad - Permutation number: 0, Depth of quantum circuit: 1\n",
      "\n",
      "permutation_pad - permutation number: 0, dictionary:\n",
      "{0: '010101', 1: '110100', 2: '001000', 3: '011011', 4: '000100', 5: '110001', 6: '110010', 7: '111110', 8: '100100', 9: '000111', 10: '010001', 11: '110011', 12: '010100', 13: '001101', 14: '000001', 15: '011000', 16: '100101', 17: '000000', 18: '100000', 19: '111101', 20: '100111', 21: '011110', 22: '000101', 23: '010010', 24: '111010', 25: '110101', 26: '010011', 27: '011100', 28: '000010', 29: '000011', 30: '001010', 31: '111000', 32: '110110', 33: '100011', 34: '111011', 35: '001001', 36: '011010', 37: '001100', 38: '101110', 39: '000110', 40: '011111', 41: '001011', 42: '100010', 43: '001110', 44: '101011', 45: '101111', 46: '011001', 47: '101000', 48: '111111', 49: '010111', 50: '101001', 51: '101010', 52: '001111', 53: '010110', 54: '011101', 55: '111001', 56: '110000', 57: '110111', 58: '010000', 59: '111100', 60: '101100', 61: '100001', 62: '100110', 63: '101101'}\n",
      "permutation pad - Elapsed time: 0:00:00.709193\n",
      "\n",
      "permutation pad - Permutation number: 1, matrix: \n"
     ]
    },
    {
     "data": {
      "text/latex": [
       "$$\n",
       "\n",
       "\\begin{bmatrix}\n",
       "0 & 0 & 0 & 0 & \\cdots & 0 & 0 & 0  \\\\\n",
       " 0 & 0 & 0 & 0 & \\cdots & 0 & 0 & 0  \\\\\n",
       " 0 & 0 & 0 & 0 & \\cdots & 0 & 0 & 0  \\\\\n",
       " 0 & 0 & 0 & 0 & \\cdots & 0 & 0 & 0  \\\\\n",
       " \\vdots & \\vdots & \\vdots & \\vdots & \\ddots & \\vdots & \\vdots & \\vdots \\\\\n",
       " 0 & 0 & 0 & 0 & \\cdots & 0 & 0 & 0  \\\\\n",
       " 0 & 0 & 0 & 0 & \\cdots & 0 & 0 & 0  \\\\\n",
       " 0 & 0 & 0 & 0 & \\cdots & 0 & 0 & 0  \\\\\n",
       " \\end{bmatrix}\n",
       "$$"
      ],
      "text/plain": [
       "<IPython.core.display.Latex object>"
      ]
     },
     "metadata": {},
     "output_type": "display_data"
    },
    {
     "name": "stdout",
     "output_type": "stream",
     "text": [
      "\n",
      "permutation pad - Permutation number: 1, Depth of quantum circuit: 1\n",
      "\n",
      "permutation_pad - permutation number: 1, dictionary:\n",
      "{0: '100001', 1: '100101', 2: '010001', 3: '111100', 4: '101110', 5: '000001', 6: '001000', 7: '110111', 8: '001001', 9: '111101', 10: '111110', 11: '010101', 12: '010010', 13: '100110', 14: '001101', 15: '011111', 16: '111010', 17: '010000', 18: '111001', 19: '000000', 20: '010011', 21: '100100', 22: '011001', 23: '111011', 24: '010111', 25: '110000', 26: '001110', 27: '101101', 28: '111111', 29: '011100', 30: '110110', 31: '101010', 32: '001111', 33: '011011', 34: '001010', 35: '001100', 36: '100010', 37: '011000', 38: '011101', 39: '111000', 40: '010110', 41: '101000', 42: '000010', 43: '110101', 44: '101001', 45: '011110', 46: '100011', 47: '110100', 48: '000110', 49: '000101', 50: '000100', 51: '000011', 52: '110001', 53: '110011', 54: '101011', 55: '101111', 56: '011010', 57: '100111', 58: '100000', 59: '010100', 60: '001011', 61: '101100', 62: '110010', 63: '000111'}\n",
      "permutation pad - Elapsed time: 0:00:01.147289\n",
      "\n",
      "permutation pad - Permutation number: 2, matrix: \n"
     ]
    },
    {
     "data": {
      "text/latex": [
       "$$\n",
       "\n",
       "\\begin{bmatrix}\n",
       "1 & 0 & 0 & 0 & \\cdots & 0 & 0 & 0  \\\\\n",
       " 0 & 0 & 0 & 0 & \\cdots & 0 & 0 & 0  \\\\\n",
       " 0 & 0 & 0 & 0 & \\cdots & 0 & 0 & 0  \\\\\n",
       " 0 & 0 & 0 & 0 & \\cdots & 0 & 0 & 0  \\\\\n",
       " \\vdots & \\vdots & \\vdots & \\vdots & \\ddots & \\vdots & \\vdots & \\vdots \\\\\n",
       " 0 & 0 & 0 & 0 & \\cdots & 0 & 0 & 0  \\\\\n",
       " 0 & 0 & 0 & 0 & \\cdots & 1 & 0 & 0  \\\\\n",
       " 0 & 0 & 0 & 0 & \\cdots & 0 & 0 & 0  \\\\\n",
       " \\end{bmatrix}\n",
       "$$"
      ],
      "text/plain": [
       "<IPython.core.display.Latex object>"
      ]
     },
     "metadata": {},
     "output_type": "display_data"
    },
    {
     "name": "stdout",
     "output_type": "stream",
     "text": [
      "\n",
      "permutation pad - Permutation number: 2, Depth of quantum circuit: 1\n",
      "\n",
      "permutation_pad - permutation number: 2, dictionary:\n",
      "{0: '000000', 1: '110111', 2: '110101', 3: '010110', 4: '010101', 5: '010011', 6: '100111', 7: '010001', 8: '000001', 9: '111010', 10: '110010', 11: '101010', 12: '011010', 13: '011100', 14: '011011', 15: '110110', 16: '011101', 17: '111011', 18: '000110', 19: '110100', 20: '100000', 21: '000011', 22: '011111', 23: '101001', 24: '001000', 25: '000100', 26: '111111', 27: '000111', 28: '011110', 29: '010010', 30: '011000', 31: '100101', 32: '101110', 33: '110000', 34: '100011', 35: '110011', 36: '101011', 37: '001101', 38: '000101', 39: '111000', 40: '111001', 41: '100110', 42: '001011', 43: '101111', 44: '001100', 45: '111101', 46: '010000', 47: '101101', 48: '010100', 49: '001010', 50: '000010', 51: '111100', 52: '100010', 53: '110001', 54: '101100', 55: '001111', 56: '100001', 57: '101000', 58: '001110', 59: '100100', 60: '010111', 61: '111110', 62: '011001', 63: '001001'}\n",
      "permutation pad - Elapsed time: 0:00:01.565571\n",
      "permutation pad - Length of Permutation_Pad: 3\n",
      "\n",
      "decrypt - Length of ciphertext: 102066\n",
      "decrypt - Remainder of dividing (Length of cipher chunks) by (Job trigger): 1011\n",
      "\n",
      "decrypt - x : 1999,  Permutation_Pad[2], State vector: 001001, Most frequent: 111010\n",
      "decrypt - Elapsed time for decryption: 0:00:00.000477\n",
      "decrypt - x : 3999,  Permutation_Pad[1], State vector: 011001, Most frequent: 110000\n",
      "decrypt - Elapsed time for decryption: 0:00:00.000887\n",
      "decrypt - x : 5999,  Permutation_Pad[0], State vector: 000101, Most frequent: 110001\n",
      "decrypt - Elapsed time for decryption: 0:00:00.001340\n",
      "decrypt - x : 7999,  Permutation_Pad[2], State vector: 010101, Most frequent: 000011\n",
      "decrypt - Elapsed time for decryption: 0:00:00.001752\n",
      "decrypt - x : 9999,  Permutation_Pad[2], State vector: 101111, Most frequent: 101101\n",
      "decrypt - Elapsed time for decryption: 0:00:00.002154\n",
      "decrypt - x : 11999,  Permutation_Pad[0], State vector: 000010, Most frequent: 001000\n",
      "decrypt - Elapsed time for decryption: 0:00:00.002606\n",
      "decrypt - x : 13999,  Permutation_Pad[1], State vector: 111111, Most frequent: 000111\n",
      "decrypt - Elapsed time for decryption: 0:00:00.003001\n",
      "decrypt - x : 15999,  Permutation_Pad[2], State vector: 111011, Most frequent: 100100\n",
      "decrypt - Elapsed time for decryption: 0:00:00.003414\n",
      "\n",
      "decrypt - Length of decrypted message in bits: 102066\n",
      "\n",
      "decrypt - Elapsed time for decryption of ciphertext: 0:00:00.027614\n"
     ]
    }
   ],
   "source": [
    "decrypted_message = Bob_QPP.decrypt(ciphertext=ciphertext)"
   ]
  },
  {
   "cell_type": "markdown",
   "id": "dca194bd",
   "metadata": {},
   "source": [
    "### Convert the decrypted message and save it into the decrypted file"
   ]
  },
  {
   "cell_type": "code",
   "execution_count": 8,
   "id": "b51e7855",
   "metadata": {},
   "outputs": [
    {
     "name": "stdout",
     "output_type": "stream",
     "text": [
      "\n",
      "bitstring_to_file - decrypted message in bytes trimmed to true length: 12758\n"
     ]
    }
   ],
   "source": [
    "Bob_QPP.bitstring_to_file(decrypted_message=decrypted_message)"
   ]
  },
  {
   "cell_type": "markdown",
   "id": "7e07caf6-525d-4106-ace1-ca145c7b40c1",
   "metadata": {},
   "source": [
    "## References\n",
    "\n",
    "[1] Kuang, Randy. Quantum Permutation Pad for Quantum Secure Symmetric and Asymmetric Cryptography. Vol. 2, no. 1, Academia Quantum, 2025. https://doi.org/10.20935/AcadQuant7457 \n",
    "\n",
    "[2] Chancé, A. (2024). Quantum Permutation Pad with Qiskit Runtime. In: Femmam, S., Lorenz, P. (eds) Recent Advances in Communication Networks and Embedded Systems. ICCNT 2022. Lecture Notes on Data Engineering and Communications Technologies, vol 205. Springer, Cham. https://doi.org/10.1007/978-3-031-59619-3_12 \n",
    "\n",
    "[3] R. Kuang and N. Bettenburg, 'Shannon perfect secrecy in a discrete Hilbert space', in Proc. IEEE Int. Conf. Quantum Comput. Eng. (QCE), Oct. 2020, pp. 249-255, doi: 10.1109/QCE49297.2020.00039\n",
    "\n",
    "[4] Kuang, R., Perepechaenko, M. Quantum encryption with quantum permutation pad in IBMQ systems. EPJ Quantum Technol. 9, 26 (2022). https://doi.org/10.1140/epjqt/s40507-022-00145-y\n",
    "\n",
    "[5] Qiskit Runtime overview, IBM Quantum, https://cloud.ibm.com/docs/quantum-computing?topic=quantum-computing-overview, https://cloud.ibm.com/docs/quantum-computing?topic=quantum-computing-overview\n",
    "\n",
    "[6] QiskitRuntimeService, https://docs.quantum.ibm.com/api/qiskit-ibm-runtime/qiskit_ibm_runtime.QiskitRuntimeService#qiskitruntimeservice"
   ]
  },
  {
   "cell_type": "markdown",
   "id": "d5a0c1b1-90e1-463a-9b1e-62ebfe1ab58c",
   "metadata": {},
   "source": [
    "## Print Qiskit version"
   ]
  },
  {
   "cell_type": "code",
   "execution_count": 9,
   "id": "abc4f197-4e90-4484-acb5-14a72c987f51",
   "metadata": {},
   "outputs": [],
   "source": [
    "import qiskit"
   ]
  },
  {
   "cell_type": "code",
   "execution_count": 10,
   "id": "5f5e2798-8584-485c-904e-78d0866cbd5d",
   "metadata": {},
   "outputs": [
    {
     "name": "stdout",
     "output_type": "stream",
     "text": [
      "2.0.0\n"
     ]
    }
   ],
   "source": [
    "print(qiskit.__version__)"
   ]
  },
  {
   "cell_type": "markdown",
   "id": "26921b9a-77bc-439a-b458-ea15ab0503f7",
   "metadata": {},
   "source": [
    "## Print Qiskit Aer version"
   ]
  },
  {
   "cell_type": "code",
   "execution_count": 11,
   "id": "8e236844-a0bf-4234-879f-65b789ca5f91",
   "metadata": {},
   "outputs": [],
   "source": [
    "import qiskit_aer"
   ]
  },
  {
   "cell_type": "code",
   "execution_count": 12,
   "id": "3483a88d-4422-4926-a103-a0d888b1e183",
   "metadata": {
    "jupyter": {
     "source_hidden": true
    }
   },
   "outputs": [
    {
     "name": "stdout",
     "output_type": "stream",
     "text": [
      "0.17.0\n"
     ]
    }
   ],
   "source": [
    "print(qiskit_aer.__version__)"
   ]
  },
  {
   "cell_type": "markdown",
   "id": "d3b253a4-d663-4652-98ad-22cc2c1d6bc2",
   "metadata": {},
   "source": [
    "## Show Python version"
   ]
  },
  {
   "cell_type": "code",
   "execution_count": 13,
   "id": "7bd67205-e63c-4751-8bd6-cdc4e0e35198",
   "metadata": {},
   "outputs": [
    {
     "name": "stdout",
     "output_type": "stream",
     "text": [
      "/home/alain/miniconda3/bin/python\n",
      "Python 3.12.9\n"
     ]
    }
   ],
   "source": [
    "%%bash\n",
    "which python\n",
    "python --version"
   ]
  }
 ],
 "metadata": {
  "kernelspec": {
   "display_name": "Python 3 (ipykernel)",
   "language": "python",
   "name": "python3"
  },
  "language_info": {
   "codemirror_mode": {
    "name": "ipython",
    "version": 3
   },
   "file_extension": ".py",
   "mimetype": "text/x-python",
   "name": "python",
   "nbconvert_exporter": "python",
   "pygments_lexer": "ipython3",
   "version": "3.12.9"
  },
  "widgets": {
   "application/vnd.jupyter.widget-state+json": {
    "state": {
     "01231487ec414b24bd761f6dd76fc016": {
      "model_module": "@jupyter-widgets/base",
      "model_module_version": "1.2.0",
      "model_name": "LayoutModel",
      "state": {
       "width": "190px"
      }
     },
     "15a8688e002d43adbccd012eefd05e51": {
      "model_module": "@jupyter-widgets/controls",
      "model_module_version": "1.5.0",
      "model_name": "HTMLModel",
      "state": {
       "layout": "IPY_MODEL_eb974c9225c14c1d901d2381b81c0952",
       "style": "IPY_MODEL_b6762439874e41c38b2ac1b21790f0db",
       "value": "<h5>Message</h5>"
      }
     },
     "1c7de92203e740098ca0f00e488e47e9": {
      "model_module": "@jupyter-widgets/controls",
      "model_module_version": "1.5.0",
      "model_name": "HBoxModel",
      "state": {
       "children": [
        "IPY_MODEL_cb71e659e00a40cfba214efd500083fb",
        "IPY_MODEL_799b064975484c5690a72ede0fa8855e",
        "IPY_MODEL_84f13d6437654954a9e7751d95f0d276",
        "IPY_MODEL_a960fc42b4534aa3a35f635e30a1e288",
        "IPY_MODEL_15a8688e002d43adbccd012eefd05e51"
       ],
       "layout": "IPY_MODEL_882736f26bea4b7d9836e2ea7ececf83"
      }
     },
     "42b7643650d24814affdaa618a02aeb0": {
      "model_module": "@jupyter-widgets/controls",
      "model_module_version": "1.5.0",
      "model_name": "ButtonModel",
      "state": {
       "button_style": "primary",
       "description": "Clear",
       "layout": "IPY_MODEL_fbfa86e960e04a5f95619e18a23739dc",
       "style": "IPY_MODEL_746716bf92ac4c418d498bb56ca229be"
      }
     },
     "485bd1112c364e63b7a55bd8c386eb0c": {
      "model_module": "@jupyter-widgets/controls",
      "model_module_version": "1.5.0",
      "model_name": "GridBoxModel",
      "state": {
       "children": [
        "IPY_MODEL_42b7643650d24814affdaa618a02aeb0"
       ],
       "layout": "IPY_MODEL_de58e34a7edc401e87342f04d1d3065f"
      }
     },
     "746716bf92ac4c418d498bb56ca229be": {
      "model_module": "@jupyter-widgets/controls",
      "model_module_version": "1.5.0",
      "model_name": "ButtonStyleModel",
      "state": {}
     },
     "74b6f2dd988347b7a07221fb5353df09": {
      "model_module": "@jupyter-widgets/controls",
      "model_module_version": "1.5.0",
      "model_name": "DescriptionStyleModel",
      "state": {
       "description_width": ""
      }
     },
     "790a1a267c374532a2360b67ba400279": {
      "model_module": "@jupyter-widgets/base",
      "model_module_version": "1.2.0",
      "model_name": "LayoutModel",
      "state": {
       "width": "95px"
      }
     },
     "799b064975484c5690a72ede0fa8855e": {
      "model_module": "@jupyter-widgets/controls",
      "model_module_version": "1.5.0",
      "model_name": "HTMLModel",
      "state": {
       "layout": "IPY_MODEL_ee251e5ed3934cf9a093286fee4af98b",
       "style": "IPY_MODEL_74b6f2dd988347b7a07221fb5353df09",
       "value": "<h5>Backend</h5>"
      }
     },
     "84f13d6437654954a9e7751d95f0d276": {
      "model_module": "@jupyter-widgets/controls",
      "model_module_version": "1.5.0",
      "model_name": "HTMLModel",
      "state": {
       "layout": "IPY_MODEL_790a1a267c374532a2360b67ba400279",
       "style": "IPY_MODEL_cc7fbd6e616b48ba8670a24863e2d88f",
       "value": "<h5>Status</h5>"
      }
     },
     "882736f26bea4b7d9836e2ea7ececf83": {
      "model_module": "@jupyter-widgets/base",
      "model_module_version": "1.2.0",
      "model_name": "LayoutModel",
      "state": {
       "margin": "0px 0px 0px 37px",
       "width": "600px"
      }
     },
     "a2d56da859ad4bf4a827041ae905da73": {
      "model_module": "@jupyter-widgets/controls",
      "model_module_version": "1.5.0",
      "model_name": "DescriptionStyleModel",
      "state": {
       "description_width": ""
      }
     },
     "a960fc42b4534aa3a35f635e30a1e288": {
      "model_module": "@jupyter-widgets/controls",
      "model_module_version": "1.5.0",
      "model_name": "HTMLModel",
      "state": {
       "layout": "IPY_MODEL_f59d35bcdf46447997dd4fd8809c0d4d",
       "style": "IPY_MODEL_e237896267074e489426d2aedb7f348b",
       "value": "<h5>Queue</h5>"
      }
     },
     "b6762439874e41c38b2ac1b21790f0db": {
      "model_module": "@jupyter-widgets/controls",
      "model_module_version": "1.5.0",
      "model_name": "DescriptionStyleModel",
      "state": {
       "description_width": ""
      }
     },
     "b7345e1a00e3440b87008eb08ea836c7": {
      "model_module": "@jupyter-widgets/controls",
      "model_module_version": "1.5.0",
      "model_name": "DescriptionStyleModel",
      "state": {
       "description_width": ""
      }
     },
     "cb71e659e00a40cfba214efd500083fb": {
      "model_module": "@jupyter-widgets/controls",
      "model_module_version": "1.5.0",
      "model_name": "HTMLModel",
      "state": {
       "layout": "IPY_MODEL_01231487ec414b24bd761f6dd76fc016",
       "style": "IPY_MODEL_a2d56da859ad4bf4a827041ae905da73",
       "value": "<h5>Job ID</h5>"
      }
     },
     "cc7fbd6e616b48ba8670a24863e2d88f": {
      "model_module": "@jupyter-widgets/controls",
      "model_module_version": "1.5.0",
      "model_name": "DescriptionStyleModel",
      "state": {
       "description_width": ""
      }
     },
     "de58e34a7edc401e87342f04d1d3065f": {
      "model_module": "@jupyter-widgets/base",
      "model_module_version": "1.2.0",
      "model_name": "LayoutModel",
      "state": {
       "grid_template_areas": "\n                                       \". . . . right \"\n                                        ",
       "grid_template_columns": "20% 20% 20% 20% 20%",
       "width": "100%"
      }
     },
     "e237896267074e489426d2aedb7f348b": {
      "model_module": "@jupyter-widgets/controls",
      "model_module_version": "1.5.0",
      "model_name": "DescriptionStyleModel",
      "state": {
       "description_width": ""
      }
     },
     "e56746ba29da4cb98f6a534584c6d556": {
      "model_module": "@jupyter-widgets/controls",
      "model_module_version": "1.5.0",
      "model_name": "HTMLModel",
      "state": {
       "layout": "IPY_MODEL_fe8260cf883a46beb0a8a98b5504fdd9",
       "style": "IPY_MODEL_b7345e1a00e3440b87008eb08ea836c7",
       "value": "<p style='font-family: IBM Plex Sans, Arial, Helvetica, sans-serif; font-size: 20px; font-weight: medium;'>Circuit Properties</p>"
      }
     },
     "eb974c9225c14c1d901d2381b81c0952": {
      "model_module": "@jupyter-widgets/base",
      "model_module_version": "1.2.0",
      "model_name": "LayoutModel",
      "state": {}
     },
     "ee251e5ed3934cf9a093286fee4af98b": {
      "model_module": "@jupyter-widgets/base",
      "model_module_version": "1.2.0",
      "model_name": "LayoutModel",
      "state": {
       "width": "145px"
      }
     },
     "f59d35bcdf46447997dd4fd8809c0d4d": {
      "model_module": "@jupyter-widgets/base",
      "model_module_version": "1.2.0",
      "model_name": "LayoutModel",
      "state": {
       "width": "70px"
      }
     },
     "fbfa86e960e04a5f95619e18a23739dc": {
      "model_module": "@jupyter-widgets/base",
      "model_module_version": "1.2.0",
      "model_name": "LayoutModel",
      "state": {
       "grid_area": "right",
       "padding": "0px 0px 0px 0px",
       "width": "70px"
      }
     },
     "fe8260cf883a46beb0a8a98b5504fdd9": {
      "model_module": "@jupyter-widgets/base",
      "model_module_version": "1.2.0",
      "model_name": "LayoutModel",
      "state": {
       "margin": "0px 0px 10px 0px"
      }
     }
    },
    "version_major": 2,
    "version_minor": 0
   }
  }
 },
 "nbformat": 4,
 "nbformat_minor": 5
}
