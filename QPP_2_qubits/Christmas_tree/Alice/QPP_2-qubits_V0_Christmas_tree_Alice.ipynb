{
 "cells": [
  {
   "cell_type": "markdown",
   "id": "e4a3b1e4-270a-4c84-9e23-4babae5d7205",
   "metadata": {
    "jp-MarkdownHeadingCollapsed": true
   },
   "source": [
    "# Quantum Permutation Pad with Qiskit Runtime by Alain Chancé\n",
    "\n",
    "## MIT License\n",
    "\n",
    "Copyright (c) 2022 Alain Chancé\n",
    "\n",
    "Permission is hereby granted, free of charge, to any person obtaining a copy\n",
    "of this software and associated documentation files (the \"Software\"), to deal\n",
    "in the Software without restriction, including without limitation the rights\n",
    "to use, copy, modify, merge, publish, distribute, sublicense, and/or sell\n",
    "copies of the Software, and to permit persons to whom the Software is\n",
    "furnished to do so, subject to the following conditions:\n",
    "\n",
    "The above copyright notice and this permission notice shall be included in all\n",
    "copies or substantial portions of the Software.\n",
    "\n",
    "THE SOFTWARE IS PROVIDED \"AS IS\", WITHOUT WARRANTY OF ANY KIND, EXPRESS OR\n",
    "IMPLIED, INCLUDING BUT NOT LIMITED TO THE WARRANTIES OF MERCHANTABILITY,\n",
    "FITNESS FOR A PARTICULAR PURPOSE AND NONINFRINGEMENT. IN NO EVENT SHALL THE\n",
    "AUTHORS OR COPYRIGHT HOLDERS BE LIABLE FOR ANY CLAIM, DAMAGES OR OTHER\n",
    "LIABILITY, WHETHER IN AN ACTION OF CONTRACT, TORT OR OTHERWISE, ARISING FROM,\n",
    "OUT OF OR IN CONNECTION WITH THE SOFTWARE OR THE USE OR OTHER DEALINGS IN THE\n",
    "SOFTWARE.\n",
    "\n",
    "## Abstract\n",
    "Abstract— We demonstrate an efficient implementation of the Kuang and Barbeau’s Quantum Permutation pad (QPP) symmetric cryptographic algorithm with Qiskit Runtime, a new architecture offered by IBM Quantum that streamlines quantum computations. We have implemented a Python class QPP and template Jupyter notebooks with Qiskit code for encrypting and decrypting with n-qubit QPP any text file in UTF-16 format or any image file in .png format. We offer the option of running either a quantum circuit with $n$ qubits, or an alternate one with $2^n$ qubits which only uses swap gates and has a circuit depth of $O(n)$. It is inherently extremely fast and could be run efficiently on currently available noisy quantum computers. Our implementation leverages the new Qiskit Sampler primitive in localized mode which dramatically improves performance. We offer a highly efficient classical implementation which performs permutation gate matrix multiplication with information state vectors. We illustrate the use with two agents Alice and Bob who exchange a text file and an image file using 2-qubit QPP and 4-qubit QPP. \n",
    "\n",
    "Keywords—quantum communication, quantum encryption,\n",
    "quantum decryption, quantum security, secure communication, QPP, Qiskit, IBMQ\n",
    "\n",
    "## Credit: Kuang, R., Perepechaenko\n",
    "\n",
    "Appendix, source code for the implementation of the 2-qubits QPP of the following article:\n",
    "\n",
    "Kuang, R., Perepechaenko, M. Quantum encryption with quantum permutation pad in IBMQ systems. EPJ Quantum Technol. 9, 26 (2022). https://doi.org/10.1140/epjqt/s40507-022-00145-y \n",
    "\n",
    "## Rights and permissions\n",
    "$\\textbf{Open Access}$ This article is licensed under a Creative Commons Attribution 4.0 International License, which permits use, sharing, adaptation, distribution and reproduction in any medium or format, as long as you give appropriate credit to the original author(s) and the source, provide a link to the Creative Commons licence, and indicate if changes were made. The images or other third party material in this article are included in the article’s Creative Commons licence, unless indicated otherwise in a credit line to the material. If material is not included in the article’s Creative Commons licence and your intended use is not permitted by statutory regulation or exceeds the permitted use, you will need to obtain permission directly from the copyright holder. To view a copy of this licence, visit http://creativecommons.org/licenses/by/4.0/.\n",
    "\n",
    "# Adaptations made by Alain Chancé\n",
    "\n",
    "# Summary of updates V4\n",
    "This Jupyter notebook has been updated to work with Python 3.12 and the following Qiskit versions:\n",
    "- Qiskit v1.3, Qiskit runtime version: 0.34, Qiskit Aer 0.16\n",
    "- Qiskit v2.0, Qiskit runtime version: 0.37, Qiskit Aer 0.17\n",
    "\n",
    "Please refer to the following documentation:\n",
    "- Qiskit v2.0 migration guide, https://docs.quantum.ibm.com/migration-guides/qiskit-2.0\n",
    "- Qiskit Aer documentation, https://qiskit.github.io/qiskit-aer/\n",
    "- Qiskit Aer 0.16.1, Getting started, https://qiskit.github.io/qiskit-aer/getting_started.html\n",
    "- Qiskit Aer 0.16.1, Simulators, https://qiskit.github.io/qiskit-aer/tutorials/1_aersimulator.html\n",
    "\n",
    "## Updates in code\n",
    "In class QPP\n",
    "\n",
    "Removed \"U0\" in basis_gates to solve the following issue:\n",
    "\n",
    "Providing non-standard gates (u0) through the ``basis_gates`` argument is not allowed. Use the ``target`` parameter instead.\n",
    "You can build a target instance using ``Target.from_configuration()`` and provide custom gate definitions with the ``custom_name_mapping`` argument.\n",
    "```\n",
    "basis_gates=[\"u3\",\"u2\",\"u1\",\"cx\",\"id\",\"u\",\"p\",\"x\",\"y\",\"z\",\"h\",\"s\",\n",
    "                 \"sdg\",\"t\",\"tdg\",\"rx\",\"ry\",\"rz\",\"sx\",\"sxdg\",\"cz\",\"cy\",\"swap\",\n",
    "                \"ch\",\"ccx\",\"cswap\",\"crx\",\"cry\",\"crz\",\"cu1\",\"cp\",\"cu3\",\"csx\",\n",
    "                \"cu\",\"rxx\",\"rzz\"]\n",
    "```\n",
    "New\n",
    "```\n",
    "        # https://docs.quantum.ibm.com/migration-guides/local-simulators#aersimulator\n",
    "        self.backend = AerSimulator(method='statevector')\n",
    "        if trace > 0:\n",
    "            print(\"\\nbackend = AerSimulator(method='statevector')\", file=trace_f)\n",
    "            print(\"\\nbackend = AerSimulator(method='statevector')\")\n",
    "\n",
    "        self.sampler = StatevectorSampler()\n",
    "        \n",
    "        # https://docs.quantum.ibm.com/migration-guides/local-simulators#aersimulator\n",
    "        self.pm = generate_preset_pass_manager(backend=self.backend, optimization_level=opt_level)\n",
    "```\n",
    "### Updates in permutation_pad() function\n",
    "New\n",
    "```\n",
    "        if do_sampler:\n",
    "            # Create a session constructor using Qiskit Runtime Session()\n",
    "            # https://docs.quantum.ibm.com/migration-guides/local-simulators#aersimulator\n",
    "                with Session(backend=self.backend) as session:\n",
    "                    sampler = self.sampler\n",
    "```\n",
    "New\n",
    "```\n",
    "                        if version == \"V0\":\n",
    "                        # Apply permutation\n",
    "                            qc.append(Operator(my_matrix), range(N))\n",
    "                            qc.barrier()\n",
    "                            qc = self.pm.run(qc)\n",
    "```\n",
    "New\n",
    "```\n",
    "                            qci = self.pm.run(qci)\n",
    "                            job = self.backend.run([qci], shots=1024)\n",
    "```\n",
    "\n",
    "# Summary of updates V3\n",
    "Summary of updates V3\n",
    "This jupyter notebook has been updated to work with Qiskit 1.3.1 \n",
    "\n",
    "## Updates in Install statements\n",
    "Previously\n",
    "```\n",
    "from qiskit.primitives import Sampler\n",
    "```\n",
    "New\n",
    "```\n",
    "from qiskit.primitives import StatevectorSampler\n",
    "```\n",
    "\n",
    "## Updates in code\n",
    "In class QPP\n",
    "\n",
    "Commented out the options:\n",
    "```\n",
    " #options = Options(resilience_level=resilience_level)\n",
    "```\n",
    "\n",
    "Previously\n",
    "```\n",
    "sampler = Sampler()\n",
    "```\n",
    "New\n",
    "```\n",
    "sampler = StatevectorSampler()\n",
    "```\n",
    " \n",
    " Updated the with Sesssion according to the example given in the Session documentation:\n",
    " https://docs.quantum.ibm.com/api/qiskit-ibm-runtime/qiskit_ibm_runtime.Session\n",
    "```\n",
    " with Session(backend=backend) as session:\n",
    "```"
   ]
  },
  {
   "cell_type": "markdown",
   "id": "1569436c-e4cc-40f6-baf4-e5f9aa01e0bf",
   "metadata": {},
   "source": [
    "# Summary of updates V2\n",
    "This jupyter notebook has been updated to work with Qiskit 1.0.2. \n",
    "\n",
    "Please refer to the following documentation:\n",
    "- Qiskit 1.0 feature changes, https://docs.quantum.ibm.com/api/migration-guides/qiskit-1.0-features#qiskit-10-feature-changes\n",
    "- Qiskit 1.0 migration tool, https://docs.quantum.ibm.com/api/migration-guides/qiskit-1.0-features#qiskit-10-migration-tool\n",
    "- Qiskit Aer 0.14.0.1, Getting started, https://qiskit.github.io/qiskit-aer/getting_started.html\n",
    "- Migrate setup from qiskit-ibmq-provider, https://docs.quantum.ibm.com/api/migration-guides/qiskit-runtime#migrate-setup-from-qiskit-ibmq-provider\n",
    "- Simulators, The AerSimulator, https://qiskit.github.io/qiskit-aer/tutorials/1_aersimulator.html\n",
    "\n",
    "## Updates in install statements\n",
    "### Install qiskit.aer\n",
    "New\n",
    "```\n",
    "https://qiskit.github.io/qiskit-aer/getting_started.html\n",
    "pip install qiskit_aer\n",
    "```\n",
    "## Updates in import statements\n",
    "### Import qiskit.aer\n",
    "Additional circuit methods. On import, Aer adds several simulation-specific methods to QuantumCircuit for convenience. These methods are not available until Aer is imported (import qiskit_aer). https://qiskit.github.io/qiskit-aer/apidocs/circuit.html\n",
    "New\n",
    "```\n",
    "import qiskit_aer\n",
    "```\n",
    "### Import AerSimulator\n",
    "New\n",
    "```\n",
    "from qiskit_aer import AerSimulator\n",
    "```\n",
    "### Migrate setup from qiskit-ibmq-provider\n",
    "Previously\n",
    "```\n",
    "from qiskit import IBMQ\n",
    "```\n",
    "New\n",
    "```\n",
    "from qiskit_ibm_runtime import QiskitRuntimeService\n",
    "```\n",
    "## Updates in code\n",
    "New\n",
    "```\n",
    "self.aer_sim = AerSimulator(method='statevector')\n",
    "```\n",
    "### Updates in permutation_pad() function\n",
    "Previously\n",
    "```\n",
    "for i in range(2**num_of_qubits):\n",
    "    ...\n",
    "    # Append qci to the list perm_qc\n",
    "    perm_qc.append(qci)\n",
    "\n",
    "# Submit a job with all quantum circuits in perm_qc\n",
    "job = sampler.run(circuits=perm_qc)\n",
    "result = job.result()\n",
    "```\n",
    "New\n",
    "```\n",
    "qci = transpile(qci, self.aer_sim)\n",
    "job = self.aer_sim.run(qci, shots=1024)\n",
    "result = job.result()\n",
    "counts = result.get_counts(qci)\n",
    "                            \n",
    "if version == \"V0\":\n",
    "    # Get dictionary key with the max value\n",
    "    maxkey = max(counts, key=counts.get)\n",
    "    most_frequent = maxkey\n",
    "    pdict[i] = most_frequent\n",
    "                            \n",
    "    if trace > 1:\n",
    "        print(\"permutation_pad - k: {}, most_frequent: {}\".format(k, most_frequent))\n",
    "                            \n",
    "else:  # Version V1\n",
    "    # Get dictionary key with the max value\n",
    "    maxkey = max(counts, key=counts.get)\n",
    "    ix = n - maxkey.index('1') - 1\n",
    "    most_frequent = eval(\"format(ix, '0\" + str(num_of_qubits) + \"b')\")\n",
    "    pdict[i] = most_frequent\n",
    "    \n",
    "    if trace > 1:\n",
    "        print(\"permutation_pad - k: {}, maxkey: {}, string: {}, ix: {}, most_frequent: {}\".\n",
    "        format(k, maxkey, string, ix, most_frequent))\n",
    "```"
   ]
  },
  {
   "cell_type": "markdown",
   "id": "2d972bc2-bfda-4fe7-939a-790db4324b85",
   "metadata": {},
   "source": [
    "# Summary of updates V1\n",
    "Please refer to the following documentation:\n",
    "\n",
    "[3] Introducing new Qiskit Runtime capabilities — and how our clients are integrating them into their use, https://research.ibm.com/blog/qiskit-runtime-capabilities-integration\n",
    "\n",
    "[4] Qiskit Runtime IBM Client, https://github.com/Qiskit/qiskit-ibm-runtime\n",
    "\n",
    "[5] Qiskit IBM runtime, Configure error mitigation, Advanced resilience options, https://github.com/Qiskit/qiskit-ibm-runtime/blob/ab7486d6837652d54cb60b83cfaa9165f5d0484c/docs/how_to/error-mitigation.rst#advanced-resilience-options\n",
    "\n",
    "### New class QPP\n",
    "```\n",
    "class QPP:\n",
    "    def __init__(self, QPP_param_file = \"QPP_param.json\"):\n",
    "```\n",
    "\n",
    "### New import statements\n",
    "\n",
    "#### Import array_to_latex to display matrices using laTeX\n",
    "```\n",
    "from qiskit.visualization import array_to_latex\n",
    "```\n",
    "\n",
    "#### Import time, datetime\n",
    "```\n",
    "import time, datetime\n",
    "```\n",
    "\n",
    "#### Import psutil\n",
    "```\n",
    "import psutil\n",
    "```\n",
    "\n",
    "#### Import the JSON package\n",
    "```\n",
    "import json\n",
    "```\n",
    "\n",
    "#### Import Bitstream, BitArray https://bitstring.readthedocs.io/en/stable/\n",
    "```\n",
    "from bitstring import BitStream, BitArray\n",
    "```\n",
    "\n",
    "#### Import QiskitRuntimeService, Session, Options and Sampler\n",
    "```\n",
    "from qiskit_ibm_runtime import QiskitRuntimeService, Session, Options\n",
    "\n",
    "# Uncomment the following import to import the Qiskit Runtime Sampler\n",
    "#from qiskit_ibm_runtime import Sampler\n",
    "\n",
    "# This version uses the localized version of the `Sampler` which resides in Qiskit Terra [7][8]\n",
    "# and uses the statevector simulator to compute probabilities\n",
    "# probabilities = [\n",
    "#       Statevector(bound_circuit_to_instruction(circ)).probabilities(qargs=qargs)\n",
    "#      for circ, qargs in zip(bound_circuits, qargs_list)]\n",
    "from qiskit.primitives import Sampler\n",
    "```\n",
    "\n",
    "### New method rand_key() to create a random binary string\n",
    "```\n",
    "# Function to create a random binary string\n",
    "# https://www.geeksforgeeks.org/python-program-to-generate-random-binary-string/\n",
    "    def rand_key(self, p):\n",
    "   \n",
    "        # Variable to store the string\n",
    "        key1 = \"\"\n",
    " \n",
    "        # Loop to find the string of desired length\n",
    "        for i in range(p):\n",
    "         \n",
    "            # randint function to generate 0, 1 randomly and converting the result into str\n",
    "            temp = str(randint(0, 1))\n",
    " \n",
    "            # Concatenation the random 0, 1 to the final result\n",
    "            key1 += temp\n",
    "    \n",
    "        return(key1)\n",
    "```\n",
    "\n",
    "### New method randomize() with added new parameters key_chunks, qc, qr, num_of_perm, transpose\n",
    "```\n",
    "    ##############################################################################################################\n",
    "    # Define randomize() function to perform Fisher Yates shuffling                                              #\n",
    "    # The Fisher–Yates shuffle is an algorithm for generating a random permutation of a finite sequence [5].     #\n",
    "    ##############################################################################################################\n",
    "    def randomize(self, arr, n, key_chunks, qc, qr, num_of_perm, transpose=False):\n",
    "```\n",
    "\n",
    "### New method permutation_pad() sets up a permutation quantum circuit and transpose\n",
    "```\n",
    "    ##############################################################################################################\n",
    "    # Define permutation_pad() function                                                                          #\n",
    "    # The Fisher–Yates shuffle is an algorithm for generating a random permutation of a finite sequence [5].     #\n",
    "    ##############################################################################################################\n",
    "    def permutation_pad(self, secret_key_blocks, transpose=False):\n",
    "```\n",
    "\n",
    "### New method encrypt() to encrypt a message leverages Qiskit Runtime primitives\n",
    "```\n",
    "    ##############################################################################################################\n",
    "    # Define the function encrypt() to encrypt a message                                                         #\n",
    "    ##############################################################################################################\n",
    "    def encrypt(self, message=None):\n",
    "```\n",
    "\n",
    "### New method decrypt() to decrypt a ciphertext leverages Qiskit Runtime primitives\n",
    "```\n",
    "    ##############################################################################################################\n",
    "    # Define the function decrypt() to decrypt a message                                                         #\n",
    "    ##############################################################################################################\n",
    "     def decrypt(self, ciphertext=None):\n",
    "```\n",
    "\n",
    "### New method file_to_bitstring() to convert plaintext file into a bitstring message\n",
    "```\n",
    "    ###############################################################################################################\n",
    "    # Define function file_to_bitstring() to convert plaintext file into a bitstring message                      #\n",
    "    ###############################################################################################################\n",
    "    def file_to_bitstring(self):\n",
    "```\n",
    "\n",
    "### New method ciphertext_to_binary() to convert ciphertext into binary and save it into a binary file\n",
    "```\n",
    "    ###############################################################################################################\n",
    "    # Define function ciphertext_to_binary() to convert ciphertext into binary and save it into a binary file     #\n",
    "    ###############################################################################################################\n",
    "    def ciphertext_to_binary(self, ciphertext=None):\n",
    "```\n",
    "\n",
    "### New method bitstring_to_file() to convert a decrypted message and save it into a decrypted file\n",
    "```\n",
    "    ###############################################################################################################\n",
    "    # Define function bitstring_to_file() to convert a decrypted message and save it into a decrypted file        #\n",
    "    ###############################################################################################################\n",
    "    def bitstring_to_file(self, decrypted_message=None):\n",
    "```"
   ]
  },
  {
   "cell_type": "markdown",
   "id": "7f6aa460-4066-4be7-9f95-bc13f5d99048",
   "metadata": {},
   "source": [
    "## Install Qiskit IBM Runtime"
   ]
  },
  {
   "cell_type": "code",
   "execution_count": 1,
   "id": "4a386412-b64d-47f9-b1ce-8a16f934680b",
   "metadata": {
    "jupyter": {
     "source_hidden": true
    }
   },
   "outputs": [
    {
     "name": "stdout",
     "output_type": "stream",
     "text": [
      "Requirement already satisfied: qiskit-ibm-runtime in /home/alain/miniconda3/lib/python3.12/site-packages (0.37.0)\n",
      "Requirement already satisfied: requests>=2.19 in /home/alain/miniconda3/lib/python3.12/site-packages (from qiskit-ibm-runtime) (2.32.3)\n",
      "Requirement already satisfied: requests-ntlm>=1.1.0 in /home/alain/miniconda3/lib/python3.12/site-packages (from qiskit-ibm-runtime) (1.3.0)\n",
      "Requirement already satisfied: numpy>=1.13 in /home/alain/miniconda3/lib/python3.12/site-packages (from qiskit-ibm-runtime) (2.0.1)\n",
      "Requirement already satisfied: urllib3>=1.21.1 in /home/alain/miniconda3/lib/python3.12/site-packages (from qiskit-ibm-runtime) (2.3.0)\n",
      "Requirement already satisfied: python-dateutil>=2.8.0 in /home/alain/miniconda3/lib/python3.12/site-packages (from qiskit-ibm-runtime) (2.9.0.post0)\n",
      "Requirement already satisfied: websocket-client>=1.5.1 in /home/alain/miniconda3/lib/python3.12/site-packages (from qiskit-ibm-runtime) (1.8.0)\n",
      "Requirement already satisfied: ibm-platform-services>=0.22.6 in /home/alain/miniconda3/lib/python3.12/site-packages (from qiskit-ibm-runtime) (0.63.0)\n",
      "Requirement already satisfied: pydantic<2.10,>=2.5.0 in /home/alain/miniconda3/lib/python3.12/site-packages (from qiskit-ibm-runtime) (2.9.2)\n",
      "Requirement already satisfied: qiskit>=1.4.1 in /home/alain/miniconda3/lib/python3.12/site-packages (from qiskit-ibm-runtime) (2.0.0)\n",
      "Requirement already satisfied: packaging in /home/alain/miniconda3/lib/python3.12/site-packages (from qiskit-ibm-runtime) (24.2)\n",
      "Requirement already satisfied: ibm_cloud_sdk_core<4.0.0,>=3.22.1 in /home/alain/miniconda3/lib/python3.12/site-packages (from ibm-platform-services>=0.22.6->qiskit-ibm-runtime) (3.23.0)\n",
      "Requirement already satisfied: annotated-types>=0.6.0 in /home/alain/miniconda3/lib/python3.12/site-packages (from pydantic<2.10,>=2.5.0->qiskit-ibm-runtime) (0.6.0)\n",
      "Requirement already satisfied: pydantic-core==2.23.4 in /home/alain/miniconda3/lib/python3.12/site-packages (from pydantic<2.10,>=2.5.0->qiskit-ibm-runtime) (2.23.4)\n",
      "Requirement already satisfied: typing-extensions>=4.6.1 in /home/alain/miniconda3/lib/python3.12/site-packages (from pydantic<2.10,>=2.5.0->qiskit-ibm-runtime) (4.12.2)\n",
      "Requirement already satisfied: six>=1.5 in /home/alain/miniconda3/lib/python3.12/site-packages (from python-dateutil>=2.8.0->qiskit-ibm-runtime) (1.17.0)\n",
      "Requirement already satisfied: rustworkx>=0.15.0 in /home/alain/miniconda3/lib/python3.12/site-packages (from qiskit>=1.4.1->qiskit-ibm-runtime) (0.16.0)\n",
      "Requirement already satisfied: scipy>=1.5 in /home/alain/miniconda3/lib/python3.12/site-packages (from qiskit>=1.4.1->qiskit-ibm-runtime) (1.15.2)\n",
      "Requirement already satisfied: sympy>=1.3 in /home/alain/miniconda3/lib/python3.12/site-packages (from qiskit>=1.4.1->qiskit-ibm-runtime) (1.13.3)\n",
      "Requirement already satisfied: dill>=0.3 in /home/alain/miniconda3/lib/python3.12/site-packages (from qiskit>=1.4.1->qiskit-ibm-runtime) (0.3.9)\n",
      "Requirement already satisfied: stevedore>=3.0.0 in /home/alain/miniconda3/lib/python3.12/site-packages (from qiskit>=1.4.1->qiskit-ibm-runtime) (5.4.1)\n",
      "Requirement already satisfied: symengine<0.14,>=0.11 in /home/alain/miniconda3/lib/python3.12/site-packages (from qiskit>=1.4.1->qiskit-ibm-runtime) (0.13.0)\n",
      "Requirement already satisfied: charset-normalizer<4,>=2 in /home/alain/miniconda3/lib/python3.12/site-packages (from requests>=2.19->qiskit-ibm-runtime) (3.3.2)\n",
      "Requirement already satisfied: idna<4,>=2.5 in /home/alain/miniconda3/lib/python3.12/site-packages (from requests>=2.19->qiskit-ibm-runtime) (3.7)\n",
      "Requirement already satisfied: certifi>=2017.4.17 in /home/alain/miniconda3/lib/python3.12/site-packages (from requests>=2.19->qiskit-ibm-runtime) (2024.7.4)\n",
      "Requirement already satisfied: cryptography>=1.3 in /home/alain/miniconda3/lib/python3.12/site-packages (from requests-ntlm>=1.1.0->qiskit-ibm-runtime) (43.0.3)\n",
      "Requirement already satisfied: pyspnego>=0.4.0 in /home/alain/miniconda3/lib/python3.12/site-packages (from requests-ntlm>=1.1.0->qiskit-ibm-runtime) (0.11.2)\n",
      "Requirement already satisfied: cffi>=1.12 in /home/alain/miniconda3/lib/python3.12/site-packages (from cryptography>=1.3->requests-ntlm>=1.1.0->qiskit-ibm-runtime) (1.17.1)\n",
      "Requirement already satisfied: PyJWT<3.0.0,>=2.8.0 in /home/alain/miniconda3/lib/python3.12/site-packages (from ibm_cloud_sdk_core<4.0.0,>=3.22.1->ibm-platform-services>=0.22.6->qiskit-ibm-runtime) (2.10.1)\n",
      "Requirement already satisfied: pbr>=2.0.0 in /home/alain/miniconda3/lib/python3.12/site-packages (from stevedore>=3.0.0->qiskit>=1.4.1->qiskit-ibm-runtime) (6.1.1)\n",
      "Requirement already satisfied: mpmath<1.4,>=1.1.0 in /home/alain/miniconda3/lib/python3.12/site-packages (from sympy>=1.3->qiskit>=1.4.1->qiskit-ibm-runtime) (1.3.0)\n",
      "Requirement already satisfied: pycparser in /home/alain/miniconda3/lib/python3.12/site-packages (from cffi>=1.12->cryptography>=1.3->requests-ntlm>=1.1.0->qiskit-ibm-runtime) (2.21)\n",
      "Requirement already satisfied: setuptools in /home/alain/miniconda3/lib/python3.12/site-packages (from pbr>=2.0.0->stevedore>=3.0.0->qiskit>=1.4.1->qiskit-ibm-runtime) (75.8.0)\n"
     ]
    }
   ],
   "source": [
    "# https://github.com/Qiskit/qiskit-ibm-runtime\n",
    "!pip install qiskit-ibm-runtime"
   ]
  },
  {
   "cell_type": "markdown",
   "id": "5380c3fb-b716-4c07-9371-5b403bbfb84f",
   "metadata": {},
   "source": [
    "### Install Qiskit Aer with the following command:\n",
    "https://qiskit.github.io/qiskit-aer/getting_started.html\n",
    "\n",
    "Additional circuit methods. On import, Aer adds several simulation-specific methods to QuantumCircuit for convenience. These methods are not available until Aer is imported (import qiskit_aer)."
   ]
  },
  {
   "cell_type": "code",
   "execution_count": 2,
   "id": "92583591-90b6-4321-aaaf-fa33b02857b3",
   "metadata": {
    "jupyter": {
     "source_hidden": true
    }
   },
   "outputs": [
    {
     "name": "stdout",
     "output_type": "stream",
     "text": [
      "Requirement already satisfied: qiskit-aer in /home/alain/miniconda3/lib/python3.12/site-packages (0.17.0)\n",
      "Requirement already satisfied: qiskit>=1.1.0 in /home/alain/miniconda3/lib/python3.12/site-packages (from qiskit-aer) (2.0.0)\n",
      "Requirement already satisfied: numpy>=1.16.3 in /home/alain/miniconda3/lib/python3.12/site-packages (from qiskit-aer) (2.0.1)\n",
      "Requirement already satisfied: scipy>=1.0 in /home/alain/miniconda3/lib/python3.12/site-packages (from qiskit-aer) (1.15.2)\n",
      "Requirement already satisfied: psutil>=5 in /home/alain/miniconda3/lib/python3.12/site-packages (from qiskit-aer) (5.9.0)\n",
      "Requirement already satisfied: rustworkx>=0.15.0 in /home/alain/miniconda3/lib/python3.12/site-packages (from qiskit>=1.1.0->qiskit-aer) (0.16.0)\n",
      "Requirement already satisfied: sympy>=1.3 in /home/alain/miniconda3/lib/python3.12/site-packages (from qiskit>=1.1.0->qiskit-aer) (1.13.3)\n",
      "Requirement already satisfied: dill>=0.3 in /home/alain/miniconda3/lib/python3.12/site-packages (from qiskit>=1.1.0->qiskit-aer) (0.3.9)\n",
      "Requirement already satisfied: python-dateutil>=2.8.0 in /home/alain/miniconda3/lib/python3.12/site-packages (from qiskit>=1.1.0->qiskit-aer) (2.9.0.post0)\n",
      "Requirement already satisfied: stevedore>=3.0.0 in /home/alain/miniconda3/lib/python3.12/site-packages (from qiskit>=1.1.0->qiskit-aer) (5.4.1)\n",
      "Requirement already satisfied: typing-extensions in /home/alain/miniconda3/lib/python3.12/site-packages (from qiskit>=1.1.0->qiskit-aer) (4.12.2)\n",
      "Requirement already satisfied: symengine<0.14,>=0.11 in /home/alain/miniconda3/lib/python3.12/site-packages (from qiskit>=1.1.0->qiskit-aer) (0.13.0)\n",
      "Requirement already satisfied: six>=1.5 in /home/alain/miniconda3/lib/python3.12/site-packages (from python-dateutil>=2.8.0->qiskit>=1.1.0->qiskit-aer) (1.17.0)\n",
      "Requirement already satisfied: pbr>=2.0.0 in /home/alain/miniconda3/lib/python3.12/site-packages (from stevedore>=3.0.0->qiskit>=1.1.0->qiskit-aer) (6.1.1)\n",
      "Requirement already satisfied: mpmath<1.4,>=1.1.0 in /home/alain/miniconda3/lib/python3.12/site-packages (from sympy>=1.3->qiskit>=1.1.0->qiskit-aer) (1.3.0)\n",
      "Requirement already satisfied: setuptools in /home/alain/miniconda3/lib/python3.12/site-packages (from pbr>=2.0.0->stevedore>=3.0.0->qiskit>=1.1.0->qiskit-aer) (75.8.0)\n",
      "Note: you may need to restart the kernel to use updated packages.\n"
     ]
    }
   ],
   "source": [
    "pip install qiskit-aer"
   ]
  },
  {
   "cell_type": "markdown",
   "id": "fe255c0e-ed4c-442c-bc03-e837cef687b3",
   "metadata": {},
   "source": [
    "### Install bitstring \n",
    "Bitstring is a pure Python module that makes the creation, manipulation and analysis of binary data as simple and natural as possible. https://bitstring.readthedocs.io/en/stable/"
   ]
  },
  {
   "cell_type": "code",
   "execution_count": 3,
   "id": "4697c09a-12ea-49fe-a03d-71eadb4ca1ad",
   "metadata": {},
   "outputs": [
    {
     "name": "stdout",
     "output_type": "stream",
     "text": [
      "Requirement already satisfied: bitstring in /home/alain/miniconda3/lib/python3.12/site-packages (4.3.1)\n",
      "Requirement already satisfied: bitarray<4.0,>=3.0.0 in /home/alain/miniconda3/lib/python3.12/site-packages (from bitstring) (3.3.1)\n",
      "Note: you may need to restart the kernel to use updated packages.\n"
     ]
    }
   ],
   "source": [
    "pip install bitstring"
   ]
  },
  {
   "cell_type": "markdown",
   "id": "6fb953fe-a8ed-4e01-80b4-441b4ed6893c",
   "metadata": {},
   "source": [
    "## Import statements"
   ]
  },
  {
   "cell_type": "markdown",
   "id": "364da7aa-e7d3-4755-8fa4-177d41566b9e",
   "metadata": {},
   "source": [
    "If \"from QPP_Alain import QPP\" fails and file QPP_Alain.py is in the same directory as your python or Jupyter notebook, try adding the following lines:\n",
    "```\n",
    "import sys\n",
    "import os\n",
    "cwd = os.getcwd()\n",
    "_= (sys.path.append(cwd))\n",
    "```"
   ]
  },
  {
   "cell_type": "code",
   "execution_count": 4,
   "id": "0c3f3c35",
   "metadata": {},
   "outputs": [
    {
     "name": "stdout",
     "output_type": "stream",
     "text": [
      "\u001b[1mQuantum permutation Pad with Qiskit Runtime by Alain Chancé\u001b[0m\n",
      "\n",
      "\u001b[1mMIT License\u001b[0m\n",
      "Copyright (c) 2022 Alain Chancé\n",
      "Permission is hereby granted, free of charge, to any person obtaining a copy\n",
      "of this software and associated documentation files (the \"Software\"), to deal\n",
      "in the Software without restriction, including without limitation the rights\n",
      "to use, copy, modify, merge, publish, distribute, sublicense, and/or sell\n",
      "copies of the Software, and to permit persons to whom the Software is\n",
      "furnished to do so, subject to the following conditions:\n",
      "\n",
      "The above copyright notice and this permission notice shall be included in all\n",
      "copies or substantial portions of the Software.\n",
      "THE SOFTWARE IS PROVIDED \"AS IS\", WITHOUT WARRANTY OF ANY KIND, EXPRESS OR\n",
      "IMPLIED, INCLUDING BUT NOT LIMITED TO THE WARRANTIES OF MERCHANTABILITY,\n",
      "FITNESS FOR A PARTICULAR PURPOSE AND NONINFRINGEMENT. IN NO EVENT SHALL THE\n",
      "AUTHORS OR COPYRIGHT HOLDERS BE LIABLE FOR ANY CLAIM, DAMAGES OR OTHER\n",
      "LIABILITY, WHETHER IN AN ACTION OF CONTRACT, TORT OR OTHERWISE, ARISING FROM,\n",
      "OUT OF OR IN CONNECTION WITH THE SOFTWARE OR THE USE OR OTHER DEALINGS IN THE\n",
      "SOFTWARE.\n",
      "\n",
      "\u001b[1mAbstract\u001b[0m\n",
      "We demonstrate an efficient implementation of the Kuang and Barbeau’s Quantum Permutation pad (QPP) symmetric cryptographic \n",
      "algorithm with Qiskit Runtime, a new architecture offered by IBM Quantum that streamlines quantum computations. We have \n",
      "implemented a Python class QPP and template Jupyter notebooks with Qiskit code for encrypting and decrypting with n-qubit QPP \n",
      "any text file in UTF-16 format or any image file in .png format. We offer the option of running either a quantum circuit \n",
      "with n qubits, or an alternate one with 2**n qubits which only uses swap gates and has a circuit depth of O(n). \n",
      "It is inherently extremely fast and could be run efficiently on currently available noisy quantum computers. Our implementation \n",
      "leverages the new Qiskit Sampler primitive in localized mode which dramatically improves performance. We offer a highly \n",
      "efficient classical implementation which performs permutation gate matrix multiplication with information state vectors. We \n",
      "illustrate the use with two agents Alice and Bob who exchange a text file and an image file using 2-qubit QPP and 4-qubit QPP.\n",
      "\n",
      "Keywords—quantum communication, quantum encryption, quantum decryption, quantum security, secure communication, QPP, Qiskit, \n",
      "IBMQ\n",
      "\n",
      "\u001b[1mCredit\u001b[0m\n",
      "Kuang, R., Perepechaenko, Appendix, source code for the implementation of the 2-qubits QPP of the following article:\n",
      "Kuang, R., Perepechaenko, M. Quantum encryption with quantum permutation pad in IBMQ systems. EPJ Quantum Technol. 9, 26 (2022). https://doi.org/10.1140/epjqt/s40507-022-00145-y\n",
      "\n",
      "\u001b[1mRights and Permissions\u001b[0m\n",
      "\u001b[1mOpen Access\u001b[0m This article is licensed under a Creative Commons Attribution 4.0 International License.\n",
      "To view a copy of this licence, visit http://creativecommons.org/licenses/by/4.0/.\n",
      "\n",
      "\u001b[1mReferences\u001b[0m\n",
      "[1] R. Kuang and N. Bettenburg, 'Shannon perfect secrecy in a discrete Hilbert space', in Proc. IEEE Int. Conf. Quantum Comput. Eng. (QCE),Oct. 2020, pp. 249-255, doi: 10.1109/QCE49297.2020.00039\n",
      "[2] Kuang, R., Perepechaenko, M. Quantum encryption with quantum permutation pad in IBMQ systems. EPJ Quantum Technol. 9, 26 (2022). https://doi.org/10.1140/epjqt/s40507-022-00145-y\n",
      "[3] Introducing new Qiskit Runtime capabilities — and how our clients are integrating them into their use, https://research.ibm.com/blog/qiskit-runtime-capabilities-integration\n",
      "[4] Qiskit Runtime IBM Client, https://github.com/Qiskit/qiskit-ibm-runtime\n",
      "[5] Qiskit IBM runtime, Configure error mitigation, Advanced resilience options, https://github.com/Qiskit/qiskit-ibm-runtime/blob/ab7486d6837652d54cb60b83cfaa9165f5d0484c/docs/how_to/error-mitigation.rst#advanced-resilience-options\n",
      "[6] Fisher–Yates shuffle, Wikipedia, https://en.wikipedia.org/wiki/Fisher%E2%80%93Yates_shuffle\n",
      "[7] Qiskit Terra API Reference, Primitives, Sampler, https://qiskit.org/documentation/stubs/qiskit.primitives.Sampler.html\n",
      "[8] Qiskit Terra API Reference, Primitives, Source code for qiskit.primitives.sampler, https://qiskit.org/documentation/_modules/qiskit/primitives/sampler.html#Sampler\n",
      "[9] Qiskit, qiskit.quantum_info.Statevector.from_instruction, https://qiskit.org/documentation/stubs/qiskit.primitives.Sampler.html\n",
      "[10] Qiskit, Source code for qiskit.quantum_info.states.statevector, Statevector.from_instruction, https://qiskit.org/documentation/_modules/qiskit/quantum_info/states/statevector.html#Statevector.from_instruction\n",
      "\n",
      "\u001b[1mTrademarks\u001b[0m\n",
      "IBM®, IBM Q Experience®, and Qiskit® are registered trademarks of IBM Corporation.\n",
      "\n",
      "\u001b[1mUsing QPP_Alain.py\u001b[0m\n",
      "To use QPP_Alain, put QPP_Alain.py in the same directory as your code and insert the following import:\n",
      "from QPP_Alain import QPP\n",
      "\n",
      "Qiskit version:  2.0.0\n",
      "Qiskit Aer version:  0.17.0\n"
     ]
    }
   ],
   "source": [
    "from QPP_Alain import QPP"
   ]
  },
  {
   "cell_type": "markdown",
   "id": "83ef560e-28e7-4905-a5df-9d2e57cef888",
   "metadata": {},
   "source": [
    "## Create a parameter json file"
   ]
  },
  {
   "cell_type": "code",
   "execution_count": 5,
   "id": "9037e6a3-7de9-4142-941d-72bbefd00572",
   "metadata": {
    "jupyter": {
     "source_hidden": true
    }
   },
   "outputs": [],
   "source": [
    "%run 'Write json file.ipynb'"
   ]
  },
  {
   "cell_type": "markdown",
   "id": "3886dc6d",
   "metadata": {},
   "source": [
    "## Create an instance of the QPP class"
   ]
  },
  {
   "cell_type": "code",
   "execution_count": 6,
   "id": "20f5979f",
   "metadata": {},
   "outputs": [
    {
     "name": "stdout",
     "output_type": "stream",
     "text": [
      "\n",
      "Parameters read from file: QPP_param_2-qubits_V0_Christmas_tree.json\n",
      "{'num_of_bits': 448, 'num_of_qubits': 2, 'num_of_perm_in_pad': 56, 'pad_selection_key_size': 6, 'opt_level': 1, 'resilience_level': 1, 'plaintext_file': 'Christmas_tree.png', 'token_file': 'Token_Alain.txt', 'trace': 1, 'job_trigger': 100, 'print_trigger': 100, 'draw_circuit': 'True', 'do_sampler': 'True', 'version': 'V0', 'len_message': 12758, 'len_ciphertext': 102064}\n",
      "Printing trace into file:  Trace_Christmas_tree.txt\n",
      "\n",
      "backend = AerSimulator(method='statevector')\n"
     ]
    }
   ],
   "source": [
    "Alice_QPP = QPP(\"QPP_param_2-qubits_V0_Christmas_tree\")"
   ]
  },
  {
   "cell_type": "markdown",
   "id": "84e9a465",
   "metadata": {},
   "source": [
    "## QPP encryption\n",
    "### Convert plaintext file into a bitstring message"
   ]
  },
  {
   "cell_type": "code",
   "execution_count": 7,
   "id": "ba93022a",
   "metadata": {},
   "outputs": [
    {
     "name": "stdout",
     "output_type": "stream",
     "text": [
      "\n",
      "file_to_bitstring - Length of image in bytes: 12758\n"
     ]
    }
   ],
   "source": [
    "message = Alice_QPP.file_to_bitstring()"
   ]
  },
  {
   "cell_type": "markdown",
   "id": "16bc4271",
   "metadata": {},
   "source": [
    "### Encrypt bitstring message"
   ]
  },
  {
   "cell_type": "code",
   "execution_count": 8,
   "id": "0b4e30d3",
   "metadata": {},
   "outputs": [
    {
     "name": "stdout",
     "output_type": "stream",
     "text": [
      "encrypt - Length of message in bits:  102064\n",
      "\n",
      "permutation pad - Permutation number: 0, matrix: \n"
     ]
    },
    {
     "data": {
      "text/latex": [
       "$$\n",
       "\n",
       "\\begin{bmatrix}\n",
       "0 & 0 & 1 & 0  \\\\\n",
       " 1 & 0 & 0 & 0  \\\\\n",
       " 0 & 1 & 0 & 0  \\\\\n",
       " 0 & 0 & 0 & 1  \\\\\n",
       " \\end{bmatrix}\n",
       "$$"
      ],
      "text/plain": [
       "<IPython.core.display.Latex object>"
      ]
     },
     "metadata": {},
     "output_type": "display_data"
    },
    {
     "name": "stdout",
     "output_type": "stream",
     "text": [
      "\n",
      "permutation pad - Permutation number: 0, Depth of quantum circuit: 1\n"
     ]
    },
    {
     "data": {
      "image/png": "[encoded data removed]",
      "text/plain": [
       "<Figure size 370.906x284.278 with 1 Axes>"
      ]
     },
     "metadata": {},
     "output_type": "display_data"
    },
    {
     "name": "stdout",
     "output_type": "stream",
     "text": [
      "\n",
      "permutation_pad - permutation number: 0, dictionary:\n",
      "{0: '01', 1: '10', 2: '00', 3: '11'}\n",
      "permutation pad - Elapsed time: 0:00:00.457141\n",
      "\n",
      "permutation pad - Permutation number: 1, matrix: \n"
     ]
    },
    {
     "data": {
      "text/latex": [
       "$$\n",
       "\n",
       "\\begin{bmatrix}\n",
       "0 & 0 & 0 & 1  \\\\\n",
       " 1 & 0 & 0 & 0  \\\\\n",
       " 0 & 1 & 0 & 0  \\\\\n",
       " 0 & 0 & 1 & 0  \\\\\n",
       " \\end{bmatrix}\n",
       "$$"
      ],
      "text/plain": [
       "<IPython.core.display.Latex object>"
      ]
     },
     "metadata": {},
     "output_type": "display_data"
    },
    {
     "name": "stdout",
     "output_type": "stream",
     "text": [
      "\n",
      "permutation pad - Permutation number: 1, Depth of quantum circuit: 1\n"
     ]
    },
    {
     "data": {
      "image/png": "[encoded data removed]",
      "text/plain": [
       "<Figure size 370.906x284.278 with 1 Axes>"
      ]
     },
     "metadata": {},
     "output_type": "display_data"
    },
    {
     "name": "stdout",
     "output_type": "stream",
     "text": [
      "\n",
      "permutation_pad - permutation number: 1, dictionary:\n",
      "{0: '01', 1: '10', 2: '11', 3: '00'}\n",
      "permutation pad - Elapsed time: 0:00:00.727744\n",
      "\n",
      "permutation pad - Permutation number: 2, matrix: \n"
     ]
    },
    {
     "data": {
      "text/latex": [
       "$$\n",
       "\n",
       "\\begin{bmatrix}\n",
       "1 & 0 & 0 & 0  \\\\\n",
       " 0 & 1 & 0 & 0  \\\\\n",
       " 0 & 0 & 1 & 0  \\\\\n",
       " 0 & 0 & 0 & 1  \\\\\n",
       " \\end{bmatrix}\n",
       "$$"
      ],
      "text/plain": [
       "<IPython.core.display.Latex object>"
      ]
     },
     "metadata": {},
     "output_type": "display_data"
    },
    {
     "name": "stdout",
     "output_type": "stream",
     "text": [
      "\n",
      "permutation pad - Permutation number: 2, Depth of quantum circuit: 1\n"
     ]
    },
    {
     "data": {
      "image/png": "[encoded data removed]",
      "text/plain": [
       "<Figure size 370.906x284.278 with 1 Axes>"
      ]
     },
     "metadata": {},
     "output_type": "display_data"
    },
    {
     "name": "stdout",
     "output_type": "stream",
     "text": [
      "\n",
      "permutation_pad - permutation number: 2, dictionary:\n",
      "{0: '00', 1: '01', 2: '10', 3: '11'}\n",
      "permutation pad - Elapsed time: 0:00:00.811384\n",
      "\n",
      "permutation pad - Permutation number: 3, matrix: \n"
     ]
    },
    {
     "data": {
      "text/latex": [
       "$$\n",
       "\n",
       "\\begin{bmatrix}\n",
       "1 & 0 & 0 & 0  \\\\\n",
       " 0 & 0 & 0 & 1  \\\\\n",
       " 0 & 0 & 1 & 0  \\\\\n",
       " 0 & 1 & 0 & 0  \\\\\n",
       " \\end{bmatrix}\n",
       "$$"
      ],
      "text/plain": [
       "<IPython.core.display.Latex object>"
      ]
     },
     "metadata": {},
     "output_type": "display_data"
    },
    {
     "name": "stdout",
     "output_type": "stream",
     "text": [
      "\n",
      "permutation pad - Permutation number: 3, Depth of quantum circuit: 1\n"
     ]
    },
    {
     "data": {
      "image/png": "[encoded data removed]",
      "text/plain": [
       "<Figure size 370.906x284.278 with 1 Axes>"
      ]
     },
     "metadata": {},
     "output_type": "display_data"
    },
    {
     "name": "stdout",
     "output_type": "stream",
     "text": [
      "\n",
      "permutation_pad - permutation number: 3, dictionary:\n",
      "{0: '00', 1: '11', 2: '10', 3: '01'}\n",
      "permutation pad - Elapsed time: 0:00:00.876138\n",
      "\n",
      "permutation pad - Permutation number: 4, matrix: \n"
     ]
    },
    {
     "data": {
      "text/latex": [
       "$$\n",
       "\n",
       "\\begin{bmatrix}\n",
       "0 & 0 & 1 & 0  \\\\\n",
       " 0 & 0 & 0 & 1  \\\\\n",
       " 0 & 1 & 0 & 0  \\\\\n",
       " 1 & 0 & 0 & 0  \\\\\n",
       " \\end{bmatrix}\n",
       "$$"
      ],
      "text/plain": [
       "<IPython.core.display.Latex object>"
      ]
     },
     "metadata": {},
     "output_type": "display_data"
    },
    {
     "name": "stdout",
     "output_type": "stream",
     "text": [
      "\n",
      "permutation pad - Permutation number: 4, Depth of quantum circuit: 1\n"
     ]
    },
    {
     "data": {
      "image/png": "[encoded data removed]",
      "text/plain": [
       "<Figure size 370.906x284.278 with 1 Axes>"
      ]
     },
     "metadata": {},
     "output_type": "display_data"
    },
    {
     "name": "stdout",
     "output_type": "stream",
     "text": [
      "\n",
      "permutation_pad - permutation number: 4, dictionary:\n",
      "{0: '11', 1: '10', 2: '00', 3: '01'}\n",
      "permutation pad - Elapsed time: 0:00:00.932675\n",
      "\n",
      "permutation pad - Permutation number: 5, matrix: \n"
     ]
    },
    {
     "data": {
      "text/latex": [
       "$$\n",
       "\n",
       "\\begin{bmatrix}\n",
       "0 & 0 & 0 & 1  \\\\\n",
       " 1 & 0 & 0 & 0  \\\\\n",
       " 0 & 1 & 0 & 0  \\\\\n",
       " 0 & 0 & 1 & 0  \\\\\n",
       " \\end{bmatrix}\n",
       "$$"
      ],
      "text/plain": [
       "<IPython.core.display.Latex object>"
      ]
     },
     "metadata": {},
     "output_type": "display_data"
    },
    {
     "name": "stdout",
     "output_type": "stream",
     "text": [
      "\n",
      "permutation pad - Permutation number: 5, Depth of quantum circuit: 1\n"
     ]
    },
    {
     "data": {
      "image/png": "[encoded data removed]",
      "text/plain": [
       "<Figure size 370.906x284.278 with 1 Axes>"
      ]
     },
     "metadata": {},
     "output_type": "display_data"
    },
    {
     "name": "stdout",
     "output_type": "stream",
     "text": [
      "\n",
      "permutation_pad - permutation number: 5, dictionary:\n",
      "{0: '01', 1: '10', 2: '11', 3: '00'}\n",
      "permutation pad - Elapsed time: 0:00:00.994669\n",
      "\n",
      "permutation pad - Permutation number: 6, matrix: \n"
     ]
    },
    {
     "data": {
      "text/latex": [
       "$$\n",
       "\n",
       "\\begin{bmatrix}\n",
       "0 & 1 & 0 & 0  \\\\\n",
       " 1 & 0 & 0 & 0  \\\\\n",
       " 0 & 0 & 0 & 1  \\\\\n",
       " 0 & 0 & 1 & 0  \\\\\n",
       " \\end{bmatrix}\n",
       "$$"
      ],
      "text/plain": [
       "<IPython.core.display.Latex object>"
      ]
     },
     "metadata": {},
     "output_type": "display_data"
    },
    {
     "name": "stdout",
     "output_type": "stream",
     "text": [
      "\n",
      "permutation pad - Permutation number: 6, Depth of quantum circuit: 1\n"
     ]
    },
    {
     "data": {
      "image/png": "[encoded data removed]",
      "text/plain": [
       "<Figure size 370.906x284.278 with 1 Axes>"
      ]
     },
     "metadata": {},
     "output_type": "display_data"
    },
    {
     "name": "stdout",
     "output_type": "stream",
     "text": [
      "\n",
      "permutation_pad - permutation number: 6, dictionary:\n",
      "{0: '01', 1: '00', 2: '11', 3: '10'}\n",
      "permutation pad - Elapsed time: 0:00:01.056336\n",
      "\n",
      "permutation pad - Permutation number: 7, matrix: \n"
     ]
    },
    {
     "data": {
      "text/latex": [
       "$$\n",
       "\n",
       "\\begin{bmatrix}\n",
       "1 & 0 & 0 & 0  \\\\\n",
       " 0 & 0 & 1 & 0  \\\\\n",
       " 0 & 0 & 0 & 1  \\\\\n",
       " 0 & 1 & 0 & 0  \\\\\n",
       " \\end{bmatrix}\n",
       "$$"
      ],
      "text/plain": [
       "<IPython.core.display.Latex object>"
      ]
     },
     "metadata": {},
     "output_type": "display_data"
    },
    {
     "name": "stdout",
     "output_type": "stream",
     "text": [
      "\n",
      "permutation pad - Permutation number: 7, Depth of quantum circuit: 1\n"
     ]
    },
    {
     "data": {
      "image/png": "[encoded data removed]",
      "text/plain": [
       "<Figure size 370.906x284.278 with 1 Axes>"
      ]
     },
     "metadata": {},
     "output_type": "display_data"
    },
    {
     "name": "stdout",
     "output_type": "stream",
     "text": [
      "\n",
      "permutation_pad - permutation number: 7, dictionary:\n",
      "{0: '00', 1: '11', 2: '01', 3: '10'}\n",
      "permutation pad - Elapsed time: 0:00:01.121599\n",
      "\n",
      "permutation pad - Permutation number: 8, matrix: \n"
     ]
    },
    {
     "data": {
      "text/latex": [
       "$$\n",
       "\n",
       "\\begin{bmatrix}\n",
       "0 & 1 & 0 & 0  \\\\\n",
       " 1 & 0 & 0 & 0  \\\\\n",
       " 0 & 0 & 1 & 0  \\\\\n",
       " 0 & 0 & 0 & 1  \\\\\n",
       " \\end{bmatrix}\n",
       "$$"
      ],
      "text/plain": [
       "<IPython.core.display.Latex object>"
      ]
     },
     "metadata": {},
     "output_type": "display_data"
    },
    {
     "name": "stdout",
     "output_type": "stream",
     "text": [
      "\n",
      "permutation pad - Permutation number: 8, Depth of quantum circuit: 1\n"
     ]
    },
    {
     "data": {
      "image/png": "[encoded data removed]",
      "text/plain": [
       "<Figure size 370.906x284.278 with 1 Axes>"
      ]
     },
     "metadata": {},
     "output_type": "display_data"
    },
    {
     "name": "stdout",
     "output_type": "stream",
     "text": [
      "\n",
      "permutation_pad - permutation number: 8, dictionary:\n",
      "{0: '01', 1: '00', 2: '10', 3: '11'}\n",
      "permutation pad - Elapsed time: 0:00:01.186546\n",
      "\n",
      "permutation pad - Permutation number: 9, matrix: \n"
     ]
    },
    {
     "data": {
      "text/latex": [
       "$$\n",
       "\n",
       "\\begin{bmatrix}\n",
       "1 & 0 & 0 & 0  \\\\\n",
       " 0 & 0 & 1 & 0  \\\\\n",
       " 0 & 1 & 0 & 0  \\\\\n",
       " 0 & 0 & 0 & 1  \\\\\n",
       " \\end{bmatrix}\n",
       "$$"
      ],
      "text/plain": [
       "<IPython.core.display.Latex object>"
      ]
     },
     "metadata": {},
     "output_type": "display_data"
    },
    {
     "name": "stdout",
     "output_type": "stream",
     "text": [
      "\n",
      "permutation pad - Permutation number: 9, Depth of quantum circuit: 1\n"
     ]
    },
    {
     "data": {
      "image/png": "[encoded data removed]",
      "text/plain": [
       "<Figure size 370.906x284.278 with 1 Axes>"
      ]
     },
     "metadata": {},
     "output_type": "display_data"
    },
    {
     "name": "stdout",
     "output_type": "stream",
     "text": [
      "\n",
      "permutation_pad - permutation number: 9, dictionary:\n",
      "{0: '00', 1: '10', 2: '01', 3: '11'}\n",
      "permutation pad - Elapsed time: 0:00:01.253892\n",
      "\n",
      "permutation pad - Permutation number: 10, matrix: \n"
     ]
    },
    {
     "data": {
      "text/latex": [
       "$$\n",
       "\n",
       "\\begin{bmatrix}\n",
       "0 & 0 & 1 & 0  \\\\\n",
       " 0 & 0 & 0 & 1  \\\\\n",
       " 1 & 0 & 0 & 0  \\\\\n",
       " 0 & 1 & 0 & 0  \\\\\n",
       " \\end{bmatrix}\n",
       "$$"
      ],
      "text/plain": [
       "<IPython.core.display.Latex object>"
      ]
     },
     "metadata": {},
     "output_type": "display_data"
    },
    {
     "name": "stdout",
     "output_type": "stream",
     "text": [
      "\n",
      "permutation pad - Permutation number: 10, Depth of quantum circuit: 1\n"
     ]
    },
    {
     "data": {
      "image/png": "[encoded data removed]",
      "text/plain": [
       "<Figure size 370.906x284.278 with 1 Axes>"
      ]
     },
     "metadata": {},
     "output_type": "display_data"
    },
    {
     "name": "stdout",
     "output_type": "stream",
     "text": [
      "\n",
      "permutation_pad - permutation number: 10, dictionary:\n",
      "{0: '10', 1: '11', 2: '00', 3: '01'}\n",
      "permutation pad - Elapsed time: 0:00:01.303570\n",
      "\n",
      "permutation pad - Permutation number: 11, matrix: \n"
     ]
    },
    {
     "data": {
      "text/latex": [
       "$$\n",
       "\n",
       "\\begin{bmatrix}\n",
       "0 & 0 & 0 & 1  \\\\\n",
       " 1 & 0 & 0 & 0  \\\\\n",
       " 0 & 0 & 1 & 0  \\\\\n",
       " 0 & 1 & 0 & 0  \\\\\n",
       " \\end{bmatrix}\n",
       "$$"
      ],
      "text/plain": [
       "<IPython.core.display.Latex object>"
      ]
     },
     "metadata": {},
     "output_type": "display_data"
    },
    {
     "name": "stdout",
     "output_type": "stream",
     "text": [
      "\n",
      "permutation pad - Permutation number: 11, Depth of quantum circuit: 1\n"
     ]
    },
    {
     "data": {
      "image/png": "[encoded data removed]",
      "text/plain": [
       "<Figure size 370.906x284.278 with 1 Axes>"
      ]
     },
     "metadata": {},
     "output_type": "display_data"
    },
    {
     "name": "stdout",
     "output_type": "stream",
     "text": [
      "\n",
      "permutation_pad - permutation number: 11, dictionary:\n",
      "{0: '01', 1: '11', 2: '10', 3: '00'}\n",
      "permutation pad - Elapsed time: 0:00:01.359890\n",
      "\n",
      "permutation pad - Permutation number: 12, matrix: \n"
     ]
    },
    {
     "data": {
      "text/latex": [
       "$$\n",
       "\n",
       "\\begin{bmatrix}\n",
       "0 & 0 & 0 & 1  \\\\\n",
       " 0 & 0 & 1 & 0  \\\\\n",
       " 0 & 1 & 0 & 0  \\\\\n",
       " 1 & 0 & 0 & 0  \\\\\n",
       " \\end{bmatrix}\n",
       "$$"
      ],
      "text/plain": [
       "<IPython.core.display.Latex object>"
      ]
     },
     "metadata": {},
     "output_type": "display_data"
    },
    {
     "name": "stdout",
     "output_type": "stream",
     "text": [
      "\n",
      "permutation pad - Permutation number: 12, Depth of quantum circuit: 1\n"
     ]
    },
    {
     "data": {
      "image/png": "[encoded data removed]",
      "text/plain": [
       "<Figure size 370.906x284.278 with 1 Axes>"
      ]
     },
     "metadata": {},
     "output_type": "display_data"
    },
    {
     "name": "stdout",
     "output_type": "stream",
     "text": [
      "\n",
      "permutation_pad - permutation number: 12, dictionary:\n",
      "{0: '11', 1: '10', 2: '01', 3: '00'}\n",
      "permutation pad - Elapsed time: 0:00:01.427828\n",
      "\n",
      "permutation pad - Permutation number: 13, matrix: \n"
     ]
    },
    {
     "data": {
      "text/latex": [
       "$$\n",
       "\n",
       "\\begin{bmatrix}\n",
       "1 & 0 & 0 & 0  \\\\\n",
       " 0 & 0 & 0 & 1  \\\\\n",
       " 0 & 0 & 1 & 0  \\\\\n",
       " 0 & 1 & 0 & 0  \\\\\n",
       " \\end{bmatrix}\n",
       "$$"
      ],
      "text/plain": [
       "<IPython.core.display.Latex object>"
      ]
     },
     "metadata": {},
     "output_type": "display_data"
    },
    {
     "name": "stdout",
     "output_type": "stream",
     "text": [
      "\n",
      "permutation pad - Permutation number: 13, Depth of quantum circuit: 1\n"
     ]
    },
    {
     "data": {
      "image/png": "[encoded data removed]",
      "text/plain": [
       "<Figure size 370.906x284.278 with 1 Axes>"
      ]
     },
     "metadata": {},
     "output_type": "display_data"
    },
    {
     "name": "stdout",
     "output_type": "stream",
     "text": [
      "\n",
      "permutation_pad - permutation number: 13, dictionary:\n",
      "{0: '00', 1: '11', 2: '10', 3: '01'}\n",
      "permutation pad - Elapsed time: 0:00:01.491952\n",
      "\n",
      "permutation pad - Permutation number: 14, matrix: \n"
     ]
    },
    {
     "data": {
      "text/latex": [
       "$$\n",
       "\n",
       "\\begin{bmatrix}\n",
       "1 & 0 & 0 & 0  \\\\\n",
       " 0 & 0 & 1 & 0  \\\\\n",
       " 0 & 0 & 0 & 1  \\\\\n",
       " 0 & 1 & 0 & 0  \\\\\n",
       " \\end{bmatrix}\n",
       "$$"
      ],
      "text/plain": [
       "<IPython.core.display.Latex object>"
      ]
     },
     "metadata": {},
     "output_type": "display_data"
    },
    {
     "name": "stdout",
     "output_type": "stream",
     "text": [
      "\n",
      "permutation pad - Permutation number: 14, Depth of quantum circuit: 1\n"
     ]
    },
    {
     "data": {
      "image/png": "[encoded data removed]",
      "text/plain": [
       "<Figure size 370.906x284.278 with 1 Axes>"
      ]
     },
     "metadata": {},
     "output_type": "display_data"
    },
    {
     "name": "stdout",
     "output_type": "stream",
     "text": [
      "\n",
      "permutation_pad - permutation number: 14, dictionary:\n",
      "{0: '00', 1: '11', 2: '01', 3: '10'}\n",
      "permutation pad - Elapsed time: 0:00:01.546192\n",
      "\n",
      "permutation pad - Permutation number: 15, matrix: \n"
     ]
    },
    {
     "data": {
      "text/latex": [
       "$$\n",
       "\n",
       "\\begin{bmatrix}\n",
       "1 & 0 & 0 & 0  \\\\\n",
       " 0 & 1 & 0 & 0  \\\\\n",
       " 0 & 0 & 0 & 1  \\\\\n",
       " 0 & 0 & 1 & 0  \\\\\n",
       " \\end{bmatrix}\n",
       "$$"
      ],
      "text/plain": [
       "<IPython.core.display.Latex object>"
      ]
     },
     "metadata": {},
     "output_type": "display_data"
    },
    {
     "name": "stdout",
     "output_type": "stream",
     "text": [
      "\n",
      "permutation pad - Permutation number: 15, Depth of quantum circuit: 1\n"
     ]
    },
    {
     "data": {
      "image/png": "[encoded data removed]",
      "text/plain": [
       "<Figure size 370.906x284.278 with 1 Axes>"
      ]
     },
     "metadata": {},
     "output_type": "display_data"
    },
    {
     "name": "stdout",
     "output_type": "stream",
     "text": [
      "\n",
      "permutation_pad - permutation number: 15, dictionary:\n",
      "{0: '00', 1: '01', 2: '11', 3: '10'}\n",
      "permutation pad - Elapsed time: 0:00:01.603936\n",
      "\n",
      "permutation pad - Permutation number: 16, matrix: \n"
     ]
    },
    {
     "data": {
      "text/latex": [
       "$$\n",
       "\n",
       "\\begin{bmatrix}\n",
       "1 & 0 & 0 & 0  \\\\\n",
       " 0 & 0 & 0 & 1  \\\\\n",
       " 0 & 0 & 1 & 0  \\\\\n",
       " 0 & 1 & 0 & 0  \\\\\n",
       " \\end{bmatrix}\n",
       "$$"
      ],
      "text/plain": [
       "<IPython.core.display.Latex object>"
      ]
     },
     "metadata": {},
     "output_type": "display_data"
    },
    {
     "name": "stdout",
     "output_type": "stream",
     "text": [
      "\n",
      "permutation pad - Permutation number: 16, Depth of quantum circuit: 1\n"
     ]
    },
    {
     "data": {
      "image/png": "[encoded data removed]",
      "text/plain": [
       "<Figure size 370.906x284.278 with 1 Axes>"
      ]
     },
     "metadata": {},
     "output_type": "display_data"
    },
    {
     "name": "stdout",
     "output_type": "stream",
     "text": [
      "\n",
      "permutation_pad - permutation number: 16, dictionary:\n",
      "{0: '00', 1: '11', 2: '10', 3: '01'}\n",
      "permutation pad - Elapsed time: 0:00:01.675508\n",
      "\n",
      "permutation pad - Permutation number: 17, matrix: \n"
     ]
    },
    {
     "data": {
      "text/latex": [
       "$$\n",
       "\n",
       "\\begin{bmatrix}\n",
       "1 & 0 & 0 & 0  \\\\\n",
       " 0 & 1 & 0 & 0  \\\\\n",
       " 0 & 0 & 0 & 1  \\\\\n",
       " 0 & 0 & 1 & 0  \\\\\n",
       " \\end{bmatrix}\n",
       "$$"
      ],
      "text/plain": [
       "<IPython.core.display.Latex object>"
      ]
     },
     "metadata": {},
     "output_type": "display_data"
    },
    {
     "name": "stdout",
     "output_type": "stream",
     "text": [
      "\n",
      "permutation pad - Permutation number: 17, Depth of quantum circuit: 1\n"
     ]
    },
    {
     "data": {
      "image/png": "[encoded data removed]",
      "text/plain": [
       "<Figure size 370.906x284.278 with 1 Axes>"
      ]
     },
     "metadata": {},
     "output_type": "display_data"
    },
    {
     "name": "stdout",
     "output_type": "stream",
     "text": [
      "\n",
      "permutation_pad - permutation number: 17, dictionary:\n",
      "{0: '00', 1: '01', 2: '11', 3: '10'}\n",
      "permutation pad - Elapsed time: 0:00:01.735249\n",
      "\n",
      "permutation pad - Permutation number: 18, matrix: \n"
     ]
    },
    {
     "data": {
      "text/latex": [
       "$$\n",
       "\n",
       "\\begin{bmatrix}\n",
       "0 & 0 & 0 & 1  \\\\\n",
       " 0 & 0 & 1 & 0  \\\\\n",
       " 0 & 1 & 0 & 0  \\\\\n",
       " 1 & 0 & 0 & 0  \\\\\n",
       " \\end{bmatrix}\n",
       "$$"
      ],
      "text/plain": [
       "<IPython.core.display.Latex object>"
      ]
     },
     "metadata": {},
     "output_type": "display_data"
    },
    {
     "name": "stdout",
     "output_type": "stream",
     "text": [
      "\n",
      "permutation pad - Permutation number: 18, Depth of quantum circuit: 1\n"
     ]
    },
    {
     "data": {
      "image/png": "[encoded data removed]",
      "text/plain": [
       "<Figure size 370.906x284.278 with 1 Axes>"
      ]
     },
     "metadata": {},
     "output_type": "display_data"
    },
    {
     "name": "stdout",
     "output_type": "stream",
     "text": [
      "\n",
      "permutation_pad - permutation number: 18, dictionary:\n",
      "{0: '11', 1: '10', 2: '01', 3: '00'}\n",
      "permutation pad - Elapsed time: 0:00:01.798590\n",
      "\n",
      "permutation pad - Permutation number: 19, matrix: \n"
     ]
    },
    {
     "data": {
      "text/latex": [
       "$$\n",
       "\n",
       "\\begin{bmatrix}\n",
       "0 & 0 & 1 & 0  \\\\\n",
       " 1 & 0 & 0 & 0  \\\\\n",
       " 0 & 0 & 0 & 1  \\\\\n",
       " 0 & 1 & 0 & 0  \\\\\n",
       " \\end{bmatrix}\n",
       "$$"
      ],
      "text/plain": [
       "<IPython.core.display.Latex object>"
      ]
     },
     "metadata": {},
     "output_type": "display_data"
    },
    {
     "name": "stdout",
     "output_type": "stream",
     "text": [
      "\n",
      "permutation pad - Permutation number: 19, Depth of quantum circuit: 1\n"
     ]
    },
    {
     "data": {
      "image/png": "[encoded data removed]",
      "text/plain": [
       "<Figure size 370.906x284.278 with 1 Axes>"
      ]
     },
     "metadata": {},
     "output_type": "display_data"
    },
    {
     "name": "stdout",
     "output_type": "stream",
     "text": [
      "\n",
      "permutation_pad - permutation number: 19, dictionary:\n",
      "{0: '01', 1: '11', 2: '00', 3: '10'}\n",
      "permutation pad - Elapsed time: 0:00:01.877298\n",
      "\n",
      "permutation pad - Permutation number: 20, matrix: \n"
     ]
    },
    {
     "data": {
      "text/latex": [
       "$$\n",
       "\n",
       "\\begin{bmatrix}\n",
       "1 & 0 & 0 & 0  \\\\\n",
       " 0 & 0 & 0 & 1  \\\\\n",
       " 0 & 0 & 1 & 0  \\\\\n",
       " 0 & 1 & 0 & 0  \\\\\n",
       " \\end{bmatrix}\n",
       "$$"
      ],
      "text/plain": [
       "<IPython.core.display.Latex object>"
      ]
     },
     "metadata": {},
     "output_type": "display_data"
    },
    {
     "name": "stdout",
     "output_type": "stream",
     "text": [
      "\n",
      "permutation pad - Permutation number: 20, Depth of quantum circuit: 1\n"
     ]
    },
    {
     "data": {
      "image/png": "[encoded data removed]",
      "text/plain": [
       "<Figure size 370.906x284.278 with 1 Axes>"
      ]
     },
     "metadata": {},
     "output_type": "display_data"
    },
    {
     "name": "stdout",
     "output_type": "stream",
     "text": [
      "\n",
      "permutation_pad - permutation number: 20, dictionary:\n",
      "{0: '00', 1: '11', 2: '10', 3: '01'}\n",
      "permutation pad - Elapsed time: 0:00:01.946879\n",
      "\n",
      "permutation pad - Permutation number: 21, matrix: \n"
     ]
    },
    {
     "data": {
      "text/latex": [
       "$$\n",
       "\n",
       "\\begin{bmatrix}\n",
       "1 & 0 & 0 & 0  \\\\\n",
       " 0 & 0 & 1 & 0  \\\\\n",
       " 0 & 0 & 0 & 1  \\\\\n",
       " 0 & 1 & 0 & 0  \\\\\n",
       " \\end{bmatrix}\n",
       "$$"
      ],
      "text/plain": [
       "<IPython.core.display.Latex object>"
      ]
     },
     "metadata": {},
     "output_type": "display_data"
    },
    {
     "name": "stdout",
     "output_type": "stream",
     "text": [
      "\n",
      "permutation pad - Permutation number: 21, Depth of quantum circuit: 1\n"
     ]
    },
    {
     "data": {
      "image/png": "[encoded data removed]",
      "text/plain": [
       "<Figure size 370.906x284.278 with 1 Axes>"
      ]
     },
     "metadata": {},
     "output_type": "display_data"
    },
    {
     "name": "stdout",
     "output_type": "stream",
     "text": [
      "\n",
      "permutation_pad - permutation number: 21, dictionary:\n",
      "{0: '00', 1: '11', 2: '01', 3: '10'}\n",
      "permutation pad - Elapsed time: 0:00:02.020036\n",
      "\n",
      "permutation pad - Permutation number: 22, matrix: \n"
     ]
    },
    {
     "data": {
      "text/latex": [
       "$$\n",
       "\n",
       "\\begin{bmatrix}\n",
       "1 & 0 & 0 & 0  \\\\\n",
       " 0 & 0 & 0 & 1  \\\\\n",
       " 0 & 0 & 1 & 0  \\\\\n",
       " 0 & 1 & 0 & 0  \\\\\n",
       " \\end{bmatrix}\n",
       "$$"
      ],
      "text/plain": [
       "<IPython.core.display.Latex object>"
      ]
     },
     "metadata": {},
     "output_type": "display_data"
    },
    {
     "name": "stdout",
     "output_type": "stream",
     "text": [
      "\n",
      "permutation pad - Permutation number: 22, Depth of quantum circuit: 1\n"
     ]
    },
    {
     "data": {
      "image/png": "[encoded data removed]",
      "text/plain": [
       "<Figure size 370.906x284.278 with 1 Axes>"
      ]
     },
     "metadata": {},
     "output_type": "display_data"
    },
    {
     "name": "stdout",
     "output_type": "stream",
     "text": [
      "\n",
      "permutation_pad - permutation number: 22, dictionary:\n",
      "{0: '00', 1: '11', 2: '10', 3: '01'}\n",
      "permutation pad - Elapsed time: 0:00:02.200574\n",
      "\n",
      "permutation pad - Permutation number: 23, matrix: \n"
     ]
    },
    {
     "data": {
      "text/latex": [
       "$$\n",
       "\n",
       "\\begin{bmatrix}\n",
       "0 & 0 & 1 & 0  \\\\\n",
       " 1 & 0 & 0 & 0  \\\\\n",
       " 0 & 0 & 0 & 1  \\\\\n",
       " 0 & 1 & 0 & 0  \\\\\n",
       " \\end{bmatrix}\n",
       "$$"
      ],
      "text/plain": [
       "<IPython.core.display.Latex object>"
      ]
     },
     "metadata": {},
     "output_type": "display_data"
    },
    {
     "name": "stdout",
     "output_type": "stream",
     "text": [
      "\n",
      "permutation pad - Permutation number: 23, Depth of quantum circuit: 1\n"
     ]
    },
    {
     "data": {
      "image/png": "[encoded data removed]",
      "text/plain": [
       "<Figure size 370.906x284.278 with 1 Axes>"
      ]
     },
     "metadata": {},
     "output_type": "display_data"
    },
    {
     "name": "stdout",
     "output_type": "stream",
     "text": [
      "\n",
      "permutation_pad - permutation number: 23, dictionary:\n",
      "{0: '01', 1: '11', 2: '00', 3: '10'}\n",
      "permutation pad - Elapsed time: 0:00:02.302476\n",
      "\n",
      "permutation pad - Permutation number: 24, matrix: \n"
     ]
    },
    {
     "data": {
      "text/latex": [
       "$$\n",
       "\n",
       "\\begin{bmatrix}\n",
       "1 & 0 & 0 & 0  \\\\\n",
       " 0 & 0 & 1 & 0  \\\\\n",
       " 0 & 1 & 0 & 0  \\\\\n",
       " 0 & 0 & 0 & 1  \\\\\n",
       " \\end{bmatrix}\n",
       "$$"
      ],
      "text/plain": [
       "<IPython.core.display.Latex object>"
      ]
     },
     "metadata": {},
     "output_type": "display_data"
    },
    {
     "name": "stdout",
     "output_type": "stream",
     "text": [
      "\n",
      "permutation pad - Permutation number: 24, Depth of quantum circuit: 1\n"
     ]
    },
    {
     "data": {
      "image/png": "[encoded data removed]",
      "text/plain": [
       "<Figure size 370.906x284.278 with 1 Axes>"
      ]
     },
     "metadata": {},
     "output_type": "display_data"
    },
    {
     "name": "stdout",
     "output_type": "stream",
     "text": [
      "\n",
      "permutation_pad - permutation number: 24, dictionary:\n",
      "{0: '00', 1: '10', 2: '01', 3: '11'}\n",
      "permutation pad - Elapsed time: 0:00:02.422925\n",
      "\n",
      "permutation pad - Permutation number: 25, matrix: \n"
     ]
    },
    {
     "data": {
      "text/latex": [
       "$$\n",
       "\n",
       "\\begin{bmatrix}\n",
       "1 & 0 & 0 & 0  \\\\\n",
       " 0 & 0 & 1 & 0  \\\\\n",
       " 0 & 1 & 0 & 0  \\\\\n",
       " 0 & 0 & 0 & 1  \\\\\n",
       " \\end{bmatrix}\n",
       "$$"
      ],
      "text/plain": [
       "<IPython.core.display.Latex object>"
      ]
     },
     "metadata": {},
     "output_type": "display_data"
    },
    {
     "name": "stdout",
     "output_type": "stream",
     "text": [
      "\n",
      "permutation pad - Permutation number: 25, Depth of quantum circuit: 1\n"
     ]
    },
    {
     "data": {
      "image/png": "[encoded data removed]",
      "text/plain": [
       "<Figure size 370.906x284.278 with 1 Axes>"
      ]
     },
     "metadata": {},
     "output_type": "display_data"
    },
    {
     "name": "stdout",
     "output_type": "stream",
     "text": [
      "\n",
      "permutation_pad - permutation number: 25, dictionary:\n",
      "{0: '00', 1: '10', 2: '01', 3: '11'}\n",
      "permutation pad - Elapsed time: 0:00:02.484449\n",
      "\n",
      "permutation pad - Permutation number: 26, matrix: \n"
     ]
    },
    {
     "data": {
      "text/latex": [
       "$$\n",
       "\n",
       "\\begin{bmatrix}\n",
       "0 & 0 & 0 & 1  \\\\\n",
       " 1 & 0 & 0 & 0  \\\\\n",
       " 0 & 1 & 0 & 0  \\\\\n",
       " 0 & 0 & 1 & 0  \\\\\n",
       " \\end{bmatrix}\n",
       "$$"
      ],
      "text/plain": [
       "<IPython.core.display.Latex object>"
      ]
     },
     "metadata": {},
     "output_type": "display_data"
    },
    {
     "name": "stdout",
     "output_type": "stream",
     "text": [
      "\n",
      "permutation pad - Permutation number: 26, Depth of quantum circuit: 1\n"
     ]
    },
    {
     "data": {
      "image/png": "[encoded data removed]",
      "text/plain": [
       "<Figure size 370.906x284.278 with 1 Axes>"
      ]
     },
     "metadata": {},
     "output_type": "display_data"
    },
    {
     "name": "stdout",
     "output_type": "stream",
     "text": [
      "\n",
      "permutation_pad - permutation number: 26, dictionary:\n",
      "{0: '01', 1: '10', 2: '11', 3: '00'}\n",
      "permutation pad - Elapsed time: 0:00:02.560424\n",
      "\n",
      "permutation pad - Permutation number: 27, matrix: \n"
     ]
    },
    {
     "data": {
      "text/latex": [
       "$$\n",
       "\n",
       "\\begin{bmatrix}\n",
       "1 & 0 & 0 & 0  \\\\\n",
       " 0 & 0 & 1 & 0  \\\\\n",
       " 0 & 0 & 0 & 1  \\\\\n",
       " 0 & 1 & 0 & 0  \\\\\n",
       " \\end{bmatrix}\n",
       "$$"
      ],
      "text/plain": [
       "<IPython.core.display.Latex object>"
      ]
     },
     "metadata": {},
     "output_type": "display_data"
    },
    {
     "name": "stdout",
     "output_type": "stream",
     "text": [
      "\n",
      "permutation pad - Permutation number: 27, Depth of quantum circuit: 1\n"
     ]
    },
    {
     "data": {
      "image/png": "[encoded data removed]",
      "text/plain": [
       "<Figure size 370.906x284.278 with 1 Axes>"
      ]
     },
     "metadata": {},
     "output_type": "display_data"
    },
    {
     "name": "stdout",
     "output_type": "stream",
     "text": [
      "\n",
      "permutation_pad - permutation number: 27, dictionary:\n",
      "{0: '00', 1: '11', 2: '01', 3: '10'}\n",
      "permutation pad - Elapsed time: 0:00:02.633402\n",
      "\n",
      "permutation pad - Permutation number: 28, matrix: \n"
     ]
    },
    {
     "data": {
      "text/latex": [
       "$$\n",
       "\n",
       "\\begin{bmatrix}\n",
       "0 & 0 & 1 & 0  \\\\\n",
       " 0 & 1 & 0 & 0  \\\\\n",
       " 1 & 0 & 0 & 0  \\\\\n",
       " 0 & 0 & 0 & 1  \\\\\n",
       " \\end{bmatrix}\n",
       "$$"
      ],
      "text/plain": [
       "<IPython.core.display.Latex object>"
      ]
     },
     "metadata": {},
     "output_type": "display_data"
    },
    {
     "name": "stdout",
     "output_type": "stream",
     "text": [
      "\n",
      "permutation pad - Permutation number: 28, Depth of quantum circuit: 1\n"
     ]
    },
    {
     "data": {
      "image/png": "[encoded data removed]",
      "text/plain": [
       "<Figure size 370.906x284.278 with 1 Axes>"
      ]
     },
     "metadata": {},
     "output_type": "display_data"
    },
    {
     "name": "stdout",
     "output_type": "stream",
     "text": [
      "\n",
      "permutation_pad - permutation number: 28, dictionary:\n",
      "{0: '10', 1: '01', 2: '00', 3: '11'}\n",
      "permutation pad - Elapsed time: 0:00:02.706435\n",
      "\n",
      "permutation pad - Permutation number: 29, matrix: \n"
     ]
    },
    {
     "data": {
      "text/latex": [
       "$$\n",
       "\n",
       "\\begin{bmatrix}\n",
       "1 & 0 & 0 & 0  \\\\\n",
       " 0 & 0 & 0 & 1  \\\\\n",
       " 0 & 0 & 1 & 0  \\\\\n",
       " 0 & 1 & 0 & 0  \\\\\n",
       " \\end{bmatrix}\n",
       "$$"
      ],
      "text/plain": [
       "<IPython.core.display.Latex object>"
      ]
     },
     "metadata": {},
     "output_type": "display_data"
    },
    {
     "name": "stdout",
     "output_type": "stream",
     "text": [
      "\n",
      "permutation pad - Permutation number: 29, Depth of quantum circuit: 1\n"
     ]
    },
    {
     "data": {
      "image/png": "[encoded data removed]",
      "text/plain": [
       "<Figure size 370.906x284.278 with 1 Axes>"
      ]
     },
     "metadata": {},
     "output_type": "display_data"
    },
    {
     "name": "stdout",
     "output_type": "stream",
     "text": [
      "\n",
      "permutation_pad - permutation number: 29, dictionary:\n",
      "{0: '00', 1: '11', 2: '10', 3: '01'}\n",
      "permutation pad - Elapsed time: 0:00:02.761943\n",
      "\n",
      "permutation pad - Permutation number: 30, matrix: \n"
     ]
    },
    {
     "data": {
      "text/latex": [
       "$$\n",
       "\n",
       "\\begin{bmatrix}\n",
       "1 & 0 & 0 & 0  \\\\\n",
       " 0 & 0 & 1 & 0  \\\\\n",
       " 0 & 0 & 0 & 1  \\\\\n",
       " 0 & 1 & 0 & 0  \\\\\n",
       " \\end{bmatrix}\n",
       "$$"
      ],
      "text/plain": [
       "<IPython.core.display.Latex object>"
      ]
     },
     "metadata": {},
     "output_type": "display_data"
    },
    {
     "name": "stdout",
     "output_type": "stream",
     "text": [
      "\n",
      "permutation pad - Permutation number: 30, Depth of quantum circuit: 1\n"
     ]
    },
    {
     "data": {
      "image/png": "[encoded data removed]",
      "text/plain": [
       "<Figure size 370.906x284.278 with 1 Axes>"
      ]
     },
     "metadata": {},
     "output_type": "display_data"
    },
    {
     "name": "stdout",
     "output_type": "stream",
     "text": [
      "\n",
      "permutation_pad - permutation number: 30, dictionary:\n",
      "{0: '00', 1: '11', 2: '01', 3: '10'}\n",
      "permutation pad - Elapsed time: 0:00:02.838907\n",
      "\n",
      "permutation pad - Permutation number: 31, matrix: \n"
     ]
    },
    {
     "data": {
      "text/latex": [
       "$$\n",
       "\n",
       "\\begin{bmatrix}\n",
       "1 & 0 & 0 & 0  \\\\\n",
       " 0 & 1 & 0 & 0  \\\\\n",
       " 0 & 0 & 0 & 1  \\\\\n",
       " 0 & 0 & 1 & 0  \\\\\n",
       " \\end{bmatrix}\n",
       "$$"
      ],
      "text/plain": [
       "<IPython.core.display.Latex object>"
      ]
     },
     "metadata": {},
     "output_type": "display_data"
    },
    {
     "name": "stdout",
     "output_type": "stream",
     "text": [
      "\n",
      "permutation pad - Permutation number: 31, Depth of quantum circuit: 1\n"
     ]
    },
    {
     "data": {
      "image/png": "[encoded data removed]",
      "text/plain": [
       "<Figure size 370.906x284.278 with 1 Axes>"
      ]
     },
     "metadata": {},
     "output_type": "display_data"
    },
    {
     "name": "stdout",
     "output_type": "stream",
     "text": [
      "\n",
      "permutation_pad - permutation number: 31, dictionary:\n",
      "{0: '00', 1: '01', 2: '11', 3: '10'}\n",
      "permutation pad - Elapsed time: 0:00:02.949445\n",
      "\n",
      "permutation pad - Permutation number: 32, matrix: \n"
     ]
    },
    {
     "data": {
      "text/latex": [
       "$$\n",
       "\n",
       "\\begin{bmatrix}\n",
       "0 & 0 & 0 & 1  \\\\\n",
       " 1 & 0 & 0 & 0  \\\\\n",
       " 0 & 1 & 0 & 0  \\\\\n",
       " 0 & 0 & 1 & 0  \\\\\n",
       " \\end{bmatrix}\n",
       "$$"
      ],
      "text/plain": [
       "<IPython.core.display.Latex object>"
      ]
     },
     "metadata": {},
     "output_type": "display_data"
    },
    {
     "name": "stdout",
     "output_type": "stream",
     "text": [
      "\n",
      "permutation pad - Permutation number: 32, Depth of quantum circuit: 1\n"
     ]
    },
    {
     "data": {
      "image/png": "[encoded data removed]",
      "text/plain": [
       "<Figure size 370.906x284.278 with 1 Axes>"
      ]
     },
     "metadata": {},
     "output_type": "display_data"
    },
    {
     "name": "stdout",
     "output_type": "stream",
     "text": [
      "\n",
      "permutation_pad - permutation number: 32, dictionary:\n",
      "{0: '01', 1: '10', 2: '11', 3: '00'}\n",
      "permutation pad - Elapsed time: 0:00:03.025248\n",
      "\n",
      "permutation pad - Permutation number: 33, matrix: \n"
     ]
    },
    {
     "data": {
      "text/latex": [
       "$$\n",
       "\n",
       "\\begin{bmatrix}\n",
       "0 & 0 & 0 & 1  \\\\\n",
       " 0 & 0 & 1 & 0  \\\\\n",
       " 1 & 0 & 0 & 0  \\\\\n",
       " 0 & 1 & 0 & 0  \\\\\n",
       " \\end{bmatrix}\n",
       "$$"
      ],
      "text/plain": [
       "<IPython.core.display.Latex object>"
      ]
     },
     "metadata": {},
     "output_type": "display_data"
    },
    {
     "name": "stdout",
     "output_type": "stream",
     "text": [
      "\n",
      "permutation pad - Permutation number: 33, Depth of quantum circuit: 1\n"
     ]
    },
    {
     "data": {
      "image/png": "[encoded data removed]",
      "text/plain": [
       "<Figure size 370.906x284.278 with 1 Axes>"
      ]
     },
     "metadata": {},
     "output_type": "display_data"
    },
    {
     "name": "stdout",
     "output_type": "stream",
     "text": [
      "\n",
      "permutation_pad - permutation number: 33, dictionary:\n",
      "{0: '10', 1: '11', 2: '01', 3: '00'}\n",
      "permutation pad - Elapsed time: 0:00:03.101213\n",
      "\n",
      "permutation pad - Permutation number: 34, matrix: \n"
     ]
    },
    {
     "data": {
      "text/latex": [
       "$$\n",
       "\n",
       "\\begin{bmatrix}\n",
       "1 & 0 & 0 & 0  \\\\\n",
       " 0 & 1 & 0 & 0  \\\\\n",
       " 0 & 0 & 1 & 0  \\\\\n",
       " 0 & 0 & 0 & 1  \\\\\n",
       " \\end{bmatrix}\n",
       "$$"
      ],
      "text/plain": [
       "<IPython.core.display.Latex object>"
      ]
     },
     "metadata": {},
     "output_type": "display_data"
    },
    {
     "name": "stdout",
     "output_type": "stream",
     "text": [
      "\n",
      "permutation pad - Permutation number: 34, Depth of quantum circuit: 1\n"
     ]
    },
    {
     "data": {
      "image/png": "[encoded data removed]",
      "text/plain": [
       "<Figure size 370.906x284.278 with 1 Axes>"
      ]
     },
     "metadata": {},
     "output_type": "display_data"
    },
    {
     "name": "stdout",
     "output_type": "stream",
     "text": [
      "\n",
      "permutation_pad - permutation number: 34, dictionary:\n",
      "{0: '00', 1: '01', 2: '10', 3: '11'}\n",
      "permutation pad - Elapsed time: 0:00:03.156466\n",
      "\n",
      "permutation pad - Permutation number: 35, matrix: \n"
     ]
    },
    {
     "data": {
      "text/latex": [
       "$$\n",
       "\n",
       "\\begin{bmatrix}\n",
       "0 & 0 & 0 & 1  \\\\\n",
       " 1 & 0 & 0 & 0  \\\\\n",
       " 0 & 0 & 1 & 0  \\\\\n",
       " 0 & 1 & 0 & 0  \\\\\n",
       " \\end{bmatrix}\n",
       "$$"
      ],
      "text/plain": [
       "<IPython.core.display.Latex object>"
      ]
     },
     "metadata": {},
     "output_type": "display_data"
    },
    {
     "name": "stdout",
     "output_type": "stream",
     "text": [
      "\n",
      "permutation pad - Permutation number: 35, Depth of quantum circuit: 1\n"
     ]
    },
    {
     "data": {
      "image/png": "[encoded data removed]",
      "text/plain": [
       "<Figure size 370.906x284.278 with 1 Axes>"
      ]
     },
     "metadata": {},
     "output_type": "display_data"
    },
    {
     "name": "stdout",
     "output_type": "stream",
     "text": [
      "\n",
      "permutation_pad - permutation number: 35, dictionary:\n",
      "{0: '01', 1: '11', 2: '10', 3: '00'}\n",
      "permutation pad - Elapsed time: 0:00:03.226600\n",
      "\n",
      "permutation pad - Permutation number: 36, matrix: \n"
     ]
    },
    {
     "data": {
      "text/latex": [
       "$$\n",
       "\n",
       "\\begin{bmatrix}\n",
       "1 & 0 & 0 & 0  \\\\\n",
       " 0 & 0 & 1 & 0  \\\\\n",
       " 0 & 1 & 0 & 0  \\\\\n",
       " 0 & 0 & 0 & 1  \\\\\n",
       " \\end{bmatrix}\n",
       "$$"
      ],
      "text/plain": [
       "<IPython.core.display.Latex object>"
      ]
     },
     "metadata": {},
     "output_type": "display_data"
    },
    {
     "name": "stdout",
     "output_type": "stream",
     "text": [
      "\n",
      "permutation pad - Permutation number: 36, Depth of quantum circuit: 1\n"
     ]
    },
    {
     "data": {
      "image/png": "[encoded data removed]",
      "text/plain": [
       "<Figure size 370.906x284.278 with 1 Axes>"
      ]
     },
     "metadata": {},
     "output_type": "display_data"
    },
    {
     "name": "stdout",
     "output_type": "stream",
     "text": [
      "\n",
      "permutation_pad - permutation number: 36, dictionary:\n",
      "{0: '00', 1: '10', 2: '01', 3: '11'}\n",
      "permutation pad - Elapsed time: 0:00:03.287499\n",
      "\n",
      "permutation pad - Permutation number: 37, matrix: \n"
     ]
    },
    {
     "data": {
      "text/latex": [
       "$$\n",
       "\n",
       "\\begin{bmatrix}\n",
       "0 & 0 & 1 & 0  \\\\\n",
       " 1 & 0 & 0 & 0  \\\\\n",
       " 0 & 1 & 0 & 0  \\\\\n",
       " 0 & 0 & 0 & 1  \\\\\n",
       " \\end{bmatrix}\n",
       "$$"
      ],
      "text/plain": [
       "<IPython.core.display.Latex object>"
      ]
     },
     "metadata": {},
     "output_type": "display_data"
    },
    {
     "name": "stdout",
     "output_type": "stream",
     "text": [
      "\n",
      "permutation pad - Permutation number: 37, Depth of quantum circuit: 1\n"
     ]
    },
    {
     "data": {
      "image/png": "[encoded data removed]",
      "text/plain": [
       "<Figure size 370.906x284.278 with 1 Axes>"
      ]
     },
     "metadata": {},
     "output_type": "display_data"
    },
    {
     "name": "stdout",
     "output_type": "stream",
     "text": [
      "\n",
      "permutation_pad - permutation number: 37, dictionary:\n",
      "{0: '01', 1: '10', 2: '00', 3: '11'}\n",
      "permutation pad - Elapsed time: 0:00:03.346995\n",
      "\n",
      "permutation pad - Permutation number: 38, matrix: \n"
     ]
    },
    {
     "data": {
      "text/latex": [
       "$$\n",
       "\n",
       "\\begin{bmatrix}\n",
       "0 & 0 & 0 & 1  \\\\\n",
       " 1 & 0 & 0 & 0  \\\\\n",
       " 0 & 1 & 0 & 0  \\\\\n",
       " 0 & 0 & 1 & 0  \\\\\n",
       " \\end{bmatrix}\n",
       "$$"
      ],
      "text/plain": [
       "<IPython.core.display.Latex object>"
      ]
     },
     "metadata": {},
     "output_type": "display_data"
    },
    {
     "name": "stdout",
     "output_type": "stream",
     "text": [
      "\n",
      "permutation pad - Permutation number: 38, Depth of quantum circuit: 1\n"
     ]
    },
    {
     "data": {
      "image/png": "[encoded data removed]",
      "text/plain": [
       "<Figure size 370.906x284.278 with 1 Axes>"
      ]
     },
     "metadata": {},
     "output_type": "display_data"
    },
    {
     "name": "stdout",
     "output_type": "stream",
     "text": [
      "\n",
      "permutation_pad - permutation number: 38, dictionary:\n",
      "{0: '01', 1: '10', 2: '11', 3: '00'}\n",
      "permutation pad - Elapsed time: 0:00:03.414364\n",
      "\n",
      "permutation pad - Permutation number: 39, matrix: \n"
     ]
    },
    {
     "data": {
      "text/latex": [
       "$$\n",
       "\n",
       "\\begin{bmatrix}\n",
       "0 & 0 & 0 & 1  \\\\\n",
       " 1 & 0 & 0 & 0  \\\\\n",
       " 0 & 1 & 0 & 0  \\\\\n",
       " 0 & 0 & 1 & 0  \\\\\n",
       " \\end{bmatrix}\n",
       "$$"
      ],
      "text/plain": [
       "<IPython.core.display.Latex object>"
      ]
     },
     "metadata": {},
     "output_type": "display_data"
    },
    {
     "name": "stdout",
     "output_type": "stream",
     "text": [
      "\n",
      "permutation pad - Permutation number: 39, Depth of quantum circuit: 1\n"
     ]
    },
    {
     "data": {
      "image/png": "[encoded data removed]",
      "text/plain": [
       "<Figure size 370.906x284.278 with 1 Axes>"
      ]
     },
     "metadata": {},
     "output_type": "display_data"
    },
    {
     "name": "stdout",
     "output_type": "stream",
     "text": [
      "\n",
      "permutation_pad - permutation number: 39, dictionary:\n",
      "{0: '01', 1: '10', 2: '11', 3: '00'}\n",
      "permutation pad - Elapsed time: 0:00:03.480519\n",
      "\n",
      "permutation pad - Permutation number: 40, matrix: \n"
     ]
    },
    {
     "data": {
      "text/latex": [
       "$$\n",
       "\n",
       "\\begin{bmatrix}\n",
       "1 & 0 & 0 & 0  \\\\\n",
       " 0 & 0 & 1 & 0  \\\\\n",
       " 0 & 1 & 0 & 0  \\\\\n",
       " 0 & 0 & 0 & 1  \\\\\n",
       " \\end{bmatrix}\n",
       "$$"
      ],
      "text/plain": [
       "<IPython.core.display.Latex object>"
      ]
     },
     "metadata": {},
     "output_type": "display_data"
    },
    {
     "name": "stdout",
     "output_type": "stream",
     "text": [
      "\n",
      "permutation pad - Permutation number: 40, Depth of quantum circuit: 1\n"
     ]
    },
    {
     "data": {
      "image/png": "[encoded data removed]",
      "text/plain": [
       "<Figure size 370.906x284.278 with 1 Axes>"
      ]
     },
     "metadata": {},
     "output_type": "display_data"
    },
    {
     "name": "stdout",
     "output_type": "stream",
     "text": [
      "\n",
      "permutation_pad - permutation number: 40, dictionary:\n",
      "{0: '00', 1: '10', 2: '01', 3: '11'}\n",
      "permutation pad - Elapsed time: 0:00:03.560088\n",
      "\n",
      "permutation pad - Permutation number: 41, matrix: \n"
     ]
    },
    {
     "data": {
      "text/latex": [
       "$$\n",
       "\n",
       "\\begin{bmatrix}\n",
       "1 & 0 & 0 & 0  \\\\\n",
       " 0 & 1 & 0 & 0  \\\\\n",
       " 0 & 0 & 1 & 0  \\\\\n",
       " 0 & 0 & 0 & 1  \\\\\n",
       " \\end{bmatrix}\n",
       "$$"
      ],
      "text/plain": [
       "<IPython.core.display.Latex object>"
      ]
     },
     "metadata": {},
     "output_type": "display_data"
    },
    {
     "name": "stdout",
     "output_type": "stream",
     "text": [
      "\n",
      "permutation pad - Permutation number: 41, Depth of quantum circuit: 1\n"
     ]
    },
    {
     "data": {
      "image/png": "[encoded data removed]",
      "text/plain": [
       "<Figure size 370.906x284.278 with 1 Axes>"
      ]
     },
     "metadata": {},
     "output_type": "display_data"
    },
    {
     "name": "stdout",
     "output_type": "stream",
     "text": [
      "\n",
      "permutation_pad - permutation number: 41, dictionary:\n",
      "{0: '00', 1: '01', 2: '10', 3: '11'}\n",
      "permutation pad - Elapsed time: 0:00:03.639116\n",
      "\n",
      "permutation pad - Permutation number: 42, matrix: \n"
     ]
    },
    {
     "data": {
      "text/latex": [
       "$$\n",
       "\n",
       "\\begin{bmatrix}\n",
       "1 & 0 & 0 & 0  \\\\\n",
       " 0 & 0 & 0 & 1  \\\\\n",
       " 0 & 0 & 1 & 0  \\\\\n",
       " 0 & 1 & 0 & 0  \\\\\n",
       " \\end{bmatrix}\n",
       "$$"
      ],
      "text/plain": [
       "<IPython.core.display.Latex object>"
      ]
     },
     "metadata": {},
     "output_type": "display_data"
    },
    {
     "name": "stdout",
     "output_type": "stream",
     "text": [
      "\n",
      "permutation pad - Permutation number: 42, Depth of quantum circuit: 1\n"
     ]
    },
    {
     "data": {
      "image/png": "[encoded data removed]",
      "text/plain": [
       "<Figure size 370.906x284.278 with 1 Axes>"
      ]
     },
     "metadata": {},
     "output_type": "display_data"
    },
    {
     "name": "stdout",
     "output_type": "stream",
     "text": [
      "\n",
      "permutation_pad - permutation number: 42, dictionary:\n",
      "{0: '00', 1: '11', 2: '10', 3: '01'}\n",
      "permutation pad - Elapsed time: 0:00:03.704308\n",
      "\n",
      "permutation pad - Permutation number: 43, matrix: \n"
     ]
    },
    {
     "data": {
      "text/latex": [
       "$$\n",
       "\n",
       "\\begin{bmatrix}\n",
       "1 & 0 & 0 & 0  \\\\\n",
       " 0 & 0 & 1 & 0  \\\\\n",
       " 0 & 0 & 0 & 1  \\\\\n",
       " 0 & 1 & 0 & 0  \\\\\n",
       " \\end{bmatrix}\n",
       "$$"
      ],
      "text/plain": [
       "<IPython.core.display.Latex object>"
      ]
     },
     "metadata": {},
     "output_type": "display_data"
    },
    {
     "name": "stdout",
     "output_type": "stream",
     "text": [
      "\n",
      "permutation pad - Permutation number: 43, Depth of quantum circuit: 1\n"
     ]
    },
    {
     "data": {
      "image/png": "[encoded data removed]",
      "text/plain": [
       "<Figure size 370.906x284.278 with 1 Axes>"
      ]
     },
     "metadata": {},
     "output_type": "display_data"
    },
    {
     "name": "stdout",
     "output_type": "stream",
     "text": [
      "\n",
      "permutation_pad - permutation number: 43, dictionary:\n",
      "{0: '00', 1: '11', 2: '01', 3: '10'}\n",
      "permutation pad - Elapsed time: 0:00:03.770859\n",
      "\n",
      "permutation pad - Permutation number: 44, matrix: \n"
     ]
    },
    {
     "data": {
      "text/latex": [
       "$$\n",
       "\n",
       "\\begin{bmatrix}\n",
       "1 & 0 & 0 & 0  \\\\\n",
       " 0 & 1 & 0 & 0  \\\\\n",
       " 0 & 0 & 1 & 0  \\\\\n",
       " 0 & 0 & 0 & 1  \\\\\n",
       " \\end{bmatrix}\n",
       "$$"
      ],
      "text/plain": [
       "<IPython.core.display.Latex object>"
      ]
     },
     "metadata": {},
     "output_type": "display_data"
    },
    {
     "name": "stdout",
     "output_type": "stream",
     "text": [
      "\n",
      "permutation pad - Permutation number: 44, Depth of quantum circuit: 1\n"
     ]
    },
    {
     "data": {
      "image/png": "[encoded data removed]",
      "text/plain": [
       "<Figure size 370.906x284.278 with 1 Axes>"
      ]
     },
     "metadata": {},
     "output_type": "display_data"
    },
    {
     "name": "stdout",
     "output_type": "stream",
     "text": [
      "\n",
      "permutation_pad - permutation number: 44, dictionary:\n",
      "{0: '00', 1: '01', 2: '10', 3: '11'}\n",
      "permutation pad - Elapsed time: 0:00:03.847538\n",
      "\n",
      "permutation pad - Permutation number: 45, matrix: \n"
     ]
    },
    {
     "data": {
      "text/latex": [
       "$$\n",
       "\n",
       "\\begin{bmatrix}\n",
       "1 & 0 & 0 & 0  \\\\\n",
       " 0 & 0 & 0 & 1  \\\\\n",
       " 0 & 1 & 0 & 0  \\\\\n",
       " 0 & 0 & 1 & 0  \\\\\n",
       " \\end{bmatrix}\n",
       "$$"
      ],
      "text/plain": [
       "<IPython.core.display.Latex object>"
      ]
     },
     "metadata": {},
     "output_type": "display_data"
    },
    {
     "name": "stdout",
     "output_type": "stream",
     "text": [
      "\n",
      "permutation pad - Permutation number: 45, Depth of quantum circuit: 1\n"
     ]
    },
    {
     "data": {
      "image/png": "[encoded data removed]",
      "text/plain": [
       "<Figure size 370.906x284.278 with 1 Axes>"
      ]
     },
     "metadata": {},
     "output_type": "display_data"
    },
    {
     "name": "stdout",
     "output_type": "stream",
     "text": [
      "\n",
      "permutation_pad - permutation number: 45, dictionary:\n",
      "{0: '00', 1: '10', 2: '11', 3: '01'}\n",
      "permutation pad - Elapsed time: 0:00:03.970710\n",
      "\n",
      "permutation pad - Permutation number: 46, matrix: \n"
     ]
    },
    {
     "data": {
      "text/latex": [
       "$$\n",
       "\n",
       "\\begin{bmatrix}\n",
       "1 & 0 & 0 & 0  \\\\\n",
       " 0 & 0 & 1 & 0  \\\\\n",
       " 0 & 0 & 0 & 1  \\\\\n",
       " 0 & 1 & 0 & 0  \\\\\n",
       " \\end{bmatrix}\n",
       "$$"
      ],
      "text/plain": [
       "<IPython.core.display.Latex object>"
      ]
     },
     "metadata": {},
     "output_type": "display_data"
    },
    {
     "name": "stdout",
     "output_type": "stream",
     "text": [
      "\n",
      "permutation pad - Permutation number: 46, Depth of quantum circuit: 1\n"
     ]
    },
    {
     "data": {
      "image/png": "[encoded data removed]",
      "text/plain": [
       "<Figure size 370.906x284.278 with 1 Axes>"
      ]
     },
     "metadata": {},
     "output_type": "display_data"
    },
    {
     "name": "stdout",
     "output_type": "stream",
     "text": [
      "\n",
      "permutation_pad - permutation number: 46, dictionary:\n",
      "{0: '00', 1: '11', 2: '01', 3: '10'}\n",
      "permutation pad - Elapsed time: 0:00:04.088444\n",
      "\n",
      "permutation pad - Permutation number: 47, matrix: \n"
     ]
    },
    {
     "data": {
      "text/latex": [
       "$$\n",
       "\n",
       "\\begin{bmatrix}\n",
       "0 & 0 & 0 & 1  \\\\\n",
       " 0 & 0 & 1 & 0  \\\\\n",
       " 1 & 0 & 0 & 0  \\\\\n",
       " 0 & 1 & 0 & 0  \\\\\n",
       " \\end{bmatrix}\n",
       "$$"
      ],
      "text/plain": [
       "<IPython.core.display.Latex object>"
      ]
     },
     "metadata": {},
     "output_type": "display_data"
    },
    {
     "name": "stdout",
     "output_type": "stream",
     "text": [
      "\n",
      "permutation pad - Permutation number: 47, Depth of quantum circuit: 1\n"
     ]
    },
    {
     "data": {
      "image/png": "[encoded data removed]",
      "text/plain": [
       "<Figure size 370.906x284.278 with 1 Axes>"
      ]
     },
     "metadata": {},
     "output_type": "display_data"
    },
    {
     "name": "stdout",
     "output_type": "stream",
     "text": [
      "\n",
      "permutation_pad - permutation number: 47, dictionary:\n",
      "{0: '10', 1: '11', 2: '01', 3: '00'}\n",
      "permutation pad - Elapsed time: 0:00:04.373314\n",
      "\n",
      "permutation pad - Permutation number: 48, matrix: \n"
     ]
    },
    {
     "data": {
      "text/latex": [
       "$$\n",
       "\n",
       "\\begin{bmatrix}\n",
       "0 & 0 & 1 & 0  \\\\\n",
       " 0 & 0 & 0 & 1  \\\\\n",
       " 1 & 0 & 0 & 0  \\\\\n",
       " 0 & 1 & 0 & 0  \\\\\n",
       " \\end{bmatrix}\n",
       "$$"
      ],
      "text/plain": [
       "<IPython.core.display.Latex object>"
      ]
     },
     "metadata": {},
     "output_type": "display_data"
    },
    {
     "name": "stdout",
     "output_type": "stream",
     "text": [
      "\n",
      "permutation pad - Permutation number: 48, Depth of quantum circuit: 1\n"
     ]
    },
    {
     "data": {
      "image/png": "[encoded data removed]",
      "text/plain": [
       "<Figure size 370.906x284.278 with 1 Axes>"
      ]
     },
     "metadata": {},
     "output_type": "display_data"
    },
    {
     "name": "stdout",
     "output_type": "stream",
     "text": [
      "\n",
      "permutation_pad - permutation number: 48, dictionary:\n",
      "{0: '10', 1: '11', 2: '00', 3: '01'}\n",
      "permutation pad - Elapsed time: 0:00:04.478812\n",
      "\n",
      "permutation pad - Permutation number: 49, matrix: \n"
     ]
    },
    {
     "data": {
      "text/latex": [
       "$$\n",
       "\n",
       "\\begin{bmatrix}\n",
       "0 & 0 & 0 & 1  \\\\\n",
       " 1 & 0 & 0 & 0  \\\\\n",
       " 0 & 0 & 1 & 0  \\\\\n",
       " 0 & 1 & 0 & 0  \\\\\n",
       " \\end{bmatrix}\n",
       "$$"
      ],
      "text/plain": [
       "<IPython.core.display.Latex object>"
      ]
     },
     "metadata": {},
     "output_type": "display_data"
    },
    {
     "name": "stdout",
     "output_type": "stream",
     "text": [
      "\n",
      "permutation pad - Permutation number: 49, Depth of quantum circuit: 1\n"
     ]
    },
    {
     "data": {
      "image/png": "[encoded data removed]",
      "text/plain": [
       "<Figure size 370.906x284.278 with 1 Axes>"
      ]
     },
     "metadata": {},
     "output_type": "display_data"
    },
    {
     "name": "stdout",
     "output_type": "stream",
     "text": [
      "\n",
      "permutation_pad - permutation number: 49, dictionary:\n",
      "{0: '01', 1: '11', 2: '10', 3: '00'}\n",
      "permutation pad - Elapsed time: 0:00:04.597873\n",
      "\n",
      "permutation pad - Permutation number: 50, matrix: \n"
     ]
    },
    {
     "data": {
      "text/latex": [
       "$$\n",
       "\n",
       "\\begin{bmatrix}\n",
       "0 & 1 & 0 & 0  \\\\\n",
       " 1 & 0 & 0 & 0  \\\\\n",
       " 0 & 0 & 0 & 1  \\\\\n",
       " 0 & 0 & 1 & 0  \\\\\n",
       " \\end{bmatrix}\n",
       "$$"
      ],
      "text/plain": [
       "<IPython.core.display.Latex object>"
      ]
     },
     "metadata": {},
     "output_type": "display_data"
    },
    {
     "name": "stdout",
     "output_type": "stream",
     "text": [
      "\n",
      "permutation pad - Permutation number: 50, Depth of quantum circuit: 1\n"
     ]
    },
    {
     "data": {
      "image/png": "[encoded data removed]",
      "text/plain": [
       "<Figure size 370.906x284.278 with 1 Axes>"
      ]
     },
     "metadata": {},
     "output_type": "display_data"
    },
    {
     "name": "stdout",
     "output_type": "stream",
     "text": [
      "\n",
      "permutation_pad - permutation number: 50, dictionary:\n",
      "{0: '01', 1: '00', 2: '11', 3: '10'}\n",
      "permutation pad - Elapsed time: 0:00:04.717074\n",
      "\n",
      "permutation pad - Permutation number: 51, matrix: \n"
     ]
    },
    {
     "data": {
      "text/latex": [
       "$$\n",
       "\n",
       "\\begin{bmatrix}\n",
       "0 & 0 & 1 & 0  \\\\\n",
       " 0 & 0 & 0 & 1  \\\\\n",
       " 0 & 1 & 0 & 0  \\\\\n",
       " 1 & 0 & 0 & 0  \\\\\n",
       " \\end{bmatrix}\n",
       "$$"
      ],
      "text/plain": [
       "<IPython.core.display.Latex object>"
      ]
     },
     "metadata": {},
     "output_type": "display_data"
    },
    {
     "name": "stdout",
     "output_type": "stream",
     "text": [
      "\n",
      "permutation pad - Permutation number: 51, Depth of quantum circuit: 1\n"
     ]
    },
    {
     "data": {
      "image/png": "[encoded data removed]",
      "text/plain": [
       "<Figure size 370.906x284.278 with 1 Axes>"
      ]
     },
     "metadata": {},
     "output_type": "display_data"
    },
    {
     "name": "stdout",
     "output_type": "stream",
     "text": [
      "\n",
      "permutation_pad - permutation number: 51, dictionary:\n",
      "{0: '11', 1: '10', 2: '00', 3: '01'}\n",
      "permutation pad - Elapsed time: 0:00:04.793454\n",
      "\n",
      "permutation pad - Permutation number: 52, matrix: \n"
     ]
    },
    {
     "data": {
      "text/latex": [
       "$$\n",
       "\n",
       "\\begin{bmatrix}\n",
       "0 & 0 & 0 & 1  \\\\\n",
       " 0 & 1 & 0 & 0  \\\\\n",
       " 1 & 0 & 0 & 0  \\\\\n",
       " 0 & 0 & 1 & 0  \\\\\n",
       " \\end{bmatrix}\n",
       "$$"
      ],
      "text/plain": [
       "<IPython.core.display.Latex object>"
      ]
     },
     "metadata": {},
     "output_type": "display_data"
    },
    {
     "name": "stdout",
     "output_type": "stream",
     "text": [
      "\n",
      "permutation pad - Permutation number: 52, Depth of quantum circuit: 1\n"
     ]
    },
    {
     "data": {
      "image/png": "[encoded data removed]",
      "text/plain": [
       "<Figure size 370.906x284.278 with 1 Axes>"
      ]
     },
     "metadata": {},
     "output_type": "display_data"
    },
    {
     "name": "stdout",
     "output_type": "stream",
     "text": [
      "\n",
      "permutation_pad - permutation number: 52, dictionary:\n",
      "{0: '10', 1: '01', 2: '11', 3: '00'}\n",
      "permutation pad - Elapsed time: 0:00:04.905843\n",
      "\n",
      "permutation pad - Permutation number: 53, matrix: \n"
     ]
    },
    {
     "data": {
      "text/latex": [
       "$$\n",
       "\n",
       "\\begin{bmatrix}\n",
       "0 & 0 & 1 & 0  \\\\\n",
       " 1 & 0 & 0 & 0  \\\\\n",
       " 0 & 1 & 0 & 0  \\\\\n",
       " 0 & 0 & 0 & 1  \\\\\n",
       " \\end{bmatrix}\n",
       "$$"
      ],
      "text/plain": [
       "<IPython.core.display.Latex object>"
      ]
     },
     "metadata": {},
     "output_type": "display_data"
    },
    {
     "name": "stdout",
     "output_type": "stream",
     "text": [
      "\n",
      "permutation pad - Permutation number: 53, Depth of quantum circuit: 1\n"
     ]
    },
    {
     "data": {
      "image/png": "[encoded data removed]",
      "text/plain": [
       "<Figure size 370.906x284.278 with 1 Axes>"
      ]
     },
     "metadata": {},
     "output_type": "display_data"
    },
    {
     "name": "stdout",
     "output_type": "stream",
     "text": [
      "\n",
      "permutation_pad - permutation number: 53, dictionary:\n",
      "{0: '01', 1: '10', 2: '00', 3: '11'}\n",
      "permutation pad - Elapsed time: 0:00:05.034484\n",
      "\n",
      "permutation pad - Permutation number: 54, matrix: \n"
     ]
    },
    {
     "data": {
      "text/latex": [
       "$$\n",
       "\n",
       "\\begin{bmatrix}\n",
       "1 & 0 & 0 & 0  \\\\\n",
       " 0 & 0 & 1 & 0  \\\\\n",
       " 0 & 1 & 0 & 0  \\\\\n",
       " 0 & 0 & 0 & 1  \\\\\n",
       " \\end{bmatrix}\n",
       "$$"
      ],
      "text/plain": [
       "<IPython.core.display.Latex object>"
      ]
     },
     "metadata": {},
     "output_type": "display_data"
    },
    {
     "name": "stdout",
     "output_type": "stream",
     "text": [
      "\n",
      "permutation pad - Permutation number: 54, Depth of quantum circuit: 1\n"
     ]
    },
    {
     "data": {
      "image/png": "[encoded data removed]",
      "text/plain": [
       "<Figure size 370.906x284.278 with 1 Axes>"
      ]
     },
     "metadata": {},
     "output_type": "display_data"
    },
    {
     "name": "stdout",
     "output_type": "stream",
     "text": [
      "\n",
      "permutation_pad - permutation number: 54, dictionary:\n",
      "{0: '00', 1: '10', 2: '01', 3: '11'}\n",
      "permutation pad - Elapsed time: 0:00:05.122182\n",
      "\n",
      "permutation pad - Permutation number: 55, matrix: \n"
     ]
    },
    {
     "data": {
      "text/latex": [
       "$$\n",
       "\n",
       "\\begin{bmatrix}\n",
       "0 & 0 & 1 & 0  \\\\\n",
       " 0 & 0 & 0 & 1  \\\\\n",
       " 1 & 0 & 0 & 0  \\\\\n",
       " 0 & 1 & 0 & 0  \\\\\n",
       " \\end{bmatrix}\n",
       "$$"
      ],
      "text/plain": [
       "<IPython.core.display.Latex object>"
      ]
     },
     "metadata": {},
     "output_type": "display_data"
    },
    {
     "name": "stdout",
     "output_type": "stream",
     "text": [
      "\n",
      "permutation pad - Permutation number: 55, Depth of quantum circuit: 1\n"
     ]
    },
    {
     "data": {
      "image/png": "[encoded data removed]",
      "text/plain": [
       "<Figure size 370.906x284.278 with 1 Axes>"
      ]
     },
     "metadata": {},
     "output_type": "display_data"
    },
    {
     "name": "stdout",
     "output_type": "stream",
     "text": [
      "\n",
      "permutation_pad - permutation number: 55, dictionary:\n",
      "{0: '10', 1: '11', 2: '00', 3: '01'}\n",
      "permutation pad - Elapsed time: 0:00:05.194242\n",
      "permutation pad - Length of Permutation_Pad: 56\n",
      "\n",
      "encrypt - x : 99,  Permutation_Pad[42], State vector: 11, Most frequent: 01\n",
      "encrypt - Elapsed time: 0:00:00.000255\n",
      "encrypt - x : 199,  Permutation_Pad[4], State vector: 00, Most frequent: 11\n",
      "encrypt - Elapsed time: 0:00:00.000397\n",
      "encrypt - x : 299,  Permutation_Pad[1], State vector: 00, Most frequent: 01\n",
      "encrypt - Elapsed time: 0:00:00.000441\n",
      "encrypt - x : 399,  Permutation_Pad[42], State vector: 11, Most frequent: 01\n",
      "encrypt - Elapsed time: 0:00:00.000479\n",
      "encrypt - x : 499,  Permutation_Pad[4], State vector: 00, Most frequent: 11\n",
      "encrypt - Elapsed time: 0:00:00.000513\n",
      "encrypt - x : 599,  Permutation_Pad[1], State vector: 10, Most frequent: 11\n",
      "encrypt - Elapsed time: 0:00:00.000545\n",
      "encrypt - x : 699,  Permutation_Pad[42], State vector: 01, Most frequent: 11\n",
      "encrypt - Elapsed time: 0:00:00.000579\n",
      "encrypt - x : 799,  Permutation_Pad[4], State vector: 10, Most frequent: 00\n",
      "encrypt - Elapsed time: 0:00:00.000609\n",
      "encrypt - x : 899,  Permutation_Pad[1], State vector: 10, Most frequent: 11\n",
      "encrypt - Elapsed time: 0:00:00.000639\n",
      "encrypt - x : 999,  Permutation_Pad[42], State vector: 10, Most frequent: 10\n",
      "encrypt - Elapsed time: 0:00:00.000670\n",
      "encrypt - x : 1099,  Permutation_Pad[4], State vector: 11, Most frequent: 01\n",
      "encrypt - Elapsed time: 0:00:00.000703\n",
      "encrypt - x : 1199,  Permutation_Pad[1], State vector: 10, Most frequent: 11\n",
      "encrypt - Elapsed time: 0:00:00.000733\n",
      "encrypt - x : 1299,  Permutation_Pad[42], State vector: 01, Most frequent: 11\n",
      "encrypt - Elapsed time: 0:00:00.000762\n",
      "encrypt - x : 1399,  Permutation_Pad[4], State vector: 01, Most frequent: 10\n",
      "encrypt - Elapsed time: 0:00:00.000792\n",
      "encrypt - x : 1499,  Permutation_Pad[1], State vector: 01, Most frequent: 10\n",
      "encrypt - Elapsed time: 0:00:00.000821\n",
      "encrypt - x : 1599,  Permutation_Pad[42], State vector: 00, Most frequent: 00\n",
      "encrypt - Elapsed time: 0:00:00.000851\n",
      "encrypt - x : 1699,  Permutation_Pad[4], State vector: 00, Most frequent: 11\n",
      "encrypt - Elapsed time: 0:00:00.000881\n",
      "encrypt - x : 1799,  Permutation_Pad[1], State vector: 10, Most frequent: 11\n",
      "encrypt - Elapsed time: 0:00:00.001121\n",
      "encrypt - x : 1899,  Permutation_Pad[42], State vector: 01, Most frequent: 11\n",
      "encrypt - Elapsed time: 0:00:00.001187\n",
      "encrypt - x : 1999,  Permutation_Pad[4], State vector: 00, Most frequent: 11\n",
      "encrypt - Elapsed time: 0:00:00.001218\n",
      "encrypt - x : 2099,  Permutation_Pad[1], State vector: 01, Most frequent: 10\n",
      "encrypt - Elapsed time: 0:00:00.001247\n",
      "encrypt - x : 2199,  Permutation_Pad[42], State vector: 10, Most frequent: 10\n",
      "encrypt - Elapsed time: 0:00:00.001275\n",
      "encrypt - x : 2299,  Permutation_Pad[4], State vector: 01, Most frequent: 10\n",
      "encrypt - Elapsed time: 0:00:00.001301\n",
      "encrypt - x : 2399,  Permutation_Pad[1], State vector: 10, Most frequent: 11\n",
      "encrypt - Elapsed time: 0:00:00.001326\n",
      "encrypt - x : 2499,  Permutation_Pad[42], State vector: 00, Most frequent: 00\n",
      "encrypt - Elapsed time: 0:00:00.001353\n",
      "encrypt - x : 2599,  Permutation_Pad[4], State vector: 10, Most frequent: 00\n",
      "encrypt - Elapsed time: 0:00:00.001379\n",
      "encrypt - x : 2699,  Permutation_Pad[1], State vector: 00, Most frequent: 01\n",
      "encrypt - Elapsed time: 0:00:00.001405\n",
      "encrypt - x : 2799,  Permutation_Pad[42], State vector: 10, Most frequent: 10\n",
      "encrypt - Elapsed time: 0:00:00.001430\n",
      "encrypt - x : 2899,  Permutation_Pad[4], State vector: 11, Most frequent: 01\n",
      "encrypt - Elapsed time: 0:00:00.001455\n",
      "encrypt - x : 2999,  Permutation_Pad[1], State vector: 10, Most frequent: 11\n",
      "encrypt - Elapsed time: 0:00:00.001480\n",
      "encrypt - x : 3099,  Permutation_Pad[42], State vector: 00, Most frequent: 00\n",
      "encrypt - Elapsed time: 0:00:00.001505\n",
      "encrypt - x : 3199,  Permutation_Pad[4], State vector: 01, Most frequent: 10\n",
      "encrypt - Elapsed time: 0:00:00.001530\n",
      "encrypt - x : 3299,  Permutation_Pad[1], State vector: 11, Most frequent: 00\n",
      "encrypt - Elapsed time: 0:00:00.001555\n",
      "encrypt - x : 3399,  Permutation_Pad[42], State vector: 00, Most frequent: 00\n",
      "encrypt - Elapsed time: 0:00:00.001579\n",
      "encrypt - x : 3499,  Permutation_Pad[4], State vector: 01, Most frequent: 10\n",
      "encrypt - Elapsed time: 0:00:00.001605\n",
      "encrypt - x : 3599,  Permutation_Pad[1], State vector: 00, Most frequent: 01\n",
      "encrypt - Elapsed time: 0:00:00.003582\n",
      "encrypt - x : 3699,  Permutation_Pad[42], State vector: 11, Most frequent: 01\n",
      "encrypt - Elapsed time: 0:00:00.003767\n",
      "encrypt - x : 3799,  Permutation_Pad[4], State vector: 11, Most frequent: 01\n",
      "encrypt - Elapsed time: 0:00:00.003796\n",
      "encrypt - x : 3899,  Permutation_Pad[1], State vector: 10, Most frequent: 11\n",
      "encrypt - Elapsed time: 0:00:00.003824\n",
      "encrypt - x : 3999,  Permutation_Pad[42], State vector: 00, Most frequent: 00\n",
      "encrypt - Elapsed time: 0:00:00.003850\n",
      "encrypt - x : 4099,  Permutation_Pad[4], State vector: 10, Most frequent: 00\n",
      "encrypt - Elapsed time: 0:00:00.003878\n",
      "encrypt - x : 4199,  Permutation_Pad[1], State vector: 10, Most frequent: 11\n",
      "encrypt - Elapsed time: 0:00:00.003904\n",
      "encrypt - x : 4299,  Permutation_Pad[42], State vector: 00, Most frequent: 00\n",
      "encrypt - Elapsed time: 0:00:00.003929\n",
      "encrypt - x : 4399,  Permutation_Pad[4], State vector: 00, Most frequent: 11\n",
      "encrypt - Elapsed time: 0:00:00.003955\n",
      "encrypt - x : 4499,  Permutation_Pad[1], State vector: 00, Most frequent: 01\n",
      "encrypt - Elapsed time: 0:00:00.003979\n",
      "encrypt - x : 4599,  Permutation_Pad[42], State vector: 01, Most frequent: 11\n",
      "encrypt - Elapsed time: 0:00:00.004006\n",
      "encrypt - x : 4699,  Permutation_Pad[4], State vector: 01, Most frequent: 10\n",
      "encrypt - Elapsed time: 0:00:00.004030\n",
      "encrypt - x : 4799,  Permutation_Pad[1], State vector: 01, Most frequent: 10\n",
      "encrypt - Elapsed time: 0:00:00.004054\n",
      "encrypt - x : 4899,  Permutation_Pad[42], State vector: 11, Most frequent: 01\n",
      "encrypt - Elapsed time: 0:00:00.004079\n",
      "encrypt - x : 4999,  Permutation_Pad[4], State vector: 01, Most frequent: 10\n",
      "encrypt - Elapsed time: 0:00:00.004104\n",
      "encrypt - x : 5099,  Permutation_Pad[1], State vector: 11, Most frequent: 00\n",
      "encrypt - Elapsed time: 0:00:00.004128\n",
      "encrypt - x : 5199,  Permutation_Pad[42], State vector: 00, Most frequent: 00\n",
      "encrypt - Elapsed time: 0:00:00.004161\n",
      "encrypt - x : 5299,  Permutation_Pad[4], State vector: 11, Most frequent: 01\n",
      "encrypt - Elapsed time: 0:00:00.004202\n",
      "encrypt - x : 5399,  Permutation_Pad[1], State vector: 10, Most frequent: 11\n",
      "encrypt - Elapsed time: 0:00:00.004232\n",
      "encrypt - x : 5499,  Permutation_Pad[42], State vector: 01, Most frequent: 11\n",
      "encrypt - Elapsed time: 0:00:00.004257\n",
      "encrypt - x : 5599,  Permutation_Pad[4], State vector: 01, Most frequent: 10\n",
      "encrypt - Elapsed time: 0:00:00.004284\n",
      "encrypt - x : 5699,  Permutation_Pad[1], State vector: 01, Most frequent: 10\n",
      "encrypt - Elapsed time: 0:00:00.004308\n",
      "encrypt - x : 5799,  Permutation_Pad[42], State vector: 11, Most frequent: 01\n",
      "encrypt - Elapsed time: 0:00:00.004350\n",
      "encrypt - x : 5899,  Permutation_Pad[4], State vector: 01, Most frequent: 10\n",
      "encrypt - Elapsed time: 0:00:00.004380\n",
      "encrypt - x : 5999,  Permutation_Pad[1], State vector: 11, Most frequent: 00\n",
      "encrypt - Elapsed time: 0:00:00.004405\n",
      "encrypt - x : 6099,  Permutation_Pad[42], State vector: 01, Most frequent: 11\n",
      "encrypt - Elapsed time: 0:00:00.004432\n",
      "encrypt - x : 6199,  Permutation_Pad[4], State vector: 10, Most frequent: 00\n",
      "encrypt - Elapsed time: 0:00:00.004458\n",
      "encrypt - x : 6299,  Permutation_Pad[1], State vector: 10, Most frequent: 11\n",
      "encrypt - Elapsed time: 0:00:00.004486\n",
      "encrypt - x : 6399,  Permutation_Pad[42], State vector: 10, Most frequent: 10\n",
      "encrypt - Elapsed time: 0:00:00.004513\n",
      "encrypt - x : 6499,  Permutation_Pad[4], State vector: 10, Most frequent: 00\n",
      "encrypt - Elapsed time: 0:00:00.004539\n",
      "encrypt - x : 6599,  Permutation_Pad[1], State vector: 11, Most frequent: 00\n",
      "encrypt - Elapsed time: 0:00:00.004566\n",
      "encrypt - x : 6699,  Permutation_Pad[42], State vector: 11, Most frequent: 01\n",
      "encrypt - Elapsed time: 0:00:00.004592\n",
      "encrypt - x : 6799,  Permutation_Pad[4], State vector: 10, Most frequent: 00\n",
      "encrypt - Elapsed time: 0:00:00.004619\n",
      "encrypt - x : 6899,  Permutation_Pad[1], State vector: 00, Most frequent: 01\n",
      "encrypt - Elapsed time: 0:00:00.004645\n",
      "encrypt - x : 6999,  Permutation_Pad[42], State vector: 00, Most frequent: 00\n",
      "encrypt - Elapsed time: 0:00:00.004715\n",
      "encrypt - x : 7099,  Permutation_Pad[4], State vector: 10, Most frequent: 00\n",
      "encrypt - Elapsed time: 0:00:00.004741\n",
      "encrypt - x : 7199,  Permutation_Pad[1], State vector: 00, Most frequent: 01\n",
      "encrypt - Elapsed time: 0:00:00.004768\n",
      "encrypt - x : 7299,  Permutation_Pad[42], State vector: 11, Most frequent: 01\n",
      "encrypt - Elapsed time: 0:00:00.004793\n",
      "encrypt - x : 7399,  Permutation_Pad[4], State vector: 01, Most frequent: 10\n",
      "encrypt - Elapsed time: 0:00:00.004819\n",
      "encrypt - x : 7499,  Permutation_Pad[1], State vector: 11, Most frequent: 00\n",
      "encrypt - Elapsed time: 0:00:00.004845\n",
      "encrypt - x : 7599,  Permutation_Pad[42], State vector: 01, Most frequent: 11\n",
      "encrypt - Elapsed time: 0:00:00.004871\n",
      "encrypt - x : 7699,  Permutation_Pad[4], State vector: 11, Most frequent: 01\n",
      "encrypt - Elapsed time: 0:00:00.004897\n",
      "encrypt - x : 7799,  Permutation_Pad[1], State vector: 10, Most frequent: 11\n",
      "encrypt - Elapsed time: 0:00:00.004922\n",
      "encrypt - x : 7899,  Permutation_Pad[42], State vector: 10, Most frequent: 10\n",
      "encrypt - Elapsed time: 0:00:00.004948\n",
      "encrypt - x : 7999,  Permutation_Pad[4], State vector: 11, Most frequent: 01\n",
      "encrypt - Elapsed time: 0:00:00.004974\n",
      "encrypt - x : 8099,  Permutation_Pad[1], State vector: 00, Most frequent: 01\n",
      "encrypt - Elapsed time: 0:00:00.005000\n",
      "encrypt - x : 8199,  Permutation_Pad[42], State vector: 01, Most frequent: 11\n",
      "encrypt - Elapsed time: 0:00:00.005026\n",
      "encrypt - x : 8299,  Permutation_Pad[4], State vector: 10, Most frequent: 00\n",
      "encrypt - Elapsed time: 0:00:00.005052\n",
      "encrypt - x : 8399,  Permutation_Pad[1], State vector: 01, Most frequent: 10\n",
      "encrypt - Elapsed time: 0:00:00.005077\n",
      "encrypt - x : 8499,  Permutation_Pad[42], State vector: 11, Most frequent: 01\n",
      "encrypt - Elapsed time: 0:00:00.005103\n",
      "encrypt - x : 8599,  Permutation_Pad[4], State vector: 01, Most frequent: 10\n",
      "encrypt - Elapsed time: 0:00:00.005129\n",
      "encrypt - x : 8699,  Permutation_Pad[1], State vector: 11, Most frequent: 00\n",
      "encrypt - Elapsed time: 0:00:00.005158\n",
      "encrypt - x : 8799,  Permutation_Pad[42], State vector: 11, Most frequent: 01\n",
      "encrypt - Elapsed time: 0:00:00.005184\n",
      "encrypt - x : 8899,  Permutation_Pad[4], State vector: 11, Most frequent: 01\n",
      "encrypt - Elapsed time: 0:00:00.005210\n",
      "encrypt - x : 8999,  Permutation_Pad[1], State vector: 11, Most frequent: 00\n",
      "encrypt - Elapsed time: 0:00:00.005236\n",
      "encrypt - x : 9099,  Permutation_Pad[42], State vector: 01, Most frequent: 11\n",
      "encrypt - Elapsed time: 0:00:00.005261\n",
      "encrypt - x : 9199,  Permutation_Pad[4], State vector: 11, Most frequent: 01\n",
      "encrypt - Elapsed time: 0:00:00.005661\n",
      "encrypt - x : 9299,  Permutation_Pad[1], State vector: 00, Most frequent: 01\n",
      "encrypt - Elapsed time: 0:00:00.005699\n",
      "encrypt - x : 9399,  Permutation_Pad[42], State vector: 10, Most frequent: 10\n",
      "encrypt - Elapsed time: 0:00:00.005730\n",
      "encrypt - x : 9499,  Permutation_Pad[4], State vector: 00, Most frequent: 11\n",
      "encrypt - Elapsed time: 0:00:00.005761\n",
      "encrypt - x : 9599,  Permutation_Pad[1], State vector: 10, Most frequent: 11\n",
      "encrypt - Elapsed time: 0:00:00.005790\n",
      "encrypt - x : 9699,  Permutation_Pad[42], State vector: 11, Most frequent: 01\n",
      "encrypt - Elapsed time: 0:00:00.005820\n",
      "encrypt - x : 9799,  Permutation_Pad[4], State vector: 01, Most frequent: 10\n",
      "encrypt - Elapsed time: 0:00:00.005850\n",
      "encrypt - x : 9899,  Permutation_Pad[1], State vector: 11, Most frequent: 00\n",
      "encrypt - Elapsed time: 0:00:00.005879\n",
      "encrypt - x : 9999,  Permutation_Pad[42], State vector: 01, Most frequent: 11\n",
      "encrypt - Elapsed time: 0:00:00.005908\n",
      "encrypt - x : 10099,  Permutation_Pad[4], State vector: 01, Most frequent: 10\n",
      "encrypt - Elapsed time: 0:00:00.005937\n",
      "encrypt - x : 10199,  Permutation_Pad[1], State vector: 01, Most frequent: 10\n",
      "encrypt - Elapsed time: 0:00:00.005967\n",
      "encrypt - x : 10299,  Permutation_Pad[42], State vector: 10, Most frequent: 10\n",
      "encrypt - Elapsed time: 0:00:00.005996\n",
      "encrypt - x : 10399,  Permutation_Pad[4], State vector: 11, Most frequent: 01\n",
      "encrypt - Elapsed time: 0:00:00.006025\n",
      "encrypt - x : 10499,  Permutation_Pad[1], State vector: 11, Most frequent: 00\n",
      "encrypt - Elapsed time: 0:00:00.006054\n",
      "encrypt - x : 10599,  Permutation_Pad[42], State vector: 11, Most frequent: 01\n",
      "encrypt - Elapsed time: 0:00:00.006083\n",
      "encrypt - x : 10699,  Permutation_Pad[4], State vector: 01, Most frequent: 10\n",
      "encrypt - Elapsed time: 0:00:00.006120\n",
      "encrypt - x : 10799,  Permutation_Pad[1], State vector: 11, Most frequent: 00\n",
      "encrypt - Elapsed time: 0:00:00.006150\n",
      "encrypt - x : 10899,  Permutation_Pad[42], State vector: 00, Most frequent: 00\n",
      "encrypt - Elapsed time: 0:00:00.006178\n",
      "encrypt - x : 10999,  Permutation_Pad[4], State vector: 01, Most frequent: 10\n",
      "encrypt - Elapsed time: 0:00:00.006207\n",
      "encrypt - x : 11099,  Permutation_Pad[1], State vector: 00, Most frequent: 01\n",
      "encrypt - Elapsed time: 0:00:00.006236\n",
      "encrypt - x : 11199,  Permutation_Pad[42], State vector: 10, Most frequent: 10\n",
      "encrypt - Elapsed time: 0:00:00.006265\n",
      "encrypt - x : 11299,  Permutation_Pad[4], State vector: 01, Most frequent: 10\n",
      "encrypt - Elapsed time: 0:00:00.006294\n",
      "encrypt - x : 11399,  Permutation_Pad[1], State vector: 01, Most frequent: 10\n",
      "encrypt - Elapsed time: 0:00:00.006324\n",
      "encrypt - x : 11499,  Permutation_Pad[42], State vector: 10, Most frequent: 10\n",
      "encrypt - Elapsed time: 0:00:00.006354\n",
      "encrypt - x : 11599,  Permutation_Pad[4], State vector: 01, Most frequent: 10\n",
      "encrypt - Elapsed time: 0:00:00.006382\n",
      "encrypt - x : 11699,  Permutation_Pad[1], State vector: 10, Most frequent: 11\n",
      "encrypt - Elapsed time: 0:00:00.006412\n",
      "encrypt - x : 11799,  Permutation_Pad[42], State vector: 01, Most frequent: 11\n",
      "encrypt - Elapsed time: 0:00:00.006440\n",
      "encrypt - x : 11899,  Permutation_Pad[4], State vector: 00, Most frequent: 11\n",
      "encrypt - Elapsed time: 0:00:00.006469\n",
      "encrypt - x : 11999,  Permutation_Pad[1], State vector: 11, Most frequent: 00\n",
      "encrypt - Elapsed time: 0:00:00.006498\n",
      "encrypt - x : 12099,  Permutation_Pad[42], State vector: 00, Most frequent: 00\n",
      "encrypt - Elapsed time: 0:00:00.006528\n",
      "encrypt - x : 12199,  Permutation_Pad[4], State vector: 10, Most frequent: 00\n",
      "encrypt - Elapsed time: 0:00:00.006557\n",
      "encrypt - x : 12299,  Permutation_Pad[1], State vector: 11, Most frequent: 00\n",
      "encrypt - Elapsed time: 0:00:00.006585\n",
      "encrypt - x : 12399,  Permutation_Pad[42], State vector: 10, Most frequent: 10\n",
      "encrypt - Elapsed time: 0:00:00.006614\n",
      "encrypt - x : 12499,  Permutation_Pad[4], State vector: 11, Most frequent: 01\n",
      "encrypt - Elapsed time: 0:00:00.006643\n",
      "encrypt - x : 12599,  Permutation_Pad[1], State vector: 00, Most frequent: 01\n",
      "encrypt - Elapsed time: 0:00:00.006673\n",
      "encrypt - x : 12699,  Permutation_Pad[42], State vector: 11, Most frequent: 01\n",
      "encrypt - Elapsed time: 0:00:00.006701\n",
      "encrypt - x : 12799,  Permutation_Pad[4], State vector: 01, Most frequent: 10\n",
      "encrypt - Elapsed time: 0:00:00.006731\n",
      "encrypt - x : 12899,  Permutation_Pad[1], State vector: 00, Most frequent: 01\n",
      "encrypt - Elapsed time: 0:00:00.006760\n",
      "encrypt - x : 12999,  Permutation_Pad[42], State vector: 01, Most frequent: 11\n",
      "encrypt - Elapsed time: 0:00:00.006789\n",
      "encrypt - x : 13099,  Permutation_Pad[4], State vector: 11, Most frequent: 01\n",
      "encrypt - Elapsed time: 0:00:00.006837\n",
      "encrypt - x : 13199,  Permutation_Pad[1], State vector: 10, Most frequent: 11\n",
      "encrypt - Elapsed time: 0:00:00.006869\n",
      "encrypt - x : 13299,  Permutation_Pad[42], State vector: 10, Most frequent: 10\n",
      "encrypt - Elapsed time: 0:00:00.006899\n",
      "encrypt - x : 13399,  Permutation_Pad[4], State vector: 11, Most frequent: 01\n",
      "encrypt - Elapsed time: 0:00:00.006928\n",
      "encrypt - x : 13499,  Permutation_Pad[1], State vector: 01, Most frequent: 10\n",
      "encrypt - Elapsed time: 0:00:00.006958\n",
      "encrypt - x : 13599,  Permutation_Pad[42], State vector: 00, Most frequent: 00\n",
      "encrypt - Elapsed time: 0:00:00.006986\n",
      "encrypt - x : 13699,  Permutation_Pad[4], State vector: 10, Most frequent: 00\n",
      "encrypt - Elapsed time: 0:00:00.007015\n",
      "encrypt - x : 13799,  Permutation_Pad[1], State vector: 00, Most frequent: 01\n",
      "encrypt - Elapsed time: 0:00:00.007045\n",
      "encrypt - x : 13899,  Permutation_Pad[42], State vector: 00, Most frequent: 00\n",
      "encrypt - Elapsed time: 0:00:00.007074\n",
      "encrypt - x : 13999,  Permutation_Pad[4], State vector: 00, Most frequent: 11\n",
      "encrypt - Elapsed time: 0:00:00.007130\n",
      "encrypt - x : 14099,  Permutation_Pad[1], State vector: 01, Most frequent: 10\n",
      "encrypt - Elapsed time: 0:00:00.007161\n",
      "encrypt - x : 14199,  Permutation_Pad[42], State vector: 00, Most frequent: 00\n",
      "encrypt - Elapsed time: 0:00:00.007190\n",
      "encrypt - x : 14299,  Permutation_Pad[4], State vector: 01, Most frequent: 10\n",
      "encrypt - Elapsed time: 0:00:00.007219\n",
      "encrypt - x : 14399,  Permutation_Pad[1], State vector: 11, Most frequent: 00\n",
      "encrypt - Elapsed time: 0:00:00.007248\n",
      "encrypt - x : 14499,  Permutation_Pad[42], State vector: 00, Most frequent: 00\n",
      "encrypt - Elapsed time: 0:00:00.007277\n",
      "encrypt - x : 14599,  Permutation_Pad[4], State vector: 01, Most frequent: 10\n",
      "encrypt - Elapsed time: 0:00:00.007307\n",
      "encrypt - x : 14699,  Permutation_Pad[1], State vector: 11, Most frequent: 00\n",
      "encrypt - Elapsed time: 0:00:00.007337\n",
      "encrypt - x : 14799,  Permutation_Pad[42], State vector: 00, Most frequent: 00\n",
      "encrypt - Elapsed time: 0:00:00.007366\n",
      "encrypt - x : 14899,  Permutation_Pad[4], State vector: 01, Most frequent: 10\n",
      "encrypt - Elapsed time: 0:00:00.007396\n",
      "encrypt - x : 14999,  Permutation_Pad[1], State vector: 01, Most frequent: 10\n",
      "encrypt - Elapsed time: 0:00:00.007425\n",
      "encrypt - x : 15099,  Permutation_Pad[42], State vector: 01, Most frequent: 11\n",
      "encrypt - Elapsed time: 0:00:00.007453\n",
      "encrypt - x : 15199,  Permutation_Pad[4], State vector: 01, Most frequent: 10\n",
      "encrypt - Elapsed time: 0:00:00.007483\n",
      "encrypt - x : 15299,  Permutation_Pad[1], State vector: 11, Most frequent: 00\n",
      "encrypt - Elapsed time: 0:00:00.007512\n",
      "encrypt - x : 15399,  Permutation_Pad[42], State vector: 10, Most frequent: 10\n",
      "encrypt - Elapsed time: 0:00:00.007541\n",
      "encrypt - x : 15499,  Permutation_Pad[4], State vector: 10, Most frequent: 00\n",
      "encrypt - Elapsed time: 0:00:00.007570\n",
      "encrypt - x : 15599,  Permutation_Pad[1], State vector: 00, Most frequent: 01\n",
      "encrypt - Elapsed time: 0:00:00.007599\n",
      "encrypt - x : 15699,  Permutation_Pad[42], State vector: 10, Most frequent: 10\n",
      "encrypt - Elapsed time: 0:00:00.007660\n",
      "encrypt - x : 15799,  Permutation_Pad[4], State vector: 01, Most frequent: 10\n",
      "encrypt - Elapsed time: 0:00:00.007695\n",
      "encrypt - x : 15899,  Permutation_Pad[1], State vector: 10, Most frequent: 11\n",
      "encrypt - Elapsed time: 0:00:00.007726\n",
      "encrypt - x : 15999,  Permutation_Pad[42], State vector: 11, Most frequent: 01\n",
      "encrypt - Elapsed time: 0:00:00.007755\n",
      "encrypt - x : 16099,  Permutation_Pad[4], State vector: 00, Most frequent: 11\n",
      "encrypt - Elapsed time: 0:00:00.007784\n",
      "encrypt - x : 16199,  Permutation_Pad[1], State vector: 00, Most frequent: 01\n",
      "encrypt - Elapsed time: 0:00:00.007814\n",
      "encrypt - x : 16299,  Permutation_Pad[42], State vector: 10, Most frequent: 10\n",
      "encrypt - Elapsed time: 0:00:00.007843\n",
      "encrypt - x : 16399,  Permutation_Pad[4], State vector: 11, Most frequent: 01\n",
      "encrypt - Elapsed time: 0:00:00.007872\n",
      "encrypt - x : 16499,  Permutation_Pad[1], State vector: 11, Most frequent: 00\n",
      "encrypt - Elapsed time: 0:00:00.007902\n",
      "encrypt - x : 16599,  Permutation_Pad[42], State vector: 01, Most frequent: 11\n",
      "encrypt - Elapsed time: 0:00:00.007931\n",
      "encrypt - x : 16699,  Permutation_Pad[4], State vector: 10, Most frequent: 00\n",
      "encrypt - Elapsed time: 0:00:00.007960\n",
      "encrypt - x : 16799,  Permutation_Pad[1], State vector: 00, Most frequent: 01\n",
      "encrypt - Elapsed time: 0:00:00.007989\n",
      "encrypt - x : 16899,  Permutation_Pad[42], State vector: 01, Most frequent: 11\n",
      "encrypt - Elapsed time: 0:00:00.008017\n",
      "encrypt - x : 16999,  Permutation_Pad[4], State vector: 11, Most frequent: 01\n",
      "encrypt - Elapsed time: 0:00:00.008046\n",
      "encrypt - x : 17099,  Permutation_Pad[1], State vector: 10, Most frequent: 11\n",
      "encrypt - Elapsed time: 0:00:00.008075\n",
      "encrypt - x : 17199,  Permutation_Pad[42], State vector: 00, Most frequent: 00\n",
      "encrypt - Elapsed time: 0:00:00.008105\n",
      "encrypt - x : 17299,  Permutation_Pad[4], State vector: 10, Most frequent: 00\n",
      "encrypt - Elapsed time: 0:00:00.008134\n",
      "encrypt - x : 17399,  Permutation_Pad[1], State vector: 00, Most frequent: 01\n",
      "encrypt - Elapsed time: 0:00:00.008163\n",
      "encrypt - x : 17499,  Permutation_Pad[42], State vector: 01, Most frequent: 11\n",
      "encrypt - Elapsed time: 0:00:00.008192\n",
      "encrypt - x : 17599,  Permutation_Pad[4], State vector: 10, Most frequent: 00\n",
      "encrypt - Elapsed time: 0:00:00.008221\n",
      "encrypt - x : 17699,  Permutation_Pad[1], State vector: 01, Most frequent: 10\n",
      "encrypt - Elapsed time: 0:00:00.008250\n",
      "encrypt - x : 17799,  Permutation_Pad[42], State vector: 00, Most frequent: 00\n",
      "encrypt - Elapsed time: 0:00:00.008279\n",
      "encrypt - x : 17899,  Permutation_Pad[4], State vector: 00, Most frequent: 11\n",
      "encrypt - Elapsed time: 0:00:00.008308\n",
      "encrypt - x : 17999,  Permutation_Pad[1], State vector: 01, Most frequent: 10\n",
      "encrypt - Elapsed time: 0:00:00.008337\n",
      "encrypt - x : 18099,  Permutation_Pad[42], State vector: 00, Most frequent: 00\n",
      "encrypt - Elapsed time: 0:00:00.008365\n",
      "encrypt - x : 18199,  Permutation_Pad[4], State vector: 00, Most frequent: 11\n",
      "encrypt - Elapsed time: 0:00:00.008395\n",
      "encrypt - x : 18299,  Permutation_Pad[1], State vector: 00, Most frequent: 01\n",
      "encrypt - Elapsed time: 0:00:00.008424\n",
      "encrypt - x : 18399,  Permutation_Pad[42], State vector: 11, Most frequent: 01\n",
      "encrypt - Elapsed time: 0:00:00.008454\n",
      "encrypt - x : 18499,  Permutation_Pad[4], State vector: 11, Most frequent: 01\n",
      "encrypt - Elapsed time: 0:00:00.008484\n",
      "encrypt - x : 18599,  Permutation_Pad[1], State vector: 10, Most frequent: 11\n",
      "encrypt - Elapsed time: 0:00:00.008513\n",
      "encrypt - x : 18699,  Permutation_Pad[42], State vector: 11, Most frequent: 01\n",
      "encrypt - Elapsed time: 0:00:00.008542\n",
      "encrypt - x : 18799,  Permutation_Pad[4], State vector: 01, Most frequent: 10\n",
      "encrypt - Elapsed time: 0:00:00.008571\n",
      "encrypt - x : 18899,  Permutation_Pad[1], State vector: 00, Most frequent: 01\n",
      "encrypt - Elapsed time: 0:00:00.008601\n",
      "encrypt - x : 18999,  Permutation_Pad[42], State vector: 01, Most frequent: 11\n",
      "encrypt - Elapsed time: 0:00:00.008631\n",
      "encrypt - x : 19099,  Permutation_Pad[4], State vector: 10, Most frequent: 00\n",
      "encrypt - Elapsed time: 0:00:00.008661\n",
      "encrypt - x : 19199,  Permutation_Pad[1], State vector: 01, Most frequent: 10\n",
      "encrypt - Elapsed time: 0:00:00.008689\n",
      "encrypt - x : 19299,  Permutation_Pad[42], State vector: 01, Most frequent: 11\n",
      "encrypt - Elapsed time: 0:00:00.008718\n",
      "encrypt - x : 19399,  Permutation_Pad[4], State vector: 11, Most frequent: 01\n",
      "encrypt - Elapsed time: 0:00:00.008748\n",
      "encrypt - x : 19499,  Permutation_Pad[1], State vector: 10, Most frequent: 11\n",
      "encrypt - Elapsed time: 0:00:00.008777\n",
      "encrypt - x : 19599,  Permutation_Pad[42], State vector: 11, Most frequent: 01\n",
      "encrypt - Elapsed time: 0:00:00.008817\n",
      "encrypt - x : 19699,  Permutation_Pad[4], State vector: 10, Most frequent: 00\n",
      "encrypt - Elapsed time: 0:00:00.008852\n",
      "encrypt - x : 19799,  Permutation_Pad[1], State vector: 10, Most frequent: 11\n",
      "encrypt - Elapsed time: 0:00:00.008882\n",
      "encrypt - x : 19899,  Permutation_Pad[42], State vector: 11, Most frequent: 01\n",
      "encrypt - Elapsed time: 0:00:00.008911\n",
      "encrypt - x : 19999,  Permutation_Pad[4], State vector: 10, Most frequent: 00\n",
      "encrypt - Elapsed time: 0:00:00.008940\n",
      "encrypt - x : 20099,  Permutation_Pad[1], State vector: 00, Most frequent: 01\n",
      "encrypt - Elapsed time: 0:00:00.008970\n",
      "encrypt - x : 20199,  Permutation_Pad[42], State vector: 11, Most frequent: 01\n",
      "encrypt - Elapsed time: 0:00:00.008999\n",
      "encrypt - x : 20299,  Permutation_Pad[4], State vector: 11, Most frequent: 01\n",
      "encrypt - Elapsed time: 0:00:00.009028\n",
      "encrypt - x : 20399,  Permutation_Pad[1], State vector: 11, Most frequent: 00\n",
      "encrypt - Elapsed time: 0:00:00.009057\n",
      "encrypt - x : 20499,  Permutation_Pad[42], State vector: 11, Most frequent: 01\n",
      "encrypt - Elapsed time: 0:00:00.009087\n",
      "encrypt - x : 20599,  Permutation_Pad[4], State vector: 10, Most frequent: 00\n",
      "encrypt - Elapsed time: 0:00:00.009117\n",
      "encrypt - x : 20699,  Permutation_Pad[1], State vector: 00, Most frequent: 01\n",
      "encrypt - Elapsed time: 0:00:00.009148\n",
      "encrypt - x : 20799,  Permutation_Pad[42], State vector: 01, Most frequent: 11\n",
      "encrypt - Elapsed time: 0:00:00.009178\n",
      "encrypt - x : 20899,  Permutation_Pad[4], State vector: 11, Most frequent: 01\n",
      "encrypt - Elapsed time: 0:00:00.009207\n",
      "encrypt - x : 20999,  Permutation_Pad[1], State vector: 00, Most frequent: 01\n",
      "encrypt - Elapsed time: 0:00:00.009253\n",
      "encrypt - x : 21099,  Permutation_Pad[42], State vector: 11, Most frequent: 01\n",
      "encrypt - Elapsed time: 0:00:00.009284\n",
      "encrypt - x : 21199,  Permutation_Pad[4], State vector: 00, Most frequent: 11\n",
      "encrypt - Elapsed time: 0:00:00.009313\n",
      "encrypt - x : 21299,  Permutation_Pad[1], State vector: 10, Most frequent: 11\n",
      "encrypt - Elapsed time: 0:00:00.009343\n",
      "encrypt - x : 21399,  Permutation_Pad[42], State vector: 00, Most frequent: 00\n",
      "encrypt - Elapsed time: 0:00:00.009372\n",
      "encrypt - x : 21499,  Permutation_Pad[4], State vector: 01, Most frequent: 10\n",
      "encrypt - Elapsed time: 0:00:00.009401\n",
      "encrypt - x : 21599,  Permutation_Pad[1], State vector: 10, Most frequent: 11\n",
      "encrypt - Elapsed time: 0:00:00.009431\n",
      "encrypt - x : 21699,  Permutation_Pad[42], State vector: 10, Most frequent: 10\n",
      "encrypt - Elapsed time: 0:00:00.009461\n",
      "encrypt - x : 21799,  Permutation_Pad[4], State vector: 11, Most frequent: 01\n",
      "encrypt - Elapsed time: 0:00:00.009490\n",
      "encrypt - x : 21899,  Permutation_Pad[1], State vector: 01, Most frequent: 10\n",
      "encrypt - Elapsed time: 0:00:00.009519\n",
      "encrypt - x : 21999,  Permutation_Pad[42], State vector: 01, Most frequent: 11\n",
      "encrypt - Elapsed time: 0:00:00.009548\n",
      "encrypt - x : 22099,  Permutation_Pad[4], State vector: 00, Most frequent: 11\n",
      "encrypt - Elapsed time: 0:00:00.009578\n",
      "encrypt - x : 22199,  Permutation_Pad[1], State vector: 11, Most frequent: 00\n",
      "encrypt - Elapsed time: 0:00:00.009607\n",
      "encrypt - x : 22299,  Permutation_Pad[42], State vector: 01, Most frequent: 11\n",
      "encrypt - Elapsed time: 0:00:00.009637\n",
      "encrypt - x : 22399,  Permutation_Pad[4], State vector: 00, Most frequent: 11\n",
      "encrypt - Elapsed time: 0:00:00.009668\n",
      "encrypt - x : 22499,  Permutation_Pad[1], State vector: 11, Most frequent: 00\n",
      "encrypt - Elapsed time: 0:00:00.009697\n",
      "encrypt - x : 22599,  Permutation_Pad[42], State vector: 11, Most frequent: 01\n",
      "encrypt - Elapsed time: 0:00:00.009725\n",
      "encrypt - x : 22699,  Permutation_Pad[4], State vector: 10, Most frequent: 00\n",
      "encrypt - Elapsed time: 0:00:00.009753\n",
      "encrypt - x : 22799,  Permutation_Pad[1], State vector: 11, Most frequent: 00\n",
      "encrypt - Elapsed time: 0:00:00.009782\n",
      "encrypt - x : 22899,  Permutation_Pad[42], State vector: 00, Most frequent: 00\n",
      "encrypt - Elapsed time: 0:00:00.009811\n",
      "encrypt - x : 22999,  Permutation_Pad[4], State vector: 00, Most frequent: 11\n",
      "encrypt - Elapsed time: 0:00:00.009839\n",
      "encrypt - x : 23099,  Permutation_Pad[1], State vector: 00, Most frequent: 01\n",
      "encrypt - Elapsed time: 0:00:00.009868\n",
      "encrypt - x : 23199,  Permutation_Pad[42], State vector: 00, Most frequent: 00\n",
      "encrypt - Elapsed time: 0:00:00.009896\n",
      "encrypt - x : 23299,  Permutation_Pad[4], State vector: 01, Most frequent: 10\n",
      "encrypt - Elapsed time: 0:00:00.009925\n",
      "encrypt - x : 23399,  Permutation_Pad[1], State vector: 11, Most frequent: 00\n",
      "encrypt - Elapsed time: 0:00:00.009954\n",
      "encrypt - x : 23499,  Permutation_Pad[42], State vector: 01, Most frequent: 11\n",
      "encrypt - Elapsed time: 0:00:00.009983\n",
      "encrypt - x : 23599,  Permutation_Pad[4], State vector: 00, Most frequent: 11\n",
      "encrypt - Elapsed time: 0:00:00.011388\n",
      "encrypt - x : 23699,  Permutation_Pad[1], State vector: 10, Most frequent: 11\n",
      "encrypt - Elapsed time: 0:00:00.011448\n",
      "encrypt - x : 23799,  Permutation_Pad[42], State vector: 10, Most frequent: 10\n",
      "encrypt - Elapsed time: 0:00:00.011476\n",
      "encrypt - x : 23899,  Permutation_Pad[4], State vector: 01, Most frequent: 10\n",
      "encrypt - Elapsed time: 0:00:00.011503\n",
      "encrypt - x : 23999,  Permutation_Pad[1], State vector: 01, Most frequent: 10\n",
      "encrypt - Elapsed time: 0:00:00.011528\n",
      "encrypt - x : 24099,  Permutation_Pad[42], State vector: 01, Most frequent: 11\n",
      "encrypt - Elapsed time: 0:00:00.011554\n",
      "encrypt - x : 24199,  Permutation_Pad[4], State vector: 00, Most frequent: 11\n",
      "encrypt - Elapsed time: 0:00:00.011579\n",
      "encrypt - x : 24299,  Permutation_Pad[1], State vector: 10, Most frequent: 11\n",
      "encrypt - Elapsed time: 0:00:00.011604\n",
      "encrypt - x : 24399,  Permutation_Pad[42], State vector: 11, Most frequent: 01\n",
      "encrypt - Elapsed time: 0:00:00.011629\n",
      "encrypt - x : 24499,  Permutation_Pad[4], State vector: 00, Most frequent: 11\n",
      "encrypt - Elapsed time: 0:00:00.011654\n",
      "encrypt - x : 24599,  Permutation_Pad[1], State vector: 00, Most frequent: 01\n",
      "encrypt - Elapsed time: 0:00:00.011679\n",
      "encrypt - x : 24699,  Permutation_Pad[42], State vector: 11, Most frequent: 01\n",
      "encrypt - Elapsed time: 0:00:00.011705\n",
      "encrypt - x : 24799,  Permutation_Pad[4], State vector: 10, Most frequent: 00\n",
      "encrypt - Elapsed time: 0:00:00.011739\n",
      "encrypt - x : 24899,  Permutation_Pad[1], State vector: 00, Most frequent: 01\n",
      "encrypt - Elapsed time: 0:00:00.011769\n",
      "encrypt - x : 24999,  Permutation_Pad[42], State vector: 00, Most frequent: 00\n",
      "encrypt - Elapsed time: 0:00:00.011795\n",
      "encrypt - x : 25099,  Permutation_Pad[4], State vector: 10, Most frequent: 00\n",
      "encrypt - Elapsed time: 0:00:00.011819\n",
      "encrypt - x : 25199,  Permutation_Pad[1], State vector: 11, Most frequent: 00\n",
      "encrypt - Elapsed time: 0:00:00.011844\n",
      "encrypt - x : 25299,  Permutation_Pad[42], State vector: 01, Most frequent: 11\n",
      "encrypt - Elapsed time: 0:00:00.011869\n",
      "encrypt - x : 25399,  Permutation_Pad[4], State vector: 10, Most frequent: 00\n",
      "encrypt - Elapsed time: 0:00:00.011894\n",
      "encrypt - x : 25499,  Permutation_Pad[1], State vector: 10, Most frequent: 11\n",
      "encrypt - Elapsed time: 0:00:00.011919\n",
      "encrypt - x : 25599,  Permutation_Pad[42], State vector: 10, Most frequent: 10\n",
      "encrypt - Elapsed time: 0:00:00.011945\n",
      "encrypt - x : 25699,  Permutation_Pad[4], State vector: 11, Most frequent: 01\n",
      "encrypt - Elapsed time: 0:00:00.011970\n",
      "encrypt - x : 25799,  Permutation_Pad[1], State vector: 11, Most frequent: 00\n",
      "encrypt - Elapsed time: 0:00:00.011995\n",
      "encrypt - x : 25899,  Permutation_Pad[42], State vector: 10, Most frequent: 10\n",
      "encrypt - Elapsed time: 0:00:00.012020\n",
      "encrypt - x : 25999,  Permutation_Pad[4], State vector: 10, Most frequent: 00\n",
      "encrypt - Elapsed time: 0:00:00.012045\n",
      "encrypt - x : 26099,  Permutation_Pad[1], State vector: 01, Most frequent: 10\n",
      "encrypt - Elapsed time: 0:00:00.012070\n",
      "encrypt - x : 26199,  Permutation_Pad[42], State vector: 11, Most frequent: 01\n",
      "encrypt - Elapsed time: 0:00:00.012094\n",
      "encrypt - x : 26299,  Permutation_Pad[4], State vector: 11, Most frequent: 01\n",
      "encrypt - Elapsed time: 0:00:00.012119\n",
      "encrypt - x : 26399,  Permutation_Pad[1], State vector: 00, Most frequent: 01\n",
      "encrypt - Elapsed time: 0:00:00.012144\n",
      "encrypt - x : 26499,  Permutation_Pad[42], State vector: 11, Most frequent: 01\n",
      "encrypt - Elapsed time: 0:00:00.012169\n",
      "encrypt - x : 26599,  Permutation_Pad[4], State vector: 11, Most frequent: 01\n",
      "encrypt - Elapsed time: 0:00:00.012194\n",
      "encrypt - x : 26699,  Permutation_Pad[1], State vector: 01, Most frequent: 10\n",
      "encrypt - Elapsed time: 0:00:00.012219\n",
      "encrypt - x : 26799,  Permutation_Pad[42], State vector: 11, Most frequent: 01\n",
      "encrypt - Elapsed time: 0:00:00.012244\n",
      "encrypt - x : 26899,  Permutation_Pad[4], State vector: 11, Most frequent: 01\n",
      "encrypt - Elapsed time: 0:00:00.012270\n",
      "encrypt - x : 26999,  Permutation_Pad[1], State vector: 10, Most frequent: 11\n",
      "encrypt - Elapsed time: 0:00:00.012295\n",
      "encrypt - x : 27099,  Permutation_Pad[42], State vector: 00, Most frequent: 00\n",
      "encrypt - Elapsed time: 0:00:00.012320\n",
      "encrypt - x : 27199,  Permutation_Pad[4], State vector: 11, Most frequent: 01\n",
      "encrypt - Elapsed time: 0:00:00.012345\n",
      "encrypt - x : 27299,  Permutation_Pad[1], State vector: 11, Most frequent: 00\n",
      "encrypt - Elapsed time: 0:00:00.012370\n",
      "encrypt - x : 27399,  Permutation_Pad[42], State vector: 00, Most frequent: 00\n",
      "encrypt - Elapsed time: 0:00:00.012396\n",
      "encrypt - x : 27499,  Permutation_Pad[4], State vector: 00, Most frequent: 11\n",
      "encrypt - Elapsed time: 0:00:00.012421\n",
      "encrypt - x : 27599,  Permutation_Pad[1], State vector: 01, Most frequent: 10\n",
      "encrypt - Elapsed time: 0:00:00.012447\n",
      "encrypt - x : 27699,  Permutation_Pad[42], State vector: 00, Most frequent: 00\n",
      "encrypt - Elapsed time: 0:00:00.012473\n",
      "encrypt - x : 27799,  Permutation_Pad[4], State vector: 01, Most frequent: 10\n",
      "encrypt - Elapsed time: 0:00:00.012499\n",
      "encrypt - x : 27899,  Permutation_Pad[1], State vector: 10, Most frequent: 11\n",
      "encrypt - Elapsed time: 0:00:00.012525\n",
      "encrypt - x : 27999,  Permutation_Pad[42], State vector: 01, Most frequent: 11\n",
      "encrypt - Elapsed time: 0:00:00.012573\n",
      "encrypt - x : 28099,  Permutation_Pad[4], State vector: 01, Most frequent: 10\n",
      "encrypt - Elapsed time: 0:00:00.012600\n",
      "encrypt - x : 28199,  Permutation_Pad[1], State vector: 00, Most frequent: 01\n",
      "encrypt - Elapsed time: 0:00:00.012627\n",
      "encrypt - x : 28299,  Permutation_Pad[42], State vector: 10, Most frequent: 10\n",
      "encrypt - Elapsed time: 0:00:00.012653\n",
      "encrypt - x : 28399,  Permutation_Pad[4], State vector: 10, Most frequent: 00\n",
      "encrypt - Elapsed time: 0:00:00.012679\n",
      "encrypt - x : 28499,  Permutation_Pad[1], State vector: 11, Most frequent: 00\n",
      "encrypt - Elapsed time: 0:00:00.012705\n",
      "encrypt - x : 28599,  Permutation_Pad[42], State vector: 01, Most frequent: 11\n",
      "encrypt - Elapsed time: 0:00:00.012732\n",
      "encrypt - x : 28699,  Permutation_Pad[4], State vector: 01, Most frequent: 10\n",
      "encrypt - Elapsed time: 0:00:00.012758\n",
      "encrypt - x : 28799,  Permutation_Pad[1], State vector: 10, Most frequent: 11\n",
      "encrypt - Elapsed time: 0:00:00.012785\n",
      "encrypt - x : 28899,  Permutation_Pad[42], State vector: 01, Most frequent: 11\n",
      "encrypt - Elapsed time: 0:00:00.012811\n",
      "encrypt - x : 28999,  Permutation_Pad[4], State vector: 01, Most frequent: 10\n",
      "encrypt - Elapsed time: 0:00:00.012838\n",
      "encrypt - x : 29099,  Permutation_Pad[1], State vector: 00, Most frequent: 01\n",
      "encrypt - Elapsed time: 0:00:00.012865\n",
      "encrypt - x : 29199,  Permutation_Pad[42], State vector: 11, Most frequent: 01\n",
      "encrypt - Elapsed time: 0:00:00.012891\n",
      "encrypt - x : 29299,  Permutation_Pad[4], State vector: 10, Most frequent: 00\n",
      "encrypt - Elapsed time: 0:00:00.012918\n",
      "encrypt - x : 29399,  Permutation_Pad[1], State vector: 11, Most frequent: 00\n",
      "encrypt - Elapsed time: 0:00:00.012945\n",
      "encrypt - x : 29499,  Permutation_Pad[42], State vector: 10, Most frequent: 10\n",
      "encrypt - Elapsed time: 0:00:00.012971\n",
      "encrypt - x : 29599,  Permutation_Pad[4], State vector: 01, Most frequent: 10\n",
      "encrypt - Elapsed time: 0:00:00.012998\n",
      "encrypt - x : 29699,  Permutation_Pad[1], State vector: 11, Most frequent: 00\n",
      "encrypt - Elapsed time: 0:00:00.013025\n",
      "encrypt - x : 29799,  Permutation_Pad[42], State vector: 01, Most frequent: 11\n",
      "encrypt - Elapsed time: 0:00:00.013052\n",
      "encrypt - x : 29899,  Permutation_Pad[4], State vector: 11, Most frequent: 01\n",
      "encrypt - Elapsed time: 0:00:00.013078\n",
      "encrypt - x : 29999,  Permutation_Pad[1], State vector: 10, Most frequent: 11\n",
      "encrypt - Elapsed time: 0:00:00.013105\n",
      "encrypt - x : 30099,  Permutation_Pad[42], State vector: 11, Most frequent: 01\n",
      "encrypt - Elapsed time: 0:00:00.013132\n",
      "encrypt - x : 30199,  Permutation_Pad[4], State vector: 10, Most frequent: 00\n",
      "encrypt - Elapsed time: 0:00:00.013159\n",
      "encrypt - x : 30299,  Permutation_Pad[1], State vector: 00, Most frequent: 01\n",
      "encrypt - Elapsed time: 0:00:00.013185\n",
      "encrypt - x : 30399,  Permutation_Pad[42], State vector: 01, Most frequent: 11\n",
      "encrypt - Elapsed time: 0:00:00.013212\n",
      "encrypt - x : 30499,  Permutation_Pad[4], State vector: 10, Most frequent: 00\n",
      "encrypt - Elapsed time: 0:00:00.013239\n",
      "encrypt - x : 30599,  Permutation_Pad[1], State vector: 00, Most frequent: 01\n",
      "encrypt - Elapsed time: 0:00:00.013265\n",
      "encrypt - x : 30699,  Permutation_Pad[42], State vector: 00, Most frequent: 00\n",
      "encrypt - Elapsed time: 0:00:00.013293\n",
      "encrypt - x : 30799,  Permutation_Pad[4], State vector: 01, Most frequent: 10\n",
      "encrypt - Elapsed time: 0:00:00.013320\n",
      "encrypt - x : 30899,  Permutation_Pad[1], State vector: 10, Most frequent: 11\n",
      "encrypt - Elapsed time: 0:00:00.013347\n",
      "encrypt - x : 30999,  Permutation_Pad[42], State vector: 11, Most frequent: 01\n",
      "encrypt - Elapsed time: 0:00:00.013374\n",
      "encrypt - x : 31099,  Permutation_Pad[4], State vector: 11, Most frequent: 01\n",
      "encrypt - Elapsed time: 0:00:00.013400\n",
      "encrypt - x : 31199,  Permutation_Pad[1], State vector: 10, Most frequent: 11\n",
      "encrypt - Elapsed time: 0:00:00.013427\n",
      "encrypt - x : 31299,  Permutation_Pad[42], State vector: 11, Most frequent: 01\n",
      "encrypt - Elapsed time: 0:00:00.013454\n",
      "encrypt - x : 31399,  Permutation_Pad[4], State vector: 11, Most frequent: 01\n",
      "encrypt - Elapsed time: 0:00:00.013482\n",
      "encrypt - x : 31499,  Permutation_Pad[1], State vector: 00, Most frequent: 01\n",
      "encrypt - Elapsed time: 0:00:00.013510\n",
      "encrypt - x : 31599,  Permutation_Pad[42], State vector: 01, Most frequent: 11\n",
      "encrypt - Elapsed time: 0:00:00.013537\n",
      "encrypt - x : 31699,  Permutation_Pad[4], State vector: 01, Most frequent: 10\n",
      "encrypt - Elapsed time: 0:00:00.013564\n",
      "encrypt - x : 31799,  Permutation_Pad[1], State vector: 10, Most frequent: 11\n",
      "encrypt - Elapsed time: 0:00:00.013591\n",
      "encrypt - x : 31899,  Permutation_Pad[42], State vector: 11, Most frequent: 01\n",
      "encrypt - Elapsed time: 0:00:00.013618\n",
      "encrypt - x : 31999,  Permutation_Pad[4], State vector: 11, Most frequent: 01\n",
      "encrypt - Elapsed time: 0:00:00.013644\n",
      "encrypt - x : 32099,  Permutation_Pad[1], State vector: 10, Most frequent: 11\n",
      "encrypt - Elapsed time: 0:00:00.013672\n",
      "encrypt - x : 32199,  Permutation_Pad[42], State vector: 01, Most frequent: 11\n",
      "encrypt - Elapsed time: 0:00:00.013698\n",
      "encrypt - x : 32299,  Permutation_Pad[4], State vector: 10, Most frequent: 00\n",
      "encrypt - Elapsed time: 0:00:00.013736\n",
      "encrypt - x : 32399,  Permutation_Pad[1], State vector: 11, Most frequent: 00\n",
      "encrypt - Elapsed time: 0:00:00.013769\n",
      "encrypt - x : 32499,  Permutation_Pad[42], State vector: 01, Most frequent: 11\n",
      "encrypt - Elapsed time: 0:00:00.013797\n",
      "encrypt - x : 32599,  Permutation_Pad[4], State vector: 00, Most frequent: 11\n",
      "encrypt - Elapsed time: 0:00:00.013824\n",
      "encrypt - x : 32699,  Permutation_Pad[1], State vector: 10, Most frequent: 11\n",
      "encrypt - Elapsed time: 0:00:00.013851\n",
      "encrypt - x : 32799,  Permutation_Pad[42], State vector: 01, Most frequent: 11\n",
      "encrypt - Elapsed time: 0:00:00.013879\n",
      "encrypt - x : 32899,  Permutation_Pad[4], State vector: 00, Most frequent: 11\n",
      "encrypt - Elapsed time: 0:00:00.013906\n",
      "encrypt - x : 32999,  Permutation_Pad[1], State vector: 01, Most frequent: 10\n",
      "encrypt - Elapsed time: 0:00:00.013933\n",
      "encrypt - x : 33099,  Permutation_Pad[42], State vector: 00, Most frequent: 00\n",
      "encrypt - Elapsed time: 0:00:00.013960\n",
      "encrypt - x : 33199,  Permutation_Pad[4], State vector: 00, Most frequent: 11\n",
      "encrypt - Elapsed time: 0:00:00.013988\n",
      "encrypt - x : 33299,  Permutation_Pad[1], State vector: 11, Most frequent: 00\n",
      "encrypt - Elapsed time: 0:00:00.014014\n",
      "encrypt - x : 33399,  Permutation_Pad[42], State vector: 01, Most frequent: 11\n",
      "encrypt - Elapsed time: 0:00:00.014041\n",
      "encrypt - x : 33499,  Permutation_Pad[4], State vector: 10, Most frequent: 00\n",
      "encrypt - Elapsed time: 0:00:00.014068\n",
      "encrypt - x : 33599,  Permutation_Pad[1], State vector: 00, Most frequent: 01\n",
      "encrypt - Elapsed time: 0:00:00.014094\n",
      "encrypt - x : 33699,  Permutation_Pad[42], State vector: 00, Most frequent: 00\n",
      "encrypt - Elapsed time: 0:00:00.014121\n",
      "encrypt - x : 33799,  Permutation_Pad[4], State vector: 11, Most frequent: 01\n",
      "encrypt - Elapsed time: 0:00:00.014148\n",
      "encrypt - x : 33899,  Permutation_Pad[1], State vector: 01, Most frequent: 10\n",
      "encrypt - Elapsed time: 0:00:00.014174\n",
      "encrypt - x : 33999,  Permutation_Pad[42], State vector: 01, Most frequent: 11\n",
      "encrypt - Elapsed time: 0:00:00.014201\n",
      "encrypt - x : 34099,  Permutation_Pad[4], State vector: 11, Most frequent: 01\n",
      "encrypt - Elapsed time: 0:00:00.014228\n",
      "encrypt - x : 34199,  Permutation_Pad[1], State vector: 01, Most frequent: 10\n",
      "encrypt - Elapsed time: 0:00:00.014255\n",
      "encrypt - x : 34299,  Permutation_Pad[42], State vector: 01, Most frequent: 11\n",
      "encrypt - Elapsed time: 0:00:00.014284\n",
      "encrypt - x : 34399,  Permutation_Pad[4], State vector: 10, Most frequent: 00\n",
      "encrypt - Elapsed time: 0:00:00.014311\n",
      "encrypt - x : 34499,  Permutation_Pad[1], State vector: 01, Most frequent: 10\n",
      "encrypt - Elapsed time: 0:00:00.014360\n",
      "encrypt - x : 34599,  Permutation_Pad[42], State vector: 01, Most frequent: 11\n",
      "encrypt - Elapsed time: 0:00:00.014393\n",
      "encrypt - x : 34699,  Permutation_Pad[4], State vector: 01, Most frequent: 10\n",
      "encrypt - Elapsed time: 0:00:00.014429\n",
      "encrypt - x : 34799,  Permutation_Pad[1], State vector: 00, Most frequent: 01\n",
      "encrypt - Elapsed time: 0:00:00.014457\n",
      "encrypt - x : 34899,  Permutation_Pad[42], State vector: 10, Most frequent: 10\n",
      "encrypt - Elapsed time: 0:00:00.014484\n",
      "encrypt - x : 34999,  Permutation_Pad[4], State vector: 11, Most frequent: 01\n",
      "encrypt - Elapsed time: 0:00:00.014526\n",
      "encrypt - x : 35099,  Permutation_Pad[1], State vector: 00, Most frequent: 01\n",
      "encrypt - Elapsed time: 0:00:00.014555\n",
      "encrypt - x : 35199,  Permutation_Pad[42], State vector: 01, Most frequent: 11\n",
      "encrypt - Elapsed time: 0:00:00.014583\n",
      "encrypt - x : 35299,  Permutation_Pad[4], State vector: 10, Most frequent: 00\n",
      "encrypt - Elapsed time: 0:00:00.014610\n",
      "encrypt - x : 35399,  Permutation_Pad[1], State vector: 00, Most frequent: 01\n",
      "encrypt - Elapsed time: 0:00:00.014638\n",
      "encrypt - x : 35499,  Permutation_Pad[42], State vector: 10, Most frequent: 10\n",
      "encrypt - Elapsed time: 0:00:00.014667\n",
      "encrypt - x : 35599,  Permutation_Pad[4], State vector: 10, Most frequent: 00\n",
      "encrypt - Elapsed time: 0:00:00.014695\n",
      "encrypt - x : 35699,  Permutation_Pad[1], State vector: 01, Most frequent: 10\n",
      "encrypt - Elapsed time: 0:00:00.014722\n",
      "encrypt - x : 35799,  Permutation_Pad[42], State vector: 01, Most frequent: 11\n",
      "encrypt - Elapsed time: 0:00:00.014750\n",
      "encrypt - x : 35899,  Permutation_Pad[4], State vector: 11, Most frequent: 01\n",
      "encrypt - Elapsed time: 0:00:00.014779\n",
      "encrypt - x : 35999,  Permutation_Pad[1], State vector: 11, Most frequent: 00\n",
      "encrypt - Elapsed time: 0:00:00.014819\n",
      "encrypt - x : 36099,  Permutation_Pad[42], State vector: 11, Most frequent: 01\n",
      "encrypt - Elapsed time: 0:00:00.014848\n",
      "encrypt - x : 36199,  Permutation_Pad[4], State vector: 10, Most frequent: 00\n",
      "encrypt - Elapsed time: 0:00:00.014875\n",
      "encrypt - x : 36299,  Permutation_Pad[1], State vector: 10, Most frequent: 11\n",
      "encrypt - Elapsed time: 0:00:00.014912\n",
      "encrypt - x : 36399,  Permutation_Pad[42], State vector: 11, Most frequent: 01\n",
      "encrypt - Elapsed time: 0:00:00.014944\n",
      "encrypt - x : 36499,  Permutation_Pad[4], State vector: 01, Most frequent: 10\n",
      "encrypt - Elapsed time: 0:00:00.014972\n",
      "encrypt - x : 36599,  Permutation_Pad[1], State vector: 00, Most frequent: 01\n",
      "encrypt - Elapsed time: 0:00:00.015000\n",
      "encrypt - x : 36699,  Permutation_Pad[42], State vector: 01, Most frequent: 11\n",
      "encrypt - Elapsed time: 0:00:00.015028\n",
      "encrypt - x : 36799,  Permutation_Pad[4], State vector: 00, Most frequent: 11\n",
      "encrypt - Elapsed time: 0:00:00.015055\n",
      "encrypt - x : 36899,  Permutation_Pad[1], State vector: 00, Most frequent: 01\n",
      "encrypt - Elapsed time: 0:00:00.015083\n",
      "encrypt - x : 36999,  Permutation_Pad[42], State vector: 10, Most frequent: 10\n",
      "encrypt - Elapsed time: 0:00:00.015111\n",
      "encrypt - x : 37099,  Permutation_Pad[4], State vector: 01, Most frequent: 10\n",
      "encrypt - Elapsed time: 0:00:00.015140\n",
      "encrypt - x : 37199,  Permutation_Pad[1], State vector: 00, Most frequent: 01\n",
      "encrypt - Elapsed time: 0:00:00.015168\n",
      "encrypt - x : 37299,  Permutation_Pad[42], State vector: 11, Most frequent: 01\n",
      "encrypt - Elapsed time: 0:00:00.015197\n",
      "encrypt - x : 37399,  Permutation_Pad[4], State vector: 11, Most frequent: 01\n",
      "encrypt - Elapsed time: 0:00:00.015225\n",
      "encrypt - x : 37499,  Permutation_Pad[1], State vector: 00, Most frequent: 01\n",
      "encrypt - Elapsed time: 0:00:00.015253\n",
      "encrypt - x : 37599,  Permutation_Pad[42], State vector: 00, Most frequent: 00\n",
      "encrypt - Elapsed time: 0:00:00.015283\n",
      "encrypt - x : 37699,  Permutation_Pad[4], State vector: 10, Most frequent: 00\n",
      "encrypt - Elapsed time: 0:00:00.015311\n",
      "encrypt - x : 37799,  Permutation_Pad[1], State vector: 00, Most frequent: 01\n",
      "encrypt - Elapsed time: 0:00:00.015340\n",
      "encrypt - x : 37899,  Permutation_Pad[42], State vector: 10, Most frequent: 10\n",
      "encrypt - Elapsed time: 0:00:00.015368\n",
      "encrypt - x : 37999,  Permutation_Pad[4], State vector: 11, Most frequent: 01\n",
      "encrypt - Elapsed time: 0:00:00.015397\n",
      "encrypt - x : 38099,  Permutation_Pad[1], State vector: 01, Most frequent: 10\n",
      "encrypt - Elapsed time: 0:00:00.015427\n",
      "encrypt - x : 38199,  Permutation_Pad[42], State vector: 00, Most frequent: 00\n",
      "encrypt - Elapsed time: 0:00:00.015454\n",
      "encrypt - x : 38299,  Permutation_Pad[4], State vector: 00, Most frequent: 11\n",
      "encrypt - Elapsed time: 0:00:00.015482\n",
      "encrypt - x : 38399,  Permutation_Pad[1], State vector: 10, Most frequent: 11\n",
      "encrypt - Elapsed time: 0:00:00.015511\n",
      "encrypt - x : 38499,  Permutation_Pad[42], State vector: 10, Most frequent: 10\n",
      "encrypt - Elapsed time: 0:00:00.015538\n",
      "encrypt - x : 38599,  Permutation_Pad[4], State vector: 00, Most frequent: 11\n",
      "encrypt - Elapsed time: 0:00:00.015566\n",
      "encrypt - x : 38699,  Permutation_Pad[1], State vector: 10, Most frequent: 11\n",
      "encrypt - Elapsed time: 0:00:00.015594\n",
      "encrypt - x : 38799,  Permutation_Pad[42], State vector: 11, Most frequent: 01\n",
      "encrypt - Elapsed time: 0:00:00.015622\n",
      "encrypt - x : 38899,  Permutation_Pad[4], State vector: 01, Most frequent: 10\n",
      "encrypt - Elapsed time: 0:00:00.015649\n",
      "encrypt - x : 38999,  Permutation_Pad[1], State vector: 00, Most frequent: 01\n",
      "encrypt - Elapsed time: 0:00:00.015679\n",
      "encrypt - x : 39099,  Permutation_Pad[42], State vector: 11, Most frequent: 01\n",
      "encrypt - Elapsed time: 0:00:00.015707\n",
      "encrypt - x : 39199,  Permutation_Pad[4], State vector: 11, Most frequent: 01\n",
      "encrypt - Elapsed time: 0:00:00.015746\n",
      "encrypt - x : 39299,  Permutation_Pad[1], State vector: 11, Most frequent: 00\n",
      "encrypt - Elapsed time: 0:00:00.015780\n",
      "encrypt - x : 39399,  Permutation_Pad[42], State vector: 01, Most frequent: 11\n",
      "encrypt - Elapsed time: 0:00:00.015808\n",
      "encrypt - x : 39499,  Permutation_Pad[4], State vector: 01, Most frequent: 10\n",
      "encrypt - Elapsed time: 0:00:00.015836\n",
      "encrypt - x : 39599,  Permutation_Pad[1], State vector: 01, Most frequent: 10\n",
      "encrypt - Elapsed time: 0:00:00.015865\n",
      "encrypt - x : 39699,  Permutation_Pad[42], State vector: 01, Most frequent: 11\n",
      "encrypt - Elapsed time: 0:00:00.015893\n",
      "encrypt - x : 39799,  Permutation_Pad[4], State vector: 11, Most frequent: 01\n",
      "encrypt - Elapsed time: 0:00:00.015921\n",
      "encrypt - x : 39899,  Permutation_Pad[1], State vector: 01, Most frequent: 10\n",
      "encrypt - Elapsed time: 0:00:00.015948\n",
      "encrypt - x : 39999,  Permutation_Pad[42], State vector: 01, Most frequent: 11\n",
      "encrypt - Elapsed time: 0:00:00.015976\n",
      "encrypt - x : 40099,  Permutation_Pad[4], State vector: 01, Most frequent: 10\n",
      "encrypt - Elapsed time: 0:00:00.016003\n",
      "encrypt - x : 40199,  Permutation_Pad[1], State vector: 11, Most frequent: 00\n",
      "encrypt - Elapsed time: 0:00:00.016033\n",
      "encrypt - x : 40299,  Permutation_Pad[42], State vector: 00, Most frequent: 00\n",
      "encrypt - Elapsed time: 0:00:00.016060\n",
      "encrypt - x : 40399,  Permutation_Pad[4], State vector: 11, Most frequent: 01\n",
      "encrypt - Elapsed time: 0:00:00.016089\n",
      "encrypt - x : 40499,  Permutation_Pad[1], State vector: 00, Most frequent: 01\n",
      "encrypt - Elapsed time: 0:00:00.016117\n",
      "encrypt - x : 40599,  Permutation_Pad[42], State vector: 11, Most frequent: 01\n",
      "encrypt - Elapsed time: 0:00:00.016145\n",
      "encrypt - x : 40699,  Permutation_Pad[4], State vector: 10, Most frequent: 00\n",
      "encrypt - Elapsed time: 0:00:00.016175\n",
      "encrypt - x : 40799,  Permutation_Pad[1], State vector: 10, Most frequent: 11\n",
      "encrypt - Elapsed time: 0:00:00.016201\n",
      "encrypt - x : 40899,  Permutation_Pad[42], State vector: 10, Most frequent: 10\n",
      "encrypt - Elapsed time: 0:00:00.016229\n",
      "encrypt - x : 40999,  Permutation_Pad[4], State vector: 10, Most frequent: 00\n",
      "encrypt - Elapsed time: 0:00:00.016257\n",
      "encrypt - x : 41099,  Permutation_Pad[1], State vector: 01, Most frequent: 10\n",
      "encrypt - Elapsed time: 0:00:00.016284\n",
      "encrypt - x : 41199,  Permutation_Pad[42], State vector: 00, Most frequent: 00\n",
      "encrypt - Elapsed time: 0:00:00.016315\n",
      "encrypt - x : 41299,  Permutation_Pad[4], State vector: 01, Most frequent: 10\n",
      "encrypt - Elapsed time: 0:00:00.016342\n",
      "encrypt - x : 41399,  Permutation_Pad[1], State vector: 11, Most frequent: 00\n",
      "encrypt - Elapsed time: 0:00:00.016370\n",
      "encrypt - x : 41499,  Permutation_Pad[42], State vector: 01, Most frequent: 11\n",
      "encrypt - Elapsed time: 0:00:00.016398\n",
      "encrypt - x : 41599,  Permutation_Pad[4], State vector: 01, Most frequent: 10\n",
      "encrypt - Elapsed time: 0:00:00.016426\n",
      "encrypt - x : 41699,  Permutation_Pad[1], State vector: 01, Most frequent: 10\n",
      "encrypt - Elapsed time: 0:00:00.016455\n",
      "encrypt - x : 41799,  Permutation_Pad[42], State vector: 11, Most frequent: 01\n",
      "encrypt - Elapsed time: 0:00:00.016482\n",
      "encrypt - x : 41899,  Permutation_Pad[4], State vector: 10, Most frequent: 00\n",
      "encrypt - Elapsed time: 0:00:00.016510\n",
      "encrypt - x : 41999,  Permutation_Pad[1], State vector: 00, Most frequent: 01\n",
      "encrypt - Elapsed time: 0:00:00.018123\n",
      "encrypt - x : 42099,  Permutation_Pad[42], State vector: 01, Most frequent: 11\n",
      "encrypt - Elapsed time: 0:00:00.018162\n",
      "encrypt - x : 42199,  Permutation_Pad[4], State vector: 10, Most frequent: 00\n",
      "encrypt - Elapsed time: 0:00:00.018203\n",
      "encrypt - x : 42299,  Permutation_Pad[1], State vector: 00, Most frequent: 01\n",
      "encrypt - Elapsed time: 0:00:00.018239\n",
      "encrypt - x : 42399,  Permutation_Pad[42], State vector: 10, Most frequent: 10\n",
      "encrypt - Elapsed time: 0:00:00.018275\n",
      "encrypt - x : 42499,  Permutation_Pad[4], State vector: 01, Most frequent: 10\n",
      "encrypt - Elapsed time: 0:00:00.018307\n",
      "encrypt - x : 42599,  Permutation_Pad[1], State vector: 01, Most frequent: 10\n",
      "encrypt - Elapsed time: 0:00:00.018337\n",
      "encrypt - x : 42699,  Permutation_Pad[42], State vector: 00, Most frequent: 00\n",
      "encrypt - Elapsed time: 0:00:00.018367\n",
      "encrypt - x : 42799,  Permutation_Pad[4], State vector: 11, Most frequent: 01\n",
      "encrypt - Elapsed time: 0:00:00.018395\n",
      "encrypt - x : 42899,  Permutation_Pad[1], State vector: 01, Most frequent: 10\n",
      "encrypt - Elapsed time: 0:00:00.018511\n",
      "encrypt - x : 42999,  Permutation_Pad[42], State vector: 01, Most frequent: 11\n",
      "encrypt - Elapsed time: 0:00:00.018558\n",
      "encrypt - x : 43099,  Permutation_Pad[4], State vector: 00, Most frequent: 11\n",
      "encrypt - Elapsed time: 0:00:00.018584\n",
      "encrypt - x : 43199,  Permutation_Pad[1], State vector: 11, Most frequent: 00\n",
      "encrypt - Elapsed time: 0:00:00.018615\n",
      "encrypt - x : 43299,  Permutation_Pad[42], State vector: 11, Most frequent: 01\n",
      "encrypt - Elapsed time: 0:00:00.018641\n",
      "encrypt - x : 43399,  Permutation_Pad[4], State vector: 10, Most frequent: 00\n",
      "encrypt - Elapsed time: 0:00:00.018665\n",
      "encrypt - x : 43499,  Permutation_Pad[1], State vector: 01, Most frequent: 10\n",
      "encrypt - Elapsed time: 0:00:00.018690\n",
      "encrypt - x : 43599,  Permutation_Pad[42], State vector: 11, Most frequent: 01\n",
      "encrypt - Elapsed time: 0:00:00.018715\n",
      "encrypt - x : 43699,  Permutation_Pad[4], State vector: 10, Most frequent: 00\n",
      "encrypt - Elapsed time: 0:00:00.018739\n",
      "encrypt - x : 43799,  Permutation_Pad[1], State vector: 10, Most frequent: 11\n",
      "encrypt - Elapsed time: 0:00:00.018763\n",
      "encrypt - x : 43899,  Permutation_Pad[42], State vector: 10, Most frequent: 10\n",
      "encrypt - Elapsed time: 0:00:00.018937\n",
      "encrypt - x : 43999,  Permutation_Pad[4], State vector: 11, Most frequent: 01\n",
      "encrypt - Elapsed time: 0:00:00.018965\n",
      "encrypt - x : 44099,  Permutation_Pad[1], State vector: 00, Most frequent: 01\n",
      "encrypt - Elapsed time: 0:00:00.018989\n",
      "encrypt - x : 44199,  Permutation_Pad[42], State vector: 00, Most frequent: 00\n",
      "encrypt - Elapsed time: 0:00:00.019013\n",
      "encrypt - x : 44299,  Permutation_Pad[4], State vector: 01, Most frequent: 10\n",
      "encrypt - Elapsed time: 0:00:00.019038\n",
      "encrypt - x : 44399,  Permutation_Pad[1], State vector: 00, Most frequent: 01\n",
      "encrypt - Elapsed time: 0:00:00.019063\n",
      "encrypt - x : 44499,  Permutation_Pad[42], State vector: 00, Most frequent: 00\n",
      "encrypt - Elapsed time: 0:00:00.019089\n",
      "encrypt - x : 44599,  Permutation_Pad[4], State vector: 10, Most frequent: 00\n",
      "encrypt - Elapsed time: 0:00:00.019114\n",
      "encrypt - x : 44699,  Permutation_Pad[1], State vector: 10, Most frequent: 11\n",
      "encrypt - Elapsed time: 0:00:00.019139\n",
      "encrypt - x : 44799,  Permutation_Pad[42], State vector: 00, Most frequent: 00\n",
      "encrypt - Elapsed time: 0:00:00.019164\n",
      "encrypt - x : 44899,  Permutation_Pad[4], State vector: 10, Most frequent: 00\n",
      "encrypt - Elapsed time: 0:00:00.019188\n",
      "encrypt - x : 44999,  Permutation_Pad[1], State vector: 10, Most frequent: 11\n",
      "encrypt - Elapsed time: 0:00:00.019213\n",
      "encrypt - x : 45099,  Permutation_Pad[42], State vector: 11, Most frequent: 01\n",
      "encrypt - Elapsed time: 0:00:00.019240\n",
      "encrypt - x : 45199,  Permutation_Pad[4], State vector: 01, Most frequent: 10\n",
      "encrypt - Elapsed time: 0:00:00.019266\n",
      "encrypt - x : 45299,  Permutation_Pad[1], State vector: 00, Most frequent: 01\n",
      "encrypt - Elapsed time: 0:00:00.019290\n",
      "encrypt - x : 45399,  Permutation_Pad[42], State vector: 00, Most frequent: 00\n",
      "encrypt - Elapsed time: 0:00:00.019315\n",
      "encrypt - x : 45499,  Permutation_Pad[4], State vector: 01, Most frequent: 10\n",
      "encrypt - Elapsed time: 0:00:00.019340\n",
      "encrypt - x : 45599,  Permutation_Pad[1], State vector: 10, Most frequent: 11\n",
      "encrypt - Elapsed time: 0:00:00.019367\n",
      "encrypt - x : 45699,  Permutation_Pad[42], State vector: 10, Most frequent: 10\n",
      "encrypt - Elapsed time: 0:00:00.019393\n",
      "encrypt - x : 45799,  Permutation_Pad[4], State vector: 10, Most frequent: 00\n",
      "encrypt - Elapsed time: 0:00:00.019418\n",
      "encrypt - x : 45899,  Permutation_Pad[1], State vector: 10, Most frequent: 11\n",
      "encrypt - Elapsed time: 0:00:00.019460\n",
      "encrypt - x : 45999,  Permutation_Pad[42], State vector: 01, Most frequent: 11\n",
      "encrypt - Elapsed time: 0:00:00.019490\n",
      "encrypt - x : 46099,  Permutation_Pad[4], State vector: 10, Most frequent: 00\n",
      "encrypt - Elapsed time: 0:00:00.019519\n",
      "encrypt - x : 46199,  Permutation_Pad[1], State vector: 01, Most frequent: 10\n",
      "encrypt - Elapsed time: 0:00:00.019544\n",
      "encrypt - x : 46299,  Permutation_Pad[42], State vector: 01, Most frequent: 11\n",
      "encrypt - Elapsed time: 0:00:00.019570\n",
      "encrypt - x : 46399,  Permutation_Pad[4], State vector: 11, Most frequent: 01\n",
      "encrypt - Elapsed time: 0:00:00.019595\n",
      "encrypt - x : 46499,  Permutation_Pad[1], State vector: 10, Most frequent: 11\n",
      "encrypt - Elapsed time: 0:00:00.019621\n",
      "encrypt - x : 46599,  Permutation_Pad[42], State vector: 10, Most frequent: 10\n",
      "encrypt - Elapsed time: 0:00:00.019649\n",
      "encrypt - x : 46699,  Permutation_Pad[4], State vector: 00, Most frequent: 11\n",
      "encrypt - Elapsed time: 0:00:00.019675\n",
      "encrypt - x : 46799,  Permutation_Pad[1], State vector: 01, Most frequent: 10\n",
      "encrypt - Elapsed time: 0:00:00.019700\n",
      "encrypt - x : 46899,  Permutation_Pad[42], State vector: 01, Most frequent: 11\n",
      "encrypt - Elapsed time: 0:00:00.019727\n",
      "encrypt - x : 46999,  Permutation_Pad[4], State vector: 01, Most frequent: 10\n",
      "encrypt - Elapsed time: 0:00:00.019755\n",
      "encrypt - x : 47099,  Permutation_Pad[1], State vector: 00, Most frequent: 01\n",
      "encrypt - Elapsed time: 0:00:00.019784\n",
      "encrypt - x : 47199,  Permutation_Pad[42], State vector: 10, Most frequent: 10\n",
      "encrypt - Elapsed time: 0:00:00.019811\n",
      "encrypt - x : 47299,  Permutation_Pad[4], State vector: 10, Most frequent: 00\n",
      "encrypt - Elapsed time: 0:00:00.019840\n",
      "encrypt - x : 47399,  Permutation_Pad[1], State vector: 11, Most frequent: 00\n",
      "encrypt - Elapsed time: 0:00:00.019869\n",
      "encrypt - x : 47499,  Permutation_Pad[42], State vector: 01, Most frequent: 11\n",
      "encrypt - Elapsed time: 0:00:00.019897\n",
      "encrypt - x : 47599,  Permutation_Pad[4], State vector: 01, Most frequent: 10\n",
      "encrypt - Elapsed time: 0:00:00.019928\n",
      "encrypt - x : 47699,  Permutation_Pad[1], State vector: 10, Most frequent: 11\n",
      "encrypt - Elapsed time: 0:00:00.019956\n",
      "encrypt - x : 47799,  Permutation_Pad[42], State vector: 01, Most frequent: 11\n",
      "encrypt - Elapsed time: 0:00:00.019989\n",
      "encrypt - x : 47899,  Permutation_Pad[4], State vector: 00, Most frequent: 11\n",
      "encrypt - Elapsed time: 0:00:00.020022\n",
      "encrypt - x : 47999,  Permutation_Pad[1], State vector: 11, Most frequent: 00\n",
      "encrypt - Elapsed time: 0:00:00.020052\n",
      "encrypt - x : 48099,  Permutation_Pad[42], State vector: 10, Most frequent: 10\n",
      "encrypt - Elapsed time: 0:00:00.020082\n",
      "encrypt - x : 48199,  Permutation_Pad[4], State vector: 00, Most frequent: 11\n",
      "encrypt - Elapsed time: 0:00:00.020109\n",
      "encrypt - x : 48299,  Permutation_Pad[1], State vector: 11, Most frequent: 00\n",
      "encrypt - Elapsed time: 0:00:00.020137\n",
      "encrypt - x : 48399,  Permutation_Pad[42], State vector: 11, Most frequent: 01\n",
      "encrypt - Elapsed time: 0:00:00.020164\n",
      "encrypt - x : 48499,  Permutation_Pad[4], State vector: 00, Most frequent: 11\n",
      "encrypt - Elapsed time: 0:00:00.020190\n",
      "encrypt - x : 48599,  Permutation_Pad[1], State vector: 11, Most frequent: 00\n",
      "encrypt - Elapsed time: 0:00:00.020217\n",
      "encrypt - x : 48699,  Permutation_Pad[42], State vector: 11, Most frequent: 01\n",
      "encrypt - Elapsed time: 0:00:00.020242\n",
      "encrypt - x : 48799,  Permutation_Pad[4], State vector: 01, Most frequent: 10\n",
      "encrypt - Elapsed time: 0:00:00.020267\n",
      "encrypt - x : 48899,  Permutation_Pad[1], State vector: 11, Most frequent: 00\n",
      "encrypt - Elapsed time: 0:00:00.020292\n",
      "encrypt - x : 48999,  Permutation_Pad[42], State vector: 01, Most frequent: 11\n",
      "encrypt - Elapsed time: 0:00:00.020341\n",
      "encrypt - x : 49099,  Permutation_Pad[4], State vector: 11, Most frequent: 01\n",
      "encrypt - Elapsed time: 0:00:00.020369\n",
      "encrypt - x : 49199,  Permutation_Pad[1], State vector: 11, Most frequent: 00\n",
      "encrypt - Elapsed time: 0:00:00.020395\n",
      "encrypt - x : 49299,  Permutation_Pad[42], State vector: 11, Most frequent: 01\n",
      "encrypt - Elapsed time: 0:00:00.020421\n",
      "encrypt - x : 49399,  Permutation_Pad[4], State vector: 11, Most frequent: 01\n",
      "encrypt - Elapsed time: 0:00:00.020449\n",
      "encrypt - x : 49499,  Permutation_Pad[1], State vector: 10, Most frequent: 11\n",
      "encrypt - Elapsed time: 0:00:00.020473\n",
      "encrypt - x : 49599,  Permutation_Pad[42], State vector: 00, Most frequent: 00\n",
      "encrypt - Elapsed time: 0:00:00.020499\n",
      "encrypt - x : 49699,  Permutation_Pad[4], State vector: 01, Most frequent: 10\n",
      "encrypt - Elapsed time: 0:00:00.020526\n",
      "encrypt - x : 49799,  Permutation_Pad[1], State vector: 00, Most frequent: 01\n",
      "encrypt - Elapsed time: 0:00:00.020552\n",
      "encrypt - x : 49899,  Permutation_Pad[42], State vector: 10, Most frequent: 10\n",
      "encrypt - Elapsed time: 0:00:00.020577\n",
      "encrypt - x : 49999,  Permutation_Pad[4], State vector: 01, Most frequent: 10\n",
      "encrypt - Elapsed time: 0:00:00.020606\n",
      "encrypt - x : 50099,  Permutation_Pad[1], State vector: 00, Most frequent: 01\n",
      "encrypt - Elapsed time: 0:00:00.020633\n",
      "encrypt - x : 50199,  Permutation_Pad[42], State vector: 00, Most frequent: 00\n",
      "encrypt - Elapsed time: 0:00:00.020660\n",
      "encrypt - x : 50299,  Permutation_Pad[4], State vector: 01, Most frequent: 10\n",
      "encrypt - Elapsed time: 0:00:00.020686\n",
      "encrypt - x : 50399,  Permutation_Pad[1], State vector: 01, Most frequent: 10\n",
      "encrypt - Elapsed time: 0:00:00.020713\n",
      "encrypt - x : 50499,  Permutation_Pad[42], State vector: 11, Most frequent: 01\n",
      "encrypt - Elapsed time: 0:00:00.020738\n",
      "encrypt - x : 50599,  Permutation_Pad[4], State vector: 00, Most frequent: 11\n",
      "encrypt - Elapsed time: 0:00:00.020765\n",
      "encrypt - x : 50699,  Permutation_Pad[1], State vector: 00, Most frequent: 01\n",
      "encrypt - Elapsed time: 0:00:00.020793\n",
      "encrypt - x : 50799,  Permutation_Pad[42], State vector: 10, Most frequent: 10\n",
      "encrypt - Elapsed time: 0:00:00.020820\n",
      "encrypt - x : 50899,  Permutation_Pad[4], State vector: 00, Most frequent: 11\n",
      "encrypt - Elapsed time: 0:00:00.020847\n",
      "encrypt - x : 50999,  Permutation_Pad[1], State vector: 11, Most frequent: 00\n",
      "encrypt - Elapsed time: 0:00:00.020873\n",
      "\n",
      "encrypt - Elapsed time for encryption of message: 0:00:00.020889\n",
      "\n",
      "encrypt - First 192 bits in ciphertext string\n",
      "001100110111100001101111011111101101111111010001111000011111010010111101110110101110000101101100011001001111001110110011010111011011100110110010110111010010100001101101001011011100110110011010\n"
     ]
    }
   ],
   "source": [
    "ciphertext = Alice_QPP.encrypt(message=message)"
   ]
  },
  {
   "cell_type": "markdown",
   "id": "8863d19a",
   "metadata": {},
   "source": [
    "### Convert the ciphertext into bytes and save it into a binary file"
   ]
  },
  {
   "cell_type": "code",
   "execution_count": 9,
   "id": "f2799ccb",
   "metadata": {},
   "outputs": [],
   "source": [
    "Alice_QPP.ciphertext_to_binary(ciphertext=ciphertext)"
   ]
  },
  {
   "cell_type": "markdown",
   "id": "82d7f51a-cb63-4e74-a00e-16fc7bf85097",
   "metadata": {},
   "source": [
    "## Ciphertext is transmitted"
   ]
  },
  {
   "cell_type": "markdown",
   "id": "727bff29-7799-4938-a3fd-91a8859fd0ac",
   "metadata": {},
   "source": [
    "### Simulate transmission of secret key over a secure channel"
   ]
  },
  {
   "cell_type": "code",
   "execution_count": 10,
   "id": "0ec309b5-d18e-4362-aca1-3fce7d704eaf",
   "metadata": {},
   "outputs": [],
   "source": [
    "!cp Secret_key_2-qubits_Christmas_tree.txt ../Bob"
   ]
  },
  {
   "cell_type": "markdown",
   "id": "3e8fff06-0447-4852-b01d-699425b7f536",
   "metadata": {},
   "source": [
    "### Simulate transmission of json parameter file"
   ]
  },
  {
   "cell_type": "code",
   "execution_count": 11,
   "id": "1f423965-c83c-4309-b8f0-555dd5f8215b",
   "metadata": {},
   "outputs": [],
   "source": [
    "!cp QPP_param_2-qubits_V0_Christmas_tree.json ../Bob"
   ]
  },
  {
   "cell_type": "markdown",
   "id": "751b8b30-66a1-4e1f-a4d5-c29d9e7e4d66",
   "metadata": {},
   "source": [
    "### Simulate transmission of ciphertext file "
   ]
  },
  {
   "cell_type": "code",
   "execution_count": 12,
   "id": "e94f5700-a130-47fe-8acd-6483bd7e1b43",
   "metadata": {},
   "outputs": [],
   "source": [
    "!cp ciphertext_Christmas_tree.bin ../Bob"
   ]
  },
  {
   "cell_type": "markdown",
   "id": "7e07caf6-525d-4106-ace1-ca145c7b40c1",
   "metadata": {},
   "source": [
    "## References\n",
    "\n",
    "[1] Kuang, Randy. Quantum Permutation Pad for Quantum Secure Symmetric and Asymmetric Cryptography. Vol. 2, no. 1, Academia Quantum, 2025. https://doi.org/10.20935/AcadQuant7457 \n",
    "\n",
    "[2] Chancé, A. (2024). Quantum Permutation Pad with Qiskit Runtime. In: Femmam, S., Lorenz, P. (eds) Recent Advances in Communication Networks and Embedded Systems. ICCNT 2022. Lecture Notes on Data Engineering and Communications Technologies, vol 205. Springer, Cham. https://doi.org/10.1007/978-3-031-59619-3_12 \n",
    "\n",
    "[3] R. Kuang and N. Bettenburg, 'Shannon perfect secrecy in a discrete Hilbert space', in Proc. IEEE Int. Conf. Quantum Comput. Eng. (QCE), Oct. 2020, pp. 249-255, doi: 10.1109/QCE49297.2020.00039\n",
    "\n",
    "[4] Kuang, R., Perepechaenko, M. Quantum encryption with quantum permutation pad in IBMQ systems. EPJ Quantum Technol. 9, 26 (2022). https://doi.org/10.1140/epjqt/s40507-022-00145-y\n",
    "\n",
    "[5] Qiskit Runtime overview, IBM Quantum, https://cloud.ibm.com/docs/quantum-computing?topic=quantum-computing-overview, https://cloud.ibm.com/docs/quantum-computing?topic=quantum-computing-overview\n",
    "\n",
    "[6] QiskitRuntimeService, https://docs.quantum.ibm.com/api/qiskit-ibm-runtime/qiskit_ibm_runtime.QiskitRuntimeService#qiskitruntimeservice"
   ]
  },
  {
   "cell_type": "markdown",
   "id": "bf66c6d3-d3f3-484f-8aa7-e67c6731ffdf",
   "metadata": {},
   "source": [
    "## Print Qiskit version"
   ]
  },
  {
   "cell_type": "code",
   "execution_count": 13,
   "id": "2fe3ac4a-bb00-462b-8d4c-7388de792917",
   "metadata": {},
   "outputs": [],
   "source": [
    "import qiskit"
   ]
  },
  {
   "cell_type": "code",
   "execution_count": 14,
   "id": "e9c9a542-50d8-438a-8df7-155d5ed0b8f6",
   "metadata": {},
   "outputs": [
    {
     "name": "stdout",
     "output_type": "stream",
     "text": [
      "2.0.0\n"
     ]
    }
   ],
   "source": [
    "print(qiskit.__version__)"
   ]
  },
  {
   "cell_type": "markdown",
   "id": "c64931db-ed6f-45c0-8898-c76d6e3ca7e5",
   "metadata": {},
   "source": [
    "## Print Qiskit Aer version"
   ]
  },
  {
   "cell_type": "code",
   "execution_count": 15,
   "id": "96e9d3c9-daae-4474-bc46-a48623a34808",
   "metadata": {},
   "outputs": [],
   "source": [
    "import qiskit_aer"
   ]
  },
  {
   "cell_type": "code",
   "execution_count": 16,
   "id": "064a2d95-b93e-4782-b17f-e6863ef39851",
   "metadata": {},
   "outputs": [
    {
     "name": "stdout",
     "output_type": "stream",
     "text": [
      "0.17.0\n"
     ]
    }
   ],
   "source": [
    "print(qiskit_aer.__version__)"
   ]
  },
  {
   "cell_type": "markdown",
   "id": "fc37912b-7280-4d53-97f7-cad3e1b76ae5",
   "metadata": {},
   "source": [
    "## Show Python version"
   ]
  },
  {
   "cell_type": "code",
   "execution_count": 17,
   "id": "6cb6c5c7-6e28-40f2-a2d9-d1978cfe8961",
   "metadata": {
    "jupyter": {
     "source_hidden": true
    }
   },
   "outputs": [
    {
     "name": "stdout",
     "output_type": "stream",
     "text": [
      "/home/alain/miniconda3/bin/python\n",
      "Python 3.12.9\n"
     ]
    }
   ],
   "source": [
    "%%bash\n",
    "which python\n",
    "python --version"
   ]
  }
 ],
 "metadata": {
  "kernelspec": {
   "display_name": "Python 3 (ipykernel)",
   "language": "python",
   "name": "python3"
  },
  "language_info": {
   "codemirror_mode": {
    "name": "ipython",
    "version": 3
   },
   "file_extension": ".py",
   "mimetype": "text/x-python",
   "name": "python",
   "nbconvert_exporter": "python",
   "pygments_lexer": "ipython3",
   "version": "3.12.9"
  },
  "widgets": {
   "application/vnd.jupyter.widget-state+json": {
    "state": {
     "01231487ec414b24bd761f6dd76fc016": {
      "model_module": "@jupyter-widgets/base",
      "model_module_version": "1.2.0",
      "model_name": "LayoutModel",
      "state": {
       "width": "190px"
      }
     },
     "15a8688e002d43adbccd012eefd05e51": {
      "model_module": "@jupyter-widgets/controls",
      "model_module_version": "1.5.0",
      "model_name": "HTMLModel",
      "state": {
       "layout": "IPY_MODEL_eb974c9225c14c1d901d2381b81c0952",
       "style": "IPY_MODEL_b6762439874e41c38b2ac1b21790f0db",
       "value": "<h5>Message</h5>"
      }
     },
     "1c7de92203e740098ca0f00e488e47e9": {
      "model_module": "@jupyter-widgets/controls",
      "model_module_version": "1.5.0",
      "model_name": "HBoxModel",
      "state": {
       "children": [
        "IPY_MODEL_cb71e659e00a40cfba214efd500083fb",
        "IPY_MODEL_799b064975484c5690a72ede0fa8855e",
        "IPY_MODEL_84f13d6437654954a9e7751d95f0d276",
        "IPY_MODEL_a960fc42b4534aa3a35f635e30a1e288",
        "IPY_MODEL_15a8688e002d43adbccd012eefd05e51"
       ],
       "layout": "IPY_MODEL_882736f26bea4b7d9836e2ea7ececf83"
      }
     },
     "42b7643650d24814affdaa618a02aeb0": {
      "model_module": "@jupyter-widgets/controls",
      "model_module_version": "1.5.0",
      "model_name": "ButtonModel",
      "state": {
       "button_style": "primary",
       "description": "Clear",
       "layout": "IPY_MODEL_fbfa86e960e04a5f95619e18a23739dc",
       "style": "IPY_MODEL_746716bf92ac4c418d498bb56ca229be"
      }
     },
     "485bd1112c364e63b7a55bd8c386eb0c": {
      "model_module": "@jupyter-widgets/controls",
      "model_module_version": "1.5.0",
      "model_name": "GridBoxModel",
      "state": {
       "children": [
        "IPY_MODEL_42b7643650d24814affdaa618a02aeb0"
       ],
       "layout": "IPY_MODEL_de58e34a7edc401e87342f04d1d3065f"
      }
     },
     "746716bf92ac4c418d498bb56ca229be": {
      "model_module": "@jupyter-widgets/controls",
      "model_module_version": "1.5.0",
      "model_name": "ButtonStyleModel",
      "state": {}
     },
     "74b6f2dd988347b7a07221fb5353df09": {
      "model_module": "@jupyter-widgets/controls",
      "model_module_version": "1.5.0",
      "model_name": "DescriptionStyleModel",
      "state": {
       "description_width": ""
      }
     },
     "790a1a267c374532a2360b67ba400279": {
      "model_module": "@jupyter-widgets/base",
      "model_module_version": "1.2.0",
      "model_name": "LayoutModel",
      "state": {
       "width": "95px"
      }
     },
     "799b064975484c5690a72ede0fa8855e": {
      "model_module": "@jupyter-widgets/controls",
      "model_module_version": "1.5.0",
      "model_name": "HTMLModel",
      "state": {
       "layout": "IPY_MODEL_ee251e5ed3934cf9a093286fee4af98b",
       "style": "IPY_MODEL_74b6f2dd988347b7a07221fb5353df09",
       "value": "<h5>Backend</h5>"
      }
     },
     "84f13d6437654954a9e7751d95f0d276": {
      "model_module": "@jupyter-widgets/controls",
      "model_module_version": "1.5.0",
      "model_name": "HTMLModel",
      "state": {
       "layout": "IPY_MODEL_790a1a267c374532a2360b67ba400279",
       "style": "IPY_MODEL_cc7fbd6e616b48ba8670a24863e2d88f",
       "value": "<h5>Status</h5>"
      }
     },
     "882736f26bea4b7d9836e2ea7ececf83": {
      "model_module": "@jupyter-widgets/base",
      "model_module_version": "1.2.0",
      "model_name": "LayoutModel",
      "state": {
       "margin": "0px 0px 0px 37px",
       "width": "600px"
      }
     },
     "a2d56da859ad4bf4a827041ae905da73": {
      "model_module": "@jupyter-widgets/controls",
      "model_module_version": "1.5.0",
      "model_name": "DescriptionStyleModel",
      "state": {
       "description_width": ""
      }
     },
     "a960fc42b4534aa3a35f635e30a1e288": {
      "model_module": "@jupyter-widgets/controls",
      "model_module_version": "1.5.0",
      "model_name": "HTMLModel",
      "state": {
       "layout": "IPY_MODEL_f59d35bcdf46447997dd4fd8809c0d4d",
       "style": "IPY_MODEL_e237896267074e489426d2aedb7f348b",
       "value": "<h5>Queue</h5>"
      }
     },
     "b6762439874e41c38b2ac1b21790f0db": {
      "model_module": "@jupyter-widgets/controls",
      "model_module_version": "1.5.0",
      "model_name": "DescriptionStyleModel",
      "state": {
       "description_width": ""
      }
     },
     "b7345e1a00e3440b87008eb08ea836c7": {
      "model_module": "@jupyter-widgets/controls",
      "model_module_version": "1.5.0",
      "model_name": "DescriptionStyleModel",
      "state": {
       "description_width": ""
      }
     },
     "cb71e659e00a40cfba214efd500083fb": {
      "model_module": "@jupyter-widgets/controls",
      "model_module_version": "1.5.0",
      "model_name": "HTMLModel",
      "state": {
       "layout": "IPY_MODEL_01231487ec414b24bd761f6dd76fc016",
       "style": "IPY_MODEL_a2d56da859ad4bf4a827041ae905da73",
       "value": "<h5>Job ID</h5>"
      }
     },
     "cc7fbd6e616b48ba8670a24863e2d88f": {
      "model_module": "@jupyter-widgets/controls",
      "model_module_version": "1.5.0",
      "model_name": "DescriptionStyleModel",
      "state": {
       "description_width": ""
      }
     },
     "de58e34a7edc401e87342f04d1d3065f": {
      "model_module": "@jupyter-widgets/base",
      "model_module_version": "1.2.0",
      "model_name": "LayoutModel",
      "state": {
       "grid_template_areas": "\n                                       \". . . . right \"\n                                        ",
       "grid_template_columns": "20% 20% 20% 20% 20%",
       "width": "100%"
      }
     },
     "e237896267074e489426d2aedb7f348b": {
      "model_module": "@jupyter-widgets/controls",
      "model_module_version": "1.5.0",
      "model_name": "DescriptionStyleModel",
      "state": {
       "description_width": ""
      }
     },
     "e56746ba29da4cb98f6a534584c6d556": {
      "model_module": "@jupyter-widgets/controls",
      "model_module_version": "1.5.0",
      "model_name": "HTMLModel",
      "state": {
       "layout": "IPY_MODEL_fe8260cf883a46beb0a8a98b5504fdd9",
       "style": "IPY_MODEL_b7345e1a00e3440b87008eb08ea836c7",
       "value": "<p style='font-family: IBM Plex Sans, Arial, Helvetica, sans-serif; font-size: 20px; font-weight: medium;'>Circuit Properties</p>"
      }
     },
     "eb974c9225c14c1d901d2381b81c0952": {
      "model_module": "@jupyter-widgets/base",
      "model_module_version": "1.2.0",
      "model_name": "LayoutModel",
      "state": {}
     },
     "ee251e5ed3934cf9a093286fee4af98b": {
      "model_module": "@jupyter-widgets/base",
      "model_module_version": "1.2.0",
      "model_name": "LayoutModel",
      "state": {
       "width": "145px"
      }
     },
     "f59d35bcdf46447997dd4fd8809c0d4d": {
      "model_module": "@jupyter-widgets/base",
      "model_module_version": "1.2.0",
      "model_name": "LayoutModel",
      "state": {
       "width": "70px"
      }
     },
     "fbfa86e960e04a5f95619e18a23739dc": {
      "model_module": "@jupyter-widgets/base",
      "model_module_version": "1.2.0",
      "model_name": "LayoutModel",
      "state": {
       "grid_area": "right",
       "padding": "0px 0px 0px 0px",
       "width": "70px"
      }
     },
     "fe8260cf883a46beb0a8a98b5504fdd9": {
      "model_module": "@jupyter-widgets/base",
      "model_module_version": "1.2.0",
      "model_name": "LayoutModel",
      "state": {
       "margin": "0px 0px 10px 0px"
      }
     }
    },
    "version_major": 2,
    "version_minor": 0
   }
  }
 },
 "nbformat": 4,
 "nbformat_minor": 5
}
