{
 "cells": [
  {
   "cell_type": "markdown",
   "id": "37c1309d-c391-4578-8588-392b3c8b92a6",
   "metadata": {
    "jp-MarkdownHeadingCollapsed": true
   },
   "source": [
    "# Quantum Permutation Pad with Qiskit Runtime by Alain Chancé\n",
    "\n",
    "## MIT License\n",
    "\n",
    "Copyright (c) 2022 Alain Chancé\n",
    "\n",
    "Permission is hereby granted, free of charge, to any person obtaining a copy\n",
    "of this software and associated documentation files (the \"Software\"), to deal\n",
    "in the Software without restriction, including without limitation the rights\n",
    "to use, copy, modify, merge, publish, distribute, sublicense, and/or sell\n",
    "copies of the Software, and to permit persons to whom the Software is\n",
    "furnished to do so, subject to the following conditions:\n",
    "\n",
    "The above copyright notice and this permission notice shall be included in all\n",
    "copies or substantial portions of the Software.\n",
    "\n",
    "THE SOFTWARE IS PROVIDED \"AS IS\", WITHOUT WARRANTY OF ANY KIND, EXPRESS OR\n",
    "IMPLIED, INCLUDING BUT NOT LIMITED TO THE WARRANTIES OF MERCHANTABILITY,\n",
    "FITNESS FOR A PARTICULAR PURPOSE AND NONINFRINGEMENT. IN NO EVENT SHALL THE\n",
    "AUTHORS OR COPYRIGHT HOLDERS BE LIABLE FOR ANY CLAIM, DAMAGES OR OTHER\n",
    "LIABILITY, WHETHER IN AN ACTION OF CONTRACT, TORT OR OTHERWISE, ARISING FROM,\n",
    "OUT OF OR IN CONNECTION WITH THE SOFTWARE OR THE USE OR OTHER DEALINGS IN THE\n",
    "SOFTWARE.\n",
    "\n",
    "## Abstract\n",
    "Abstract— We demonstrate an efficient implementation of the Kuang and Barbeau’s Quantum Permutation pad (QPP) symmetric cryptographic algorithm with Qiskit Runtime, a new architecture offered by IBM Quantum that streamlines quantum computations. We have implemented a Python class QPP and template Jupyter notebooks with Qiskit code for encrypting and decrypting with n-qubit QPP any text file in UTF-16 format or any image file in .png format. We offer the option of running either a quantum circuit with $n$ qubits, or an alternate one with $2^n$ qubits which only uses swap gates and has a circuit depth of $O(n)$. It is inherently extremely fast and could be run efficiently on currently available noisy quantum computers. Our implementation leverages the new Qiskit Sampler primitive in localized mode which dramatically improves performance. We offer a highly efficient classical implementation which performs permutation gate matrix multiplication with information state vectors. We illustrate the use with two agents Alice and Bob who exchange a text file and an image file using 2-qubit QPP and 4-qubit QPP. \n",
    "\n",
    "Keywords—quantum communication, quantum encryption,\n",
    "quantum decryption, quantum security, secure communication, QPP, Qiskit, IBMQ\n",
    "\n",
    "## Credit: Kuang, R., Perepechaenko\n",
    "\n",
    "Appendix, source code for the implementation of the 2-qubits QPP of the following article:\n",
    "\n",
    "Kuang, R., Perepechaenko, M. Quantum encryption with quantum permutation pad in IBMQ systems. EPJ Quantum Technol. 9, 26 (2022). https://doi.org/10.1140/epjqt/s40507-022-00145-y \n",
    "\n",
    "## Rights and permissions\n",
    "$\\textbf{Open Access}$ This article is licensed under a Creative Commons Attribution 4.0 International License, which permits use, sharing, adaptation, distribution and reproduction in any medium or format, as long as you give appropriate credit to the original author(s) and the source, provide a link to the Creative Commons licence, and indicate if changes were made. The images or other third party material in this article are included in the article’s Creative Commons licence, unless indicated otherwise in a credit line to the material. If material is not included in the article’s Creative Commons licence and your intended use is not permitted by statutory regulation or exceeds the permitted use, you will need to obtain permission directly from the copyright holder. To view a copy of this licence, visit http://creativecommons.org/licenses/by/4.0/.\n",
    "\n",
    "# Adaptations made by Alain Chancé\n",
    "\n",
    "# Summary of updates V4\n",
    "This Jupyter notebook has been updated to work with Python 3.12 and the following Qiskit versions:\n",
    "- Qiskit v1.3, Qiskit runtime version: 0.34, Qiskit Aer 0.16\n",
    "- Qiskit v2.0, Qiskit runtime version: 0.37, Qiskit Aer 0.17\n",
    "\n",
    "Please refer to the following documentation:\n",
    "- Qiskit v2.0 migration guide, https://docs.quantum.ibm.com/migration-guides/qiskit-2.0\n",
    "- Qiskit Aer documentation, https://qiskit.github.io/qiskit-aer/\n",
    "- Qiskit Aer 0.16.1, Getting started, https://qiskit.github.io/qiskit-aer/getting_started.html\n",
    "- Qiskit Aer 0.16.1, Simulators, https://qiskit.github.io/qiskit-aer/tutorials/1_aersimulator.html\n",
    "\n",
    "## Updates in code\n",
    "In class QPP\n",
    "\n",
    "Removed \"U0\" in basis_gates to solve the following issue:\n",
    "\n",
    "Providing non-standard gates (u0) through the ``basis_gates`` argument is not allowed. Use the ``target`` parameter instead.\n",
    "You can build a target instance using ``Target.from_configuration()`` and provide custom gate definitions with the ``custom_name_mapping`` argument.\n",
    "```\n",
    "basis_gates=[\"u3\",\"u2\",\"u1\",\"cx\",\"id\",\"u\",\"p\",\"x\",\"y\",\"z\",\"h\",\"s\",\n",
    "                 \"sdg\",\"t\",\"tdg\",\"rx\",\"ry\",\"rz\",\"sx\",\"sxdg\",\"cz\",\"cy\",\"swap\",\n",
    "                \"ch\",\"ccx\",\"cswap\",\"crx\",\"cry\",\"crz\",\"cu1\",\"cp\",\"cu3\",\"csx\",\n",
    "                \"cu\",\"rxx\",\"rzz\"]\n",
    "```\n",
    "New\n",
    "```\n",
    "        # https://docs.quantum.ibm.com/migration-guides/local-simulators#aersimulator\n",
    "        self.backend = AerSimulator(method='statevector')\n",
    "        if trace > 0:\n",
    "            print(\"\\nbackend = AerSimulator(method='statevector')\", file=trace_f)\n",
    "            print(\"\\nbackend = AerSimulator(method='statevector')\")\n",
    "\n",
    "        self.sampler = StatevectorSampler()\n",
    "        \n",
    "        # https://docs.quantum.ibm.com/migration-guides/local-simulators#aersimulator\n",
    "        self.pm = generate_preset_pass_manager(backend=self.backend, optimization_level=opt_level)\n",
    "```\n",
    "### Updates in permutation_pad() function\n",
    "New\n",
    "```\n",
    "        if do_sampler:\n",
    "            # Create a session constructor using Qiskit Runtime Session()\n",
    "            # https://docs.quantum.ibm.com/migration-guides/local-simulators#aersimulator\n",
    "                with Session(backend=self.backend) as session:\n",
    "                    sampler = self.sampler\n",
    "```\n",
    "New\n",
    "```\n",
    "                        if version == \"V0\":\n",
    "                        # Apply permutation\n",
    "                            qc.append(Operator(my_matrix), range(N))\n",
    "                            qc.barrier()\n",
    "                            qc = self.pm.run(qc)\n",
    "```\n",
    "New\n",
    "```\n",
    "                            qci = self.pm.run(qci)\n",
    "                            job = self.backend.run([qci], shots=1024)\n",
    "```\n",
    "\n",
    "# Summary of updates V3\n",
    "Summary of updates V3\n",
    "This jupyter notebook has been updated to work with Qiskit 1.3.1 \n",
    "\n",
    "## Updates in Install statements\n",
    "Previously\n",
    "```\n",
    "from qiskit.primitives import Sampler\n",
    "```\n",
    "New\n",
    "```\n",
    "from qiskit.primitives import StatevectorSampler\n",
    "```\n",
    "\n",
    "## Updates in code\n",
    "In class QPP\n",
    "\n",
    "Commented out the options:\n",
    "```\n",
    " #options = Options(resilience_level=resilience_level)\n",
    "```\n",
    "\n",
    "Previously\n",
    "```\n",
    "sampler = Sampler()\n",
    "```\n",
    "New\n",
    "```\n",
    "sampler = StatevectorSampler()\n",
    "```\n",
    " \n",
    " Updated the with Sesssion according to the example given in the Session documentation:\n",
    " https://docs.quantum.ibm.com/api/qiskit-ibm-runtime/qiskit_ibm_runtime.Session\n",
    "```\n",
    " with Session(backend=backend) as session:\n",
    "```"
   ]
  },
  {
   "cell_type": "markdown",
   "id": "431f6ca1-1547-4368-9a55-0cf7e8f95111",
   "metadata": {},
   "source": [
    "# Summary of updates V2\n",
    "This jupyter notebook has been updated to work with Qiskit 1.0.2. \n",
    "\n",
    "Please refer to the following documentation:\n",
    "- Qiskit 1.0 feature changes, https://docs.quantum.ibm.com/api/migration-guides/qiskit-1.0-features#qiskit-10-feature-changes\n",
    "- Qiskit 1.0 migration tool, https://docs.quantum.ibm.com/api/migration-guides/qiskit-1.0-features#qiskit-10-migration-tool\n",
    "- Qiskit Aer 0.14.0.1, Getting started, https://qiskit.github.io/qiskit-aer/getting_started.html\n",
    "- Migrate setup from qiskit-ibmq-provider, https://docs.quantum.ibm.com/api/migration-guides/qiskit-runtime#migrate-setup-from-qiskit-ibmq-provider\n",
    "- Simulators, The AerSimulator, https://qiskit.github.io/qiskit-aer/tutorials/1_aersimulator.html\n",
    "\n",
    "## Updates in install statements\n",
    "### Install qiskit.aer\n",
    "New\n",
    "```\n",
    "https://qiskit.github.io/qiskit-aer/getting_started.html\n",
    "pip install qiskit_aer\n",
    "```\n",
    "## Updates in import statements\n",
    "### Import qiskit.aer\n",
    "Additional circuit methods. On import, Aer adds several simulation-specific methods to QuantumCircuit for convenience. These methods are not available until Aer is imported (import qiskit_aer). https://qiskit.github.io/qiskit-aer/apidocs/circuit.html\n",
    "New\n",
    "```\n",
    "import qiskit_aer\n",
    "```\n",
    "### Import AerSimulator\n",
    "New\n",
    "```\n",
    "from qiskit_aer import AerSimulator\n",
    "```\n",
    "### Migrate setup from qiskit-ibmq-provider\n",
    "Previously\n",
    "```\n",
    "from qiskit import IBMQ\n",
    "```\n",
    "New\n",
    "```\n",
    "from qiskit_ibm_runtime import QiskitRuntimeService\n",
    "```\n",
    "## Updates in code\n",
    "New\n",
    "```\n",
    "self.aer_sim = AerSimulator(method='statevector')\n",
    "```\n",
    "### Updates in permutation_pad() function\n",
    "Previously\n",
    "```\n",
    "for i in range(2**num_of_qubits):\n",
    "    ...\n",
    "    # Append qci to the list perm_qc\n",
    "    perm_qc.append(qci)\n",
    "\n",
    "# Submit a job with all quantum circuits in perm_qc\n",
    "job = sampler.run(circuits=perm_qc)\n",
    "result = job.result()\n",
    "```\n",
    "New\n",
    "```\n",
    "qci = transpile(qci, self.aer_sim)\n",
    "job = self.aer_sim.run(qci, shots=1024)\n",
    "result = job.result()\n",
    "counts = result.get_counts(qci)\n",
    "                            \n",
    "if version == \"V0\":\n",
    "    # Get dictionary key with the max value\n",
    "    maxkey = max(counts, key=counts.get)\n",
    "    most_frequent = maxkey\n",
    "    pdict[i] = most_frequent\n",
    "                            \n",
    "    if trace > 1:\n",
    "        print(\"permutation_pad - k: {}, most_frequent: {}\".format(k, most_frequent))\n",
    "                            \n",
    "else:  # Version V1\n",
    "    # Get dictionary key with the max value\n",
    "    maxkey = max(counts, key=counts.get)\n",
    "    ix = n - maxkey.index('1') - 1\n",
    "    most_frequent = eval(\"format(ix, '0\" + str(num_of_qubits) + \"b')\")\n",
    "    pdict[i] = most_frequent\n",
    "    \n",
    "    if trace > 1:\n",
    "        print(\"permutation_pad - k: {}, maxkey: {}, string: {}, ix: {}, most_frequent: {}\".\n",
    "        format(k, maxkey, string, ix, most_frequent))\n",
    "```"
   ]
  },
  {
   "cell_type": "markdown",
   "id": "fd9115f9-9661-41bf-bb94-2aacaaeb4ef9",
   "metadata": {},
   "source": [
    "# Summary of updates V1\n",
    "Please refer to the following documentation:\n",
    "\n",
    "[3] Introducing new Qiskit Runtime capabilities — and how our clients are integrating them into their use, https://research.ibm.com/blog/qiskit-runtime-capabilities-integration\n",
    "\n",
    "[4] Qiskit Runtime IBM Client, https://github.com/Qiskit/qiskit-ibm-runtime\n",
    "\n",
    "[5] Qiskit IBM runtime, Configure error mitigation, Advanced resilience options, https://github.com/Qiskit/qiskit-ibm-runtime/blob/ab7486d6837652d54cb60b83cfaa9165f5d0484c/docs/how_to/error-mitigation.rst#advanced-resilience-options\n",
    "\n",
    "### New class QPP\n",
    "```\n",
    "class QPP:\n",
    "    def __init__(self, QPP_param_file = \"QPP_param.json\"):\n",
    "```\n",
    "\n",
    "### New import statements\n",
    "\n",
    "#### Import array_to_latex to display matrices using laTeX\n",
    "```\n",
    "from qiskit.visualization import array_to_latex\n",
    "```\n",
    "\n",
    "#### Import time, datetime\n",
    "```\n",
    "import time, datetime\n",
    "```\n",
    "\n",
    "#### Import psutil\n",
    "```\n",
    "import psutil\n",
    "```\n",
    "\n",
    "#### Import the JSON package\n",
    "```\n",
    "import json\n",
    "```\n",
    "\n",
    "#### Import Bitstream, BitArray https://bitstring.readthedocs.io/en/stable/\n",
    "```\n",
    "from bitstring import BitStream, BitArray\n",
    "```\n",
    "\n",
    "#### Import QiskitRuntimeService, Session, Options and Sampler\n",
    "```\n",
    "from qiskit_ibm_runtime import QiskitRuntimeService, Session, Options\n",
    "\n",
    "# Uncomment the following import to import the Qiskit Runtime Sampler\n",
    "#from qiskit_ibm_runtime import Sampler\n",
    "\n",
    "# This version uses the localized version of the `Sampler` which resides in Qiskit Terra [7][8]\n",
    "# and uses the statevector simulator to compute probabilities\n",
    "# probabilities = [\n",
    "#       Statevector(bound_circuit_to_instruction(circ)).probabilities(qargs=qargs)\n",
    "#      for circ, qargs in zip(bound_circuits, qargs_list)]\n",
    "from qiskit.primitives import Sampler\n",
    "```\n",
    "\n",
    "### New method rand_key() to create a random binary string\n",
    "```\n",
    "# Function to create a random binary string\n",
    "# https://www.geeksforgeeks.org/python-program-to-generate-random-binary-string/\n",
    "    def rand_key(self, p):\n",
    "   \n",
    "        # Variable to store the string\n",
    "        key1 = \"\"\n",
    " \n",
    "        # Loop to find the string of desired length\n",
    "        for i in range(p):\n",
    "         \n",
    "            # randint function to generate 0, 1 randomly and converting the result into str\n",
    "            temp = str(randint(0, 1))\n",
    " \n",
    "            # Concatenation the random 0, 1 to the final result\n",
    "            key1 += temp\n",
    "    \n",
    "        return(key1)\n",
    "```\n",
    "\n",
    "### New method randomize() with added new parameters key_chunks, qc, qr, num_of_perm, transpose\n",
    "```\n",
    "    ##############################################################################################################\n",
    "    # Define randomize() function to perform Fisher Yates shuffling                                              #\n",
    "    # The Fisher–Yates shuffle is an algorithm for generating a random permutation of a finite sequence [5].     #\n",
    "    ##############################################################################################################\n",
    "    def randomize(self, arr, n, key_chunks, qc, qr, num_of_perm, transpose=False):\n",
    "```\n",
    "\n",
    "### New method permutation_pad() sets up a permutation quantum circuit and transpose\n",
    "```\n",
    "    ##############################################################################################################\n",
    "    # Define permutation_pad() function                                                                          #\n",
    "    # The Fisher–Yates shuffle is an algorithm for generating a random permutation of a finite sequence [5].     #\n",
    "    ##############################################################################################################\n",
    "    def permutation_pad(self, secret_key_blocks, transpose=False):\n",
    "```\n",
    "\n",
    "### New method encrypt() to encrypt a message leverages Qiskit Runtime primitives\n",
    "```\n",
    "    ##############################################################################################################\n",
    "    # Define the function encrypt() to encrypt a message                                                         #\n",
    "    ##############################################################################################################\n",
    "    def encrypt(self, message=None):\n",
    "```\n",
    "\n",
    "### New method decrypt() to decrypt a ciphertext leverages Qiskit Runtime primitives\n",
    "```\n",
    "    ##############################################################################################################\n",
    "    # Define the function decrypt() to decrypt a message                                                         #\n",
    "    ##############################################################################################################\n",
    "     def decrypt(self, ciphertext=None):\n",
    "```\n",
    "\n",
    "### New method file_to_bitstring() to convert plaintext file into a bitstring message\n",
    "```\n",
    "    ###############################################################################################################\n",
    "    # Define function file_to_bitstring() to convert plaintext file into a bitstring message                      #\n",
    "    ###############################################################################################################\n",
    "    def file_to_bitstring(self):\n",
    "```\n",
    "\n",
    "### New method ciphertext_to_binary() to convert ciphertext into binary and save it into a binary file\n",
    "```\n",
    "    ###############################################################################################################\n",
    "    # Define function ciphertext_to_binary() to convert ciphertext into binary and save it into a binary file     #\n",
    "    ###############################################################################################################\n",
    "    def ciphertext_to_binary(self, ciphertext=None):\n",
    "```\n",
    "\n",
    "### New method bitstring_to_file() to convert a decrypted message and save it into a decrypted file\n",
    "```\n",
    "    ###############################################################################################################\n",
    "    # Define function bitstring_to_file() to convert a decrypted message and save it into a decrypted file        #\n",
    "    ###############################################################################################################\n",
    "    def bitstring_to_file(self, decrypted_message=None):\n",
    "```"
   ]
  },
  {
   "cell_type": "markdown",
   "id": "7f6aa460-4066-4be7-9f95-bc13f5d99048",
   "metadata": {},
   "source": [
    "## Install Qiskit IBM Runtime"
   ]
  },
  {
   "cell_type": "code",
   "execution_count": 1,
   "id": "4a386412-b64d-47f9-b1ce-8a16f934680b",
   "metadata": {
    "jupyter": {
     "source_hidden": true
    }
   },
   "outputs": [
    {
     "name": "stdout",
     "output_type": "stream",
     "text": [
      "Requirement already satisfied: qiskit-ibm-runtime in /home/alain/miniconda3/lib/python3.12/site-packages (0.37.0)\n",
      "Requirement already satisfied: requests>=2.19 in /home/alain/miniconda3/lib/python3.12/site-packages (from qiskit-ibm-runtime) (2.32.3)\n",
      "Requirement already satisfied: requests-ntlm>=1.1.0 in /home/alain/miniconda3/lib/python3.12/site-packages (from qiskit-ibm-runtime) (1.3.0)\n",
      "Requirement already satisfied: numpy>=1.13 in /home/alain/miniconda3/lib/python3.12/site-packages (from qiskit-ibm-runtime) (2.0.1)\n",
      "Requirement already satisfied: urllib3>=1.21.1 in /home/alain/miniconda3/lib/python3.12/site-packages (from qiskit-ibm-runtime) (2.3.0)\n",
      "Requirement already satisfied: python-dateutil>=2.8.0 in /home/alain/miniconda3/lib/python3.12/site-packages (from qiskit-ibm-runtime) (2.9.0.post0)\n",
      "Requirement already satisfied: websocket-client>=1.5.1 in /home/alain/miniconda3/lib/python3.12/site-packages (from qiskit-ibm-runtime) (1.8.0)\n",
      "Requirement already satisfied: ibm-platform-services>=0.22.6 in /home/alain/miniconda3/lib/python3.12/site-packages (from qiskit-ibm-runtime) (0.63.0)\n",
      "Requirement already satisfied: pydantic<2.10,>=2.5.0 in /home/alain/miniconda3/lib/python3.12/site-packages (from qiskit-ibm-runtime) (2.9.2)\n",
      "Requirement already satisfied: qiskit>=1.4.1 in /home/alain/miniconda3/lib/python3.12/site-packages (from qiskit-ibm-runtime) (2.0.0)\n",
      "Requirement already satisfied: packaging in /home/alain/miniconda3/lib/python3.12/site-packages (from qiskit-ibm-runtime) (24.2)\n",
      "Requirement already satisfied: ibm_cloud_sdk_core<4.0.0,>=3.22.1 in /home/alain/miniconda3/lib/python3.12/site-packages (from ibm-platform-services>=0.22.6->qiskit-ibm-runtime) (3.23.0)\n",
      "Requirement already satisfied: annotated-types>=0.6.0 in /home/alain/miniconda3/lib/python3.12/site-packages (from pydantic<2.10,>=2.5.0->qiskit-ibm-runtime) (0.6.0)\n",
      "Requirement already satisfied: pydantic-core==2.23.4 in /home/alain/miniconda3/lib/python3.12/site-packages (from pydantic<2.10,>=2.5.0->qiskit-ibm-runtime) (2.23.4)\n",
      "Requirement already satisfied: typing-extensions>=4.6.1 in /home/alain/miniconda3/lib/python3.12/site-packages (from pydantic<2.10,>=2.5.0->qiskit-ibm-runtime) (4.12.2)\n",
      "Requirement already satisfied: six>=1.5 in /home/alain/miniconda3/lib/python3.12/site-packages (from python-dateutil>=2.8.0->qiskit-ibm-runtime) (1.17.0)\n",
      "Requirement already satisfied: rustworkx>=0.15.0 in /home/alain/miniconda3/lib/python3.12/site-packages (from qiskit>=1.4.1->qiskit-ibm-runtime) (0.16.0)\n",
      "Requirement already satisfied: scipy>=1.5 in /home/alain/miniconda3/lib/python3.12/site-packages (from qiskit>=1.4.1->qiskit-ibm-runtime) (1.15.2)\n",
      "Requirement already satisfied: sympy>=1.3 in /home/alain/miniconda3/lib/python3.12/site-packages (from qiskit>=1.4.1->qiskit-ibm-runtime) (1.13.3)\n",
      "Requirement already satisfied: dill>=0.3 in /home/alain/miniconda3/lib/python3.12/site-packages (from qiskit>=1.4.1->qiskit-ibm-runtime) (0.3.9)\n",
      "Requirement already satisfied: stevedore>=3.0.0 in /home/alain/miniconda3/lib/python3.12/site-packages (from qiskit>=1.4.1->qiskit-ibm-runtime) (5.4.1)\n",
      "Requirement already satisfied: symengine<0.14,>=0.11 in /home/alain/miniconda3/lib/python3.12/site-packages (from qiskit>=1.4.1->qiskit-ibm-runtime) (0.13.0)\n",
      "Requirement already satisfied: charset-normalizer<4,>=2 in /home/alain/miniconda3/lib/python3.12/site-packages (from requests>=2.19->qiskit-ibm-runtime) (3.3.2)\n",
      "Requirement already satisfied: idna<4,>=2.5 in /home/alain/miniconda3/lib/python3.12/site-packages (from requests>=2.19->qiskit-ibm-runtime) (3.7)\n",
      "Requirement already satisfied: certifi>=2017.4.17 in /home/alain/miniconda3/lib/python3.12/site-packages (from requests>=2.19->qiskit-ibm-runtime) (2024.7.4)\n",
      "Requirement already satisfied: cryptography>=1.3 in /home/alain/miniconda3/lib/python3.12/site-packages (from requests-ntlm>=1.1.0->qiskit-ibm-runtime) (43.0.3)\n",
      "Requirement already satisfied: pyspnego>=0.4.0 in /home/alain/miniconda3/lib/python3.12/site-packages (from requests-ntlm>=1.1.0->qiskit-ibm-runtime) (0.11.2)\n",
      "Requirement already satisfied: cffi>=1.12 in /home/alain/miniconda3/lib/python3.12/site-packages (from cryptography>=1.3->requests-ntlm>=1.1.0->qiskit-ibm-runtime) (1.17.1)\n",
      "Requirement already satisfied: PyJWT<3.0.0,>=2.8.0 in /home/alain/miniconda3/lib/python3.12/site-packages (from ibm_cloud_sdk_core<4.0.0,>=3.22.1->ibm-platform-services>=0.22.6->qiskit-ibm-runtime) (2.10.1)\n",
      "Requirement already satisfied: pbr>=2.0.0 in /home/alain/miniconda3/lib/python3.12/site-packages (from stevedore>=3.0.0->qiskit>=1.4.1->qiskit-ibm-runtime) (6.1.1)\n",
      "Requirement already satisfied: mpmath<1.4,>=1.1.0 in /home/alain/miniconda3/lib/python3.12/site-packages (from sympy>=1.3->qiskit>=1.4.1->qiskit-ibm-runtime) (1.3.0)\n",
      "Requirement already satisfied: pycparser in /home/alain/miniconda3/lib/python3.12/site-packages (from cffi>=1.12->cryptography>=1.3->requests-ntlm>=1.1.0->qiskit-ibm-runtime) (2.21)\n",
      "Requirement already satisfied: setuptools in /home/alain/miniconda3/lib/python3.12/site-packages (from pbr>=2.0.0->stevedore>=3.0.0->qiskit>=1.4.1->qiskit-ibm-runtime) (75.8.0)\n"
     ]
    }
   ],
   "source": [
    "# https://github.com/Qiskit/qiskit-ibm-runtime\n",
    "!pip install qiskit-ibm-runtime"
   ]
  },
  {
   "cell_type": "markdown",
   "id": "5380c3fb-b716-4c07-9371-5b403bbfb84f",
   "metadata": {},
   "source": [
    "### Install Qiskit Aer with the following command:\n",
    "https://qiskit.github.io/qiskit-aer/getting_started.html\n",
    "\n",
    "Additional circuit methods. On import, Aer adds several simulation-specific methods to QuantumCircuit for convenience. These methods are not available until Aer is imported (import qiskit_aer)."
   ]
  },
  {
   "cell_type": "code",
   "execution_count": 2,
   "id": "92583591-90b6-4321-aaaf-fa33b02857b3",
   "metadata": {
    "jupyter": {
     "source_hidden": true
    }
   },
   "outputs": [
    {
     "name": "stdout",
     "output_type": "stream",
     "text": [
      "Requirement already satisfied: qiskit-aer in /home/alain/miniconda3/lib/python3.12/site-packages (0.17.0)\n",
      "Requirement already satisfied: qiskit>=1.1.0 in /home/alain/miniconda3/lib/python3.12/site-packages (from qiskit-aer) (2.0.0)\n",
      "Requirement already satisfied: numpy>=1.16.3 in /home/alain/miniconda3/lib/python3.12/site-packages (from qiskit-aer) (2.0.1)\n",
      "Requirement already satisfied: scipy>=1.0 in /home/alain/miniconda3/lib/python3.12/site-packages (from qiskit-aer) (1.15.2)\n",
      "Requirement already satisfied: psutil>=5 in /home/alain/miniconda3/lib/python3.12/site-packages (from qiskit-aer) (5.9.0)\n",
      "Requirement already satisfied: rustworkx>=0.15.0 in /home/alain/miniconda3/lib/python3.12/site-packages (from qiskit>=1.1.0->qiskit-aer) (0.16.0)\n",
      "Requirement already satisfied: sympy>=1.3 in /home/alain/miniconda3/lib/python3.12/site-packages (from qiskit>=1.1.0->qiskit-aer) (1.13.3)\n",
      "Requirement already satisfied: dill>=0.3 in /home/alain/miniconda3/lib/python3.12/site-packages (from qiskit>=1.1.0->qiskit-aer) (0.3.9)\n",
      "Requirement already satisfied: python-dateutil>=2.8.0 in /home/alain/miniconda3/lib/python3.12/site-packages (from qiskit>=1.1.0->qiskit-aer) (2.9.0.post0)\n",
      "Requirement already satisfied: stevedore>=3.0.0 in /home/alain/miniconda3/lib/python3.12/site-packages (from qiskit>=1.1.0->qiskit-aer) (5.4.1)\n",
      "Requirement already satisfied: typing-extensions in /home/alain/miniconda3/lib/python3.12/site-packages (from qiskit>=1.1.0->qiskit-aer) (4.12.2)\n",
      "Requirement already satisfied: symengine<0.14,>=0.11 in /home/alain/miniconda3/lib/python3.12/site-packages (from qiskit>=1.1.0->qiskit-aer) (0.13.0)\n",
      "Requirement already satisfied: six>=1.5 in /home/alain/miniconda3/lib/python3.12/site-packages (from python-dateutil>=2.8.0->qiskit>=1.1.0->qiskit-aer) (1.17.0)\n",
      "Requirement already satisfied: pbr>=2.0.0 in /home/alain/miniconda3/lib/python3.12/site-packages (from stevedore>=3.0.0->qiskit>=1.1.0->qiskit-aer) (6.1.1)\n",
      "Requirement already satisfied: mpmath<1.4,>=1.1.0 in /home/alain/miniconda3/lib/python3.12/site-packages (from sympy>=1.3->qiskit>=1.1.0->qiskit-aer) (1.3.0)\n",
      "Requirement already satisfied: setuptools in /home/alain/miniconda3/lib/python3.12/site-packages (from pbr>=2.0.0->stevedore>=3.0.0->qiskit>=1.1.0->qiskit-aer) (75.8.0)\n",
      "Note: you may need to restart the kernel to use updated packages.\n"
     ]
    }
   ],
   "source": [
    "pip install qiskit-aer"
   ]
  },
  {
   "cell_type": "markdown",
   "id": "fe255c0e-ed4c-442c-bc03-e837cef687b3",
   "metadata": {},
   "source": [
    "### Install bitstring \n",
    "Bitstring is a pure Python module that makes the creation, manipulation and analysis of binary data as simple and natural as possible. https://bitstring.readthedocs.io/en/stable/"
   ]
  },
  {
   "cell_type": "code",
   "execution_count": 3,
   "id": "4697c09a-12ea-49fe-a03d-71eadb4ca1ad",
   "metadata": {},
   "outputs": [
    {
     "name": "stdout",
     "output_type": "stream",
     "text": [
      "Requirement already satisfied: bitstring in /home/alain/miniconda3/lib/python3.12/site-packages (4.3.1)\n",
      "Requirement already satisfied: bitarray<4.0,>=3.0.0 in /home/alain/miniconda3/lib/python3.12/site-packages (from bitstring) (3.3.1)\n",
      "Note: you may need to restart the kernel to use updated packages.\n"
     ]
    }
   ],
   "source": [
    "pip install bitstring"
   ]
  },
  {
   "cell_type": "markdown",
   "id": "6fb953fe-a8ed-4e01-80b4-441b4ed6893c",
   "metadata": {},
   "source": [
    "## Import statements"
   ]
  },
  {
   "cell_type": "markdown",
   "id": "364da7aa-e7d3-4755-8fa4-177d41566b9e",
   "metadata": {},
   "source": [
    "If \"from QPP_Alain import QPP\" fails and file QPP_Alain.py is in the same directory as your python or Jupyter notebook, try adding the following lines:\n",
    "```\n",
    "import sys\n",
    "import os\n",
    "cwd = os.getcwd()\n",
    "_= (sys.path.append(cwd))\n",
    "```"
   ]
  },
  {
   "cell_type": "code",
   "execution_count": 4,
   "id": "0c3f3c35",
   "metadata": {},
   "outputs": [
    {
     "name": "stdout",
     "output_type": "stream",
     "text": [
      "\u001b[1mQuantum permutation Pad with Qiskit Runtime by Alain Chancé\u001b[0m\n",
      "\n",
      "\u001b[1mMIT License\u001b[0m\n",
      "Copyright (c) 2022 Alain Chancé\n",
      "Permission is hereby granted, free of charge, to any person obtaining a copy\n",
      "of this software and associated documentation files (the \"Software\"), to deal\n",
      "in the Software without restriction, including without limitation the rights\n",
      "to use, copy, modify, merge, publish, distribute, sublicense, and/or sell\n",
      "copies of the Software, and to permit persons to whom the Software is\n",
      "furnished to do so, subject to the following conditions:\n",
      "\n",
      "The above copyright notice and this permission notice shall be included in all\n",
      "copies or substantial portions of the Software.\n",
      "THE SOFTWARE IS PROVIDED \"AS IS\", WITHOUT WARRANTY OF ANY KIND, EXPRESS OR\n",
      "IMPLIED, INCLUDING BUT NOT LIMITED TO THE WARRANTIES OF MERCHANTABILITY,\n",
      "FITNESS FOR A PARTICULAR PURPOSE AND NONINFRINGEMENT. IN NO EVENT SHALL THE\n",
      "AUTHORS OR COPYRIGHT HOLDERS BE LIABLE FOR ANY CLAIM, DAMAGES OR OTHER\n",
      "LIABILITY, WHETHER IN AN ACTION OF CONTRACT, TORT OR OTHERWISE, ARISING FROM,\n",
      "OUT OF OR IN CONNECTION WITH THE SOFTWARE OR THE USE OR OTHER DEALINGS IN THE\n",
      "SOFTWARE.\n",
      "\n",
      "\u001b[1mAbstract\u001b[0m\n",
      "We demonstrate an efficient implementation of the Kuang and Barbeau’s Quantum Permutation pad (QPP) symmetric cryptographic \n",
      "algorithm with Qiskit Runtime, a new architecture offered by IBM Quantum that streamlines quantum computations. We have \n",
      "implemented a Python class QPP and template Jupyter notebooks with Qiskit code for encrypting and decrypting with n-qubit QPP \n",
      "any text file in UTF-16 format or any image file in .png format. We offer the option of running either a quantum circuit \n",
      "with n qubits, or an alternate one with 2**n qubits which only uses swap gates and has a circuit depth of O(n). \n",
      "It is inherently extremely fast and could be run efficiently on currently available noisy quantum computers. Our implementation \n",
      "leverages the new Qiskit Sampler primitive in localized mode which dramatically improves performance. We offer a highly \n",
      "efficient classical implementation which performs permutation gate matrix multiplication with information state vectors. We \n",
      "illustrate the use with two agents Alice and Bob who exchange a text file and an image file using 2-qubit QPP and 4-qubit QPP.\n",
      "\n",
      "Keywords—quantum communication, quantum encryption, quantum decryption, quantum security, secure communication, QPP, Qiskit, \n",
      "IBMQ\n",
      "\n",
      "\u001b[1mCredit\u001b[0m\n",
      "Kuang, R., Perepechaenko, Appendix, source code for the implementation of the 2-qubits QPP of the following article:\n",
      "Kuang, R., Perepechaenko, M. Quantum encryption with quantum permutation pad in IBMQ systems. EPJ Quantum Technol. 9, 26 (2022). https://doi.org/10.1140/epjqt/s40507-022-00145-y\n",
      "\n",
      "\u001b[1mRights and Permissions\u001b[0m\n",
      "\u001b[1mOpen Access\u001b[0m This article is licensed under a Creative Commons Attribution 4.0 International License.\n",
      "To view a copy of this licence, visit http://creativecommons.org/licenses/by/4.0/.\n",
      "\n",
      "\u001b[1mReferences\u001b[0m\n",
      "[1] R. Kuang and N. Bettenburg, 'Shannon perfect secrecy in a discrete Hilbert space', in Proc. IEEE Int. Conf. Quantum Comput. Eng. (QCE),Oct. 2020, pp. 249-255, doi: 10.1109/QCE49297.2020.00039\n",
      "[2] Kuang, R., Perepechaenko, M. Quantum encryption with quantum permutation pad in IBMQ systems. EPJ Quantum Technol. 9, 26 (2022). https://doi.org/10.1140/epjqt/s40507-022-00145-y\n",
      "[3] Introducing new Qiskit Runtime capabilities — and how our clients are integrating them into their use, https://research.ibm.com/blog/qiskit-runtime-capabilities-integration\n",
      "[4] Qiskit Runtime IBM Client, https://github.com/Qiskit/qiskit-ibm-runtime\n",
      "[5] Qiskit IBM runtime, Configure error mitigation, Advanced resilience options, https://github.com/Qiskit/qiskit-ibm-runtime/blob/ab7486d6837652d54cb60b83cfaa9165f5d0484c/docs/how_to/error-mitigation.rst#advanced-resilience-options\n",
      "[6] Fisher–Yates shuffle, Wikipedia, https://en.wikipedia.org/wiki/Fisher%E2%80%93Yates_shuffle\n",
      "[7] Qiskit Terra API Reference, Primitives, Sampler, https://qiskit.org/documentation/stubs/qiskit.primitives.Sampler.html\n",
      "[8] Qiskit Terra API Reference, Primitives, Source code for qiskit.primitives.sampler, https://qiskit.org/documentation/_modules/qiskit/primitives/sampler.html#Sampler\n",
      "[9] Qiskit, qiskit.quantum_info.Statevector.from_instruction, https://qiskit.org/documentation/stubs/qiskit.primitives.Sampler.html\n",
      "[10] Qiskit, Source code for qiskit.quantum_info.states.statevector, Statevector.from_instruction, https://qiskit.org/documentation/_modules/qiskit/quantum_info/states/statevector.html#Statevector.from_instruction\n",
      "\n",
      "\u001b[1mTrademarks\u001b[0m\n",
      "IBM®, IBM Q Experience®, and Qiskit® are registered trademarks of IBM Corporation.\n",
      "\n",
      "\u001b[1mUsing QPP_Alain.py\u001b[0m\n",
      "To use QPP_Alain, put QPP_Alain.py in the same directory as your code and insert the following import:\n",
      "from QPP_Alain import QPP\n",
      "\n",
      "Qiskit version:  2.0.0\n",
      "Qiskit Aer version:  0.17.0\n"
     ]
    }
   ],
   "source": [
    "from QPP_Alain import QPP"
   ]
  },
  {
   "cell_type": "markdown",
   "id": "7729d052-0d3c-4848-a599-235aec441e59",
   "metadata": {},
   "source": [
    "## Create a parameter json file"
   ]
  },
  {
   "cell_type": "code",
   "execution_count": 5,
   "id": "320ff627-01c8-49e9-9722-e66f9b9ea4b1",
   "metadata": {},
   "outputs": [],
   "source": [
    "%run 'Write json file.ipynb'"
   ]
  },
  {
   "cell_type": "markdown",
   "id": "3886dc6d",
   "metadata": {},
   "source": [
    "## Create an instance of the QPP class"
   ]
  },
  {
   "cell_type": "code",
   "execution_count": 6,
   "id": "20f5979f",
   "metadata": {},
   "outputs": [
    {
     "name": "stdout",
     "output_type": "stream",
     "text": [
      "\n",
      "Parameters read from file: QPP_param_2-qubits_V0_Hello.json\n",
      "{'num_of_bits': 448, 'num_of_qubits': 2, 'num_of_perm_in_pad': 56, 'pad_selection_key_size': 6, 'opt_level': 1, 'resilience_level': 1, 'plaintext_file': 'Hello.txt', 'token_file': 'Token_Alain.txt', 'trace': 1, 'job_trigger': 10, 'print_trigger': 10, 'draw_circuit': 'True', 'do_sampler': 'True', 'version': 'V0', 'len_message': 8, 'len_ciphertext': 126}\n",
      "Printing trace into file:  Trace_Hello.txt\n",
      "\n",
      "backend = AerSimulator(method='statevector')\n"
     ]
    }
   ],
   "source": [
    "Alice_QPP = QPP(\"QPP_param_2-qubits_V0_Hello\")"
   ]
  },
  {
   "cell_type": "markdown",
   "id": "84e9a465",
   "metadata": {},
   "source": [
    "## QPP encryption\n",
    "### Convert plaintext file into a bitstring message"
   ]
  },
  {
   "cell_type": "code",
   "execution_count": 7,
   "id": "ba93022a",
   "metadata": {},
   "outputs": [
    {
     "name": "stdout",
     "output_type": "stream",
     "text": [
      "\n",
      "file_to_bitstring - Length of plain text: 7\n"
     ]
    }
   ],
   "source": [
    "message = Alice_QPP.file_to_bitstring()"
   ]
  },
  {
   "cell_type": "markdown",
   "id": "16bc4271",
   "metadata": {},
   "source": [
    "### Encrypt bitstring message"
   ]
  },
  {
   "cell_type": "code",
   "execution_count": 8,
   "id": "0b4e30d3",
   "metadata": {},
   "outputs": [
    {
     "name": "stdout",
     "output_type": "stream",
     "text": [
      "encrypt - Length of message in bits:  128\n",
      "\n",
      "permutation pad - Permutation number: 0, matrix: \n"
     ]
    },
    {
     "data": {
      "text/latex": [
       "$$\n",
       "\n",
       "\\begin{bmatrix}\n",
       "0 & 0 & 1 & 0  \\\\\n",
       " 0 & 0 & 0 & 1  \\\\\n",
       " 1 & 0 & 0 & 0  \\\\\n",
       " 0 & 1 & 0 & 0  \\\\\n",
       " \\end{bmatrix}\n",
       "$$"
      ],
      "text/plain": [
       "<IPython.core.display.Latex object>"
      ]
     },
     "metadata": {},
     "output_type": "display_data"
    },
    {
     "name": "stdout",
     "output_type": "stream",
     "text": [
      "\n",
      "permutation pad - Permutation number: 0, Depth of quantum circuit: 1\n"
     ]
    },
    {
     "data": {
      "image/png": "[encoded data removed]",
      "text/plain": [
       "<Figure size 370.906x284.278 with 1 Axes>"
      ]
     },
     "metadata": {},
     "output_type": "display_data"
    },
    {
     "name": "stdout",
     "output_type": "stream",
     "text": [
      "\n",
      "permutation_pad - permutation number: 0, dictionary:\n",
      "{0: '10', 1: '11', 2: '00', 3: '01'}\n",
      "permutation pad - Elapsed time: 0:00:00.441850\n",
      "\n",
      "permutation pad - Permutation number: 1, matrix: \n"
     ]
    },
    {
     "data": {
      "text/latex": [
       "$$\n",
       "\n",
       "\\begin{bmatrix}\n",
       "0 & 0 & 0 & 1  \\\\\n",
       " 1 & 0 & 0 & 0  \\\\\n",
       " 0 & 1 & 0 & 0  \\\\\n",
       " 0 & 0 & 1 & 0  \\\\\n",
       " \\end{bmatrix}\n",
       "$$"
      ],
      "text/plain": [
       "<IPython.core.display.Latex object>"
      ]
     },
     "metadata": {},
     "output_type": "display_data"
    },
    {
     "name": "stdout",
     "output_type": "stream",
     "text": [
      "\n",
      "permutation pad - Permutation number: 1, Depth of quantum circuit: 1\n"
     ]
    },
    {
     "data": {
      "image/png": "[encoded data removed]",
      "text/plain": [
       "<Figure size 370.906x284.278 with 1 Axes>"
      ]
     },
     "metadata": {},
     "output_type": "display_data"
    },
    {
     "name": "stdout",
     "output_type": "stream",
     "text": [
      "\n",
      "permutation_pad - permutation number: 1, dictionary:\n",
      "{0: '01', 1: '10', 2: '11', 3: '00'}\n",
      "permutation pad - Elapsed time: 0:00:00.700738\n",
      "\n",
      "permutation pad - Permutation number: 2, matrix: \n"
     ]
    },
    {
     "data": {
      "text/latex": [
       "$$\n",
       "\n",
       "\\begin{bmatrix}\n",
       "0 & 1 & 0 & 0  \\\\\n",
       " 0 & 0 & 1 & 0  \\\\\n",
       " 1 & 0 & 0 & 0  \\\\\n",
       " 0 & 0 & 0 & 1  \\\\\n",
       " \\end{bmatrix}\n",
       "$$"
      ],
      "text/plain": [
       "<IPython.core.display.Latex object>"
      ]
     },
     "metadata": {},
     "output_type": "display_data"
    },
    {
     "name": "stdout",
     "output_type": "stream",
     "text": [
      "\n",
      "permutation pad - Permutation number: 2, Depth of quantum circuit: 1\n"
     ]
    },
    {
     "data": {
      "image/png": "[encoded data removed]",
      "text/plain": [
       "<Figure size 370.906x284.278 with 1 Axes>"
      ]
     },
     "metadata": {},
     "output_type": "display_data"
    },
    {
     "name": "stdout",
     "output_type": "stream",
     "text": [
      "\n",
      "permutation_pad - permutation number: 2, dictionary:\n",
      "{0: '10', 1: '00', 2: '01', 3: '11'}\n",
      "permutation pad - Elapsed time: 0:00:00.785341\n",
      "\n",
      "permutation pad - Permutation number: 3, matrix: \n"
     ]
    },
    {
     "data": {
      "text/latex": [
       "$$\n",
       "\n",
       "\\begin{bmatrix}\n",
       "0 & 0 & 1 & 0  \\\\\n",
       " 0 & 1 & 0 & 0  \\\\\n",
       " 0 & 0 & 0 & 1  \\\\\n",
       " 1 & 0 & 0 & 0  \\\\\n",
       " \\end{bmatrix}\n",
       "$$"
      ],
      "text/plain": [
       "<IPython.core.display.Latex object>"
      ]
     },
     "metadata": {},
     "output_type": "display_data"
    },
    {
     "name": "stdout",
     "output_type": "stream",
     "text": [
      "\n",
      "permutation pad - Permutation number: 3, Depth of quantum circuit: 1\n"
     ]
    },
    {
     "data": {
      "image/png": "[encoded data removed]",
      "text/plain": [
       "<Figure size 370.906x284.278 with 1 Axes>"
      ]
     },
     "metadata": {},
     "output_type": "display_data"
    },
    {
     "name": "stdout",
     "output_type": "stream",
     "text": [
      "\n",
      "permutation_pad - permutation number: 3, dictionary:\n",
      "{0: '11', 1: '01', 2: '00', 3: '10'}\n",
      "permutation pad - Elapsed time: 0:00:00.877097\n",
      "\n",
      "permutation pad - Permutation number: 4, matrix: \n"
     ]
    },
    {
     "data": {
      "text/latex": [
       "$$\n",
       "\n",
       "\\begin{bmatrix}\n",
       "1 & 0 & 0 & 0  \\\\\n",
       " 0 & 0 & 1 & 0  \\\\\n",
       " 0 & 1 & 0 & 0  \\\\\n",
       " 0 & 0 & 0 & 1  \\\\\n",
       " \\end{bmatrix}\n",
       "$$"
      ],
      "text/plain": [
       "<IPython.core.display.Latex object>"
      ]
     },
     "metadata": {},
     "output_type": "display_data"
    },
    {
     "name": "stdout",
     "output_type": "stream",
     "text": [
      "\n",
      "permutation pad - Permutation number: 4, Depth of quantum circuit: 1\n"
     ]
    },
    {
     "data": {
      "image/png": "[encoded data removed]",
      "text/plain": [
       "<Figure size 370.906x284.278 with 1 Axes>"
      ]
     },
     "metadata": {},
     "output_type": "display_data"
    },
    {
     "name": "stdout",
     "output_type": "stream",
     "text": [
      "\n",
      "permutation_pad - permutation number: 4, dictionary:\n",
      "{0: '00', 1: '10', 2: '01', 3: '11'}\n",
      "permutation pad - Elapsed time: 0:00:00.993510\n",
      "\n",
      "permutation pad - Permutation number: 5, matrix: \n"
     ]
    },
    {
     "data": {
      "text/latex": [
       "$$\n",
       "\n",
       "\\begin{bmatrix}\n",
       "0 & 1 & 0 & 0  \\\\\n",
       " 0 & 0 & 0 & 1  \\\\\n",
       " 1 & 0 & 0 & 0  \\\\\n",
       " 0 & 0 & 1 & 0  \\\\\n",
       " \\end{bmatrix}\n",
       "$$"
      ],
      "text/plain": [
       "<IPython.core.display.Latex object>"
      ]
     },
     "metadata": {},
     "output_type": "display_data"
    },
    {
     "name": "stdout",
     "output_type": "stream",
     "text": [
      "\n",
      "permutation pad - Permutation number: 5, Depth of quantum circuit: 1\n"
     ]
    },
    {
     "data": {
      "image/png": "[encoded data removed]",
      "text/plain": [
       "<Figure size 370.906x284.278 with 1 Axes>"
      ]
     },
     "metadata": {},
     "output_type": "display_data"
    },
    {
     "name": "stdout",
     "output_type": "stream",
     "text": [
      "\n",
      "permutation_pad - permutation number: 5, dictionary:\n",
      "{0: '10', 1: '00', 2: '11', 3: '01'}\n",
      "permutation pad - Elapsed time: 0:00:01.125422\n",
      "\n",
      "permutation pad - Permutation number: 6, matrix: \n"
     ]
    },
    {
     "data": {
      "text/latex": [
       "$$\n",
       "\n",
       "\\begin{bmatrix}\n",
       "0 & 0 & 0 & 1  \\\\\n",
       " 1 & 0 & 0 & 0  \\\\\n",
       " 0 & 1 & 0 & 0  \\\\\n",
       " 0 & 0 & 1 & 0  \\\\\n",
       " \\end{bmatrix}\n",
       "$$"
      ],
      "text/plain": [
       "<IPython.core.display.Latex object>"
      ]
     },
     "metadata": {},
     "output_type": "display_data"
    },
    {
     "name": "stdout",
     "output_type": "stream",
     "text": [
      "\n",
      "permutation pad - Permutation number: 6, Depth of quantum circuit: 1\n"
     ]
    },
    {
     "data": {
      "image/png": "[encoded data removed]",
      "text/plain": [
       "<Figure size 370.906x284.278 with 1 Axes>"
      ]
     },
     "metadata": {},
     "output_type": "display_data"
    },
    {
     "name": "stdout",
     "output_type": "stream",
     "text": [
      "\n",
      "permutation_pad - permutation number: 6, dictionary:\n",
      "{0: '01', 1: '10', 2: '11', 3: '00'}\n",
      "permutation pad - Elapsed time: 0:00:01.262190\n",
      "\n",
      "permutation pad - Permutation number: 7, matrix: \n"
     ]
    },
    {
     "data": {
      "text/latex": [
       "$$\n",
       "\n",
       "\\begin{bmatrix}\n",
       "0 & 0 & 0 & 1  \\\\\n",
       " 1 & 0 & 0 & 0  \\\\\n",
       " 0 & 1 & 0 & 0  \\\\\n",
       " 0 & 0 & 1 & 0  \\\\\n",
       " \\end{bmatrix}\n",
       "$$"
      ],
      "text/plain": [
       "<IPython.core.display.Latex object>"
      ]
     },
     "metadata": {},
     "output_type": "display_data"
    },
    {
     "name": "stdout",
     "output_type": "stream",
     "text": [
      "\n",
      "permutation pad - Permutation number: 7, Depth of quantum circuit: 1\n"
     ]
    },
    {
     "data": {
      "image/png": "[encoded data removed]",
      "text/plain": [
       "<Figure size 370.906x284.278 with 1 Axes>"
      ]
     },
     "metadata": {},
     "output_type": "display_data"
    },
    {
     "name": "stdout",
     "output_type": "stream",
     "text": [
      "\n",
      "permutation_pad - permutation number: 7, dictionary:\n",
      "{0: '01', 1: '10', 2: '11', 3: '00'}\n",
      "permutation pad - Elapsed time: 0:00:01.349093\n",
      "\n",
      "permutation pad - Permutation number: 8, matrix: \n"
     ]
    },
    {
     "data": {
      "text/latex": [
       "$$\n",
       "\n",
       "\\begin{bmatrix}\n",
       "0 & 0 & 0 & 1  \\\\\n",
       " 0 & 0 & 1 & 0  \\\\\n",
       " 1 & 0 & 0 & 0  \\\\\n",
       " 0 & 1 & 0 & 0  \\\\\n",
       " \\end{bmatrix}\n",
       "$$"
      ],
      "text/plain": [
       "<IPython.core.display.Latex object>"
      ]
     },
     "metadata": {},
     "output_type": "display_data"
    },
    {
     "name": "stdout",
     "output_type": "stream",
     "text": [
      "\n",
      "permutation pad - Permutation number: 8, Depth of quantum circuit: 1\n"
     ]
    },
    {
     "data": {
      "image/png": "[encoded data removed]",
      "text/plain": [
       "<Figure size 370.906x284.278 with 1 Axes>"
      ]
     },
     "metadata": {},
     "output_type": "display_data"
    },
    {
     "name": "stdout",
     "output_type": "stream",
     "text": [
      "\n",
      "permutation_pad - permutation number: 8, dictionary:\n",
      "{0: '10', 1: '11', 2: '01', 3: '00'}\n",
      "permutation pad - Elapsed time: 0:00:01.431713\n",
      "\n",
      "permutation pad - Permutation number: 9, matrix: \n"
     ]
    },
    {
     "data": {
      "text/latex": [
       "$$\n",
       "\n",
       "\\begin{bmatrix}\n",
       "0 & 1 & 0 & 0  \\\\\n",
       " 0 & 0 & 0 & 1  \\\\\n",
       " 1 & 0 & 0 & 0  \\\\\n",
       " 0 & 0 & 1 & 0  \\\\\n",
       " \\end{bmatrix}\n",
       "$$"
      ],
      "text/plain": [
       "<IPython.core.display.Latex object>"
      ]
     },
     "metadata": {},
     "output_type": "display_data"
    },
    {
     "name": "stdout",
     "output_type": "stream",
     "text": [
      "\n",
      "permutation pad - Permutation number: 9, Depth of quantum circuit: 1\n"
     ]
    },
    {
     "data": {
      "image/png": "[encoded data removed]",
      "text/plain": [
       "<Figure size 370.906x284.278 with 1 Axes>"
      ]
     },
     "metadata": {},
     "output_type": "display_data"
    },
    {
     "name": "stdout",
     "output_type": "stream",
     "text": [
      "\n",
      "permutation_pad - permutation number: 9, dictionary:\n",
      "{0: '10', 1: '00', 2: '11', 3: '01'}\n",
      "permutation pad - Elapsed time: 0:00:01.498953\n",
      "\n",
      "permutation pad - Permutation number: 10, matrix: \n"
     ]
    },
    {
     "data": {
      "text/latex": [
       "$$\n",
       "\n",
       "\\begin{bmatrix}\n",
       "0 & 0 & 0 & 1  \\\\\n",
       " 0 & 0 & 1 & 0  \\\\\n",
       " 0 & 1 & 0 & 0  \\\\\n",
       " 1 & 0 & 0 & 0  \\\\\n",
       " \\end{bmatrix}\n",
       "$$"
      ],
      "text/plain": [
       "<IPython.core.display.Latex object>"
      ]
     },
     "metadata": {},
     "output_type": "display_data"
    },
    {
     "name": "stdout",
     "output_type": "stream",
     "text": [
      "\n",
      "permutation pad - Permutation number: 10, Depth of quantum circuit: 1\n"
     ]
    },
    {
     "data": {
      "image/png": "[encoded data removed]",
      "text/plain": [
       "<Figure size 370.906x284.278 with 1 Axes>"
      ]
     },
     "metadata": {},
     "output_type": "display_data"
    },
    {
     "name": "stdout",
     "output_type": "stream",
     "text": [
      "\n",
      "permutation_pad - permutation number: 10, dictionary:\n",
      "{0: '11', 1: '10', 2: '01', 3: '00'}\n",
      "permutation pad - Elapsed time: 0:00:01.564943\n",
      "\n",
      "permutation pad - Permutation number: 11, matrix: \n"
     ]
    },
    {
     "data": {
      "text/latex": [
       "$$\n",
       "\n",
       "\\begin{bmatrix}\n",
       "1 & 0 & 0 & 0  \\\\\n",
       " 0 & 0 & 1 & 0  \\\\\n",
       " 0 & 0 & 0 & 1  \\\\\n",
       " 0 & 1 & 0 & 0  \\\\\n",
       " \\end{bmatrix}\n",
       "$$"
      ],
      "text/plain": [
       "<IPython.core.display.Latex object>"
      ]
     },
     "metadata": {},
     "output_type": "display_data"
    },
    {
     "name": "stdout",
     "output_type": "stream",
     "text": [
      "\n",
      "permutation pad - Permutation number: 11, Depth of quantum circuit: 1\n"
     ]
    },
    {
     "data": {
      "image/png": "[encoded data removed]",
      "text/plain": [
       "<Figure size 370.906x284.278 with 1 Axes>"
      ]
     },
     "metadata": {},
     "output_type": "display_data"
    },
    {
     "name": "stdout",
     "output_type": "stream",
     "text": [
      "\n",
      "permutation_pad - permutation number: 11, dictionary:\n",
      "{0: '00', 1: '11', 2: '01', 3: '10'}\n",
      "permutation pad - Elapsed time: 0:00:01.626549\n",
      "\n",
      "permutation pad - Permutation number: 12, matrix: \n"
     ]
    },
    {
     "data": {
      "text/latex": [
       "$$\n",
       "\n",
       "\\begin{bmatrix}\n",
       "0 & 0 & 0 & 1  \\\\\n",
       " 0 & 1 & 0 & 0  \\\\\n",
       " 1 & 0 & 0 & 0  \\\\\n",
       " 0 & 0 & 1 & 0  \\\\\n",
       " \\end{bmatrix}\n",
       "$$"
      ],
      "text/plain": [
       "<IPython.core.display.Latex object>"
      ]
     },
     "metadata": {},
     "output_type": "display_data"
    },
    {
     "name": "stdout",
     "output_type": "stream",
     "text": [
      "\n",
      "permutation pad - Permutation number: 12, Depth of quantum circuit: 1\n"
     ]
    },
    {
     "data": {
      "image/png": "[encoded data removed]",
      "text/plain": [
       "<Figure size 370.906x284.278 with 1 Axes>"
      ]
     },
     "metadata": {},
     "output_type": "display_data"
    },
    {
     "name": "stdout",
     "output_type": "stream",
     "text": [
      "\n",
      "permutation_pad - permutation number: 12, dictionary:\n",
      "{0: '10', 1: '01', 2: '11', 3: '00'}\n",
      "permutation pad - Elapsed time: 0:00:01.688039\n",
      "\n",
      "permutation pad - Permutation number: 13, matrix: \n"
     ]
    },
    {
     "data": {
      "text/latex": [
       "$$\n",
       "\n",
       "\\begin{bmatrix}\n",
       "0 & 0 & 0 & 1  \\\\\n",
       " 1 & 0 & 0 & 0  \\\\\n",
       " 0 & 1 & 0 & 0  \\\\\n",
       " 0 & 0 & 1 & 0  \\\\\n",
       " \\end{bmatrix}\n",
       "$$"
      ],
      "text/plain": [
       "<IPython.core.display.Latex object>"
      ]
     },
     "metadata": {},
     "output_type": "display_data"
    },
    {
     "name": "stdout",
     "output_type": "stream",
     "text": [
      "\n",
      "permutation pad - Permutation number: 13, Depth of quantum circuit: 1\n"
     ]
    },
    {
     "data": {
      "image/png": "[encoded data removed]",
      "text/plain": [
       "<Figure size 370.906x284.278 with 1 Axes>"
      ]
     },
     "metadata": {},
     "output_type": "display_data"
    },
    {
     "name": "stdout",
     "output_type": "stream",
     "text": [
      "\n",
      "permutation_pad - permutation number: 13, dictionary:\n",
      "{0: '01', 1: '10', 2: '11', 3: '00'}\n",
      "permutation pad - Elapsed time: 0:00:01.768007\n",
      "\n",
      "permutation pad - Permutation number: 14, matrix: \n"
     ]
    },
    {
     "data": {
      "text/latex": [
       "$$\n",
       "\n",
       "\\begin{bmatrix}\n",
       "1 & 0 & 0 & 0  \\\\\n",
       " 0 & 0 & 0 & 1  \\\\\n",
       " 0 & 0 & 1 & 0  \\\\\n",
       " 0 & 1 & 0 & 0  \\\\\n",
       " \\end{bmatrix}\n",
       "$$"
      ],
      "text/plain": [
       "<IPython.core.display.Latex object>"
      ]
     },
     "metadata": {},
     "output_type": "display_data"
    },
    {
     "name": "stdout",
     "output_type": "stream",
     "text": [
      "\n",
      "permutation pad - Permutation number: 14, Depth of quantum circuit: 1\n"
     ]
    },
    {
     "data": {
      "image/png": "[encoded data removed]",
      "text/plain": [
       "<Figure size 370.906x284.278 with 1 Axes>"
      ]
     },
     "metadata": {},
     "output_type": "display_data"
    },
    {
     "name": "stdout",
     "output_type": "stream",
     "text": [
      "\n",
      "permutation_pad - permutation number: 14, dictionary:\n",
      "{0: '00', 1: '11', 2: '10', 3: '01'}\n",
      "permutation pad - Elapsed time: 0:00:01.914481\n",
      "\n",
      "permutation pad - Permutation number: 15, matrix: \n"
     ]
    },
    {
     "data": {
      "text/latex": [
       "$$\n",
       "\n",
       "\\begin{bmatrix}\n",
       "1 & 0 & 0 & 0  \\\\\n",
       " 0 & 0 & 0 & 1  \\\\\n",
       " 0 & 1 & 0 & 0  \\\\\n",
       " 0 & 0 & 1 & 0  \\\\\n",
       " \\end{bmatrix}\n",
       "$$"
      ],
      "text/plain": [
       "<IPython.core.display.Latex object>"
      ]
     },
     "metadata": {},
     "output_type": "display_data"
    },
    {
     "name": "stdout",
     "output_type": "stream",
     "text": [
      "\n",
      "permutation pad - Permutation number: 15, Depth of quantum circuit: 1\n"
     ]
    },
    {
     "data": {
      "image/png": "[encoded data removed]",
      "text/plain": [
       "<Figure size 370.906x284.278 with 1 Axes>"
      ]
     },
     "metadata": {},
     "output_type": "display_data"
    },
    {
     "name": "stdout",
     "output_type": "stream",
     "text": [
      "\n",
      "permutation_pad - permutation number: 15, dictionary:\n",
      "{0: '00', 1: '10', 2: '11', 3: '01'}\n",
      "permutation pad - Elapsed time: 0:00:01.987975\n",
      "\n",
      "permutation pad - Permutation number: 16, matrix: \n"
     ]
    },
    {
     "data": {
      "text/latex": [
       "$$\n",
       "\n",
       "\\begin{bmatrix}\n",
       "1 & 0 & 0 & 0  \\\\\n",
       " 0 & 0 & 0 & 1  \\\\\n",
       " 0 & 1 & 0 & 0  \\\\\n",
       " 0 & 0 & 1 & 0  \\\\\n",
       " \\end{bmatrix}\n",
       "$$"
      ],
      "text/plain": [
       "<IPython.core.display.Latex object>"
      ]
     },
     "metadata": {},
     "output_type": "display_data"
    },
    {
     "name": "stdout",
     "output_type": "stream",
     "text": [
      "\n",
      "permutation pad - Permutation number: 16, Depth of quantum circuit: 1\n"
     ]
    },
    {
     "data": {
      "image/png": "[encoded data removed]",
      "text/plain": [
       "<Figure size 370.906x284.278 with 1 Axes>"
      ]
     },
     "metadata": {},
     "output_type": "display_data"
    },
    {
     "name": "stdout",
     "output_type": "stream",
     "text": [
      "\n",
      "permutation_pad - permutation number: 16, dictionary:\n",
      "{0: '00', 1: '10', 2: '11', 3: '01'}\n",
      "permutation pad - Elapsed time: 0:00:02.084307\n",
      "\n",
      "permutation pad - Permutation number: 17, matrix: \n"
     ]
    },
    {
     "data": {
      "text/latex": [
       "$$\n",
       "\n",
       "\\begin{bmatrix}\n",
       "0 & 1 & 0 & 0  \\\\\n",
       " 0 & 0 & 1 & 0  \\\\\n",
       " 1 & 0 & 0 & 0  \\\\\n",
       " 0 & 0 & 0 & 1  \\\\\n",
       " \\end{bmatrix}\n",
       "$$"
      ],
      "text/plain": [
       "<IPython.core.display.Latex object>"
      ]
     },
     "metadata": {},
     "output_type": "display_data"
    },
    {
     "name": "stdout",
     "output_type": "stream",
     "text": [
      "\n",
      "permutation pad - Permutation number: 17, Depth of quantum circuit: 1\n"
     ]
    },
    {
     "data": {
      "image/png": "[encoded data removed]",
      "text/plain": [
       "<Figure size 370.906x284.278 with 1 Axes>"
      ]
     },
     "metadata": {},
     "output_type": "display_data"
    },
    {
     "name": "stdout",
     "output_type": "stream",
     "text": [
      "\n",
      "permutation_pad - permutation number: 17, dictionary:\n",
      "{0: '10', 1: '00', 2: '01', 3: '11'}\n",
      "permutation pad - Elapsed time: 0:00:02.200047\n",
      "\n",
      "permutation pad - Permutation number: 18, matrix: \n"
     ]
    },
    {
     "data": {
      "text/latex": [
       "$$\n",
       "\n",
       "\\begin{bmatrix}\n",
       "1 & 0 & 0 & 0  \\\\\n",
       " 0 & 0 & 0 & 1  \\\\\n",
       " 0 & 0 & 1 & 0  \\\\\n",
       " 0 & 1 & 0 & 0  \\\\\n",
       " \\end{bmatrix}\n",
       "$$"
      ],
      "text/plain": [
       "<IPython.core.display.Latex object>"
      ]
     },
     "metadata": {},
     "output_type": "display_data"
    },
    {
     "name": "stdout",
     "output_type": "stream",
     "text": [
      "\n",
      "permutation pad - Permutation number: 18, Depth of quantum circuit: 1\n"
     ]
    },
    {
     "data": {
      "image/png": "[encoded data removed]",
      "text/plain": [
       "<Figure size 370.906x284.278 with 1 Axes>"
      ]
     },
     "metadata": {},
     "output_type": "display_data"
    },
    {
     "name": "stdout",
     "output_type": "stream",
     "text": [
      "\n",
      "permutation_pad - permutation number: 18, dictionary:\n",
      "{0: '00', 1: '11', 2: '10', 3: '01'}\n",
      "permutation pad - Elapsed time: 0:00:02.270867\n",
      "\n",
      "permutation pad - Permutation number: 19, matrix: \n"
     ]
    },
    {
     "data": {
      "text/latex": [
       "$$\n",
       "\n",
       "\\begin{bmatrix}\n",
       "0 & 1 & 0 & 0  \\\\\n",
       " 0 & 0 & 1 & 0  \\\\\n",
       " 1 & 0 & 0 & 0  \\\\\n",
       " 0 & 0 & 0 & 1  \\\\\n",
       " \\end{bmatrix}\n",
       "$$"
      ],
      "text/plain": [
       "<IPython.core.display.Latex object>"
      ]
     },
     "metadata": {},
     "output_type": "display_data"
    },
    {
     "name": "stdout",
     "output_type": "stream",
     "text": [
      "\n",
      "permutation pad - Permutation number: 19, Depth of quantum circuit: 1\n"
     ]
    },
    {
     "data": {
      "image/png": "[encoded data removed]",
      "text/plain": [
       "<Figure size 370.906x284.278 with 1 Axes>"
      ]
     },
     "metadata": {},
     "output_type": "display_data"
    },
    {
     "name": "stdout",
     "output_type": "stream",
     "text": [
      "\n",
      "permutation_pad - permutation number: 19, dictionary:\n",
      "{0: '10', 1: '00', 2: '01', 3: '11'}\n",
      "permutation pad - Elapsed time: 0:00:02.337168\n",
      "\n",
      "permutation pad - Permutation number: 20, matrix: \n"
     ]
    },
    {
     "data": {
      "text/latex": [
       "$$\n",
       "\n",
       "\\begin{bmatrix}\n",
       "1 & 0 & 0 & 0  \\\\\n",
       " 0 & 0 & 1 & 0  \\\\\n",
       " 0 & 1 & 0 & 0  \\\\\n",
       " 0 & 0 & 0 & 1  \\\\\n",
       " \\end{bmatrix}\n",
       "$$"
      ],
      "text/plain": [
       "<IPython.core.display.Latex object>"
      ]
     },
     "metadata": {},
     "output_type": "display_data"
    },
    {
     "name": "stdout",
     "output_type": "stream",
     "text": [
      "\n",
      "permutation pad - Permutation number: 20, Depth of quantum circuit: 1\n"
     ]
    },
    {
     "data": {
      "image/png": "[encoded data removed]",
      "text/plain": [
       "<Figure size 370.906x284.278 with 1 Axes>"
      ]
     },
     "metadata": {},
     "output_type": "display_data"
    },
    {
     "name": "stdout",
     "output_type": "stream",
     "text": [
      "\n",
      "permutation_pad - permutation number: 20, dictionary:\n",
      "{0: '00', 1: '10', 2: '01', 3: '11'}\n",
      "permutation pad - Elapsed time: 0:00:02.412078\n",
      "\n",
      "permutation pad - Permutation number: 21, matrix: \n"
     ]
    },
    {
     "data": {
      "text/latex": [
       "$$\n",
       "\n",
       "\\begin{bmatrix}\n",
       "1 & 0 & 0 & 0  \\\\\n",
       " 0 & 1 & 0 & 0  \\\\\n",
       " 0 & 0 & 0 & 1  \\\\\n",
       " 0 & 0 & 1 & 0  \\\\\n",
       " \\end{bmatrix}\n",
       "$$"
      ],
      "text/plain": [
       "<IPython.core.display.Latex object>"
      ]
     },
     "metadata": {},
     "output_type": "display_data"
    },
    {
     "name": "stdout",
     "output_type": "stream",
     "text": [
      "\n",
      "permutation pad - Permutation number: 21, Depth of quantum circuit: 1\n"
     ]
    },
    {
     "data": {
      "image/png": "[encoded data removed]",
      "text/plain": [
       "<Figure size 370.906x284.278 with 1 Axes>"
      ]
     },
     "metadata": {},
     "output_type": "display_data"
    },
    {
     "name": "stdout",
     "output_type": "stream",
     "text": [
      "\n",
      "permutation_pad - permutation number: 21, dictionary:\n",
      "{0: '00', 1: '01', 2: '11', 3: '10'}\n",
      "permutation pad - Elapsed time: 0:00:02.523655\n",
      "\n",
      "permutation pad - Permutation number: 22, matrix: \n"
     ]
    },
    {
     "data": {
      "text/latex": [
       "$$\n",
       "\n",
       "\\begin{bmatrix}\n",
       "1 & 0 & 0 & 0  \\\\\n",
       " 0 & 1 & 0 & 0  \\\\\n",
       " 0 & 0 & 0 & 1  \\\\\n",
       " 0 & 0 & 1 & 0  \\\\\n",
       " \\end{bmatrix}\n",
       "$$"
      ],
      "text/plain": [
       "<IPython.core.display.Latex object>"
      ]
     },
     "metadata": {},
     "output_type": "display_data"
    },
    {
     "name": "stdout",
     "output_type": "stream",
     "text": [
      "\n",
      "permutation pad - Permutation number: 22, Depth of quantum circuit: 1\n"
     ]
    },
    {
     "data": {
      "image/png": "[encoded data removed]",
      "text/plain": [
       "<Figure size 370.906x284.278 with 1 Axes>"
      ]
     },
     "metadata": {},
     "output_type": "display_data"
    },
    {
     "name": "stdout",
     "output_type": "stream",
     "text": [
      "\n",
      "permutation_pad - permutation number: 22, dictionary:\n",
      "{0: '00', 1: '01', 2: '11', 3: '10'}\n",
      "permutation pad - Elapsed time: 0:00:02.813170\n",
      "\n",
      "permutation pad - Permutation number: 23, matrix: \n"
     ]
    },
    {
     "data": {
      "text/latex": [
       "$$\n",
       "\n",
       "\\begin{bmatrix}\n",
       "0 & 0 & 0 & 1  \\\\\n",
       " 0 & 0 & 1 & 0  \\\\\n",
       " 0 & 1 & 0 & 0  \\\\\n",
       " 1 & 0 & 0 & 0  \\\\\n",
       " \\end{bmatrix}\n",
       "$$"
      ],
      "text/plain": [
       "<IPython.core.display.Latex object>"
      ]
     },
     "metadata": {},
     "output_type": "display_data"
    },
    {
     "name": "stdout",
     "output_type": "stream",
     "text": [
      "\n",
      "permutation pad - Permutation number: 23, Depth of quantum circuit: 1\n"
     ]
    },
    {
     "data": {
      "image/png": "[encoded data removed]",
      "text/plain": [
       "<Figure size 370.906x284.278 with 1 Axes>"
      ]
     },
     "metadata": {},
     "output_type": "display_data"
    },
    {
     "name": "stdout",
     "output_type": "stream",
     "text": [
      "\n",
      "permutation_pad - permutation number: 23, dictionary:\n",
      "{0: '11', 1: '10', 2: '01', 3: '00'}\n",
      "permutation pad - Elapsed time: 0:00:02.881814\n",
      "\n",
      "permutation pad - Permutation number: 24, matrix: \n"
     ]
    },
    {
     "data": {
      "text/latex": [
       "$$\n",
       "\n",
       "\\begin{bmatrix}\n",
       "0 & 0 & 0 & 1  \\\\\n",
       " 1 & 0 & 0 & 0  \\\\\n",
       " 0 & 1 & 0 & 0  \\\\\n",
       " 0 & 0 & 1 & 0  \\\\\n",
       " \\end{bmatrix}\n",
       "$$"
      ],
      "text/plain": [
       "<IPython.core.display.Latex object>"
      ]
     },
     "metadata": {},
     "output_type": "display_data"
    },
    {
     "name": "stdout",
     "output_type": "stream",
     "text": [
      "\n",
      "permutation pad - Permutation number: 24, Depth of quantum circuit: 1\n"
     ]
    },
    {
     "data": {
      "image/png": "[encoded data removed]",
      "text/plain": [
       "<Figure size 370.906x284.278 with 1 Axes>"
      ]
     },
     "metadata": {},
     "output_type": "display_data"
    },
    {
     "name": "stdout",
     "output_type": "stream",
     "text": [
      "\n",
      "permutation_pad - permutation number: 24, dictionary:\n",
      "{0: '01', 1: '10', 2: '11', 3: '00'}\n",
      "permutation pad - Elapsed time: 0:00:02.953847\n",
      "\n",
      "permutation pad - Permutation number: 25, matrix: \n"
     ]
    },
    {
     "data": {
      "text/latex": [
       "$$\n",
       "\n",
       "\\begin{bmatrix}\n",
       "1 & 0 & 0 & 0  \\\\\n",
       " 0 & 0 & 1 & 0  \\\\\n",
       " 0 & 0 & 0 & 1  \\\\\n",
       " 0 & 1 & 0 & 0  \\\\\n",
       " \\end{bmatrix}\n",
       "$$"
      ],
      "text/plain": [
       "<IPython.core.display.Latex object>"
      ]
     },
     "metadata": {},
     "output_type": "display_data"
    },
    {
     "name": "stdout",
     "output_type": "stream",
     "text": [
      "\n",
      "permutation pad - Permutation number: 25, Depth of quantum circuit: 1\n"
     ]
    },
    {
     "data": {
      "image/png": "[encoded data removed]",
      "text/plain": [
       "<Figure size 370.906x284.278 with 1 Axes>"
      ]
     },
     "metadata": {},
     "output_type": "display_data"
    },
    {
     "name": "stdout",
     "output_type": "stream",
     "text": [
      "\n",
      "permutation_pad - permutation number: 25, dictionary:\n",
      "{0: '00', 1: '11', 2: '01', 3: '10'}\n",
      "permutation pad - Elapsed time: 0:00:03.043149\n",
      "\n",
      "permutation pad - Permutation number: 26, matrix: \n"
     ]
    },
    {
     "data": {
      "text/latex": [
       "$$\n",
       "\n",
       "\\begin{bmatrix}\n",
       "1 & 0 & 0 & 0  \\\\\n",
       " 0 & 0 & 0 & 1  \\\\\n",
       " 0 & 1 & 0 & 0  \\\\\n",
       " 0 & 0 & 1 & 0  \\\\\n",
       " \\end{bmatrix}\n",
       "$$"
      ],
      "text/plain": [
       "<IPython.core.display.Latex object>"
      ]
     },
     "metadata": {},
     "output_type": "display_data"
    },
    {
     "name": "stdout",
     "output_type": "stream",
     "text": [
      "\n",
      "permutation pad - Permutation number: 26, Depth of quantum circuit: 1\n"
     ]
    },
    {
     "data": {
      "image/png": "[encoded data removed]",
      "text/plain": [
       "<Figure size 370.906x284.278 with 1 Axes>"
      ]
     },
     "metadata": {},
     "output_type": "display_data"
    },
    {
     "name": "stdout",
     "output_type": "stream",
     "text": [
      "\n",
      "permutation_pad - permutation number: 26, dictionary:\n",
      "{0: '00', 1: '10', 2: '11', 3: '01'}\n",
      "permutation pad - Elapsed time: 0:00:03.123897\n",
      "\n",
      "permutation pad - Permutation number: 27, matrix: \n"
     ]
    },
    {
     "data": {
      "text/latex": [
       "$$\n",
       "\n",
       "\\begin{bmatrix}\n",
       "0 & 0 & 1 & 0  \\\\\n",
       " 0 & 1 & 0 & 0  \\\\\n",
       " 1 & 0 & 0 & 0  \\\\\n",
       " 0 & 0 & 0 & 1  \\\\\n",
       " \\end{bmatrix}\n",
       "$$"
      ],
      "text/plain": [
       "<IPython.core.display.Latex object>"
      ]
     },
     "metadata": {},
     "output_type": "display_data"
    },
    {
     "name": "stdout",
     "output_type": "stream",
     "text": [
      "\n",
      "permutation pad - Permutation number: 27, Depth of quantum circuit: 1\n"
     ]
    },
    {
     "data": {
      "image/png": "[encoded data removed]",
      "text/plain": [
       "<Figure size 370.906x284.278 with 1 Axes>"
      ]
     },
     "metadata": {},
     "output_type": "display_data"
    },
    {
     "name": "stdout",
     "output_type": "stream",
     "text": [
      "\n",
      "permutation_pad - permutation number: 27, dictionary:\n",
      "{0: '10', 1: '01', 2: '00', 3: '11'}\n",
      "permutation pad - Elapsed time: 0:00:03.206198\n",
      "\n",
      "permutation pad - Permutation number: 28, matrix: \n"
     ]
    },
    {
     "data": {
      "text/latex": [
       "$$\n",
       "\n",
       "\\begin{bmatrix}\n",
       "0 & 1 & 0 & 0  \\\\\n",
       " 0 & 0 & 1 & 0  \\\\\n",
       " 1 & 0 & 0 & 0  \\\\\n",
       " 0 & 0 & 0 & 1  \\\\\n",
       " \\end{bmatrix}\n",
       "$$"
      ],
      "text/plain": [
       "<IPython.core.display.Latex object>"
      ]
     },
     "metadata": {},
     "output_type": "display_data"
    },
    {
     "name": "stdout",
     "output_type": "stream",
     "text": [
      "\n",
      "permutation pad - Permutation number: 28, Depth of quantum circuit: 1\n"
     ]
    },
    {
     "data": {
      "image/png": "[encoded data removed]",
      "text/plain": [
       "<Figure size 370.906x284.278 with 1 Axes>"
      ]
     },
     "metadata": {},
     "output_type": "display_data"
    },
    {
     "name": "stdout",
     "output_type": "stream",
     "text": [
      "\n",
      "permutation_pad - permutation number: 28, dictionary:\n",
      "{0: '10', 1: '00', 2: '01', 3: '11'}\n",
      "permutation pad - Elapsed time: 0:00:03.262014\n",
      "\n",
      "permutation pad - Permutation number: 29, matrix: \n"
     ]
    },
    {
     "data": {
      "text/latex": [
       "$$\n",
       "\n",
       "\\begin{bmatrix}\n",
       "0 & 0 & 0 & 1  \\\\\n",
       " 0 & 0 & 1 & 0  \\\\\n",
       " 0 & 1 & 0 & 0  \\\\\n",
       " 1 & 0 & 0 & 0  \\\\\n",
       " \\end{bmatrix}\n",
       "$$"
      ],
      "text/plain": [
       "<IPython.core.display.Latex object>"
      ]
     },
     "metadata": {},
     "output_type": "display_data"
    },
    {
     "name": "stdout",
     "output_type": "stream",
     "text": [
      "\n",
      "permutation pad - Permutation number: 29, Depth of quantum circuit: 1\n"
     ]
    },
    {
     "data": {
      "image/png": "[encoded data removed]",
      "text/plain": [
       "<Figure size 370.906x284.278 with 1 Axes>"
      ]
     },
     "metadata": {},
     "output_type": "display_data"
    },
    {
     "name": "stdout",
     "output_type": "stream",
     "text": [
      "\n",
      "permutation_pad - permutation number: 29, dictionary:\n",
      "{0: '11', 1: '10', 2: '01', 3: '00'}\n",
      "permutation pad - Elapsed time: 0:00:03.320468\n",
      "\n",
      "permutation pad - Permutation number: 30, matrix: \n"
     ]
    },
    {
     "data": {
      "text/latex": [
       "$$\n",
       "\n",
       "\\begin{bmatrix}\n",
       "0 & 0 & 0 & 1  \\\\\n",
       " 1 & 0 & 0 & 0  \\\\\n",
       " 0 & 0 & 1 & 0  \\\\\n",
       " 0 & 1 & 0 & 0  \\\\\n",
       " \\end{bmatrix}\n",
       "$$"
      ],
      "text/plain": [
       "<IPython.core.display.Latex object>"
      ]
     },
     "metadata": {},
     "output_type": "display_data"
    },
    {
     "name": "stdout",
     "output_type": "stream",
     "text": [
      "\n",
      "permutation pad - Permutation number: 30, Depth of quantum circuit: 1\n"
     ]
    },
    {
     "data": {
      "image/png": "[encoded data removed]",
      "text/plain": [
       "<Figure size 370.906x284.278 with 1 Axes>"
      ]
     },
     "metadata": {},
     "output_type": "display_data"
    },
    {
     "name": "stdout",
     "output_type": "stream",
     "text": [
      "\n",
      "permutation_pad - permutation number: 30, dictionary:\n",
      "{0: '01', 1: '11', 2: '10', 3: '00'}\n",
      "permutation pad - Elapsed time: 0:00:03.375135\n",
      "\n",
      "permutation pad - Permutation number: 31, matrix: \n"
     ]
    },
    {
     "data": {
      "text/latex": [
       "$$\n",
       "\n",
       "\\begin{bmatrix}\n",
       "1 & 0 & 0 & 0  \\\\\n",
       " 0 & 0 & 0 & 1  \\\\\n",
       " 0 & 0 & 1 & 0  \\\\\n",
       " 0 & 1 & 0 & 0  \\\\\n",
       " \\end{bmatrix}\n",
       "$$"
      ],
      "text/plain": [
       "<IPython.core.display.Latex object>"
      ]
     },
     "metadata": {},
     "output_type": "display_data"
    },
    {
     "name": "stdout",
     "output_type": "stream",
     "text": [
      "\n",
      "permutation pad - Permutation number: 31, Depth of quantum circuit: 1\n"
     ]
    },
    {
     "data": {
      "image/png": "[encoded data removed]",
      "text/plain": [
       "<Figure size 370.906x284.278 with 1 Axes>"
      ]
     },
     "metadata": {},
     "output_type": "display_data"
    },
    {
     "name": "stdout",
     "output_type": "stream",
     "text": [
      "\n",
      "permutation_pad - permutation number: 31, dictionary:\n",
      "{0: '00', 1: '11', 2: '10', 3: '01'}\n",
      "permutation pad - Elapsed time: 0:00:03.439520\n",
      "\n",
      "permutation pad - Permutation number: 32, matrix: \n"
     ]
    },
    {
     "data": {
      "text/latex": [
       "$$\n",
       "\n",
       "\\begin{bmatrix}\n",
       "0 & 1 & 0 & 0  \\\\\n",
       " 1 & 0 & 0 & 0  \\\\\n",
       " 0 & 0 & 1 & 0  \\\\\n",
       " 0 & 0 & 0 & 1  \\\\\n",
       " \\end{bmatrix}\n",
       "$$"
      ],
      "text/plain": [
       "<IPython.core.display.Latex object>"
      ]
     },
     "metadata": {},
     "output_type": "display_data"
    },
    {
     "name": "stdout",
     "output_type": "stream",
     "text": [
      "\n",
      "permutation pad - Permutation number: 32, Depth of quantum circuit: 1\n"
     ]
    },
    {
     "data": {
      "image/png": "[encoded data removed]",
      "text/plain": [
       "<Figure size 370.906x284.278 with 1 Axes>"
      ]
     },
     "metadata": {},
     "output_type": "display_data"
    },
    {
     "name": "stdout",
     "output_type": "stream",
     "text": [
      "\n",
      "permutation_pad - permutation number: 32, dictionary:\n",
      "{0: '01', 1: '00', 2: '10', 3: '11'}\n",
      "permutation pad - Elapsed time: 0:00:03.496028\n",
      "\n",
      "permutation pad - Permutation number: 33, matrix: \n"
     ]
    },
    {
     "data": {
      "text/latex": [
       "$$\n",
       "\n",
       "\\begin{bmatrix}\n",
       "0 & 0 & 0 & 1  \\\\\n",
       " 0 & 1 & 0 & 0  \\\\\n",
       " 0 & 0 & 1 & 0  \\\\\n",
       " 1 & 0 & 0 & 0  \\\\\n",
       " \\end{bmatrix}\n",
       "$$"
      ],
      "text/plain": [
       "<IPython.core.display.Latex object>"
      ]
     },
     "metadata": {},
     "output_type": "display_data"
    },
    {
     "name": "stdout",
     "output_type": "stream",
     "text": [
      "\n",
      "permutation pad - Permutation number: 33, Depth of quantum circuit: 1\n"
     ]
    },
    {
     "data": {
      "image/png": "[encoded data removed]",
      "text/plain": [
       "<Figure size 370.906x284.278 with 1 Axes>"
      ]
     },
     "metadata": {},
     "output_type": "display_data"
    },
    {
     "name": "stdout",
     "output_type": "stream",
     "text": [
      "\n",
      "permutation_pad - permutation number: 33, dictionary:\n",
      "{0: '11', 1: '01', 2: '10', 3: '00'}\n",
      "permutation pad - Elapsed time: 0:00:03.567745\n",
      "\n",
      "permutation pad - Permutation number: 34, matrix: \n"
     ]
    },
    {
     "data": {
      "text/latex": [
       "$$\n",
       "\n",
       "\\begin{bmatrix}\n",
       "0 & 1 & 0 & 0  \\\\\n",
       " 1 & 0 & 0 & 0  \\\\\n",
       " 0 & 0 & 1 & 0  \\\\\n",
       " 0 & 0 & 0 & 1  \\\\\n",
       " \\end{bmatrix}\n",
       "$$"
      ],
      "text/plain": [
       "<IPython.core.display.Latex object>"
      ]
     },
     "metadata": {},
     "output_type": "display_data"
    },
    {
     "name": "stdout",
     "output_type": "stream",
     "text": [
      "\n",
      "permutation pad - Permutation number: 34, Depth of quantum circuit: 1\n"
     ]
    },
    {
     "data": {
      "image/png": "[encoded data removed]",
      "text/plain": [
       "<Figure size 370.906x284.278 with 1 Axes>"
      ]
     },
     "metadata": {},
     "output_type": "display_data"
    },
    {
     "name": "stdout",
     "output_type": "stream",
     "text": [
      "\n",
      "permutation_pad - permutation number: 34, dictionary:\n",
      "{0: '01', 1: '00', 2: '10', 3: '11'}\n",
      "permutation pad - Elapsed time: 0:00:03.624084\n",
      "\n",
      "permutation pad - Permutation number: 35, matrix: \n"
     ]
    },
    {
     "data": {
      "text/latex": [
       "$$\n",
       "\n",
       "\\begin{bmatrix}\n",
       "1 & 0 & 0 & 0  \\\\\n",
       " 0 & 1 & 0 & 0  \\\\\n",
       " 0 & 0 & 1 & 0  \\\\\n",
       " 0 & 0 & 0 & 1  \\\\\n",
       " \\end{bmatrix}\n",
       "$$"
      ],
      "text/plain": [
       "<IPython.core.display.Latex object>"
      ]
     },
     "metadata": {},
     "output_type": "display_data"
    },
    {
     "name": "stdout",
     "output_type": "stream",
     "text": [
      "\n",
      "permutation pad - Permutation number: 35, Depth of quantum circuit: 1\n"
     ]
    },
    {
     "data": {
      "image/png": "[encoded data removed]",
      "text/plain": [
       "<Figure size 370.906x284.278 with 1 Axes>"
      ]
     },
     "metadata": {},
     "output_type": "display_data"
    },
    {
     "name": "stdout",
     "output_type": "stream",
     "text": [
      "\n",
      "permutation_pad - permutation number: 35, dictionary:\n",
      "{0: '00', 1: '01', 2: '10', 3: '11'}\n",
      "permutation pad - Elapsed time: 0:00:03.684805\n",
      "\n",
      "permutation pad - Permutation number: 36, matrix: \n"
     ]
    },
    {
     "data": {
      "text/latex": [
       "$$\n",
       "\n",
       "\\begin{bmatrix}\n",
       "0 & 1 & 0 & 0  \\\\\n",
       " 1 & 0 & 0 & 0  \\\\\n",
       " 0 & 0 & 0 & 1  \\\\\n",
       " 0 & 0 & 1 & 0  \\\\\n",
       " \\end{bmatrix}\n",
       "$$"
      ],
      "text/plain": [
       "<IPython.core.display.Latex object>"
      ]
     },
     "metadata": {},
     "output_type": "display_data"
    },
    {
     "name": "stdout",
     "output_type": "stream",
     "text": [
      "\n",
      "permutation pad - Permutation number: 36, Depth of quantum circuit: 1\n"
     ]
    },
    {
     "data": {
      "image/png": "[encoded data removed]",
      "text/plain": [
       "<Figure size 370.906x284.278 with 1 Axes>"
      ]
     },
     "metadata": {},
     "output_type": "display_data"
    },
    {
     "name": "stdout",
     "output_type": "stream",
     "text": [
      "\n",
      "permutation_pad - permutation number: 36, dictionary:\n",
      "{0: '01', 1: '00', 2: '11', 3: '10'}\n",
      "permutation pad - Elapsed time: 0:00:03.748929\n",
      "\n",
      "permutation pad - Permutation number: 37, matrix: \n"
     ]
    },
    {
     "data": {
      "text/latex": [
       "$$\n",
       "\n",
       "\\begin{bmatrix}\n",
       "0 & 0 & 1 & 0  \\\\\n",
       " 0 & 1 & 0 & 0  \\\\\n",
       " 1 & 0 & 0 & 0  \\\\\n",
       " 0 & 0 & 0 & 1  \\\\\n",
       " \\end{bmatrix}\n",
       "$$"
      ],
      "text/plain": [
       "<IPython.core.display.Latex object>"
      ]
     },
     "metadata": {},
     "output_type": "display_data"
    },
    {
     "name": "stdout",
     "output_type": "stream",
     "text": [
      "\n",
      "permutation pad - Permutation number: 37, Depth of quantum circuit: 1\n"
     ]
    },
    {
     "data": {
      "image/png": "[encoded data removed]",
      "text/plain": [
       "<Figure size 370.906x284.278 with 1 Axes>"
      ]
     },
     "metadata": {},
     "output_type": "display_data"
    },
    {
     "name": "stdout",
     "output_type": "stream",
     "text": [
      "\n",
      "permutation_pad - permutation number: 37, dictionary:\n",
      "{0: '10', 1: '01', 2: '00', 3: '11'}\n",
      "permutation pad - Elapsed time: 0:00:03.834711\n",
      "\n",
      "permutation pad - Permutation number: 38, matrix: \n"
     ]
    },
    {
     "data": {
      "text/latex": [
       "$$\n",
       "\n",
       "\\begin{bmatrix}\n",
       "1 & 0 & 0 & 0  \\\\\n",
       " 0 & 1 & 0 & 0  \\\\\n",
       " 0 & 0 & 1 & 0  \\\\\n",
       " 0 & 0 & 0 & 1  \\\\\n",
       " \\end{bmatrix}\n",
       "$$"
      ],
      "text/plain": [
       "<IPython.core.display.Latex object>"
      ]
     },
     "metadata": {},
     "output_type": "display_data"
    },
    {
     "name": "stdout",
     "output_type": "stream",
     "text": [
      "\n",
      "permutation pad - Permutation number: 38, Depth of quantum circuit: 1\n"
     ]
    },
    {
     "data": {
      "image/png": "[encoded data removed]",
      "text/plain": [
       "<Figure size 370.906x284.278 with 1 Axes>"
      ]
     },
     "metadata": {},
     "output_type": "display_data"
    },
    {
     "name": "stdout",
     "output_type": "stream",
     "text": [
      "\n",
      "permutation_pad - permutation number: 38, dictionary:\n",
      "{0: '00', 1: '01', 2: '10', 3: '11'}\n",
      "permutation pad - Elapsed time: 0:00:03.917618\n",
      "\n",
      "permutation pad - Permutation number: 39, matrix: \n"
     ]
    },
    {
     "data": {
      "text/latex": [
       "$$\n",
       "\n",
       "\\begin{bmatrix}\n",
       "0 & 0 & 0 & 1  \\\\\n",
       " 0 & 0 & 1 & 0  \\\\\n",
       " 1 & 0 & 0 & 0  \\\\\n",
       " 0 & 1 & 0 & 0  \\\\\n",
       " \\end{bmatrix}\n",
       "$$"
      ],
      "text/plain": [
       "<IPython.core.display.Latex object>"
      ]
     },
     "metadata": {},
     "output_type": "display_data"
    },
    {
     "name": "stdout",
     "output_type": "stream",
     "text": [
      "\n",
      "permutation pad - Permutation number: 39, Depth of quantum circuit: 1\n"
     ]
    },
    {
     "data": {
      "image/png": "[encoded data removed]",
      "text/plain": [
       "<Figure size 370.906x284.278 with 1 Axes>"
      ]
     },
     "metadata": {},
     "output_type": "display_data"
    },
    {
     "name": "stdout",
     "output_type": "stream",
     "text": [
      "\n",
      "permutation_pad - permutation number: 39, dictionary:\n",
      "{0: '10', 1: '11', 2: '01', 3: '00'}\n",
      "permutation pad - Elapsed time: 0:00:03.988983\n",
      "\n",
      "permutation pad - Permutation number: 40, matrix: \n"
     ]
    },
    {
     "data": {
      "text/latex": [
       "$$\n",
       "\n",
       "\\begin{bmatrix}\n",
       "1 & 0 & 0 & 0  \\\\\n",
       " 0 & 1 & 0 & 0  \\\\\n",
       " 0 & 0 & 1 & 0  \\\\\n",
       " 0 & 0 & 0 & 1  \\\\\n",
       " \\end{bmatrix}\n",
       "$$"
      ],
      "text/plain": [
       "<IPython.core.display.Latex object>"
      ]
     },
     "metadata": {},
     "output_type": "display_data"
    },
    {
     "name": "stdout",
     "output_type": "stream",
     "text": [
      "\n",
      "permutation pad - Permutation number: 40, Depth of quantum circuit: 1\n"
     ]
    },
    {
     "data": {
      "image/png": "[encoded data removed]",
      "text/plain": [
       "<Figure size 370.906x284.278 with 1 Axes>"
      ]
     },
     "metadata": {},
     "output_type": "display_data"
    },
    {
     "name": "stdout",
     "output_type": "stream",
     "text": [
      "\n",
      "permutation_pad - permutation number: 40, dictionary:\n",
      "{0: '00', 1: '01', 2: '10', 3: '11'}\n",
      "permutation pad - Elapsed time: 0:00:04.062287\n",
      "\n",
      "permutation pad - Permutation number: 41, matrix: \n"
     ]
    },
    {
     "data": {
      "text/latex": [
       "$$\n",
       "\n",
       "\\begin{bmatrix}\n",
       "0 & 0 & 0 & 1  \\\\\n",
       " 0 & 0 & 1 & 0  \\\\\n",
       " 0 & 1 & 0 & 0  \\\\\n",
       " 1 & 0 & 0 & 0  \\\\\n",
       " \\end{bmatrix}\n",
       "$$"
      ],
      "text/plain": [
       "<IPython.core.display.Latex object>"
      ]
     },
     "metadata": {},
     "output_type": "display_data"
    },
    {
     "name": "stdout",
     "output_type": "stream",
     "text": [
      "\n",
      "permutation pad - Permutation number: 41, Depth of quantum circuit: 1\n"
     ]
    },
    {
     "data": {
      "image/png": "[encoded data removed]",
      "text/plain": [
       "<Figure size 370.906x284.278 with 1 Axes>"
      ]
     },
     "metadata": {},
     "output_type": "display_data"
    },
    {
     "name": "stdout",
     "output_type": "stream",
     "text": [
      "\n",
      "permutation_pad - permutation number: 41, dictionary:\n",
      "{0: '11', 1: '10', 2: '01', 3: '00'}\n",
      "permutation pad - Elapsed time: 0:00:04.138378\n",
      "\n",
      "permutation pad - Permutation number: 42, matrix: \n"
     ]
    },
    {
     "data": {
      "text/latex": [
       "$$\n",
       "\n",
       "\\begin{bmatrix}\n",
       "0 & 1 & 0 & 0  \\\\\n",
       " 0 & 0 & 0 & 1  \\\\\n",
       " 1 & 0 & 0 & 0  \\\\\n",
       " 0 & 0 & 1 & 0  \\\\\n",
       " \\end{bmatrix}\n",
       "$$"
      ],
      "text/plain": [
       "<IPython.core.display.Latex object>"
      ]
     },
     "metadata": {},
     "output_type": "display_data"
    },
    {
     "name": "stdout",
     "output_type": "stream",
     "text": [
      "\n",
      "permutation pad - Permutation number: 42, Depth of quantum circuit: 1\n"
     ]
    },
    {
     "data": {
      "image/png": "[encoded data removed]",
      "text/plain": [
       "<Figure size 370.906x284.278 with 1 Axes>"
      ]
     },
     "metadata": {},
     "output_type": "display_data"
    },
    {
     "name": "stdout",
     "output_type": "stream",
     "text": [
      "\n",
      "permutation_pad - permutation number: 42, dictionary:\n",
      "{0: '10', 1: '00', 2: '11', 3: '01'}\n",
      "permutation pad - Elapsed time: 0:00:04.198472\n",
      "\n",
      "permutation pad - Permutation number: 43, matrix: \n"
     ]
    },
    {
     "data": {
      "text/latex": [
       "$$\n",
       "\n",
       "\\begin{bmatrix}\n",
       "1 & 0 & 0 & 0  \\\\\n",
       " 0 & 1 & 0 & 0  \\\\\n",
       " 0 & 0 & 1 & 0  \\\\\n",
       " 0 & 0 & 0 & 1  \\\\\n",
       " \\end{bmatrix}\n",
       "$$"
      ],
      "text/plain": [
       "<IPython.core.display.Latex object>"
      ]
     },
     "metadata": {},
     "output_type": "display_data"
    },
    {
     "name": "stdout",
     "output_type": "stream",
     "text": [
      "\n",
      "permutation pad - Permutation number: 43, Depth of quantum circuit: 1\n"
     ]
    },
    {
     "data": {
      "image/png": "[encoded data removed]",
      "text/plain": [
       "<Figure size 370.906x284.278 with 1 Axes>"
      ]
     },
     "metadata": {},
     "output_type": "display_data"
    },
    {
     "name": "stdout",
     "output_type": "stream",
     "text": [
      "\n",
      "permutation_pad - permutation number: 43, dictionary:\n",
      "{0: '00', 1: '01', 2: '10', 3: '11'}\n",
      "permutation pad - Elapsed time: 0:00:04.252899\n",
      "\n",
      "permutation pad - Permutation number: 44, matrix: \n"
     ]
    },
    {
     "data": {
      "text/latex": [
       "$$\n",
       "\n",
       "\\begin{bmatrix}\n",
       "0 & 0 & 1 & 0  \\\\\n",
       " 1 & 0 & 0 & 0  \\\\\n",
       " 0 & 0 & 0 & 1  \\\\\n",
       " 0 & 1 & 0 & 0  \\\\\n",
       " \\end{bmatrix}\n",
       "$$"
      ],
      "text/plain": [
       "<IPython.core.display.Latex object>"
      ]
     },
     "metadata": {},
     "output_type": "display_data"
    },
    {
     "name": "stdout",
     "output_type": "stream",
     "text": [
      "\n",
      "permutation pad - Permutation number: 44, Depth of quantum circuit: 1\n"
     ]
    },
    {
     "data": {
      "image/png": "[encoded data removed]",
      "text/plain": [
       "<Figure size 370.906x284.278 with 1 Axes>"
      ]
     },
     "metadata": {},
     "output_type": "display_data"
    },
    {
     "name": "stdout",
     "output_type": "stream",
     "text": [
      "\n",
      "permutation_pad - permutation number: 44, dictionary:\n",
      "{0: '01', 1: '11', 2: '00', 3: '10'}\n",
      "permutation pad - Elapsed time: 0:00:04.315892\n",
      "\n",
      "permutation pad - Permutation number: 45, matrix: \n"
     ]
    },
    {
     "data": {
      "text/latex": [
       "$$\n",
       "\n",
       "\\begin{bmatrix}\n",
       "0 & 0 & 0 & 1  \\\\\n",
       " 0 & 0 & 1 & 0  \\\\\n",
       " 1 & 0 & 0 & 0  \\\\\n",
       " 0 & 1 & 0 & 0  \\\\\n",
       " \\end{bmatrix}\n",
       "$$"
      ],
      "text/plain": [
       "<IPython.core.display.Latex object>"
      ]
     },
     "metadata": {},
     "output_type": "display_data"
    },
    {
     "name": "stdout",
     "output_type": "stream",
     "text": [
      "\n",
      "permutation pad - Permutation number: 45, Depth of quantum circuit: 1\n"
     ]
    },
    {
     "data": {
      "image/png": "[encoded data removed]",
      "text/plain": [
       "<Figure size 370.906x284.278 with 1 Axes>"
      ]
     },
     "metadata": {},
     "output_type": "display_data"
    },
    {
     "name": "stdout",
     "output_type": "stream",
     "text": [
      "\n",
      "permutation_pad - permutation number: 45, dictionary:\n",
      "{0: '10', 1: '11', 2: '01', 3: '00'}\n",
      "permutation pad - Elapsed time: 0:00:04.370064\n",
      "\n",
      "permutation pad - Permutation number: 46, matrix: \n"
     ]
    },
    {
     "data": {
      "text/latex": [
       "$$\n",
       "\n",
       "\\begin{bmatrix}\n",
       "0 & 1 & 0 & 0  \\\\\n",
       " 0 & 0 & 1 & 0  \\\\\n",
       " 1 & 0 & 0 & 0  \\\\\n",
       " 0 & 0 & 0 & 1  \\\\\n",
       " \\end{bmatrix}\n",
       "$$"
      ],
      "text/plain": [
       "<IPython.core.display.Latex object>"
      ]
     },
     "metadata": {},
     "output_type": "display_data"
    },
    {
     "name": "stdout",
     "output_type": "stream",
     "text": [
      "\n",
      "permutation pad - Permutation number: 46, Depth of quantum circuit: 1\n"
     ]
    },
    {
     "data": {
      "image/png": "[encoded data removed]",
      "text/plain": [
       "<Figure size 370.906x284.278 with 1 Axes>"
      ]
     },
     "metadata": {},
     "output_type": "display_data"
    },
    {
     "name": "stdout",
     "output_type": "stream",
     "text": [
      "\n",
      "permutation_pad - permutation number: 46, dictionary:\n",
      "{0: '10', 1: '00', 2: '01', 3: '11'}\n",
      "permutation pad - Elapsed time: 0:00:04.423234\n",
      "\n",
      "permutation pad - Permutation number: 47, matrix: \n"
     ]
    },
    {
     "data": {
      "text/latex": [
       "$$\n",
       "\n",
       "\\begin{bmatrix}\n",
       "0 & 0 & 0 & 1  \\\\\n",
       " 0 & 0 & 1 & 0  \\\\\n",
       " 1 & 0 & 0 & 0  \\\\\n",
       " 0 & 1 & 0 & 0  \\\\\n",
       " \\end{bmatrix}\n",
       "$$"
      ],
      "text/plain": [
       "<IPython.core.display.Latex object>"
      ]
     },
     "metadata": {},
     "output_type": "display_data"
    },
    {
     "name": "stdout",
     "output_type": "stream",
     "text": [
      "\n",
      "permutation pad - Permutation number: 47, Depth of quantum circuit: 1\n"
     ]
    },
    {
     "data": {
      "image/png": "[encoded data removed]",
      "text/plain": [
       "<Figure size 370.906x284.278 with 1 Axes>"
      ]
     },
     "metadata": {},
     "output_type": "display_data"
    },
    {
     "name": "stdout",
     "output_type": "stream",
     "text": [
      "\n",
      "permutation_pad - permutation number: 47, dictionary:\n",
      "{0: '10', 1: '11', 2: '01', 3: '00'}\n",
      "permutation pad - Elapsed time: 0:00:04.609831\n",
      "\n",
      "permutation pad - Permutation number: 48, matrix: \n"
     ]
    },
    {
     "data": {
      "text/latex": [
       "$$\n",
       "\n",
       "\\begin{bmatrix}\n",
       "1 & 0 & 0 & 0  \\\\\n",
       " 0 & 0 & 1 & 0  \\\\\n",
       " 0 & 0 & 0 & 1  \\\\\n",
       " 0 & 1 & 0 & 0  \\\\\n",
       " \\end{bmatrix}\n",
       "$$"
      ],
      "text/plain": [
       "<IPython.core.display.Latex object>"
      ]
     },
     "metadata": {},
     "output_type": "display_data"
    },
    {
     "name": "stdout",
     "output_type": "stream",
     "text": [
      "\n",
      "permutation pad - Permutation number: 48, Depth of quantum circuit: 1\n"
     ]
    },
    {
     "data": {
      "image/png": "[encoded data removed]",
      "text/plain": [
       "<Figure size 370.906x284.278 with 1 Axes>"
      ]
     },
     "metadata": {},
     "output_type": "display_data"
    },
    {
     "name": "stdout",
     "output_type": "stream",
     "text": [
      "\n",
      "permutation_pad - permutation number: 48, dictionary:\n",
      "{0: '00', 1: '11', 2: '01', 3: '10'}\n",
      "permutation pad - Elapsed time: 0:00:04.681560\n",
      "\n",
      "permutation pad - Permutation number: 49, matrix: \n"
     ]
    },
    {
     "data": {
      "text/latex": [
       "$$\n",
       "\n",
       "\\begin{bmatrix}\n",
       "0 & 0 & 1 & 0  \\\\\n",
       " 1 & 0 & 0 & 0  \\\\\n",
       " 0 & 0 & 0 & 1  \\\\\n",
       " 0 & 1 & 0 & 0  \\\\\n",
       " \\end{bmatrix}\n",
       "$$"
      ],
      "text/plain": [
       "<IPython.core.display.Latex object>"
      ]
     },
     "metadata": {},
     "output_type": "display_data"
    },
    {
     "name": "stdout",
     "output_type": "stream",
     "text": [
      "\n",
      "permutation pad - Permutation number: 49, Depth of quantum circuit: 1\n"
     ]
    },
    {
     "data": {
      "image/png": "[encoded data removed]",
      "text/plain": [
       "<Figure size 370.906x284.278 with 1 Axes>"
      ]
     },
     "metadata": {},
     "output_type": "display_data"
    },
    {
     "name": "stdout",
     "output_type": "stream",
     "text": [
      "\n",
      "permutation_pad - permutation number: 49, dictionary:\n",
      "{0: '01', 1: '11', 2: '00', 3: '10'}\n",
      "permutation pad - Elapsed time: 0:00:04.790081\n",
      "\n",
      "permutation pad - Permutation number: 50, matrix: \n"
     ]
    },
    {
     "data": {
      "text/latex": [
       "$$\n",
       "\n",
       "\\begin{bmatrix}\n",
       "1 & 0 & 0 & 0  \\\\\n",
       " 0 & 1 & 0 & 0  \\\\\n",
       " 0 & 0 & 1 & 0  \\\\\n",
       " 0 & 0 & 0 & 1  \\\\\n",
       " \\end{bmatrix}\n",
       "$$"
      ],
      "text/plain": [
       "<IPython.core.display.Latex object>"
      ]
     },
     "metadata": {},
     "output_type": "display_data"
    },
    {
     "name": "stdout",
     "output_type": "stream",
     "text": [
      "\n",
      "permutation pad - Permutation number: 50, Depth of quantum circuit: 1\n"
     ]
    },
    {
     "data": {
      "image/png": "[encoded data removed]",
      "text/plain": [
       "<Figure size 370.906x284.278 with 1 Axes>"
      ]
     },
     "metadata": {},
     "output_type": "display_data"
    },
    {
     "name": "stdout",
     "output_type": "stream",
     "text": [
      "\n",
      "permutation_pad - permutation number: 50, dictionary:\n",
      "{0: '00', 1: '01', 2: '10', 3: '11'}\n",
      "permutation pad - Elapsed time: 0:00:04.916731\n",
      "\n",
      "permutation pad - Permutation number: 51, matrix: \n"
     ]
    },
    {
     "data": {
      "text/latex": [
       "$$\n",
       "\n",
       "\\begin{bmatrix}\n",
       "0 & 0 & 0 & 1  \\\\\n",
       " 0 & 0 & 1 & 0  \\\\\n",
       " 1 & 0 & 0 & 0  \\\\\n",
       " 0 & 1 & 0 & 0  \\\\\n",
       " \\end{bmatrix}\n",
       "$$"
      ],
      "text/plain": [
       "<IPython.core.display.Latex object>"
      ]
     },
     "metadata": {},
     "output_type": "display_data"
    },
    {
     "name": "stdout",
     "output_type": "stream",
     "text": [
      "\n",
      "permutation pad - Permutation number: 51, Depth of quantum circuit: 1\n"
     ]
    },
    {
     "data": {
      "image/png": "[encoded data removed]",
      "text/plain": [
       "<Figure size 370.906x284.278 with 1 Axes>"
      ]
     },
     "metadata": {},
     "output_type": "display_data"
    },
    {
     "name": "stdout",
     "output_type": "stream",
     "text": [
      "\n",
      "permutation_pad - permutation number: 51, dictionary:\n",
      "{0: '10', 1: '11', 2: '01', 3: '00'}\n",
      "permutation pad - Elapsed time: 0:00:04.989575\n",
      "\n",
      "permutation pad - Permutation number: 52, matrix: \n"
     ]
    },
    {
     "data": {
      "text/latex": [
       "$$\n",
       "\n",
       "\\begin{bmatrix}\n",
       "0 & 0 & 0 & 1  \\\\\n",
       " 1 & 0 & 0 & 0  \\\\\n",
       " 0 & 0 & 1 & 0  \\\\\n",
       " 0 & 1 & 0 & 0  \\\\\n",
       " \\end{bmatrix}\n",
       "$$"
      ],
      "text/plain": [
       "<IPython.core.display.Latex object>"
      ]
     },
     "metadata": {},
     "output_type": "display_data"
    },
    {
     "name": "stdout",
     "output_type": "stream",
     "text": [
      "\n",
      "permutation pad - Permutation number: 52, Depth of quantum circuit: 1\n"
     ]
    },
    {
     "data": {
      "image/png": "[encoded data removed]",
      "text/plain": [
       "<Figure size 370.906x284.278 with 1 Axes>"
      ]
     },
     "metadata": {},
     "output_type": "display_data"
    },
    {
     "name": "stdout",
     "output_type": "stream",
     "text": [
      "\n",
      "permutation_pad - permutation number: 52, dictionary:\n",
      "{0: '01', 1: '11', 2: '10', 3: '00'}\n",
      "permutation pad - Elapsed time: 0:00:05.052955\n",
      "\n",
      "permutation pad - Permutation number: 53, matrix: \n"
     ]
    },
    {
     "data": {
      "text/latex": [
       "$$\n",
       "\n",
       "\\begin{bmatrix}\n",
       "0 & 0 & 1 & 0  \\\\\n",
       " 0 & 0 & 0 & 1  \\\\\n",
       " 0 & 1 & 0 & 0  \\\\\n",
       " 1 & 0 & 0 & 0  \\\\\n",
       " \\end{bmatrix}\n",
       "$$"
      ],
      "text/plain": [
       "<IPython.core.display.Latex object>"
      ]
     },
     "metadata": {},
     "output_type": "display_data"
    },
    {
     "name": "stdout",
     "output_type": "stream",
     "text": [
      "\n",
      "permutation pad - Permutation number: 53, Depth of quantum circuit: 1\n"
     ]
    },
    {
     "data": {
      "image/png": "[encoded data removed]",
      "text/plain": [
       "<Figure size 370.906x284.278 with 1 Axes>"
      ]
     },
     "metadata": {},
     "output_type": "display_data"
    },
    {
     "name": "stdout",
     "output_type": "stream",
     "text": [
      "\n",
      "permutation_pad - permutation number: 53, dictionary:\n",
      "{0: '11', 1: '10', 2: '00', 3: '01'}\n",
      "permutation pad - Elapsed time: 0:00:05.172686\n",
      "\n",
      "permutation pad - Permutation number: 54, matrix: \n"
     ]
    },
    {
     "data": {
      "text/latex": [
       "$$\n",
       "\n",
       "\\begin{bmatrix}\n",
       "0 & 0 & 0 & 1  \\\\\n",
       " 1 & 0 & 0 & 0  \\\\\n",
       " 0 & 0 & 1 & 0  \\\\\n",
       " 0 & 1 & 0 & 0  \\\\\n",
       " \\end{bmatrix}\n",
       "$$"
      ],
      "text/plain": [
       "<IPython.core.display.Latex object>"
      ]
     },
     "metadata": {},
     "output_type": "display_data"
    },
    {
     "name": "stdout",
     "output_type": "stream",
     "text": [
      "\n",
      "permutation pad - Permutation number: 54, Depth of quantum circuit: 1\n"
     ]
    },
    {
     "data": {
      "image/png": "[encoded data removed]",
      "text/plain": [
       "<Figure size 370.906x284.278 with 1 Axes>"
      ]
     },
     "metadata": {},
     "output_type": "display_data"
    },
    {
     "name": "stdout",
     "output_type": "stream",
     "text": [
      "\n",
      "permutation_pad - permutation number: 54, dictionary:\n",
      "{0: '01', 1: '11', 2: '10', 3: '00'}\n",
      "permutation pad - Elapsed time: 0:00:05.292427\n",
      "\n",
      "permutation pad - Permutation number: 55, matrix: \n"
     ]
    },
    {
     "data": {
      "text/latex": [
       "$$\n",
       "\n",
       "\\begin{bmatrix}\n",
       "0 & 0 & 1 & 0  \\\\\n",
       " 1 & 0 & 0 & 0  \\\\\n",
       " 0 & 0 & 0 & 1  \\\\\n",
       " 0 & 1 & 0 & 0  \\\\\n",
       " \\end{bmatrix}\n",
       "$$"
      ],
      "text/plain": [
       "<IPython.core.display.Latex object>"
      ]
     },
     "metadata": {},
     "output_type": "display_data"
    },
    {
     "name": "stdout",
     "output_type": "stream",
     "text": [
      "\n",
      "permutation pad - Permutation number: 55, Depth of quantum circuit: 1\n"
     ]
    },
    {
     "data": {
      "image/png": "[encoded data removed]",
      "text/plain": [
       "<Figure size 370.906x284.278 with 1 Axes>"
      ]
     },
     "metadata": {},
     "output_type": "display_data"
    },
    {
     "name": "stdout",
     "output_type": "stream",
     "text": [
      "\n",
      "permutation_pad - permutation number: 55, dictionary:\n",
      "{0: '01', 1: '11', 2: '00', 3: '10'}\n",
      "permutation pad - Elapsed time: 0:00:05.383810\n",
      "permutation pad - Length of Permutation_Pad: 56\n",
      "\n",
      "encrypt - x : 9,  Permutation_Pad[14], State vector: 00, Most frequent: 00\n",
      "encrypt - Elapsed time: 0:00:00.000049\n",
      "encrypt - x : 19,  Permutation_Pad[25], State vector: 11, Most frequent: 10\n",
      "encrypt - Elapsed time: 0:00:00.000112\n",
      "encrypt - x : 29,  Permutation_Pad[54], State vector: 00, Most frequent: 01\n",
      "encrypt - Elapsed time: 0:00:00.000138\n",
      "encrypt - x : 39,  Permutation_Pad[40], State vector: 11, Most frequent: 11\n",
      "encrypt - Elapsed time: 0:00:00.000158\n",
      "encrypt - x : 49,  Permutation_Pad[1], State vector: 10, Most frequent: 11\n",
      "encrypt - Elapsed time: 0:00:00.000179\n",
      "encrypt - x : 59,  Permutation_Pad[33], State vector: 01, Most frequent: 01\n",
      "encrypt - Elapsed time: 0:00:00.000197\n",
      "\n",
      "encrypt - Elapsed time for encryption of message: 0:00:00.000213\n",
      "\n",
      "encrypt - First 192 bits in ciphertext string\n",
      "00100110100011001000111110001101001101101101010010000101000110010111111001100011001001001001111101110110001000000111010110011100\n"
     ]
    }
   ],
   "source": [
    "ciphertext = Alice_QPP.encrypt(message=message)"
   ]
  },
  {
   "cell_type": "markdown",
   "id": "8863d19a",
   "metadata": {},
   "source": [
    "### Convert the ciphertext into bytes and save it into a binary file"
   ]
  },
  {
   "cell_type": "code",
   "execution_count": 9,
   "id": "f2799ccb",
   "metadata": {},
   "outputs": [],
   "source": [
    "Alice_QPP.ciphertext_to_binary(ciphertext=ciphertext)"
   ]
  },
  {
   "cell_type": "markdown",
   "id": "82d7f51a-cb63-4e74-a00e-16fc7bf85097",
   "metadata": {},
   "source": [
    "## Ciphertext is transmitted"
   ]
  },
  {
   "cell_type": "markdown",
   "id": "cede870d-f575-449e-81e8-ded7372b4d70",
   "metadata": {},
   "source": [
    "### Simulate transmission of secret key over a secure channel"
   ]
  },
  {
   "cell_type": "code",
   "execution_count": 10,
   "id": "c3784a88-aa4b-4dad-8ec5-7127b00610ab",
   "metadata": {},
   "outputs": [],
   "source": [
    "!cp Secret_key_2-qubits_Hello.txt ../Bob"
   ]
  },
  {
   "cell_type": "markdown",
   "id": "1a6c5eb9-58de-468d-a44c-8063013ce811",
   "metadata": {},
   "source": [
    "### Simulate transmission of json parameter file"
   ]
  },
  {
   "cell_type": "code",
   "execution_count": 11,
   "id": "de12d2b8-ff3c-4188-a7db-1e0c247f7321",
   "metadata": {},
   "outputs": [],
   "source": [
    "!cp QPP_param_2-qubits_V0_Hello.json ../Bob"
   ]
  },
  {
   "cell_type": "markdown",
   "id": "f3d6a02e-3de0-4017-81d4-67f170512075",
   "metadata": {},
   "source": [
    "### Simulate transmission of ciphertext file "
   ]
  },
  {
   "cell_type": "code",
   "execution_count": 12,
   "id": "d5d18cb9-b633-42bd-8258-9d691896561e",
   "metadata": {},
   "outputs": [],
   "source": [
    "!cp ciphertext_Hello.bin ../Bob"
   ]
  },
  {
   "cell_type": "markdown",
   "id": "7e07caf6-525d-4106-ace1-ca145c7b40c1",
   "metadata": {},
   "source": [
    "## References\n",
    "\n",
    "[1] Kuang, Randy. Quantum Permutation Pad for Quantum Secure Symmetric and Asymmetric Cryptography. Vol. 2, no. 1, Academia Quantum, 2025. https://doi.org/10.20935/AcadQuant7457 \n",
    "\n",
    "[2] Chancé, A. (2024). Quantum Permutation Pad with Qiskit Runtime. In: Femmam, S., Lorenz, P. (eds) Recent Advances in Communication Networks and Embedded Systems. ICCNT 2022. Lecture Notes on Data Engineering and Communications Technologies, vol 205. Springer, Cham. https://doi.org/10.1007/978-3-031-59619-3_12 \n",
    "\n",
    "[3] R. Kuang and N. Bettenburg, 'Shannon perfect secrecy in a discrete Hilbert space', in Proc. IEEE Int. Conf. Quantum Comput. Eng. (QCE), Oct. 2020, pp. 249-255, doi: 10.1109/QCE49297.2020.00039\n",
    "\n",
    "[4] Kuang, R., Perepechaenko, M. Quantum encryption with quantum permutation pad in IBMQ systems. EPJ Quantum Technol. 9, 26 (2022). https://doi.org/10.1140/epjqt/s40507-022-00145-y\n",
    "\n",
    "[5] Qiskit Runtime overview, IBM Quantum, https://cloud.ibm.com/docs/quantum-computing?topic=quantum-computing-overview, https://cloud.ibm.com/docs/quantum-computing?topic=quantum-computing-overview\n",
    "\n",
    "[6] QiskitRuntimeService, https://docs.quantum.ibm.com/api/qiskit-ibm-runtime/qiskit_ibm_runtime.QiskitRuntimeService#qiskitruntimeservice"
   ]
  },
  {
   "cell_type": "markdown",
   "id": "5cfaa7e7-12d4-4999-9eb0-b0e088894a67",
   "metadata": {},
   "source": [
    "## Print Qiskit version"
   ]
  },
  {
   "cell_type": "code",
   "execution_count": 13,
   "id": "825b00e4-e5fc-455d-b535-b586eddc7f6e",
   "metadata": {},
   "outputs": [],
   "source": [
    "import qiskit"
   ]
  },
  {
   "cell_type": "code",
   "execution_count": 14,
   "id": "616a2507-b2ba-4978-bd92-e0d9349a7bb2",
   "metadata": {},
   "outputs": [
    {
     "name": "stdout",
     "output_type": "stream",
     "text": [
      "2.0.0\n"
     ]
    }
   ],
   "source": [
    "print(qiskit.__version__)"
   ]
  },
  {
   "cell_type": "markdown",
   "id": "0b390b52-f3bd-45d8-9695-709409028f33",
   "metadata": {},
   "source": [
    "## Print Qiskit Aer version"
   ]
  },
  {
   "cell_type": "code",
   "execution_count": 15,
   "id": "5a94ac5c-20a8-448f-9bdb-4ad2f4acd875",
   "metadata": {},
   "outputs": [],
   "source": [
    "import qiskit_aer"
   ]
  },
  {
   "cell_type": "code",
   "execution_count": 16,
   "id": "74978729-c4a2-47a4-9221-eeb4a4362c94",
   "metadata": {
    "scrolled": true
   },
   "outputs": [
    {
     "name": "stdout",
     "output_type": "stream",
     "text": [
      "0.17.0\n"
     ]
    }
   ],
   "source": [
    "print(qiskit_aer.__version__)"
   ]
  },
  {
   "cell_type": "markdown",
   "id": "fc37912b-7280-4d53-97f7-cad3e1b76ae5",
   "metadata": {},
   "source": [
    "## Show Python version"
   ]
  },
  {
   "cell_type": "code",
   "execution_count": 17,
   "id": "6cb6c5c7-6e28-40f2-a2d9-d1978cfe8961",
   "metadata": {
    "scrolled": true
   },
   "outputs": [
    {
     "name": "stdout",
     "output_type": "stream",
     "text": [
      "/home/alain/miniconda3/bin/python\n",
      "Python 3.12.9\n"
     ]
    }
   ],
   "source": [
    "%%bash\n",
    "which python\n",
    "python --version"
   ]
  }
 ],
 "metadata": {
  "kernelspec": {
   "display_name": "Python 3 (ipykernel)",
   "language": "python",
   "name": "python3"
  },
  "language_info": {
   "codemirror_mode": {
    "name": "ipython",
    "version": 3
   },
   "file_extension": ".py",
   "mimetype": "text/x-python",
   "name": "python",
   "nbconvert_exporter": "python",
   "pygments_lexer": "ipython3",
   "version": "3.12.9"
  },
  "widgets": {
   "application/vnd.jupyter.widget-state+json": {
    "state": {
     "01231487ec414b24bd761f6dd76fc016": {
      "model_module": "@jupyter-widgets/base",
      "model_module_version": "1.2.0",
      "model_name": "LayoutModel",
      "state": {
       "width": "190px"
      }
     },
     "15a8688e002d43adbccd012eefd05e51": {
      "model_module": "@jupyter-widgets/controls",
      "model_module_version": "1.5.0",
      "model_name": "HTMLModel",
      "state": {
       "layout": "IPY_MODEL_eb974c9225c14c1d901d2381b81c0952",
       "style": "IPY_MODEL_b6762439874e41c38b2ac1b21790f0db",
       "value": "<h5>Message</h5>"
      }
     },
     "1c7de92203e740098ca0f00e488e47e9": {
      "model_module": "@jupyter-widgets/controls",
      "model_module_version": "1.5.0",
      "model_name": "HBoxModel",
      "state": {
       "children": [
        "IPY_MODEL_cb71e659e00a40cfba214efd500083fb",
        "IPY_MODEL_799b064975484c5690a72ede0fa8855e",
        "IPY_MODEL_84f13d6437654954a9e7751d95f0d276",
        "IPY_MODEL_a960fc42b4534aa3a35f635e30a1e288",
        "IPY_MODEL_15a8688e002d43adbccd012eefd05e51"
       ],
       "layout": "IPY_MODEL_882736f26bea4b7d9836e2ea7ececf83"
      }
     },
     "42b7643650d24814affdaa618a02aeb0": {
      "model_module": "@jupyter-widgets/controls",
      "model_module_version": "1.5.0",
      "model_name": "ButtonModel",
      "state": {
       "button_style": "primary",
       "description": "Clear",
       "layout": "IPY_MODEL_fbfa86e960e04a5f95619e18a23739dc",
       "style": "IPY_MODEL_746716bf92ac4c418d498bb56ca229be"
      }
     },
     "485bd1112c364e63b7a55bd8c386eb0c": {
      "model_module": "@jupyter-widgets/controls",
      "model_module_version": "1.5.0",
      "model_name": "GridBoxModel",
      "state": {
       "children": [
        "IPY_MODEL_42b7643650d24814affdaa618a02aeb0"
       ],
       "layout": "IPY_MODEL_de58e34a7edc401e87342f04d1d3065f"
      }
     },
     "746716bf92ac4c418d498bb56ca229be": {
      "model_module": "@jupyter-widgets/controls",
      "model_module_version": "1.5.0",
      "model_name": "ButtonStyleModel",
      "state": {}
     },
     "74b6f2dd988347b7a07221fb5353df09": {
      "model_module": "@jupyter-widgets/controls",
      "model_module_version": "1.5.0",
      "model_name": "DescriptionStyleModel",
      "state": {
       "description_width": ""
      }
     },
     "790a1a267c374532a2360b67ba400279": {
      "model_module": "@jupyter-widgets/base",
      "model_module_version": "1.2.0",
      "model_name": "LayoutModel",
      "state": {
       "width": "95px"
      }
     },
     "799b064975484c5690a72ede0fa8855e": {
      "model_module": "@jupyter-widgets/controls",
      "model_module_version": "1.5.0",
      "model_name": "HTMLModel",
      "state": {
       "layout": "IPY_MODEL_ee251e5ed3934cf9a093286fee4af98b",
       "style": "IPY_MODEL_74b6f2dd988347b7a07221fb5353df09",
       "value": "<h5>Backend</h5>"
      }
     },
     "84f13d6437654954a9e7751d95f0d276": {
      "model_module": "@jupyter-widgets/controls",
      "model_module_version": "1.5.0",
      "model_name": "HTMLModel",
      "state": {
       "layout": "IPY_MODEL_790a1a267c374532a2360b67ba400279",
       "style": "IPY_MODEL_cc7fbd6e616b48ba8670a24863e2d88f",
       "value": "<h5>Status</h5>"
      }
     },
     "882736f26bea4b7d9836e2ea7ececf83": {
      "model_module": "@jupyter-widgets/base",
      "model_module_version": "1.2.0",
      "model_name": "LayoutModel",
      "state": {
       "margin": "0px 0px 0px 37px",
       "width": "600px"
      }
     },
     "a2d56da859ad4bf4a827041ae905da73": {
      "model_module": "@jupyter-widgets/controls",
      "model_module_version": "1.5.0",
      "model_name": "DescriptionStyleModel",
      "state": {
       "description_width": ""
      }
     },
     "a960fc42b4534aa3a35f635e30a1e288": {
      "model_module": "@jupyter-widgets/controls",
      "model_module_version": "1.5.0",
      "model_name": "HTMLModel",
      "state": {
       "layout": "IPY_MODEL_f59d35bcdf46447997dd4fd8809c0d4d",
       "style": "IPY_MODEL_e237896267074e489426d2aedb7f348b",
       "value": "<h5>Queue</h5>"
      }
     },
     "b6762439874e41c38b2ac1b21790f0db": {
      "model_module": "@jupyter-widgets/controls",
      "model_module_version": "1.5.0",
      "model_name": "DescriptionStyleModel",
      "state": {
       "description_width": ""
      }
     },
     "b7345e1a00e3440b87008eb08ea836c7": {
      "model_module": "@jupyter-widgets/controls",
      "model_module_version": "1.5.0",
      "model_name": "DescriptionStyleModel",
      "state": {
       "description_width": ""
      }
     },
     "cb71e659e00a40cfba214efd500083fb": {
      "model_module": "@jupyter-widgets/controls",
      "model_module_version": "1.5.0",
      "model_name": "HTMLModel",
      "state": {
       "layout": "IPY_MODEL_01231487ec414b24bd761f6dd76fc016",
       "style": "IPY_MODEL_a2d56da859ad4bf4a827041ae905da73",
       "value": "<h5>Job ID</h5>"
      }
     },
     "cc7fbd6e616b48ba8670a24863e2d88f": {
      "model_module": "@jupyter-widgets/controls",
      "model_module_version": "1.5.0",
      "model_name": "DescriptionStyleModel",
      "state": {
       "description_width": ""
      }
     },
     "de58e34a7edc401e87342f04d1d3065f": {
      "model_module": "@jupyter-widgets/base",
      "model_module_version": "1.2.0",
      "model_name": "LayoutModel",
      "state": {
       "grid_template_areas": "\n                                       \". . . . right \"\n                                        ",
       "grid_template_columns": "20% 20% 20% 20% 20%",
       "width": "100%"
      }
     },
     "e237896267074e489426d2aedb7f348b": {
      "model_module": "@jupyter-widgets/controls",
      "model_module_version": "1.5.0",
      "model_name": "DescriptionStyleModel",
      "state": {
       "description_width": ""
      }
     },
     "e56746ba29da4cb98f6a534584c6d556": {
      "model_module": "@jupyter-widgets/controls",
      "model_module_version": "1.5.0",
      "model_name": "HTMLModel",
      "state": {
       "layout": "IPY_MODEL_fe8260cf883a46beb0a8a98b5504fdd9",
       "style": "IPY_MODEL_b7345e1a00e3440b87008eb08ea836c7",
       "value": "<p style='font-family: IBM Plex Sans, Arial, Helvetica, sans-serif; font-size: 20px; font-weight: medium;'>Circuit Properties</p>"
      }
     },
     "eb974c9225c14c1d901d2381b81c0952": {
      "model_module": "@jupyter-widgets/base",
      "model_module_version": "1.2.0",
      "model_name": "LayoutModel",
      "state": {}
     },
     "ee251e5ed3934cf9a093286fee4af98b": {
      "model_module": "@jupyter-widgets/base",
      "model_module_version": "1.2.0",
      "model_name": "LayoutModel",
      "state": {
       "width": "145px"
      }
     },
     "f59d35bcdf46447997dd4fd8809c0d4d": {
      "model_module": "@jupyter-widgets/base",
      "model_module_version": "1.2.0",
      "model_name": "LayoutModel",
      "state": {
       "width": "70px"
      }
     },
     "fbfa86e960e04a5f95619e18a23739dc": {
      "model_module": "@jupyter-widgets/base",
      "model_module_version": "1.2.0",
      "model_name": "LayoutModel",
      "state": {
       "grid_area": "right",
       "padding": "0px 0px 0px 0px",
       "width": "70px"
      }
     },
     "fe8260cf883a46beb0a8a98b5504fdd9": {
      "model_module": "@jupyter-widgets/base",
      "model_module_version": "1.2.0",
      "model_name": "LayoutModel",
      "state": {
       "margin": "0px 0px 10px 0px"
      }
     }
    },
    "version_major": 2,
    "version_minor": 0
   }
  }
 },
 "nbformat": 4,
 "nbformat_minor": 5
}
